{
  "cells": [
    {
      "cell_type": "markdown",
      "metadata": {
        "id": "view-in-github",
        "colab_type": "text"
      },
      "source": [
        "<a href=\"https://colab.research.google.com/github/rjenez/W266-final-project/blob/main/notebooks/Plagiarism_with_Trainer_Classifiers.ipynb\" target=\"_parent\"><img src=\"https://colab.research.google.com/assets/colab-badge.svg\" alt=\"Open In Colab\"/></a>"
      ]
    },
    {
      "cell_type": "markdown",
      "metadata": {
        "id": "2ob4cAThMp4u"
      },
      "source": [
        "# Plagiarism with Classifiers From HuggingFace\n",
        "**Author:*** Ricardo Jenez heavily modified from examples in HuggingFace\n",
        "**Description:** NLP code to detect plagiarism in code."
      ]
    },
    {
      "cell_type": "markdown",
      "metadata": {
        "id": "3MFBgLqKMp4z"
      },
      "source": [
        "## Introduction\n",
        "\n",
        "This is a preliminary model for doing code plagiarism detection. The idea is to identify when students in a class has plagiarized a coding example.\n",
        "\n",
        "### References\n",
        "\n",
        "* [BERT](https://arxiv.org/pdf/1810.04805.pdf)\n",
        "* [Plagiarism Detection in Computer Programming Using Feature Extraction From Ultra-Fine-Grained Repositories](https://ieeexplore.ieee.org/stamp/stamp.jsp?arnumber=9097285)"
      ]
    },
    {
      "cell_type": "markdown",
      "metadata": {
        "id": "AdRW6njRMp40"
      },
      "source": [
        "## Setup\n",
        "\n",
        "Note: install HuggingFace `transformers` via `pip install transformers` (version >= 2.11.0)."
      ]
    },
    {
      "cell_type": "code",
      "execution_count": null,
      "metadata": {
        "id": "E-Q-VHNK8sTB"
      },
      "outputs": [],
      "source": [
        "%%capture\n",
        "!pip3 install transformers\n",
        "!pip3 install sentence_transformers\n",
        "!pip3 install imbalanced-learn\n",
        "!pip3 install datasets\n",
        "#!pip3 install wandb"
      ]
    },
    {
      "cell_type": "code",
      "source": [
        "import torch\n",
        "import datasets\n",
        "import transformers\n",
        "import pandas as pd\n",
        "import numpy as np\n",
        "from transformers import AutoModelForSequenceClassification, Trainer, TrainingArguments,EvalPrediction, \\\n",
        "AutoTokenizer\n",
        "from torch.utils.data import Dataset, DataLoader\n",
        "#import wandb\n",
        "import random\n",
        "import datetime\n",
        "from imblearn.over_sampling import RandomOverSampler\n",
        "from sklearn.metrics import precision_recall_fscore_support, accuracy_score, confusion_matrix\n",
        "# Imports the Google Cloud client library\n",
        "from google.cloud import storage\n",
        "import pprint\n"
      ],
      "metadata": {
        "id": "zkSTdJmKwsMI"
      },
      "execution_count": null,
      "outputs": []
    },
    {
      "cell_type": "code",
      "source": [
        "# Reset GPU and Clear memory\n",
        "class global_objects:\n",
        "  def __init__(self,classifier):\n",
        "    self.train = None\n",
        "    self.valid = None\n",
        "    self.test = None\n",
        "    self.model = None\n",
        "    self.classifier = classifier\n",
        "\n",
        "#global_data = global_objects(\"bert-base-uncased\")\n",
        "global_data = global_objects(\"bert-large-uncased-whole-word-masking\")\n",
        "\n",
        "def resetandclear():\n",
        "  with pytorch.no_grad():\n",
        "    torch.cuda.empty_cache()\n",
        "  global_data = None\n",
        "  #global_data = global_objects(\"bert-base-uncased\")\n",
        "  global_data = global_objects(\"bert-large-uncased-whole-word-masking\")\n",
        "  gc.collect()\n",
        "\n"
      ],
      "metadata": {
        "id": "e5uUxv5Fnime"
      },
      "execution_count": null,
      "outputs": []
    },
    {
      "cell_type": "code",
      "source": [
        "with torch.no_grad():\n",
        "  torch.cuda.empty_cache()"
      ],
      "metadata": {
        "id": "iuedH1vg33wp"
      },
      "execution_count": null,
      "outputs": []
    },
    {
      "cell_type": "code",
      "source": [
        "#!gsutil cp gs://w266finalproject/plagA20162017.tar plag2.tar\n",
        "!gsutil cp gs://w266finalproject/plag2.tar plag2.tar"
      ],
      "metadata": {
        "colab": {
          "base_uri": "https://localhost:8080/"
        },
        "id": "CF9hZB2E95i9",
        "outputId": "5646cfaf-941c-49b8-e1f0-c5e3b67a35e2"
      },
      "execution_count": null,
      "outputs": [
        {
          "output_type": "stream",
          "name": "stdout",
          "text": [
            "Copying gs://w266finalproject/plag2.tar...\n",
            "- [1 files][ 77.8 MiB/ 77.8 MiB]                                                \n",
            "Operation completed over 1 objects/77.8 MiB.                                     \n"
          ]
        }
      ]
    },
    {
      "cell_type": "code",
      "source": [
        "!nvidia-smi -L "
      ],
      "metadata": {
        "colab": {
          "base_uri": "https://localhost:8080/"
        },
        "id": "sgkcVldSJIUS",
        "outputId": "4d6e98a0-8b82-469b-81d1-df12ccbf8f6a"
      },
      "execution_count": null,
      "outputs": [
        {
          "output_type": "stream",
          "name": "stdout",
          "text": [
            "GPU 0: Tesla V100-SXM2-16GB (UUID: GPU-e074cc5d-6a67-875c-c74e-94781d81e946)\n"
          ]
        }
      ]
    },
    {
      "cell_type": "code",
      "source": [
        "from google.colab import auth\n",
        "auth.authenticate_user()"
      ],
      "metadata": {
        "id": "rYW1KFlxOAvZ"
      },
      "execution_count": null,
      "outputs": []
    },
    {
      "cell_type": "code",
      "source": [
        "#!gcloud auth login"
      ],
      "metadata": {
        "id": "D-a2OLBH39-0"
      },
      "execution_count": null,
      "outputs": []
    },
    {
      "cell_type": "code",
      "source": [
        ""
      ],
      "metadata": {
        "id": "NLscXsE2NIml"
      },
      "execution_count": null,
      "outputs": []
    },
    {
      "cell_type": "code",
      "source": [
        "\n",
        "!tar xvf plag2.tar\n",
        "!ls -l\n",
        "# !mv trainA*.csv train.csv\n",
        "# !mv testA*.csv test.csv\n",
        "!mv train2.csv train.csv\n",
        "!mv test2.csv test.csv"
      ],
      "metadata": {
        "colab": {
          "base_uri": "https://localhost:8080/"
        },
        "id": "onaZjOm39_ok",
        "outputId": "f02de470-b6b2-4dfa-b631-dcf916bb39a0"
      },
      "execution_count": null,
      "outputs": [
        {
          "output_type": "stream",
          "name": "stdout",
          "text": [
            "alldata2.csv\n",
            "groundtruth2.csv\n",
            "test2.csv\n",
            "train2.csv\n",
            "total 159428\n",
            "-rw-r--r-- 1 root root       720 Mar 28 01:13 adc.json\n",
            "-rw-r--r-- 1  501 staff  1114619 Mar 16 08:22 alldata2.csv\n",
            "-rw-r--r-- 1  501 staff   203396 Mar 16 08:19 groundtruth2.csv\n",
            "-rw-r--r-- 1 root root  81619968 Mar 28 01:13 plag2.tar\n",
            "drwxr-xr-x 1 root root      4096 Mar 23 14:22 sample_data\n",
            "-rw-r--r-- 1  501 staff 15819857 Mar 16 08:22 test2.csv\n",
            "-rw-r--r-- 1  501 staff 64478135 Mar 16 08:22 train2.csv\n"
          ]
        }
      ]
    },
    {
      "cell_type": "code",
      "source": [
        ""
      ],
      "metadata": {
        "id": "Foc_3qLZsGj5"
      },
      "execution_count": null,
      "outputs": []
    },
    {
      "cell_type": "code",
      "source": [
        "train_df = pd.read_csv(\"train.csv\")\n",
        "test_df = pd.read_csv(\"test.csv\")\n",
        "valid_df = train_df[int(len(train_df)*0.8):]\n",
        "train_df = train_df[:int(len(train_df)*0.8)]#[:15000]"
      ],
      "metadata": {
        "id": "D2CloHdX54uW"
      },
      "execution_count": null,
      "outputs": []
    },
    {
      "cell_type": "code",
      "source": [
        "print(\"Train Target Distribution\")\n",
        "print(train_df.plagiarized.value_counts())"
      ],
      "metadata": {
        "colab": {
          "base_uri": "https://localhost:8080/"
        },
        "id": "QNPC2yDv5O0l",
        "outputId": "c70f27e4-7f7f-4b53-c4d2-94ea8df2abc8"
      },
      "execution_count": null,
      "outputs": [
        {
          "output_type": "stream",
          "name": "stdout",
          "text": [
            "Train Target Distribution\n",
            "0    10595\n",
            "1      463\n",
            "Name: plagiarized, dtype: int64\n"
          ]
        }
      ]
    },
    {
      "cell_type": "code",
      "source": [
        "\n",
        "\n",
        "# define oversampling strategy\n",
        "oversample = RandomOverSampler(sampling_strategy='minority',random_state=1234)\n",
        "train_over, y_train_over = oversample.fit_resample(train_df, train_df.plagiarized)\n",
        "print(\"Train Target Distribution\")\n",
        "print(train_over.plagiarized.value_counts())\n",
        "\n",
        "valid_over, y_valid_over = oversample.fit_resample(valid_df, valid_df.plagiarized)\n",
        "print(\"Valid Target Distribution\")\n",
        "print(valid_over.plagiarized.value_counts())\n",
        "\n",
        "test_over, y_test_over = oversample.fit_resample(test_df, test_df.plagiarized)\n",
        "print(\"Test Target Distribution\")\n",
        "print(test_over.plagiarized.value_counts())"
      ],
      "metadata": {
        "colab": {
          "base_uri": "https://localhost:8080/"
        },
        "id": "Fu0vYwLs7nQf",
        "outputId": "7e3b6f6a-e8d6-4a3d-bbdf-fbcfe0dbf744"
      },
      "execution_count": null,
      "outputs": [
        {
          "output_type": "stream",
          "name": "stdout",
          "text": [
            "Train Target Distribution\n",
            "0    10595\n",
            "1    10595\n",
            "Name: plagiarized, dtype: int64\n",
            "Valid Target Distribution\n",
            "0    2654\n",
            "1    2654\n",
            "Name: plagiarized, dtype: int64\n",
            "Test Target Distribution\n",
            "0    3294\n",
            "1    3294\n",
            "Name: plagiarized, dtype: int64\n"
          ]
        }
      ]
    },
    {
      "cell_type": "code",
      "source": [
        "\n",
        "train_data = datasets.Dataset.from_pandas(train_over)\n",
        "valid_data = datasets.Dataset.from_pandas(valid_over)\n",
        "test_data = datasets.Dataset.from_pandas(test_over)\n"
      ],
      "metadata": {
        "id": "yKlqzikqy7R0"
      },
      "execution_count": null,
      "outputs": []
    },
    {
      "cell_type": "code",
      "source": [
        "print(len(train_data),type(train_data),train_data)"
      ],
      "metadata": {
        "colab": {
          "base_uri": "https://localhost:8080/"
        },
        "id": "eg2wmK4V0GNq",
        "outputId": "aa747ca0-b876-425c-a796-f7cd913f5b07"
      },
      "execution_count": null,
      "outputs": [
        {
          "output_type": "stream",
          "name": "stdout",
          "text": [
            "21190 <class 'datasets.arrow_dataset.Dataset'> Dataset({\n",
            "    features: ['label', 'filename0', 'filename1', 'source0', 'source1', 'percent', 'percent0', 'percent1', 'lines', 'plagiarized'],\n",
            "    num_rows: 21190\n",
            "})\n"
          ]
        }
      ]
    },
    {
      "cell_type": "code",
      "source": [
        "# load model and tokenizer and define length of the text sequence\n",
        "device = torch.device(\"cuda:0\") if torch.cuda.is_available() else torch.device(\"cpu\")\n",
        "model = AutoModelForSequenceClassification.from_pretrained(global_data.classifier,\n",
        "#\n",
        "                num_labels = 2,\n",
        "                cache_dir='data',\n",
        "                return_dict=True).to(device)\n",
        "\n",
        "\n",
        "\n",
        "tokenizer = AutoTokenizer.from_pretrained(global_data.classifier, \n",
        "                                          max_length = 512,\n",
        "                                          cache_dir='data',)\n",
        "\n",
        "global_data.model = model\n",
        "global_data.tokenizer = tokenizer\n",
        "model=None\n",
        "tokenizer=None\n",
        "\n",
        "def tokenization(batched_text):\n",
        "    return global_data.tokenizer(batched_text['source0'],batched_text['source1'], padding = 'max_length', truncation=True, max_length = 512)\n",
        "train_data = train_data.map(tokenization, batched = True, batch_size = 256) #len(train_data))\n",
        "valid_data = valid_data.map(tokenization, batched = True, batch_size = 256) #len(valid_data))\n",
        "test_data = test_data.map(tokenization, batched = True, batch_size = 256) #len(test_data))\n",
        "\n",
        "\n",
        "\n"
      ],
      "metadata": {
        "colab": {
          "base_uri": "https://localhost:8080/",
          "height": 380,
          "referenced_widgets": [
            "74ece835f88f46e6ba5de7c8dc77feb3",
            "2cd5d834daec46ada5674751e5924849",
            "55dae6805c0041a3be4027335415942f",
            "d8f881adaf8347838c5a62dfcdf891a1",
            "85e1a5c668464125ae9c91854aa427e3",
            "7c83a67750714f77bd776d7a0a854a73",
            "fce22ef948c94b5cb3b38d49f6469ddb",
            "0ac9dbaf74cd4bbc9773fcfeb571200c",
            "e5077fd66c124199a3be511c12cca1b3",
            "7e7227c591b14911862244f5a30e76f9",
            "921dd51770ce481f95c304bdc005fbf7",
            "f1396f7d99a740a3823e1ccddf885a4f",
            "e9f4f4827e90470a9a42843b34bebe85",
            "6ab810fe201d4d76a250e75a36801fda",
            "476f8c4c3fd7438c82d1fbfcd1f6dfa8",
            "cebff2fafc7f4f6285ec442a8bb11cbe",
            "0ba3c8940be0460bb2776b20a0607974",
            "772ae148eafe43fd8aaf573f8d1954ca",
            "745bf46b0d244844918fa5e9673956f3",
            "b67d4622f5ad45eba28a949a629c30e0",
            "16fbd4f005ff4b83957e9f9f6b15fd8d",
            "21eec9a454ed4bad8f79f535ff50edd6",
            "d5227b6474a847cdbcf1f286df716dc1",
            "ccde598195504b42a62cc88fce8357a8",
            "190929f474504290bdda820fbbe5849c",
            "f73499e6288f420b978007b5d19bdda4",
            "261334829cbe4d62b7f41705e5ffe332",
            "354f25746bf740e9b64df8171c3ffef5",
            "c2e0ff06070b4fb098682cb9d22e99cb",
            "e17fb61a76b64437bf152c05482c0cc4",
            "05845dc9053c406ab7187b780f65212a",
            "86dcd027bc194176b8fbdc3b91c713eb",
            "9c37dc0bf3ef4e00a0acbd04ad1150aa",
            "ab68f53788524cea99fc84804ff61a9d",
            "e1f14bb52f9649daa616686bd43b5822",
            "c0e2bca2c8a44d54bc5de8629116de1b",
            "e1ed126b3cbe4ca6a0e09b45c909958a",
            "d763ff11a1e64fb3807ba2f7a10ed5d5",
            "80f106cbe674455eb281fd87582c8a5e",
            "f1231954da7c4056a633c0f09a6f0f22",
            "0a70282b815742c79c22309912beb858",
            "dd61fd6b3f114ab6be456c1802c7e084",
            "5520cd6c110c4d9ebc07fe0db748eaf2",
            "08e7775ccf03405089626c5b36ac6a8f",
            "38892aa9a70f49ffa908300d8c42a505",
            "fafc1bf0bd8344dcb13626303862cdc7",
            "f28e0c26d32e4adf9eb7f781afaaf983",
            "163b530c76d54524a14808c7a48cba13",
            "eecdf6dc697942769508dd88c6dade7d",
            "ec1e00934308486786a390b0967ad873",
            "2494bdc4706d4c508c1047cdfd287455",
            "2cd5abbcc65a43e08b31807f483917ad",
            "295afea6af5548e88c7dfa50ee27ac58",
            "508bb10f6bfd4b059f73b19788e211c2",
            "b41df1ceca23496faa38a3a5bbf298c2",
            "647fe867aecb48dea99784a0e90b553c",
            "3986f57a2ca941e597b2b4255d33849f",
            "19be1cf8351b4136bbd7eb3aca4242b1",
            "de3990442a304fe6a8b06fb60a78ed9f",
            "94e8924276714ea9b2f64bc9f817bf10",
            "a717285f74e047a980f350547d72f11b",
            "846c9a97dd2d4a95a8046acd9d0a0c22",
            "169b8241c6a541d7a31b4366553c623a",
            "5dc205a9c1fe48fc8ae7161a7878591e",
            "c733c41e41da44f395792a75c772cc0b",
            "59b797aa2e884b97b760be8ba08b3895",
            "9e85d024560242cb98f1dc688aa52b2f",
            "87953afc107b4b7aaf3079edc96843e2",
            "aeca579926a24c9d9a4d9aaf305d1c41",
            "550ab17462954f4db9d2ecb848d7f5b9",
            "3d62ead703324d44a1bcbc3c30d94a39",
            "02646f7f35b6495a9d8ca39a1ac99a22",
            "4b5e5ac9bcf748f98f604fd1bef764ee",
            "6439241196b74bd1a22cff3549eda3b5",
            "87a290729d50484eb720877ae998f33c",
            "e548afc5f87441f3972b09be4dd81d35",
            "33cdebfc1a2244b7b205bda1aad0c796",
            "a2b7c212e64f46f983df8bef621942fe",
            "d1d55871dd084503a07a6ee50c20fea0",
            "4db1868bbb164fb2987c2c1695dc3b39",
            "4e8ea198f7ca453caf9b5e882c04c19d",
            "001b2667c04a44a8be6ccbfdd7388ec4",
            "3c5f6d53608044d797b90d7119cfe1de",
            "b3432820ed204173bf3b36acb750a3b2",
            "966d6296b0b2416aad19c3a14bfc7ed5",
            "440b0f5b2d2140979b46e3d111300ae8",
            "58054bd81c154eab8331190cc119b061",
            "c6c5f37831f046c5810b6bc8d3115984"
          ]
        },
        "id": "EhM8OvvlxNeK",
        "outputId": "8155b67d-d62b-4185-e9ab-d5787c05fe18"
      },
      "execution_count": null,
      "outputs": [
        {
          "output_type": "display_data",
          "data": {
            "text/plain": [
              "Downloading:   0%|          | 0.00/434 [00:00<?, ?B/s]"
            ],
            "application/vnd.jupyter.widget-view+json": {
              "version_major": 2,
              "version_minor": 0,
              "model_id": "74ece835f88f46e6ba5de7c8dc77feb3"
            }
          },
          "metadata": {}
        },
        {
          "output_type": "display_data",
          "data": {
            "text/plain": [
              "Downloading:   0%|          | 0.00/1.25G [00:00<?, ?B/s]"
            ],
            "application/vnd.jupyter.widget-view+json": {
              "version_major": 2,
              "version_minor": 0,
              "model_id": "f1396f7d99a740a3823e1ccddf885a4f"
            }
          },
          "metadata": {}
        },
        {
          "output_type": "stream",
          "name": "stderr",
          "text": [
            "Some weights of the model checkpoint at bert-large-uncased-whole-word-masking were not used when initializing BertForSequenceClassification: ['cls.seq_relationship.weight', 'cls.seq_relationship.bias', 'cls.predictions.transform.dense.bias', 'cls.predictions.transform.LayerNorm.weight', 'cls.predictions.transform.LayerNorm.bias', 'cls.predictions.decoder.weight', 'cls.predictions.bias', 'cls.predictions.transform.dense.weight']\n",
            "- This IS expected if you are initializing BertForSequenceClassification from the checkpoint of a model trained on another task or with another architecture (e.g. initializing a BertForSequenceClassification model from a BertForPreTraining model).\n",
            "- This IS NOT expected if you are initializing BertForSequenceClassification from the checkpoint of a model that you expect to be exactly identical (initializing a BertForSequenceClassification model from a BertForSequenceClassification model).\n",
            "Some weights of BertForSequenceClassification were not initialized from the model checkpoint at bert-large-uncased-whole-word-masking and are newly initialized: ['classifier.weight', 'classifier.bias']\n",
            "You should probably TRAIN this model on a down-stream task to be able to use it for predictions and inference.\n"
          ]
        },
        {
          "output_type": "display_data",
          "data": {
            "text/plain": [
              "Downloading:   0%|          | 0.00/28.0 [00:00<?, ?B/s]"
            ],
            "application/vnd.jupyter.widget-view+json": {
              "version_major": 2,
              "version_minor": 0,
              "model_id": "d5227b6474a847cdbcf1f286df716dc1"
            }
          },
          "metadata": {}
        },
        {
          "output_type": "display_data",
          "data": {
            "text/plain": [
              "Downloading:   0%|          | 0.00/226k [00:00<?, ?B/s]"
            ],
            "application/vnd.jupyter.widget-view+json": {
              "version_major": 2,
              "version_minor": 0,
              "model_id": "ab68f53788524cea99fc84804ff61a9d"
            }
          },
          "metadata": {}
        },
        {
          "output_type": "display_data",
          "data": {
            "text/plain": [
              "Downloading:   0%|          | 0.00/455k [00:00<?, ?B/s]"
            ],
            "application/vnd.jupyter.widget-view+json": {
              "version_major": 2,
              "version_minor": 0,
              "model_id": "38892aa9a70f49ffa908300d8c42a505"
            }
          },
          "metadata": {}
        },
        {
          "output_type": "display_data",
          "data": {
            "text/plain": [
              "  0%|          | 0/83 [00:00<?, ?ba/s]"
            ],
            "application/vnd.jupyter.widget-view+json": {
              "version_major": 2,
              "version_minor": 0,
              "model_id": "647fe867aecb48dea99784a0e90b553c"
            }
          },
          "metadata": {}
        },
        {
          "output_type": "display_data",
          "data": {
            "text/plain": [
              "  0%|          | 0/21 [00:00<?, ?ba/s]"
            ],
            "application/vnd.jupyter.widget-view+json": {
              "version_major": 2,
              "version_minor": 0,
              "model_id": "9e85d024560242cb98f1dc688aa52b2f"
            }
          },
          "metadata": {}
        },
        {
          "output_type": "display_data",
          "data": {
            "text/plain": [
              "  0%|          | 0/26 [00:00<?, ?ba/s]"
            ],
            "application/vnd.jupyter.widget-view+json": {
              "version_major": 2,
              "version_minor": 0,
              "model_id": "a2b7c212e64f46f983df8bef621942fe"
            }
          },
          "metadata": {}
        }
      ]
    },
    {
      "cell_type": "code",
      "source": [
        "train_data = train_data.map(lambda examples: {'label': examples['plagiarized']}, batched=True)\n",
        "valid_data = valid_data.map(lambda examples: {'label': examples['plagiarized']}, batched=True)\n",
        "test_data = test_data.map(lambda examples: {'label': examples['plagiarized']}, batched=True)\n",
        "train_data.set_format(type='torch', columns=['input_ids', 'attention_mask', 'token_type_ids', 'label'])\n",
        "valid_data.set_format(type='torch', columns=['input_ids', 'attention_mask', 'token_type_ids', 'label'])\n",
        "test_data.set_format(type='torch', columns=['input_ids', 'attention_mask', 'token_type_ids', 'label'])\n",
        "\n",
        "global_data.train = train_data\n",
        "global_data.valid= valid_data\n",
        "global_data.test = test_data\n",
        "train_data = None\n",
        "valid_data = None\n",
        "test_data = None"
      ],
      "metadata": {
        "colab": {
          "base_uri": "https://localhost:8080/",
          "height": 113,
          "referenced_widgets": [
            "37f13e4bb5294d049c050fb8053022dd",
            "6c5a5d0c3ef343028748601af5b42f63",
            "7930c29393f14c53be24c9930292cb71",
            "5051856925bb4811a6174d150e0eefe8",
            "d7ad3985fe244069b16a4c10e60e2460",
            "34735e12e4384f71957941a586393612",
            "a383c0e79715463180d27291954d438e",
            "2114f71812e3419dab99b844bbc25e6f",
            "b3e402c97c0048518a268ad65b34c0b6",
            "e579064d08694316b3344205b7f62cca",
            "892b5167d6284bff9e6ddf54414859b5",
            "dfa220fd80d244f79c07b9a37450c641",
            "efa0996b5e50421a80bbdc37c6972a3d",
            "5c64742335cb4bc99a011fce9916bac9",
            "676dc2b1153f4e96a449ad44af2ec3d4",
            "df33a9ffa15647ffb06e91ee9188620c",
            "062326e93a554f65851a76e2e7824221",
            "3535736b799a4cacb1bda3ecbad61c43",
            "0a0a8cc25e1b4a60922c31af4da75b55",
            "7804687af41f4a768c909282a249fe80",
            "60d7822ff9e54c238c46663810f635a6",
            "887d1ed9d47245d886f70bc754488a0b",
            "5511c81a1895490db9a68072282f4477",
            "012fbc0e9d6e46c9aeb43af01ad54e92",
            "008bb3101c4349d895b64f296667f15a",
            "a7a9f8bba2874736b43f5b10e8769cc4",
            "e7b6ae548e2d43cbade8f4703d0090f7",
            "16c18a631daf436b99a270989aa74cdb",
            "330cdc062bb24ce3a7611261d9a4b630",
            "bef382015eaa4731be62c88fe172c05d",
            "41cbb8a231a04d9ea5382f4f78e74034",
            "1fd3851785934eb3b4629fae17ee2f31",
            "2eb732552a2f4afcb3c2afaeda31c980"
          ]
        },
        "id": "8naqL2noJ3-p",
        "outputId": "5c1074ba-70d6-43bb-dfb4-0ebef2103da0"
      },
      "execution_count": null,
      "outputs": [
        {
          "output_type": "display_data",
          "data": {
            "text/plain": [
              "  0%|          | 0/22 [00:00<?, ?ba/s]"
            ],
            "application/vnd.jupyter.widget-view+json": {
              "version_major": 2,
              "version_minor": 0,
              "model_id": "37f13e4bb5294d049c050fb8053022dd"
            }
          },
          "metadata": {}
        },
        {
          "output_type": "display_data",
          "data": {
            "text/plain": [
              "  0%|          | 0/6 [00:00<?, ?ba/s]"
            ],
            "application/vnd.jupyter.widget-view+json": {
              "version_major": 2,
              "version_minor": 0,
              "model_id": "dfa220fd80d244f79c07b9a37450c641"
            }
          },
          "metadata": {}
        },
        {
          "output_type": "display_data",
          "data": {
            "text/plain": [
              "  0%|          | 0/7 [00:00<?, ?ba/s]"
            ],
            "application/vnd.jupyter.widget-view+json": {
              "version_major": 2,
              "version_minor": 0,
              "model_id": "5511c81a1895490db9a68072282f4477"
            }
          },
          "metadata": {}
        }
      ]
    },
    {
      "cell_type": "code",
      "source": [
        "# define accuracy metrics\n",
        "\n",
        "def compute_metrics(pred):\n",
        "    labels = pred.label_ids\n",
        "    preds = pred.predictions.argmax(-1)\n",
        "    precision, recall, f1, _ = precision_recall_fscore_support(labels, preds, average='binary')\n",
        "    acc = accuracy_score(labels, preds)\n",
        "    return {\n",
        "        'accuracy': acc,\n",
        "        'f1': f1,\n",
        "        'precision': precision,\n",
        "        'recall': recall\n",
        "    }"
      ],
      "metadata": {
        "id": "5kiqk5mizHKW"
      },
      "execution_count": null,
      "outputs": []
    },
    {
      "cell_type": "code",
      "source": [
        "# Set parameters\n",
        "today = datetime.datetime.now()\n",
        "date_time = today.strftime(\"%m%d%Y_%H%M%S\")\n",
        "token_max_length = 512\n",
        "train_batch_size = 2 # 1 for 4096\n",
        "cachedir = 'data' + date_time + '_' + str(token_max_length)\n",
        "outputdir = global_data.classifier + date_time + '_' + str(token_max_length)\n",
        "logsdir = 'logs' + date_time + '_' + str(token_max_length)"
      ],
      "metadata": {
        "id": "W21ddjqEXJFL"
      },
      "execution_count": null,
      "outputs": []
    },
    {
      "cell_type": "code",
      "source": [
        "# define the training arguments\n",
        "training_args = TrainingArguments(\n",
        "    output_dir = outputdir,\n",
        "    num_train_epochs = 4,\n",
        "    per_device_train_batch_size = 2, #8,\n",
        "    gradient_accumulation_steps = 32,    \n",
        "    per_device_eval_batch_size= 2, #16,\n",
        "    evaluation_strategy = \"epoch\",\n",
        "    save_strategy = \"epoch\",\n",
        "    disable_tqdm = False, \n",
        "    load_best_model_at_end=True,\n",
        "    metric_for_best_model='eval_f1',\n",
        "    greater_is_better=True,\n",
        "    warmup_steps=160,\n",
        "    weight_decay=0.01,\n",
        "    logging_steps = 4,\n",
        "    learning_rate = 2e-5, #1e-5,\n",
        "    fp16 = True,\n",
        "    logging_dir='logs',\n",
        "    dataloader_num_workers = 0,\n",
        "#    run_name = 'bigbird_classification_1e5'\n",
        ")\n",
        "# instantiate the trainer class and check for available devices\n",
        "trainer = Trainer(\n",
        "    model=global_data.model,\n",
        "    args=training_args,\n",
        "    compute_metrics=compute_metrics,\n",
        "    train_dataset=global_data.train,\n",
        "    eval_dataset=global_data.valid\n",
        ")\n",
        "global_data.trainer=trainer\n",
        "trainer =None"
      ],
      "metadata": {
        "colab": {
          "base_uri": "https://localhost:8080/"
        },
        "id": "HwVeVl7KzUxE",
        "outputId": "509cd1ae-d4cc-4599-c5a8-6518b4963791"
      },
      "execution_count": null,
      "outputs": [
        {
          "output_type": "stream",
          "name": "stderr",
          "text": [
            "Using amp half precision backend\n"
          ]
        }
      ]
    },
    {
      "cell_type": "code",
      "source": [
        "# see how the basic model would perform\n",
        "global_data.trainer.evaluate()"
      ],
      "metadata": {
        "id": "GvTGbtTDnbNa",
        "colab": {
          "base_uri": "https://localhost:8080/",
          "height": 300
        },
        "outputId": "d9971cbf-baa8-4ed6-da8c-6bb8c93ea48a"
      },
      "execution_count": null,
      "outputs": [
        {
          "output_type": "stream",
          "name": "stderr",
          "text": [
            "The following columns in the evaluation set  don't have a corresponding argument in `BertForSequenceClassification.forward` and have been ignored: lines, percent0, percent1, filename0, percent, source0, plagiarized, filename1, source1. If lines, percent0, percent1, filename0, percent, source0, plagiarized, filename1, source1 are not expected by `BertForSequenceClassification.forward`,  you can safely ignore this message.\n",
            "***** Running Evaluation *****\n",
            "  Num examples = 5308\n",
            "  Batch size = 2\n"
          ]
        },
        {
          "output_type": "display_data",
          "data": {
            "text/plain": [
              "<IPython.core.display.HTML object>"
            ],
            "text/html": [
              "\n",
              "    <div>\n",
              "      \n",
              "      <progress value='2654' max='2654' style='width:300px; height:20px; vertical-align: middle;'></progress>\n",
              "      [2654/2654 01:27]\n",
              "    </div>\n",
              "    "
            ]
          },
          "metadata": {}
        },
        {
          "output_type": "stream",
          "name": "stderr",
          "text": [
            "/usr/local/lib/python3.7/dist-packages/sklearn/metrics/_classification.py:1318: UndefinedMetricWarning: Precision and F-score are ill-defined and being set to 0.0 due to no predicted samples. Use `zero_division` parameter to control this behavior.\n",
            "  _warn_prf(average, modifier, msg_start, len(result))\n"
          ]
        },
        {
          "output_type": "execute_result",
          "data": {
            "text/plain": [
              "{'eval_accuracy': 0.5,\n",
              " 'eval_f1': 0.0,\n",
              " 'eval_loss': 0.7117193937301636,\n",
              " 'eval_precision': 0.0,\n",
              " 'eval_recall': 0.0,\n",
              " 'eval_runtime': 87.7346,\n",
              " 'eval_samples_per_second': 60.501,\n",
              " 'eval_steps_per_second': 30.25}"
            ]
          },
          "metadata": {},
          "execution_count": 20
        }
      ]
    },
    {
      "cell_type": "code",
      "source": [
        "!nvidia-smi -L "
      ],
      "metadata": {
        "colab": {
          "base_uri": "https://localhost:8080/"
        },
        "id": "Gc3VvJnuNdIX",
        "outputId": "c4fbaf06-b1b6-4483-d799-bb6181c94d68"
      },
      "execution_count": null,
      "outputs": [
        {
          "output_type": "stream",
          "name": "stdout",
          "text": [
            "GPU 0: Tesla V100-SXM2-16GB (UUID: GPU-e074cc5d-6a67-875c-c74e-94781d81e946)\n"
          ]
        }
      ]
    },
    {
      "cell_type": "code",
      "source": [
        "# train the model\n",
        "global_data.trainer.train()"
      ],
      "metadata": {
        "colab": {
          "base_uri": "https://localhost:8080/",
          "height": 1000
        },
        "id": "Lj1n6oQmnkyS",
        "outputId": "9809ff2b-5cfa-4c8f-9e68-47bd13fdb9aa"
      },
      "execution_count": null,
      "outputs": [
        {
          "output_type": "stream",
          "name": "stderr",
          "text": [
            "The following columns in the training set  don't have a corresponding argument in `BertForSequenceClassification.forward` and have been ignored: lines, percent0, percent1, filename0, percent, source0, plagiarized, filename1, source1. If lines, percent0, percent1, filename0, percent, source0, plagiarized, filename1, source1 are not expected by `BertForSequenceClassification.forward`,  you can safely ignore this message.\n",
            "/usr/local/lib/python3.7/dist-packages/transformers/optimization.py:309: FutureWarning: This implementation of AdamW is deprecated and will be removed in a future version. Use the PyTorch implementation torch.optim.AdamW instead, or set `no_deprecation_warning=True` to disable this warning\n",
            "  FutureWarning,\n",
            "***** Running training *****\n",
            "  Num examples = 21190\n",
            "  Num Epochs = 4\n",
            "  Instantaneous batch size per device = 2\n",
            "  Total train batch size (w. parallel, distributed & accumulation) = 64\n",
            "  Gradient Accumulation steps = 32\n",
            "  Total optimization steps = 1324\n"
          ]
        },
        {
          "output_type": "display_data",
          "data": {
            "text/plain": [
              "<IPython.core.display.HTML object>"
            ],
            "text/html": [
              "\n",
              "    <div>\n",
              "      \n",
              "      <progress value='1324' max='1324' style='width:300px; height:20px; vertical-align: middle;'></progress>\n",
              "      [1324/1324 1:15:33, Epoch 3/4]\n",
              "    </div>\n",
              "    <table border=\"1\" class=\"dataframe\">\n",
              "  <thead>\n",
              " <tr style=\"text-align: left;\">\n",
              "      <th>Epoch</th>\n",
              "      <th>Training Loss</th>\n",
              "      <th>Validation Loss</th>\n",
              "      <th>Accuracy</th>\n",
              "      <th>F1</th>\n",
              "      <th>Precision</th>\n",
              "      <th>Recall</th>\n",
              "    </tr>\n",
              "  </thead>\n",
              "  <tbody>\n",
              "    <tr>\n",
              "      <td>0</td>\n",
              "      <td>0.192600</td>\n",
              "      <td>0.418166</td>\n",
              "      <td>0.841560</td>\n",
              "      <td>0.831834</td>\n",
              "      <td>0.886238</td>\n",
              "      <td>0.783723</td>\n",
              "    </tr>\n",
              "    <tr>\n",
              "      <td>1</td>\n",
              "      <td>0.081100</td>\n",
              "      <td>0.783638</td>\n",
              "      <td>0.819894</td>\n",
              "      <td>0.790901</td>\n",
              "      <td>0.942649</td>\n",
              "      <td>0.681236</td>\n",
              "    </tr>\n",
              "    <tr>\n",
              "      <td>2</td>\n",
              "      <td>0.057800</td>\n",
              "      <td>1.085943</td>\n",
              "      <td>0.827242</td>\n",
              "      <td>0.799475</td>\n",
              "      <td>0.952579</td>\n",
              "      <td>0.688772</td>\n",
              "    </tr>\n",
              "    <tr>\n",
              "      <td>3</td>\n",
              "      <td>0.043600</td>\n",
              "      <td>1.437532</td>\n",
              "      <td>0.803504</td>\n",
              "      <td>0.763653</td>\n",
              "      <td>0.957931</td>\n",
              "      <td>0.634891</td>\n",
              "    </tr>\n",
              "  </tbody>\n",
              "</table><p>"
            ]
          },
          "metadata": {}
        },
        {
          "output_type": "stream",
          "name": "stderr",
          "text": [
            "The following columns in the evaluation set  don't have a corresponding argument in `BertForSequenceClassification.forward` and have been ignored: lines, percent0, percent1, filename0, percent, source0, plagiarized, filename1, source1. If lines, percent0, percent1, filename0, percent, source0, plagiarized, filename1, source1 are not expected by `BertForSequenceClassification.forward`,  you can safely ignore this message.\n",
            "***** Running Evaluation *****\n",
            "  Num examples = 5308\n",
            "  Batch size = 2\n"
          ]
        },
        {
          "output_type": "display_data",
          "data": {
            "text/plain": [
              "<IPython.core.display.HTML object>"
            ],
            "text/html": [
              "\n",
              "    <div>\n",
              "      \n",
              "      <progress value='5308' max='2654' style='width:300px; height:20px; vertical-align: middle;'></progress>\n",
              "      [2654/2654 20:20]\n",
              "    </div>\n",
              "    "
            ]
          },
          "metadata": {}
        },
        {
          "output_type": "stream",
          "name": "stderr",
          "text": [
            "Saving model checkpoint to bert-large-uncased-whole-word-masking03282022_011556_512/checkpoint-331\n",
            "Configuration saved in bert-large-uncased-whole-word-masking03282022_011556_512/checkpoint-331/config.json\n",
            "Model weights saved in bert-large-uncased-whole-word-masking03282022_011556_512/checkpoint-331/pytorch_model.bin\n",
            "The following columns in the evaluation set  don't have a corresponding argument in `BertForSequenceClassification.forward` and have been ignored: lines, percent0, percent1, filename0, percent, source0, plagiarized, filename1, source1. If lines, percent0, percent1, filename0, percent, source0, plagiarized, filename1, source1 are not expected by `BertForSequenceClassification.forward`,  you can safely ignore this message.\n",
            "***** Running Evaluation *****\n",
            "  Num examples = 5308\n",
            "  Batch size = 2\n",
            "Saving model checkpoint to bert-large-uncased-whole-word-masking03282022_011556_512/checkpoint-662\n",
            "Configuration saved in bert-large-uncased-whole-word-masking03282022_011556_512/checkpoint-662/config.json\n",
            "Model weights saved in bert-large-uncased-whole-word-masking03282022_011556_512/checkpoint-662/pytorch_model.bin\n",
            "The following columns in the evaluation set  don't have a corresponding argument in `BertForSequenceClassification.forward` and have been ignored: lines, percent0, percent1, filename0, percent, source0, plagiarized, filename1, source1. If lines, percent0, percent1, filename0, percent, source0, plagiarized, filename1, source1 are not expected by `BertForSequenceClassification.forward`,  you can safely ignore this message.\n",
            "***** Running Evaluation *****\n",
            "  Num examples = 5308\n",
            "  Batch size = 2\n",
            "Saving model checkpoint to bert-large-uncased-whole-word-masking03282022_011556_512/checkpoint-993\n",
            "Configuration saved in bert-large-uncased-whole-word-masking03282022_011556_512/checkpoint-993/config.json\n",
            "Model weights saved in bert-large-uncased-whole-word-masking03282022_011556_512/checkpoint-993/pytorch_model.bin\n",
            "The following columns in the evaluation set  don't have a corresponding argument in `BertForSequenceClassification.forward` and have been ignored: lines, percent0, percent1, filename0, percent, source0, plagiarized, filename1, source1. If lines, percent0, percent1, filename0, percent, source0, plagiarized, filename1, source1 are not expected by `BertForSequenceClassification.forward`,  you can safely ignore this message.\n",
            "***** Running Evaluation *****\n",
            "  Num examples = 5308\n",
            "  Batch size = 2\n",
            "Saving model checkpoint to bert-large-uncased-whole-word-masking03282022_011556_512/checkpoint-1324\n",
            "Configuration saved in bert-large-uncased-whole-word-masking03282022_011556_512/checkpoint-1324/config.json\n",
            "Model weights saved in bert-large-uncased-whole-word-masking03282022_011556_512/checkpoint-1324/pytorch_model.bin\n",
            "\n",
            "\n",
            "Training completed. Do not forget to share your model on huggingface.co/models =)\n",
            "\n",
            "\n",
            "Loading best model from bert-large-uncased-whole-word-masking03282022_011556_512/checkpoint-331 (score: 0.8318336332733453).\n"
          ]
        },
        {
          "output_type": "execute_result",
          "data": {
            "text/plain": [
              "TrainOutput(global_step=1324, training_loss=0.16142554535865333, metrics={'train_runtime': 4537.1775, 'train_samples_per_second': 18.681, 'train_steps_per_second': 0.292, 'total_flos': 7.898491076750131e+16, 'train_loss': 0.16142554535865333, 'epoch': 4.0})"
            ]
          },
          "metadata": {},
          "execution_count": 22
        }
      ]
    },
    {
      "cell_type": "code",
      "source": [
        "# Evaluate the results\n",
        "global_data.trainer.evaluate()"
      ],
      "metadata": {
        "id": "4bz9gU0UdFuI",
        "colab": {
          "base_uri": "https://localhost:8080/",
          "height": 283
        },
        "outputId": "b937f763-b289-412f-ab93-38fb6dcca957"
      },
      "execution_count": null,
      "outputs": [
        {
          "output_type": "stream",
          "name": "stderr",
          "text": [
            "The following columns in the evaluation set  don't have a corresponding argument in `BertForSequenceClassification.forward` and have been ignored: lines, percent0, percent1, filename0, percent, source0, plagiarized, filename1, source1. If lines, percent0, percent1, filename0, percent, source0, plagiarized, filename1, source1 are not expected by `BertForSequenceClassification.forward`,  you can safely ignore this message.\n",
            "***** Running Evaluation *****\n",
            "  Num examples = 5308\n",
            "  Batch size = 2\n"
          ]
        },
        {
          "output_type": "display_data",
          "data": {
            "text/plain": [
              "<IPython.core.display.HTML object>"
            ],
            "text/html": [
              "\n",
              "    <div>\n",
              "      \n",
              "      <progress value='2654' max='2654' style='width:300px; height:20px; vertical-align: middle;'></progress>\n",
              "      [2654/2654 01:27]\n",
              "    </div>\n",
              "    "
            ]
          },
          "metadata": {}
        },
        {
          "output_type": "execute_result",
          "data": {
            "text/plain": [
              "{'epoch': 4.0,\n",
              " 'eval_accuracy': 0.8415599095704597,\n",
              " 'eval_f1': 0.8318336332733453,\n",
              " 'eval_loss': 0.4181661009788513,\n",
              " 'eval_precision': 0.8862377503195569,\n",
              " 'eval_recall': 0.7837226827430294,\n",
              " 'eval_runtime': 87.6794,\n",
              " 'eval_samples_per_second': 60.539,\n",
              " 'eval_steps_per_second': 30.269}"
            ]
          },
          "metadata": {},
          "execution_count": 23
        }
      ]
    },
    {
      "cell_type": "code",
      "source": [
        "results = global_data.trainer.predict(global_data.test)\n",
        "pprint.pprint(results.metrics)"
      ],
      "metadata": {
        "colab": {
          "base_uri": "https://localhost:8080/",
          "height": 265
        },
        "id": "xuJ1Ag4tYt45",
        "outputId": "427b5254-16d4-4190-c6ae-418e4bf21fa8"
      },
      "execution_count": null,
      "outputs": [
        {
          "output_type": "stream",
          "name": "stderr",
          "text": [
            "The following columns in the test set  don't have a corresponding argument in `BertForSequenceClassification.forward` and have been ignored: lines, percent0, percent1, filename0, percent, source0, plagiarized, filename1, source1. If lines, percent0, percent1, filename0, percent, source0, plagiarized, filename1, source1 are not expected by `BertForSequenceClassification.forward`,  you can safely ignore this message.\n",
            "***** Running Prediction *****\n",
            "  Num examples = 6588\n",
            "  Batch size = 2\n"
          ]
        },
        {
          "output_type": "display_data",
          "data": {
            "text/plain": [
              "<IPython.core.display.HTML object>"
            ],
            "text/html": [
              "\n",
              "    <div>\n",
              "      \n",
              "      <progress value='5948' max='2654' style='width:300px; height:20px; vertical-align: middle;'></progress>\n",
              "      [2654/2654 03:22]\n",
              "    </div>\n",
              "    "
            ]
          },
          "metadata": {}
        },
        {
          "output_type": "stream",
          "name": "stdout",
          "text": [
            "{'test_accuracy': 0.8193685488767456,\n",
            " 'test_f1': 0.8035006605019814,\n",
            " 'test_loss': 0.6026988625526428,\n",
            " 'test_precision': 0.8808834178131788,\n",
            " 'test_recall': 0.738615664845173,\n",
            " 'test_runtime': 114.6228,\n",
            " 'test_samples_per_second': 57.475,\n",
            " 'test_steps_per_second': 28.738}\n"
          ]
        }
      ]
    },
    {
      "cell_type": "code",
      "source": [
        "#!gsutil cp -r $outputdir gs://w266finalproject/"
      ],
      "metadata": {
        "id": "MOc5sgRCSRxK"
      },
      "execution_count": null,
      "outputs": []
    },
    {
      "cell_type": "code",
      "source": [
        "!rm -rf saved_model\n",
        "!mkdir saved_model"
      ],
      "metadata": {
        "id": "RHqFweBneMSg"
      },
      "execution_count": null,
      "outputs": []
    },
    {
      "cell_type": "code",
      "source": [
        "global_data.trainer.save_model('saved_model')\n"
      ],
      "metadata": {
        "colab": {
          "base_uri": "https://localhost:8080/"
        },
        "id": "D5R78XWBO-oh",
        "outputId": "e5854fb1-2bff-47b2-fe67-e85d8756ec1b"
      },
      "execution_count": null,
      "outputs": [
        {
          "output_type": "stream",
          "name": "stderr",
          "text": [
            "Saving model checkpoint to saved_model\n",
            "Configuration saved in saved_model/config.json\n",
            "Model weights saved in saved_model/pytorch_model.bin\n"
          ]
        }
      ]
    },
    {
      "cell_type": "code",
      "source": [
        "!gsutil cp -r saved_model/* gs://w266finalproject/$outputdir"
      ],
      "metadata": {
        "colab": {
          "base_uri": "https://localhost:8080/"
        },
        "id": "Pd8FM7aq7tYR",
        "outputId": "9196b3ae-9c53-430a-f1f5-8301120bd55b"
      },
      "execution_count": null,
      "outputs": [
        {
          "output_type": "stream",
          "name": "stdout",
          "text": [
            "Copying file://saved_model/config.json [Content-Type=application/json]...\n",
            "Copying file://saved_model/pytorch_model.bin [Content-Type=application/octet-stream]...\n",
            "==> NOTE: You are uploading one or more large file(s), which would run\n",
            "significantly faster if you enable parallel composite uploads. This\n",
            "feature can be enabled by editing the\n",
            "\"parallel_composite_upload_threshold\" value in your .boto\n",
            "configuration file. However, note that if you do this large files will\n",
            "be uploaded as `composite objects\n",
            "<https://cloud.google.com/storage/docs/composite-objects>`_,which\n",
            "means that any user who downloads such objects will need to have a\n",
            "compiled crcmod installed (see \"gsutil help crcmod\"). This is because\n",
            "without a compiled crcmod, computing checksums on composite objects is\n",
            "so slow that gsutil disables downloads of composite objects.\n",
            "\n",
            "Copying file://saved_model/training_args.bin [Content-Type=application/octet-stream]...\n",
            "/ [3 files][  1.2 GiB/  1.2 GiB]   21.5 MiB/s                                   \n",
            "Operation completed over 3 objects/1.2 GiB.                                      \n"
          ]
        }
      ]
    },
    {
      "cell_type": "code",
      "source": [
        "!ls -al saved_model"
      ],
      "metadata": {
        "colab": {
          "base_uri": "https://localhost:8080/"
        },
        "id": "tljk0zvSPSDw",
        "outputId": "84d83cd0-3ccf-4dde-b025-912f9b4a1e09"
      },
      "execution_count": null,
      "outputs": [
        {
          "output_type": "stream",
          "name": "stdout",
          "text": [
            "total 1309340\n",
            "drwxr-xr-x 2 root root       4096 Mar 28 02:36 .\n",
            "drwxr-xr-x 1 root root       4096 Mar 28 02:36 ..\n",
            "-rw-r--r-- 1 root root        713 Mar 28 02:36 config.json\n",
            "-rw-r--r-- 1 root root 1340739309 Mar 28 02:36 pytorch_model.bin\n",
            "-rw-r--r-- 1 root root       3055 Mar 28 02:36 training_args.bin\n"
          ]
        }
      ]
    },
    {
      "cell_type": "code",
      "source": [
        "#!gsutil cp -R gs://w266finalproject/resultsBERT03272022_053224_512/checkpoint-662/* saved_model"
      ],
      "metadata": {
        "id": "eeuE32_cd45V"
      },
      "execution_count": null,
      "outputs": []
    },
    {
      "cell_type": "code",
      "source": [
        "!gsutil ls gs://w266finalproject/$outputdir"
      ],
      "metadata": {
        "colab": {
          "base_uri": "https://localhost:8080/"
        },
        "id": "dG9wuGqjbAyf",
        "outputId": "eff54e24-8480-42aa-a8f3-6fdfa11090e2"
      },
      "execution_count": null,
      "outputs": [
        {
          "output_type": "stream",
          "name": "stdout",
          "text": [
            "gs://w266finalproject/bert-large-uncased-whole-word-masking03282022_011556_512/config.json\n",
            "gs://w266finalproject/bert-large-uncased-whole-word-masking03282022_011556_512/optimizer.pt\n",
            "gs://w266finalproject/bert-large-uncased-whole-word-masking03282022_011556_512/pytorch_model.bin\n",
            "gs://w266finalproject/bert-large-uncased-whole-word-masking03282022_011556_512/rng_state.pth\n",
            "gs://w266finalproject/bert-large-uncased-whole-word-masking03282022_011556_512/scaler.pt\n",
            "gs://w266finalproject/bert-large-uncased-whole-word-masking03282022_011556_512/scheduler.pt\n",
            "gs://w266finalproject/bert-large-uncased-whole-word-masking03282022_011556_512/trainer_state.json\n",
            "gs://w266finalproject/bert-large-uncased-whole-word-masking03282022_011556_512/training_args.bin\n"
          ]
        }
      ]
    },
    {
      "cell_type": "code",
      "source": [
        "!ls bert-large-uncased-whole-word-masking03282022_011556_512/checkpoint-331\n",
        "!gsutil cp -R bert-large-uncased-whole-word-masking03282022_011556_512/checkpoint-331/* gs://w266finalproject/bert-large-uncased-whole-word-masking03282022_011556_512/\n"
      ],
      "metadata": {
        "colab": {
          "base_uri": "https://localhost:8080/"
        },
        "id": "q5OSbt-ihkJ_",
        "outputId": "ce110298-bb37-4ab5-b5fe-5cddc196d81a"
      },
      "execution_count": null,
      "outputs": [
        {
          "output_type": "stream",
          "name": "stdout",
          "text": [
            "config.json   pytorch_model.bin  scaler.pt     trainer_state.json\n",
            "optimizer.pt  rng_state.pth\t scheduler.pt  training_args.bin\n",
            "Copying file://bert-large-uncased-whole-word-masking03282022_011556_512/checkpoint-331/config.json [Content-Type=application/json]...\n",
            "Copying file://bert-large-uncased-whole-word-masking03282022_011556_512/checkpoint-331/optimizer.pt [Content-Type=application/octet-stream]...\n",
            "==> NOTE: You are uploading one or more large file(s), which would run\n",
            "significantly faster if you enable parallel composite uploads. This\n",
            "feature can be enabled by editing the\n",
            "\"parallel_composite_upload_threshold\" value in your .boto\n",
            "configuration file. However, note that if you do this large files will\n",
            "be uploaded as `composite objects\n",
            "<https://cloud.google.com/storage/docs/composite-objects>`_,which\n",
            "means that any user who downloads such objects will need to have a\n",
            "compiled crcmod installed (see \"gsutil help crcmod\"). This is because\n",
            "without a compiled crcmod, computing checksums on composite objects is\n",
            "so slow that gsutil disables downloads of composite objects.\n",
            "\n",
            "Copying file://bert-large-uncased-whole-word-masking03282022_011556_512/checkpoint-331/pytorch_model.bin [Content-Type=application/octet-stream]...\n",
            "Copying file://bert-large-uncased-whole-word-masking03282022_011556_512/checkpoint-331/rng_state.pth [Content-Type=application/octet-stream]...\n",
            "| [4 files][  3.8 GiB/  3.8 GiB]   21.2 MiB/s                                   \n",
            "==> NOTE: You are performing a sequence of gsutil operations that may\n",
            "run significantly faster if you instead use gsutil -m cp ... Please\n",
            "see the -m section under \"gsutil help options\" for further information\n",
            "about when gsutil -m can be advantageous.\n",
            "\n",
            "Copying file://bert-large-uncased-whole-word-masking03282022_011556_512/checkpoint-331/scaler.pt [Content-Type=application/octet-stream]...\n",
            "Copying file://bert-large-uncased-whole-word-masking03282022_011556_512/checkpoint-331/scheduler.pt [Content-Type=application/octet-stream]...\n",
            "Copying file://bert-large-uncased-whole-word-masking03282022_011556_512/checkpoint-331/trainer_state.json [Content-Type=application/json]...\n",
            "Copying file://bert-large-uncased-whole-word-masking03282022_011556_512/checkpoint-331/training_args.bin [Content-Type=application/octet-stream]...\n",
            "- [8 files][  3.8 GiB/  3.8 GiB]   12.8 MiB/s                                   \n",
            "Operation completed over 8 objects/3.8 GiB.                                      \n"
          ]
        }
      ]
    },
    {
      "cell_type": "code",
      "source": [
        "!ls saved_model\n"
      ],
      "metadata": {
        "colab": {
          "base_uri": "https://localhost:8080/"
        },
        "id": "0onDefBfhOVt",
        "outputId": "aa87a0f5-9a96-4bda-eaae-5627ce1018ac"
      },
      "execution_count": null,
      "outputs": [
        {
          "output_type": "stream",
          "name": "stdout",
          "text": [
            "config.json  pytorch_model.bin\ttraining_args.bin\n"
          ]
        }
      ]
    },
    {
      "cell_type": "code",
      "source": [
        "# load model and tokenizer and define length of the text sequence\n",
        "device = torch.device(\"cuda:0\") if torch.cuda.is_available() else torch.device(\"cpu\")\n",
        "model = AutoModelForSequenceClassification.from_pretrained(\"./saved_model\",\n",
        "                num_labels = 2,\n",
        "                cache_dir='data',\n",
        "                return_dict=True).to(device)\n",
        "\n",
        "\n",
        "tokenizer = AutoTokenizer.from_pretrained(global_data.classifier,\n",
        "                                          max_length = 512,\n",
        "                                          cache_dir='data',)\n",
        "\n",
        "global_data.model = model\n",
        "model = None\n",
        "global_data.tokenizer = tokenizer\n",
        "tokenizer = None"
      ],
      "metadata": {
        "colab": {
          "base_uri": "https://localhost:8080/"
        },
        "id": "JIn_3pEMg9YQ",
        "outputId": "8f4dd1e3-9387-4076-a3b5-ebe44565953b"
      },
      "execution_count": null,
      "outputs": [
        {
          "output_type": "stream",
          "name": "stderr",
          "text": [
            "loading configuration file ./saved_model/config.json\n",
            "Model config BertConfig {\n",
            "  \"_name_or_path\": \"./saved_model\",\n",
            "  \"architectures\": [\n",
            "    \"BertForSequenceClassification\"\n",
            "  ],\n",
            "  \"attention_probs_dropout_prob\": 0.1,\n",
            "  \"classifier_dropout\": null,\n",
            "  \"hidden_act\": \"gelu\",\n",
            "  \"hidden_dropout_prob\": 0.1,\n",
            "  \"hidden_size\": 1024,\n",
            "  \"initializer_range\": 0.02,\n",
            "  \"intermediate_size\": 4096,\n",
            "  \"layer_norm_eps\": 1e-12,\n",
            "  \"max_position_embeddings\": 512,\n",
            "  \"model_type\": \"bert\",\n",
            "  \"num_attention_heads\": 16,\n",
            "  \"num_hidden_layers\": 24,\n",
            "  \"pad_token_id\": 0,\n",
            "  \"position_embedding_type\": \"absolute\",\n",
            "  \"problem_type\": \"single_label_classification\",\n",
            "  \"torch_dtype\": \"float32\",\n",
            "  \"transformers_version\": \"4.17.0\",\n",
            "  \"type_vocab_size\": 2,\n",
            "  \"use_cache\": true,\n",
            "  \"vocab_size\": 30522\n",
            "}\n",
            "\n",
            "loading weights file ./saved_model/pytorch_model.bin\n",
            "All model checkpoint weights were used when initializing BertForSequenceClassification.\n",
            "\n",
            "All the weights of BertForSequenceClassification were initialized from the model checkpoint at ./saved_model.\n",
            "If your task is similar to the task the model of the checkpoint was trained on, you can already use BertForSequenceClassification for predictions without further training.\n",
            "loading configuration file https://huggingface.co/bert-large-uncased-whole-word-masking/resolve/main/config.json from cache at data/86b0883704d931817042e5c354032897e1dd6ccd5c2260bf0f6d4a15a6e5a232.d4d29047141693194a1c377423a9a58b3ffdd39ed177b3a9b2ac9bce9e6638d9\n",
            "Model config BertConfig {\n",
            "  \"_name_or_path\": \"bert-large-uncased-whole-word-masking\",\n",
            "  \"architectures\": [\n",
            "    \"BertForMaskedLM\"\n",
            "  ],\n",
            "  \"attention_probs_dropout_prob\": 0.1,\n",
            "  \"classifier_dropout\": null,\n",
            "  \"hidden_act\": \"gelu\",\n",
            "  \"hidden_dropout_prob\": 0.1,\n",
            "  \"hidden_size\": 1024,\n",
            "  \"initializer_range\": 0.02,\n",
            "  \"intermediate_size\": 4096,\n",
            "  \"layer_norm_eps\": 1e-12,\n",
            "  \"max_length\": 512,\n",
            "  \"max_position_embeddings\": 512,\n",
            "  \"model_type\": \"bert\",\n",
            "  \"num_attention_heads\": 16,\n",
            "  \"num_hidden_layers\": 24,\n",
            "  \"pad_token_id\": 0,\n",
            "  \"position_embedding_type\": \"absolute\",\n",
            "  \"transformers_version\": \"4.17.0\",\n",
            "  \"type_vocab_size\": 2,\n",
            "  \"use_cache\": true,\n",
            "  \"vocab_size\": 30522\n",
            "}\n",
            "\n",
            "loading file https://huggingface.co/bert-large-uncased-whole-word-masking/resolve/main/vocab.txt from cache at data/b6fcd4f8304ce7ce4a5462db5a53616f8464a083bbe20508ea92d5e07229086f.d789d64ebfe299b0e416afc4a169632f903f693095b4629a7ea271d5a0cf2c99\n",
            "loading file https://huggingface.co/bert-large-uncased-whole-word-masking/resolve/main/tokenizer.json from cache at data/33ee0bae279476c742373ecfd5a127d27372fbb9e2f5a84ccb38bbd72775f296.7f2721073f19841be16f41b0a70b600ca6b880c8f3df6f3535cbc704371bdfa4\n",
            "loading file https://huggingface.co/bert-large-uncased-whole-word-masking/resolve/main/added_tokens.json from cache at None\n",
            "loading file https://huggingface.co/bert-large-uncased-whole-word-masking/resolve/main/special_tokens_map.json from cache at None\n",
            "loading file https://huggingface.co/bert-large-uncased-whole-word-masking/resolve/main/tokenizer_config.json from cache at data/2a60ba33fe418e6652d2e5a6a40b189b0d6ca8a6a89e32a22bb5caf8d95982fe.20430bd8e10ef77a7d2977accefe796051e01bc2fc4aa146bc862997a1a15e79\n",
            "loading configuration file https://huggingface.co/bert-large-uncased-whole-word-masking/resolve/main/config.json from cache at data/86b0883704d931817042e5c354032897e1dd6ccd5c2260bf0f6d4a15a6e5a232.d4d29047141693194a1c377423a9a58b3ffdd39ed177b3a9b2ac9bce9e6638d9\n",
            "Model config BertConfig {\n",
            "  \"_name_or_path\": \"bert-large-uncased-whole-word-masking\",\n",
            "  \"architectures\": [\n",
            "    \"BertForMaskedLM\"\n",
            "  ],\n",
            "  \"attention_probs_dropout_prob\": 0.1,\n",
            "  \"classifier_dropout\": null,\n",
            "  \"hidden_act\": \"gelu\",\n",
            "  \"hidden_dropout_prob\": 0.1,\n",
            "  \"hidden_size\": 1024,\n",
            "  \"initializer_range\": 0.02,\n",
            "  \"intermediate_size\": 4096,\n",
            "  \"layer_norm_eps\": 1e-12,\n",
            "  \"max_position_embeddings\": 512,\n",
            "  \"model_type\": \"bert\",\n",
            "  \"num_attention_heads\": 16,\n",
            "  \"num_hidden_layers\": 24,\n",
            "  \"pad_token_id\": 0,\n",
            "  \"position_embedding_type\": \"absolute\",\n",
            "  \"transformers_version\": \"4.17.0\",\n",
            "  \"type_vocab_size\": 2,\n",
            "  \"use_cache\": true,\n",
            "  \"vocab_size\": 30522\n",
            "}\n",
            "\n"
          ]
        }
      ]
    },
    {
      "cell_type": "code",
      "source": [
        "\n",
        "def compute_metrics(pred):\n",
        "    labels = pred.label_ids\n",
        "    preds = pred.predictions.argmax(-1)\n",
        "    precision, recall, f1, _ = precision_recall_fscore_support(labels, preds, average='binary')\n",
        "    acc = accuracy_score(labels, preds)\n",
        "    return {\n",
        "        'accuracy': acc,\n",
        "        'f1': f1,\n",
        "        'precision': precision,\n",
        "        'recall': recall\n",
        "    }"
      ],
      "metadata": {
        "id": "Hcd5fXWtifdi"
      },
      "execution_count": null,
      "outputs": []
    },
    {
      "cell_type": "code",
      "source": [
        "# define the training arguments\n",
        "training_args = TrainingArguments(\n",
        "    output_dir = \"saved\",\n",
        "    num_train_epochs = 4,\n",
        "    per_device_train_batch_size = 8,\n",
        "    gradient_accumulation_steps = 32,    \n",
        "    per_device_eval_batch_size= 16,\n",
        "    evaluation_strategy = \"epoch\",\n",
        "    save_strategy = \"epoch\",\n",
        "    disable_tqdm = False, \n",
        "    load_best_model_at_end=True,\n",
        "    metric_for_best_model='eval_f1',\n",
        "    greater_is_better=True,\n",
        "    warmup_steps=160,\n",
        "    weight_decay=0.01,\n",
        "    logging_steps = 4,\n",
        "    learning_rate = 1e-5,\n",
        "    fp16 = True,\n",
        "    logging_dir='logs',\n",
        "    dataloader_num_workers = 0,\n",
        "#    run_name = 'bigbird_classification_1e5'\n",
        ")\n",
        "# instantiate the trainer class and check for available devices\n",
        "trainer = Trainer(\n",
        "    model=global_data.model,\n",
        "    args=training_args,\n",
        "    compute_metrics=compute_metrics,\n",
        "    # train_dataset=train_data,\n",
        "    # eval_dataset=valid_data\n",
        ")\n",
        "global_data.trainer = trainer\n",
        "trainer = None"
      ],
      "metadata": {
        "colab": {
          "base_uri": "https://localhost:8080/"
        },
        "id": "It9pCujwiMYL",
        "outputId": "21242dd6-047c-402f-8479-68667dd79fef"
      },
      "execution_count": null,
      "outputs": [
        {
          "output_type": "stream",
          "name": "stderr",
          "text": [
            "PyTorch: setting up devices\n",
            "The default value for the training argument `--report_to` will change in v5 (from all installed integrations to none). In v5, you will need to use `--report_to all` to get the same behavior as now. You should start updating your code and make this info disappear :-).\n",
            "Using amp half precision backend\n"
          ]
        }
      ]
    },
    {
      "cell_type": "code",
      "source": [
        "#!gsutil cp gs://w266finalproject/plagA20162017.tar plag2.tar\n",
        "!gsutil cp gs://w266finalproject/plag2.tar plag2.tar\n",
        "!tar xvf plag2.tar\n",
        "!ls -l\n",
        "\n",
        "!mv train2.csv train.csv\n",
        "!mv test2.csv test.csv\n",
        "\n",
        "test_df = pd.read_csv(\"test.csv\")\n",
        "oversample = RandomOverSampler(sampling_strategy='minority',random_state=1234)\n",
        "test_over, y_test_over = oversample.fit_resample(test_df, test_df.plagiarized)\n",
        "print(test_over.plagiarized.value_counts())\n",
        "test_data = datasets.Dataset.from_pandas(test_over)\n",
        "def tokenization(batched_text):\n",
        "    return global_data.tokenizer(batched_text['source0'],batched_text['source1'], padding = 'max_length', truncation=True, max_length = 512)\n",
        "test_data = test_data.map(tokenization, batched = True, batch_size = 256)\n",
        "test_data = test_data.map(lambda examples: {'label': examples['plagiarized']}, batched=True)\n",
        "test_data.set_format(type='torch', columns=['input_ids', 'attention_mask', 'token_type_ids', 'label'])\n",
        "\n",
        "global_data.test = test_data\n",
        "global_data.test_over = test_over\n",
        "test_df = None\n",
        "test_over = None\n",
        "y_test_over = None\n",
        "test_data = None"
      ],
      "metadata": {
        "colab": {
          "base_uri": "https://localhost:8080/",
          "height": 515,
          "referenced_widgets": [
            "62ce777be7d34d5d8ac1d504ee1c7fe6",
            "60c25425d03f4f1bac954020ae32039c",
            "29354bd6d259457887f843c9b55ec14f",
            "8c65f425af274f4d812e6974c3b8edda",
            "b1d9370e368143058ef536e4fb2712d2",
            "f3a877d817bd4ec492ff659a1997ef7f",
            "c0d6f709e4ce49c8b151212ba2dc4999",
            "ff7f1176473046ee9b1e673e57b585dd",
            "e973891f99b24b928053fc21450b1e9c",
            "9e99ebd6f04b44d9acadb9479bb10622",
            "73b0a98244b94df5aaa12411d2ab3b86",
            "3ab1f77fca204c4587b4ca938c038eb7",
            "4a973320919c4cc39bb0b5cda1dae160",
            "c8486a50fc9743e8a693ad8dc2d2b53a",
            "b199fc6a71e945d484381049b9e241b4",
            "70742369b35a4c62a1ded81b3acd79cc",
            "f8ec4d0bf52447b69401b42f6ac47d67",
            "41a23b8f1fc844d799cf9941c137ae73",
            "04724be763b441b89ca16286d2118294",
            "3cd74fdb72f147678c6264096ac45abe",
            "dd2da788927b4bfda43ef8c564ebf7dc",
            "98571417956f4d0386c1e0177ac2755a"
          ]
        },
        "id": "QKr-U1jnkFCP",
        "outputId": "c5fe025e-ad95-4986-d484-2cc4f20a792c"
      },
      "execution_count": null,
      "outputs": [
        {
          "output_type": "stream",
          "name": "stdout",
          "text": [
            "Copying gs://w266finalproject/plag2.tar...\n",
            "- [1 files][ 77.8 MiB/ 77.8 MiB]                                                \n",
            "Operation completed over 1 objects/77.8 MiB.                                     \n",
            "alldata2.csv\n",
            "groundtruth2.csv\n",
            "test2.csv\n",
            "train2.csv\n",
            "total 237868\n",
            "-rw-r--r-- 1 root root       720 Mar 28 01:13 adc.json\n",
            "-rw-r--r-- 1  501 staff  1114619 Mar 16 08:22 alldata2.csv\n",
            "drwxr-xr-x 6 root root      4096 Mar 28 02:32 bert-large-uncased-whole-word-masking03282022_011556_512\n",
            "drwxr-xr-x 2 root root      4096 Mar 28 01:14 data\n",
            "-rw-r--r-- 1  501 staff   203396 Mar 16 08:19 groundtruth2.csv\n",
            "drwxr-xr-x 3 root root      4096 Mar 28 02:34 logs\n",
            "-rw-r--r-- 1 root root  81619968 Mar 28 02:37 plag2.tar\n",
            "drwxr-xr-x 1 root root      4096 Mar 23 14:22 sample_data\n",
            "drwxr-xr-x 2 root root      4096 Mar 28 02:37 saved\n",
            "drwxr-xr-x 2 root root      4096 Mar 28 02:36 saved_model\n",
            "-rw-r--r-- 1  501 staff 15819857 Mar 16 08:22 test2.csv\n",
            "-rw-r--r-- 1  501 staff 15819857 Mar 16 08:22 test.csv\n",
            "-rw-r--r-- 1  501 staff 64478135 Mar 16 08:22 train2.csv\n",
            "-rw-r--r-- 1  501 staff 64478135 Mar 16 08:22 train.csv\n",
            "0    3294\n",
            "1    3294\n",
            "Name: plagiarized, dtype: int64\n"
          ]
        },
        {
          "output_type": "display_data",
          "data": {
            "text/plain": [
              "  0%|          | 0/26 [00:00<?, ?ba/s]"
            ],
            "application/vnd.jupyter.widget-view+json": {
              "version_major": 2,
              "version_minor": 0,
              "model_id": "62ce777be7d34d5d8ac1d504ee1c7fe6"
            }
          },
          "metadata": {}
        },
        {
          "output_type": "display_data",
          "data": {
            "text/plain": [
              "  0%|          | 0/7 [00:00<?, ?ba/s]"
            ],
            "application/vnd.jupyter.widget-view+json": {
              "version_major": 2,
              "version_minor": 0,
              "model_id": "3ab1f77fca204c4587b4ca938c038eb7"
            }
          },
          "metadata": {}
        }
      ]
    },
    {
      "cell_type": "code",
      "source": [
        "predictions = global_data.trainer.predict(global_data.test)\n",
        "pprint.pprint(predictions.metrics)"
      ],
      "metadata": {
        "colab": {
          "base_uri": "https://localhost:8080/",
          "height": 265
        },
        "id": "xIdjWNY0lw2C",
        "outputId": "15872a99-ee1b-426d-aad1-60a72a3e6f3c"
      },
      "execution_count": null,
      "outputs": [
        {
          "output_type": "stream",
          "name": "stderr",
          "text": [
            "The following columns in the test set  don't have a corresponding argument in `BertForSequenceClassification.forward` and have been ignored: lines, percent0, percent1, filename0, percent, source0, plagiarized, filename1, source1. If lines, percent0, percent1, filename0, percent, source0, plagiarized, filename1, source1 are not expected by `BertForSequenceClassification.forward`,  you can safely ignore this message.\n",
            "***** Running Prediction *****\n",
            "  Num examples = 6588\n",
            "  Batch size = 16\n"
          ]
        },
        {
          "output_type": "display_data",
          "data": {
            "text/plain": [
              "<IPython.core.display.HTML object>"
            ],
            "text/html": [
              "\n",
              "    <div>\n",
              "      \n",
              "      <progress value='412' max='412' style='width:300px; height:20px; vertical-align: middle;'></progress>\n",
              "      [412/412 01:16]\n",
              "    </div>\n",
              "    "
            ]
          },
          "metadata": {}
        },
        {
          "output_type": "stream",
          "name": "stdout",
          "text": [
            "{'test_accuracy': 0.8193685488767456,\n",
            " 'test_f1': 0.8035006605019814,\n",
            " 'test_loss': 0.6027801036834717,\n",
            " 'test_precision': 0.8808834178131788,\n",
            " 'test_recall': 0.738615664845173,\n",
            " 'test_runtime': 76.3557,\n",
            " 'test_samples_per_second': 86.28,\n",
            " 'test_steps_per_second': 5.396}\n"
          ]
        }
      ]
    },
    {
      "cell_type": "code",
      "source": [
        "preds = np.argmax(predictions.predictions, axis=-1)\n",
        "print(preds)"
      ],
      "metadata": {
        "colab": {
          "base_uri": "https://localhost:8080/"
        },
        "id": "b80mWm07scT0",
        "outputId": "3aa607c8-627e-4e03-c5e5-b835038ff8cb"
      },
      "execution_count": null,
      "outputs": [
        {
          "output_type": "stream",
          "name": "stdout",
          "text": [
            "[0 0 0 ... 0 1 1]\n"
          ]
        }
      ]
    },
    {
      "cell_type": "code",
      "source": [
        "\n",
        "print(confusion_matrix(preds, predictions.label_ids))\n",
        "\n",
        "tn, fp, fn, tp = confusion_matrix(preds, predictions.label_ids).ravel()\n",
        "print(tn,fp,fn,tp)\n",
        "\n",
        "\n"
      ],
      "metadata": {
        "colab": {
          "base_uri": "https://localhost:8080/"
        },
        "id": "ISHHrnC4wxNi",
        "outputId": "75abc7ad-63ec-4862-c419-87a7cbf7b61e"
      },
      "execution_count": null,
      "outputs": [
        {
          "output_type": "stream",
          "name": "stdout",
          "text": [
            "[[2965  861]\n",
            " [ 329 2433]]\n",
            "2965 861 329 2433\n"
          ]
        }
      ]
    },
    {
      "cell_type": "code",
      "source": [
        "print(global_data.test['source0'])"
      ],
      "metadata": {
        "colab": {
          "base_uri": "https://localhost:8080/"
        },
        "id": "BZkqjZfAVPDl",
        "outputId": "812b6b50-1d2b-4590-ea48-8b59b9cd3e87"
      },
      "execution_count": null,
      "outputs": [
        {
          "output_type": "stream",
          "name": "stderr",
          "text": [
            "IOPub data rate exceeded.\n",
            "The notebook server will temporarily stop sending output\n",
            "to the client in order to avoid crashing it.\n",
            "To change this limit, set the config variable\n",
            "`--NotebookApp.iopub_data_rate_limit`.\n",
            "\n",
            "Current values:\n",
            "NotebookApp.iopub_data_rate_limit=1000000.0 (bytes/sec)\n",
            "NotebookApp.rate_limit_window=3.0 (secs)\n",
            "\n"
          ]
        }
      ]
    },
    {
      "cell_type": "code",
      "source": [
        "sourcefalsepos = global_data.test_over[np.logical_and(preds == 1,predictions.label_ids==0)][['source0','source1','filename0','filename1']]"
      ],
      "metadata": {
        "id": "ARjoAMr_CAWe"
      },
      "execution_count": null,
      "outputs": []
    },
    {
      "cell_type": "code",
      "source": [
        "pp = pprint.PrettyPrinter(depth=6)"
      ],
      "metadata": {
        "id": "8Yzof6FhB5tV"
      },
      "execution_count": null,
      "outputs": []
    },
    {
      "cell_type": "code",
      "source": [
        "print(sourcefalsepos[['filename0','filename1']].iloc[0])"
      ],
      "metadata": {
        "colab": {
          "base_uri": "https://localhost:8080/"
        },
        "id": "j4M3lvNHQfsk",
        "outputId": "975c6958-a281-459b-a4fc-9ec46b49482a"
      },
      "execution_count": null,
      "outputs": [
        {
          "output_type": "stream",
          "name": "stdout",
          "text": [
            "filename0    A2016/Z1/Z4/student5611\n",
            "filename1    A2016/Z1/Z4/student2967\n",
            "Name: 25, dtype: object\n"
          ]
        }
      ]
    },
    {
      "cell_type": "code",
      "source": [
        "pp.pprint(sourcefalsepos['source0'].iloc[0])"
      ],
      "metadata": {
        "colab": {
          "base_uri": "https://localhost:8080/"
        },
        "id": "4BtFjwYw3KcD",
        "outputId": "ba7baba8-56a9-437f-f5a5-b906d8fa01c3"
      },
      "execution_count": null,
      "outputs": [
        {
          "output_type": "stream",
          "name": "stdout",
          "text": [
            "('#include <stdio.h>\\n'\n",
            " '\\n'\n",
            " 'int main() {\\n'\n",
            " '\\tint n,i,j;\\n'\n",
            " '\\t\\n'\n",
            " '\\tprintf(\"Unesite broj n: \");\\n'\n",
            " '\\tscanf(\"%d\",&n);\\n'\n",
            " '\\t\\n'\n",
            " '\\tif(n<=0 || n>50){\\n'\n",
            " '\\t\\tprintf(\"Pogresan unos\");\\n'\n",
            " '\\t\\tprintf(\"\\\\nUnesite broj n: \");\\n'\n",
            " '\\t\\tscanf(\"%d\",&n);\\n'\n",
            " '\\t\\tif(n<=0 || n>50){\\n'\n",
            " '\\t\\t\\tprintf(\"Pogresan unos\");\\n'\n",
            " '\\t\\t\\tprintf(\"\\\\nUnesite broj n: \");\\n'\n",
            " '\\t\\t\\tscanf(\"%d\",&n);\\n'\n",
            " '\\t\\t\\tif(n<=0 || n>50){\\n'\n",
            " '\\t\\t\\t\\tprintf(\"Pogresan unos\");\\n'\n",
            " '\\t\\t\\t\\tprintf(\"\\\\nUnesite broj n: \");\\n'\n",
            " '\\t\\t\\t\\tscanf(\"%d\",&n);\\n'\n",
            " '\\t\\t\\t\\tif(n<=0 || n>50){\\n'\n",
            " '\\t\\t\\t\\t\\tprintf(\"Pogresan unos\");\\n'\n",
            " '\\t\\t\\t\\t\\tprintf(\"\\\\nUnesite broj n: \");\\n'\n",
            " '\\t\\t\\t\\t\\tscanf(\"%d\",&n);\\n'\n",
            " '\\t\\t\\t\\t\\tif(n<=0 || n>50){\\n'\n",
            " '\\t\\t\\t\\t\\t\\tprintf(\"Pogresan unos\");\\n'\n",
            " '\\t\\t\\t\\t\\t\\tprintf(\"\\\\nUnesite broj n: \");\\n'\n",
            " '\\t\\t\\t\\t\\t\\tscanf(\"%d\",&n);\\n'\n",
            " '\\t\\t\\t\\t\\t}\\n'\n",
            " '\\t\\t\\t\\t}\\n'\n",
            " '\\t\\t\\t}\\n'\n",
            " '\\t\\t}\\n'\n",
            " '\\t\\t\\n'\n",
            " '\\t}\\n'\n",
            " '\\tfor(i=0; i<=n-1; i++){\\n'\n",
            " '\\t\\tfor(j=0; j<=(n-1)*4; j++){\\n'\n",
            " '\\t\\t\\tif(n==j+i-(n-2) || n==j-i-(n-2) || ((i+j)%2==0 && n==(i+j)/2-(n-2)) || '\n",
            " 'j==i){\\n'\n",
            " '\\t\\t\\t\\tprintf(\"*\");\\n'\n",
            " '\\t\\t\\t}\\n'\n",
            " '\\t\\t\\telse{\\n'\n",
            " '\\t\\t\\t\\tprintf(\" \");\\n'\n",
            " '\\t\\t\\t}\\n'\n",
            " '\\t\\t}\\n'\n",
            " '\\t\\tprintf(\"\\\\n\");\\n'\n",
            " '\\t}\\n'\n",
            " '\\treturn 0;\\n'\n",
            " '}\\n')\n"
          ]
        }
      ]
    },
    {
      "cell_type": "code",
      "source": [
        "pp.pprint(sourcefalsepos['source1'].iloc[0])"
      ],
      "metadata": {
        "colab": {
          "base_uri": "https://localhost:8080/"
        },
        "id": "kA4JRy1p3AmW",
        "outputId": "2d8161cc-4394-4892-cb34-b999bb791837"
      },
      "execution_count": null,
      "outputs": [
        {
          "output_type": "stream",
          "name": "stdout",
          "text": [
            "('#include <stdio.h>\\n'\n",
            " '\\n'\n",
            " 'int main() {\\n'\n",
            " '\\tint n,i,j;\\n'\n",
            " '\\t\\n'\n",
            " '\\tprintf(\"Unesite broj n: \");\\n'\n",
            " '\\tscanf(\"%d\",&n);\\n'\n",
            " '\\t\\n'\n",
            " '\\tif(n<=0 || n>50){\\n'\n",
            " '\\t\\tprintf(\"Pogresan unos\");\\n'\n",
            " '\\t\\tprintf(\"\\\\nUnesite broj n: \");\\n'\n",
            " '\\t\\tscanf(\"%d\",&n);\\n'\n",
            " '\\t\\tif(n<=0 || n>50){\\n'\n",
            " '\\t\\t\\tprintf(\"Pogresan unos\");\\n'\n",
            " '\\t\\t\\tprintf(\"\\\\nUnesite broj n: \");\\n'\n",
            " '\\t\\t\\tscanf(\"%d\",&n);\\n'\n",
            " '\\t\\t\\tif(n<=0 || n>50){\\n'\n",
            " '\\t\\t\\t\\tprintf(\"Pogresan unos\");\\n'\n",
            " '\\t\\t\\t\\tprintf(\"\\\\nUnesite broj n: \");\\n'\n",
            " '\\t\\t\\t\\tscanf(\"%d\",&n);\\n'\n",
            " '\\t\\t\\t\\tif(n<=0 || n>50){\\n'\n",
            " '\\t\\t\\t\\t\\tprintf(\"Pogresan unos\");\\n'\n",
            " '\\t\\t\\t\\t\\tprintf(\"\\\\nUnesite broj n: \");\\n'\n",
            " '\\t\\t\\t\\t\\tscanf(\"%d\",&n);\\n'\n",
            " '\\t\\t\\t\\t\\tif(n<=0 || n>50){\\n'\n",
            " '\\t\\t\\t\\t\\t\\tprintf(\"Pogresan unos\");\\n'\n",
            " '\\t\\t\\t\\t\\t\\tprintf(\"\\\\nUnesite broj n: \");\\n'\n",
            " '\\t\\t\\t\\t\\t\\tscanf(\"%d\",&n);\\n'\n",
            " '\\t\\t\\t\\t\\t\\tif(n<=0 || n>50){\\n'\n",
            " '\\t\\t\\t\\t\\t\\t\\tprintf(\"Pogresan unos\");\\n'\n",
            " '\\t\\t\\t\\t\\t\\t\\tprintf(\"\\\\nUnesite broj n: \");\\n'\n",
            " '\\t\\t\\t\\t\\t\\t\\tscanf(\"%d\",&n);\\n'\n",
            " '\\t\\t\\t\\t\\t\\t}\\n'\n",
            " '\\t\\t\\t\\t\\t}\\n'\n",
            " '\\t\\t\\t\\t}\\n'\n",
            " '\\t\\t\\t}\\n'\n",
            " '\\t\\t}\\n'\n",
            " '\\t}\\n'\n",
            " '\\tif(n==1){\\n'\n",
            " '\\t\\tfor(i=0; i<n; i++){\\n'\n",
            " '\\t\\t\\tfor(j=0; j<3; j++){\\n'\n",
            " '\\t\\t\\t\\tprintf(\"*\");\\n'\n",
            " '\\t\\t\\t}\\n'\n",
            " '\\t\\t}\\n'\n",
            " '\\t}\\n'\n",
            " '\\telse{\\n'\n",
            " '\\t\\tfor(i=0; i<n; i++){\\n'\n",
            " '\\t\\t\\tfor(j=0; j<=(n-1)*4; j++){\\n'\n",
            " '\\t\\t\\t\\tif(i==j || n==i+j-(n-2) || n==j-i-(n-2) || (n==(i+j)/2-(n-2) && '\n",
            " '(i+j)%2==0)){\\n'\n",
            " '\\t\\t\\t\\t\\tprintf(\"*\");\\n'\n",
            " '\\t\\t\\t\\t}\\n'\n",
            " '\\t\\t\\t\\telse{\\n'\n",
            " '\\t\\t\\t\\t\\tprintf(\" \");\\n'\n",
            " '\\t\\t\\t\\t}\\n'\n",
            " '\\t\\t\\t}\\n'\n",
            " '\\t\\t\\tprintf(\"\\\\n\");\\n'\n",
            " '\\t\\t}\\n'\n",
            " '\\t}\\n'\n",
            " '\\treturn 0;\\n'\n",
            " '\\n'\n",
            " '}\\n')\n"
          ]
        }
      ]
    },
    {
      "cell_type": "code",
      "source": [
        ""
      ],
      "metadata": {
        "id": "pNY01gLp4jdD"
      },
      "execution_count": null,
      "outputs": []
    },
    {
      "cell_type": "code",
      "source": [
        "sourcefalseneg = global_data.test_over[np.logical_and(preds == 0,predictions.label_ids==1)][['source0','source1']]"
      ],
      "metadata": {
        "id": "e2SdY9IK7rJK"
      },
      "execution_count": null,
      "outputs": []
    },
    {
      "cell_type": "code",
      "source": [
        "pp.pprint(sourcefalseneg['source0'].iloc[2])"
      ],
      "metadata": {
        "colab": {
          "base_uri": "https://localhost:8080/"
        },
        "id": "bed7Masu75Nt",
        "outputId": "549dfa72-3107-4107-ea5f-1cdd8f753329"
      },
      "execution_count": null,
      "outputs": [
        {
          "output_type": "stream",
          "name": "stdout",
          "text": [
            "('#include <stdio.h>\\n'\n",
            " '\\n'\n",
            " 'int main() {\\n'\n",
            " '\\tint M, N, i, j, z, k, w, p, r, b, t, d, x, c, a, h, niz[200], niz2[200], '\n",
            " 'niz3[200];\\n'\n",
            " '\\tint matrica[200][200];\\n'\n",
            " '\\n'\n",
            " '\\tdo //unos dimenzija matrice i provjera \\n'\n",
            " '\\t{\\n'\n",
            " '\\tprintf(\"Unesite brojeve M i N: \");\\n'\n",
            " '\\tscanf(\"%d %d\", &M, &N);\\n'\n",
            " '\\tif(M<=0 || N<=0 || M>200 || N>200) printf(\"Brojevi nisu u trazenom '\n",
            " 'opsegu.\\\\n\");\\n'\n",
            " '\\t\\t\\n'\n",
            " '\\t} while(M<=0 || N<=0 || M>200 || N>200);\\n'\n",
            " '\\t\\n'\n",
            " '\\t//unos matrice \\n'\n",
            " '\\tprintf(\"Unesite elemente matrice: \");\\n'\n",
            " '\\tfor(i=0; i<M; i++) \\n'\n",
            " '\\t{\\n'\n",
            " '\\t\\tfor(j=0; j<N; j++)\\n'\n",
            " '\\t\\t{\\n'\n",
            " '\\t\\t\\tscanf(\"%d\", &matrica[i][j]);\\n'\n",
            " '\\t\\t}\\n'\n",
            " '\\t}\\n'\n",
            " '\\t\\n'\n",
            " '\\tfor(i=0; i<M; i++)\\n'\n",
            " '\\t{\\n'\n",
            " '\\n'\n",
            " '\\t\\t\\n'\n",
            " '\\t\\tfor(j=0; j<N; j++)\\n'\n",
            " '\\t\\t{\\n'\n",
            " '\\t\\t\\tniz[j]=matrica[i][j]; \\n'\n",
            " '\\t\\t}\\n'\n",
            " '\\t\\t\\n'\n",
            " '\\t\\n'\n",
            " '\\n'\n",
            " '\\t\\tfor(t=i+1; t<M; t++)\\n'\n",
            " '\\t\\t{\\n'\n",
            " '\\t\\t\\tniz2[t]=1;\\n'\n",
            " '\\t\\t}\\n'\n",
            " '\\t\\tfor(z=i+1; z<M; z++)\\n'\n",
            " '\\t\\t{\\n'\n",
            " '\\t\\t\\tfor(k=0; k<N; k++)\\n'\n",
            " '\\t\\t\\t{\\n'\n",
            " '\\t\\t\\t\\tif(niz[k]!=matrica[z][k]) //provjeravamo svaki clan niza da li je '\n",
            " 'jednak clanu matrice i ako nije dodjeljujemo mu vrijednost nula umjesto '\n",
            " 'jedinice \\n'\n",
            " '\\t\\t\\t\\t{\\n'\n",
            " '\\t\\t\\t\\t\\tniz2[z]=0;\\n'\n",
            " '\\t\\t\\t\\t}\\n'\n",
            " '\\n'\n",
            " '\\t\\t\\t\\t\\n'\n",
            " '\\t\\t\\t}\\n'\n",
            " '\\t\\t}\\n'\n",
            " '\\n'\n",
            " '\\t\\t\\n'\n",
            " '\\tint ch=0; //broj promijenjenih \\n'\n",
            " '\\t\\tfor(w=i+1; w<M; w++)\\n'\n",
            " '\\t\\t{\\n'\n",
            " '\\t\\t\\tif(niz2[w]==1) //ako su svi elementi isti \\n'\n",
            " '\\t\\t\\t{\\n'\n",
            " '\\t\\t\\t\\tif(ch>0) i++;\\n'\n",
            " '\\t\\t\\t\\tch++;\\n'\n",
            " '\\t\\t\\t\\tfor(r=w; r<M-1; r++)\\n'\n",
            " '\\t\\t\\t\\t{\\n'\n",
            " '\\t\\t\\t\\t\\tfor(p=0; p<N; p++)\\n'\n",
            " '\\t\\t\\t\\t\\t{\\n'\n",
            " '\\t\\t\\t\\t\\t\\tmatrica[r][p]=matrica[r+1][p]; //izbacivanje reda matrice tako '\n",
            " 'sto prepisemo naredni u taj koji zelimo izbaciti \\n'\n",
            " '\\t\\t\\t\\t\\t}\\n'\n",
            " '\\t\\t\\t\\tniz2[r]=niz2[r+1];\\t\\n'\n",
            " '\\t\\t\\t\\t}\\n'\n",
            " '\\t\\t\\t\\n'\n",
            " '\\t\\t\\tM--; //smanjuje se dimenzija jer smo izbacili red \\n'\n",
            " '\\t\\t\\ti--; //smanjuje se broj indeksa takodjer zbog izbacivanja \\n'\n",
            " '\\t\\t\\t}\\n'\n",
            " '\\t\\t}\\n'\n",
            " '\\t}\\n'\n",
            " '\\t\\n'\n",
            " '//provjera kolona na isti nacin kao sto smo provjeravali i redove \\n'\n",
            " 'for(j=0; j<N; j++)\\n'\n",
            " '{\\n'\n",
            " '\\t\\t\\n'\n",
            " '\\t\\tfor(i=0; i<M; i++)\\n'\n",
            " '\\t\\t{\\n'\n",
            " '\\t\\t\\tniz[i]=matrica[i][j];\\n'\n",
            " '\\t\\t}\\n'\n",
            " '\\t\\t\\n'\n",
            " '\\t\\n'\n",
            " '\\t\\t\\n'\n",
            " '\\t\\tfor(h=j+1; h<N; h++)\\n'\n",
            " '\\t\\t{\\n'\n",
            " '\\t\\t\\tniz3[h]=1; //niz jedinica koji cemo po potrebi prebacivati u nule '\n",
            " 'nakon provjere da li su clanovi isti \\n'\n",
            " '\\t\\t}\\n'\n",
            " '\\t\\t\\n'\n",
            " '\\t\\n'\n",
            " '\\t\\n'\n",
            " '\\t    for(a=j+1; a<N; a++)\\n'\n",
            " '\\t    {\\n'\n",
            " '\\t\\tfor(b=0; b<M; b++)\\n'\n",
            " '\\t\\t{\\n'\n",
            " '\\t\\t\\tif(niz[b]!=matrica[b][a]) //da li je clan niza jednak clanu matrice \\n'\n",
            " '\\t\\t\\t{\\n'\n",
            " '\\t\\t\\t\\tniz3[a]=0; //umjesto jedinica u nizu smo stavili nule jer clanovi '\n",
            " 'nisu isti \\n'\n",
            " '\\t\\t\\t}\\n'\n",
            " '\\t\\t}\\n'\n",
            " '\\t    }\\n'\n",
            " '\\tint ch=0;\\n'\n",
            " '\\tfor(x=1+j; x<N; x++)\\n'\n",
            " '\\t{\\n'\n",
            " '\\t\\tif(niz3[x]==1)\\n'\n",
            " '\\t\\t{\\n'\n",
            " '\\t\\t\\tif(ch>0) j++;\\n'\n",
            " '\\t\\t\\tch++;\\n'\n",
            " '\\t\\t\\t\\n'\n",
            " '\\t\\t\\tfor(d=x; d<N-1; d++)\\n'\n",
            " '\\t\\t\\t{\\n'\n",
            " '\\t\\t\\t\\tfor(c=0; c<M; c++)\\n'\n",
            " '\\t\\t\\t\\t{\\n'\n",
            " '\\t\\t\\t\\t\\tmatrica[c][d]=matrica[c][d+1]; //prepisivanje naredne kolone u '\n",
            " 'prethodnu \\n'\n",
            " '\\t\\t\\t\\t}\\n'\n",
            " '\\t\\t\\t\\tniz3[d]=niz3[d+1];\\n'\n",
            " '\\t\\t\\t}\\n'\n",
            " '\\t\\t\\tN--; //smanjenje dimenzije kolona matrice \\n'\n",
            " '\\t\\t\\tj--; //smanjenje indeksa kolone \\n'\n",
            " '\\t\\t}\\n'\n",
            " '\\t}\\n'\n",
            " '}\\n'\n",
            " '\\t\\n'\n",
            " '\\t\\n'\n",
            " '\\tprintf(\"Nakon izbacivanja redova/kolona matrica glasi: \\\\n\");\\n'\n",
            " '\\tfor(i=0; i<M; i++)\\n'\n",
            " '\\t{\\n'\n",
            " '\\t\\tfor(j=0; j<N; j++)\\n'\n",
            " '\\t\\t{\\n'\n",
            " '\\t\\t\\tprintf(\"%5d\", matrica[i][j]); //ispis matrice nakon izbacivanja sa 5 '\n",
            " 'mjesta rezervisanih u memoriji \\n'\n",
            " '\\t\\t}\\n'\n",
            " '\\t\\tprintf (\"\\\\n\"); //nakon svakog ispisanog reda matrice prebacujemo u novi '\n",
            " 'red \\n'\n",
            " '\\t}\\n'\n",
            " '\\t\\n'\n",
            " '\\t\\n'\n",
            " '\\t\\n'\n",
            " '\\t\\n'\n",
            " '\\t\\n'\n",
            " '\\t\\n'\n",
            " '\\t\\n'\n",
            " '\\treturn 0;\\n'\n",
            " '\\t\\n'\n",
            " '\\t\\n'\n",
            " '}\\n')\n"
          ]
        }
      ]
    },
    {
      "cell_type": "code",
      "source": [
        "pp.pprint(sourcefalseneg['source1'].iloc[2])"
      ],
      "metadata": {
        "colab": {
          "base_uri": "https://localhost:8080/"
        },
        "id": "hjIIuR0T79hO",
        "outputId": "ed751d71-970e-4645-9af9-1fbcb3f4813a"
      },
      "execution_count": null,
      "outputs": [
        {
          "output_type": "stream",
          "name": "stdout",
          "text": [
            "('#include <stdio.h>\\n'\n",
            " '\\n'\n",
            " 'int main() {\\n'\n",
            " '\\tint M=1,N=1;\\n'\n",
            " '\\tint i,j,k,m,n,p,q,g,h,a,b,x,d,e;\\n'\n",
            " '\\tint matrica[200][200];\\n'\n",
            " '\\tint red1[200],red2[200],red3[200]; \\n'\n",
            " '\\t/* uvodjenje pomocnih redova radi kasnijeg poredjenja sa matricom */\\n'\n",
            " '\\t\\n'\n",
            " '\\tdo{\\n'\n",
            " '\\t\\tprintf(\"Unesite brojeve M i N: \");\\n'\n",
            " '\\t\\tscanf(\"%d %d\",&M,&N);\\n'\n",
            " '\\t\\tif(M<=0 || N<=0 || M>200 || N>200)\\n'\n",
            " '\\t\\tprintf(\"Brojevi nisu u trazenom opsegu.\\\\n\");\\n'\n",
            " '\\t}while(M<=0 || M>200 || N<=0 || N>200);\\n'\n",
            " '\\tprintf(\"Unesite elemente matrice: \");\\n'\n",
            " '\\tfor(i=0;i<M;i++)\\n'\n",
            " '\\t{\\n'\n",
            " '\\t\\tfor(j=0;j<N;j++)\\n'\n",
            " '\\t\\t{\\n'\n",
            " '\\t\\t\\tscanf(\"%d\",&matrica[i][j]);\\n'\n",
            " '\\t\\t}\\n'\n",
            " '\\t}\\n'\n",
            " '\\tfor(i=0;i<M;i++)\\n'\n",
            " '\\t{\\n'\n",
            " '\\t\\tfor(j=0;j<N;j++)\\n'\n",
            " '\\t\\t\\t{\\n'\n",
            " '\\t\\t\\t\\tred1[j]=matrica[i][j];\\n'\n",
            " '\\t\\t\\t}\\n'\n",
            " '\\t\\t\\t/* sve jedinice, svi elementi jedne vrste jednaki elementima druge '\n",
            " 'vrste */\\n'\n",
            " '\\t\\tfor(k=i+1;k<M;k++)\\n'\n",
            " '\\t\\t{\\n'\n",
            " '\\t\\t\\tred2[k]=1;\\n'\n",
            " '\\t\\t}\\n'\n",
            " '\\t\\tfor(m=i+1;m<M;m++)\\n'\n",
            " '\\t\\t{\\n'\n",
            " '\\t\\t\\tfor(n=0;n<N;n++)\\n'\n",
            " '\\t\\t\\t{\\n'\n",
            " '\\t\\t\\t\\tif(red1[n]!=matrica[m][n])\\n'\n",
            " '\\t\\t\\t\\tred2[m]=0;\\n'\n",
            " '\\t\\t\\t\\t/* ukoliko red nije jednak redu matrice vraca na nulu */\\n'\n",
            " '\\t\\t\\t}\\n'\n",
            " '\\t\\t}\\n'\n",
            " '\\t\\t\\n'\n",
            " '\\t\\tint c=0; \\n'\n",
            " '\\t\\tfor(p=i+1;p<M;p++)\\n'\n",
            " '\\t\\t{\\n'\n",
            " '\\t\\t\\tif(red2[p]==1)\\n'\n",
            " '\\t\\t\\t{\\n'\n",
            " '\\t\\t\\t\\tif(c>0)\\n'\n",
            " '\\t\\t\\t\\ti++;\\n'\n",
            " '\\t\\t\\t\\tc++;\\n'\n",
            " '\\t\\t\\tfor(q=p;q<M-1;q++)\\n'\n",
            " '\\t\\t\\t{\\n'\n",
            " '\\t\\t\\t\\tfor(g=0;g<N;g++)\\n'\n",
            " '\\t\\t\\t\\t{\\n'\n",
            " '\\t\\t\\t\\t\\tmatrica[q][g]=matrica[q+1][g];  /* izbacuje vrstu */\\n'\n",
            " '\\t\\t\\t\\t}\\n'\n",
            " '\\t\\t\\t\\tred2[q]=red2[q+1];\\n'\n",
            " '\\t\\t\\t}\\n'\n",
            " '\\t\\t\\tM--; /*smanjuje se dimenzija matrice */\\n'\n",
            " '\\t\\t\\ti--; /* smanjuje se broj indeksa u redu*/\\n'\n",
            " '\\t\\t}\\n'\n",
            " '\\t\\t}\\n'\n",
            " '\\t}\\n'\n",
            " '\\t/* provjera kolona analogno vrstama */\\n'\n",
            " '\\tfor(j=0;j<N;j++)\\n'\n",
            " '\\t{\\n'\n",
            " '\\t\\tfor(i=0;i<M;i++)\\n'\n",
            " '\\t\\t{\\n'\n",
            " '\\t\\t\\tred1[i]=matrica[i][j];\\n'\n",
            " '\\t\\t}\\n'\n",
            " '\\t\\tfor(h=j+1;h<N;h++)\\n'\n",
            " '\\t\\t{\\n'\n",
            " '\\t\\t\\tred3[h]=1;\\n'\n",
            " '\\t\\t}\\n'\n",
            " '\\t\\t\\n'\n",
            " '\\t\\tfor(a=j+1;a<N;a++)\\n'\n",
            " '\\t\\t{\\n'\n",
            " '\\t\\t\\tfor(b=0;b<M;b++)\\n'\n",
            " '\\t\\t\\t{\\n'\n",
            " '\\t\\t\\t\\tif(red1[b]!=matrica[b][a])\\n'\n",
            " '\\t\\t\\t\\tred3[a]=0;\\n'\n",
            " '\\t\\t\\t}\\n'\n",
            " '\\t\\t}\\n'\n",
            " '\\t\\n'\n",
            " '\\tint c=0;\\n'\n",
            " '\\tfor(x=1+j;x<N;x++)\\n'\n",
            " '\\t{\\n'\n",
            " '\\t\\tif(red3[x]==1)\\n'\n",
            " '\\t\\t{\\n'\n",
            " '\\t\\t\\tif(c>0)\\n'\n",
            " '\\t\\t\\tj++;\\n'\n",
            " '\\t\\t\\tc++;\\n'\n",
            " '\\t\\tfor(d=x;d<N-1;d++)\\n'\n",
            " '\\t\\t{\\n'\n",
            " '\\t\\t\\tfor(e=0;e<M;e++)\\n'\n",
            " '\\t\\t\\t{\\n'\n",
            " '\\t\\t\\t\\tmatrica[e][d]=matrica[e][d+1]; /*izbacivanje kolona*/\\n'\n",
            " '\\t\\t\\t}\\n'\n",
            " '\\t\\t\\tred3[d]=red3[d+1];\\n'\n",
            " '\\t\\t}\\n'\n",
            " '\\t\\t\\tN--; /*smanjenje broja kolona */\\n'\n",
            " '\\t\\t\\tj--; /* smanjenje broja indeksa u koloni*/\\n'\n",
            " '\\t\\t}\\n'\n",
            " '\\t}\\n'\n",
            " '}\\n'\n",
            " '\\t\\t\\n'\n",
            " '\\t\\t\\n'\n",
            " '\\tprintf(\"Nakon izbacivanja redova/kolona matrica glasi: \\\\n\");\\n'\n",
            " '\\tfor(i=0;i<M;i++)\\n'\n",
            " '\\t{\\n'\n",
            " '\\t\\tfor(j=0;j<N;j++)\\n'\n",
            " '\\t\\t{\\n'\n",
            " '\\t\\t\\tprintf(\"%5d\",matrica[i][j]);\\n'\n",
            " '\\t\\t}\\n'\n",
            " '\\t\\tprintf(\"\\\\n\");\\n'\n",
            " '\\t}\\n'\n",
            " '\\treturn 0;\\n'\n",
            " '}\\n')\n"
          ]
        }
      ]
    },
    {
      "cell_type": "code",
      "source": [
        "sourcetruepos = global_data.test_over[np.logical_and(preds == 1,predictions.label_ids==1)][['source0','source1']]"
      ],
      "metadata": {
        "id": "63gWex9e9EyU"
      },
      "execution_count": null,
      "outputs": []
    },
    {
      "cell_type": "code",
      "source": [
        "pp.pprint(sourcetruepos['source0'].iloc[0])"
      ],
      "metadata": {
        "colab": {
          "base_uri": "https://localhost:8080/"
        },
        "id": "yLJ2cJ_9BGsP",
        "outputId": "e56ae36f-9dcd-459a-f02d-020d7ac363b3"
      },
      "execution_count": null,
      "outputs": [
        {
          "output_type": "stream",
          "name": "stdout",
          "text": [
            "('#include <stdio.h>\\n'\n",
            " '#include <math.h>\\n'\n",
            " '#define PI 3.1415926\\n'\n",
            " '#include<stdlib.h>\\n'\n",
            " '\\n'\n",
            " 'int main() {\\n'\n",
            " '    double rad[500];\\n'\n",
            " '    double stepen;\\n'\n",
            " '    double minuta;\\n'\n",
            " '    double sekunda;\\n'\n",
            " '    double ugao;\\n'\n",
            " '    int x, i, j;\\n'\n",
            " '    printf(\"Unesite broj uglova: \");\\n'\n",
            " '    scanf(\"%d\", &x);\\n'\n",
            " '    for (i = 0; i < x; i++){\\n'\n",
            " '        scanf(\"%lf\", &rad[i]);\\n'\n",
            " '    }\\n'\n",
            " '    for(i = 0; i < x; i++){\\n'\n",
            " '    ugao = fabs((rad[i]*180)/PI); minuta = (ugao - (int)ugao)*60;\\n'\n",
            " '    sekunda = round((minuta - (int)minuta)*60);\\n'\n",
            " '    /*Algoritam za izbacivanje clanove iz niza uz ocuvanje redoslijeda*/\\n'\n",
            " '    if (sekunda == 60){\\n'\n",
            " '        sekunda = 0;\\n'\n",
            " '        minuta++;\\n'\n",
            " '    }\\n'\n",
            " '    if (sekunda > 30){\\n'\n",
            " '        for(j = i; j < x - 1; j++){\\n'\n",
            " '            rad[j] = rad[j+1];\\n'\n",
            " '        }\\n'\n",
            " '        i--;\\n'\n",
            " '        x--;\\n'\n",
            " '    }\\n'\n",
            " '    }\\n'\n",
            " '    printf(\"Uglovi su:\\\\n\");\\n'\n",
            " '    for(i = 0; i < x; i++){\\n'\n",
            " '        ugao = (rad[i]*180)/PI;\\n'\n",
            " '        minuta = fabs((ugao - (int)ugao)*60);\\n'\n",
            " '        sekunda = round((minuta - (int)minuta)*60);\\n'\n",
            " '        stepen = (int)ugao;\\n'\n",
            " '        sekunda = round(sekunda);\\n'\n",
            " '        minuta = (int)minuta;\\n'\n",
            " '        if(stepen < 0){\\n'\n",
            " '            if(sekunda == 60){\\n'\n",
            " '                sekunda = 0;\\n'\n",
            " '                minuta++;\\n'\n",
            " '            }if (minuta == 60){\\n'\n",
            " '                minuta = 0;\\n'\n",
            " '                stepen--;\\n'\n",
            " '            }\\n'\n",
            " '        }\\n'\n",
            " '        if(stepen >= 0){\\n'\n",
            " '            if (sekunda == 60){\\n'\n",
            " '                sekunda = 0;\\n'\n",
            " '                minuta++;\\n'\n",
            " '            }if (minuta == 60){\\n'\n",
            " '                minuta = 0;\\n'\n",
            " '                stepen++;\\n'\n",
            " '            }\\n'\n",
            " '        }\\n'\n",
            " '        printf(\"%.f stepeni %.f minuta %.f sekundi\\\\n\", stepen, minuta, '\n",
            " 'sekunda);\\n'\n",
            " '    }\\n'\n",
            " '    return 0;\\n'\n",
            " '}   \\n'\n",
            " '\\n')\n"
          ]
        }
      ]
    },
    {
      "cell_type": "code",
      "source": [
        "pp.pprint(sourcetruepos['source1'].iloc[0])"
      ],
      "metadata": {
        "colab": {
          "base_uri": "https://localhost:8080/"
        },
        "id": "UhYu9VLX98N3",
        "outputId": "cb70c608-d865-4a98-b858-418499cefadb"
      },
      "execution_count": null,
      "outputs": [
        {
          "output_type": "stream",
          "name": "stdout",
          "text": [
            "('#include<stdio.h>\\n'\n",
            " '#include<stdlib.h>\\n'\n",
            " '#include<math.h>\\n'\n",
            " '#define PI 3.1415926\\n'\n",
            " '\\n'\n",
            " 'int main() {\\n'\n",
            " '\\t\\n'\n",
            " '\\tdouble niz[500];\\n'\n",
            " '\\tint i,j,n;\\n'\n",
            " '\\tdouble stepeni, minute, sekunde;\\n'\n",
            " '\\tdouble ugao;\\n'\n",
            " '\\t\\n'\n",
            " '\\tprintf(\"Unesite broj uglova: \");\\n'\n",
            " '\\tscanf(\"%d\", &n);\\n'\n",
            " '\\t\\n'\n",
            " '\\tfor(i=0;i<n;i++) {\\n'\n",
            " '\\t\\tscanf(\"%lf\", &niz[i]);\\n'\n",
            " '\\t\\t}\\n'\n",
            " '\\t\\t\\n'\n",
            " '\\tfor(i=0; i<n; i++){\\n'\n",
            " '\\t\\t\\n'\n",
            " '\\t\\tugao=fabs((niz[i]*180)/PI);\\n'\n",
            " '\\t\\tminute=(ugao-(int)ugao)*60;\\n'\n",
            " '\\t\\tsekunde=round((minute-(int)minute)*60);\\n'\n",
            " '\\t\\tif(sekunde==60){sekunde=0, minute++;}\\n'\n",
            " '\\t\\t\\n'\n",
            " '\\t\\tif(sekunde>30){\\n'\n",
            " '\\t\\t\\t\\n'\n",
            " '\\t\\tfor(j=i; j<n-1; j++) {\\n'\n",
            " '\\t\\t\\t\\n'\n",
            " '\\t\\t\\tniz[j]=niz[j+1];\\n'\n",
            " '\\t\\t}\\n'\n",
            " '\\t\\t\\n'\n",
            " '\\t\\tn--;\\n'\n",
            " '\\t\\ti--;\\n'\n",
            " '\\t\\t}\\n'\n",
            " '\\t}\\n'\n",
            " '\\t\\t\\n'\n",
            " '\\t\\t\\n'\n",
            " '\\t\\tprintf(\"Uglovi su:\\\\n\");\\n'\n",
            " '\\t\\tfor(i=0; i<n; i++){\\n'\n",
            " '\\t\\t\\n'\n",
            " '\\t\\tugao=(niz[i]*180)/PI;\\n'\n",
            " '\\t\\tminute=fabs((ugao-(int)ugao)*60);\\n'\n",
            " '\\t\\tsekunde=round((minute-(int)minute)*60);\\n'\n",
            " '\\t\\t\\n'\n",
            " '\\t\\tstepeni=(int)ugao;\\n'\n",
            " '\\t\\tminute=(int) minute;\\n'\n",
            " '\\t\\tsekunde=round(sekunde);\\n'\n",
            " '\\t\\t\\n'\n",
            " '\\t\\tif(stepeni>=0){\\n'\n",
            " '\\t\\tif(sekunde==60){sekunde=0; minute++;}\\n'\n",
            " '\\t\\tif(minute==60){minute=0; stepeni++;}}\\n'\n",
            " '\\t\\t\\n'\n",
            " '\\t\\tif(stepeni<0){\\n'\n",
            " '\\t\\tif(sekunde==60){sekunde=0; minute++;}\\n'\n",
            " '\\t\\tif(minute==60){minute=0; stepeni--;}}\\n'\n",
            " '\\t\\tprintf(\"%.f stepeni %.f minuta %.f sekundi\\\\n\", stepeni, minute, '\n",
            " 'sekunde);\\n'\n",
            " '\\t\\t\\t\\n'\n",
            " '\\t\\n'\n",
            " '\\t\\t}\\n'\n",
            " '\\t\\t\\n'\n",
            " '\\t\\t\\n'\n",
            " '\\t\\t\\n'\n",
            " '\\t\\treturn 0;\\n'\n",
            " '\\t\\t\\n'\n",
            " '\\t}\\n'\n",
            " '\\t\\n'\n",
            " '\\t\\n'\n",
            " '\\t\\n'\n",
            " '\\t\\n'\n",
            " '\\t\\n'\n",
            " '\\t\\n'\n",
            " '\\t\\n'\n",
            " '\\t\\n')\n"
          ]
        }
      ]
    },
    {
      "cell_type": "code",
      "source": [
        "sourcetrueneg = global_data.test_over[np.logical_and(preds == 0,predictions.label_ids==0)][['source0','source1']]"
      ],
      "metadata": {
        "id": "35rByzdNCRol"
      },
      "execution_count": null,
      "outputs": []
    },
    {
      "cell_type": "code",
      "source": [
        "pp.pprint(sourcetrueneg['source0'].iloc[0])"
      ],
      "metadata": {
        "id": "W31hMpDECbaH",
        "colab": {
          "base_uri": "https://localhost:8080/"
        },
        "outputId": "f1f311e7-083f-47f7-95c1-d1ef44f97ac1"
      },
      "execution_count": null,
      "outputs": [
        {
          "output_type": "stream",
          "name": "stdout",
          "text": [
            "('#include <stdio.h>\\n'\n",
            " '\\n'\n",
            " '\\n'\n",
            " 'int main() {\\n'\n",
            " '\\tint x=0,y=0,i=0,j=0,br_tacaka=0;\\n'\n",
            " '\\tchar mat[20][20];\\n'\n",
            " '\\t\\n'\n",
            " '\\tfor (i=0;i<20;i++) {\\n'\n",
            " '\\t\\tfor (j=0;j<20;j++) {\\n'\n",
            " \"\\t\\t\\tmat[i][j]=' ';\\n\"\n",
            " '\\t\\t}\\n'\n",
            " '\\t}\\n'\n",
            " '    \\n'\n",
            " '    do {\\n'\n",
            " '    printf(\"Unesite broj tacaka: \");\\n'\n",
            " '    scanf(\"%d\", &br_tacaka);\\n'\n",
            " '    if (br_tacaka<=0 || br_tacaka>10) printf(\"Pogresan unos\\\\n\");\\n'\n",
            " '    } while(br_tacaka<=0 || br_tacaka>10);\\n'\n",
            " '    \\n'\n",
            " '\\n'\n",
            " '         for (i=0;i<br_tacaka;i++) {\\n'\n",
            " '            do {\\n'\n",
            " '       \\t    printf (\"Unesite %d. tacku: \",i+1);\\n'\n",
            " '\\t        scanf(\"%d %d\", &x,&y);\\n'\n",
            " '\\t        if (x>0 || x<19 || y>0 || y<19) \\n'\n",
            " '\\t        break;\\n'\n",
            " '\\t        if (x<0 || x>19 || y<0 || y>19) printf(\"Pogresan unos\\\\n\");\\n'\n",
            " '\\t        } while(x<0 || x>19 || y<0 || y>19);\\n'\n",
            " \"\\t        mat[y][x]='*';\\n\"\n",
            " '}\\n'\n",
            " '\\t    \\n'\n",
            " '\\t \\n'\n",
            " '\\t for(i=0;i<20;i++) {\\n'\n",
            " '\\t \\tfor(j=0;j<20;j++) {\\n'\n",
            " '\\t \\t\\tprintf(\"%c\", mat[i][j]);\\n'\n",
            " '\\t }\\n'\n",
            " '\\t printf(\"\\\\n\");\\n'\n",
            " '\\t }\\n'\n",
            " '\\t \\n'\n",
            " '\\t \\n'\n",
            " 'return 0;\\n'\n",
            " '}')\n"
          ]
        }
      ]
    },
    {
      "cell_type": "code",
      "source": [
        "pp.pprint(sourcetrueneg['source1'].iloc[0])"
      ],
      "metadata": {
        "id": "KHjUbwicCYm9",
        "colab": {
          "base_uri": "https://localhost:8080/"
        },
        "outputId": "ca7b1876-5d6c-4b46-cff0-9f7c9f872453"
      },
      "execution_count": null,
      "outputs": [
        {
          "output_type": "stream",
          "name": "stdout",
          "text": [
            "('/*3. (0,5 bodova) Zamislimo da na ekranu imamo koordinatni sistem sastavljen '\n",
            " 'od 20x20 mjesta. \\n'\n",
            " 'Ishodište koordinatnog sistema je u gornjem lijevom uglu i ono odgovara '\n",
            " 'koordinatama (0,0).\\n'\n",
            " '\\n'\n",
            " '\\n'\n",
            " 'Omogućite korisniku da unese najviše 10 tačaka koristeći koordinate [0,19]. '\n",
            " 'Zatim iscrtajte oblik \\n'\n",
            " 'sastavljen od znakova zvjezdica (asterisk) na onim koordinatama koje je '\n",
            " 'korisnik unio, a na ostalim lokacijama \\n'\n",
            " 'prazno mjesto. U slučaju da je unesen neispravan broj tačaka ili koordinate '\n",
            " 'izvan dozvoljenog opsega treba \\n'\n",
            " 'ispisati poruku \"Pogresan unos\" i zatražiti da se ponovo unese broj tačaka '\n",
            " 'odnosno koordinate te tačke.\\n'\n",
            " '\\n'\n",
            " '\\n'\n",
            " 'Primjer ulaza i izlaza:\\n'\n",
            " '\\tUnesite broj tacaka: 4\\n'\n",
            " '\\tUnesite 1. tacku: 1 1\\n'\n",
            " '\\tUnesite 2. tacku: 2 2\\n'\n",
            " '\\tUnesite 3. tacku: 3 1\\n'\n",
            " '\\tUnesite 4. tacku: 4 0\\n'\n",
            " '\\t    *\\n'\n",
            " '\\t * *\\n'\n",
            " '\\t  *\\n'\n",
            " '(radi uštede prostora izostavili smo 16 praznih redova ispod nacrtanog '\n",
            " 'oblika)\\n'\n",
            " '\\n'\n",
            " '\\n'\n",
            " '*/\\n'\n",
            " '#include <stdio.h>\\n'\n",
            " '\\n'\n",
            " 'int main() {\\n'\n",
            " '\\tint i,n,x,y,j;\\n'\n",
            " '\\tchar MAT[20][20];\\n'\n",
            " '\\t\\n'\n",
            " '\\tfor(i=0;i<20;i++){\\n'\n",
            " '\\t\\tfor(j=0;j<20;j++){\\n'\n",
            " \"\\t\\t\\tMAT[j][i]=' ';\\t\\n\"\n",
            " '\\t\\t\\t\\t}\\t\\n'\n",
            " '\\t\\t\\t}\\n'\n",
            " '\\t\\n'\n",
            " '\\tdo{\\n'\n",
            " '\\t\\t\\t\\tprintf(\"Unesite broj tacaka: \");\\n'\n",
            " '\\t\\t\\t\\tscanf(\"%d\", &n);\\n'\n",
            " '\\t\\t\\t\\t\\t\\tif((n<=0) || (n>10)){\\n'\n",
            " '\\t\\t\\t\\t\\t\\tprintf(\"Pogresan unos\\\\n\");\\n'\n",
            " '\\t\\t\\t\\t\\t\\t}\\n'\n",
            " '\\t\\t\\t\\t\\t\\t}\\n'\n",
            " '\\twhile (n<=0 || n>10);\\n'\n",
            " '\\tfor (i=0 ; i<n ; i++){\\n'\n",
            " '\\t\\t\\tdo\\n'\n",
            " '\\t\\t\\t{\\n'\n",
            " '\\t\\t\\t\\tprintf(\"Unesite %d. tacku: \", i+1);\\n'\n",
            " '\\t\\t\\t\\tscanf(\"%d %d\", &x,&y);\\n'\n",
            " '\\t\\t\\t\\t\\t\\tif((y<0) || (y>19) || (x>19) || (x<0))\\n'\n",
            " '\\t\\t\\t\\tprintf(\"Pogresan unos\\\\n\");\\n'\n",
            " '\\t}\\t\\t\\t\\n'\n",
            " '\\t\\t\\t\\twhile ((y<0) || (y>19) || (x>19) || (x<0));\\n'\n",
            " \"\\tMAT[x][y]='*';\\n\"\n",
            " '\\t}\\n'\n",
            " '\\t\\n'\n",
            " '\\tfor (i=0 ; i<20 ; i++){\\n'\n",
            " '\\t\\t\\tfor (j=0; j<20; j++){\\n'\n",
            " '\\t\\t\\t\\t\\tprintf(\"%c\", MAT[j][i]);}\\n'\n",
            " '\\t\\t\\t\\t\\tprintf(\"\\\\n\");\\n'\n",
            " '\\t\\t\\t\\t\\t\\t\\t\\t}\\n'\n",
            " '\\treturn 0;\\n'\n",
            " '}\\n')\n"
          ]
        }
      ]
    },
    {
      "cell_type": "markdown",
      "metadata": {
        "id": "E-tP6gLWIo--"
      },
      "source": [
        "###Do main import of all approprite libraries for BigBIRD."
      ]
    },
    {
      "cell_type": "markdown",
      "metadata": {
        "id": "vHBr4HGjMp42"
      },
      "source": [
        "## Configuration"
      ]
    },
    {
      "cell_type": "markdown",
      "metadata": {
        "id": "RpJ5RyVgMp43"
      },
      "source": [
        "## Load the Data"
      ]
    },
    {
      "cell_type": "code",
      "execution_count": null,
      "metadata": {
        "id": "NzBCKoMs4RAc"
      },
      "outputs": [],
      "source": [
        ""
      ]
    },
    {
      "cell_type": "markdown",
      "metadata": {
        "id": "kQInKH8_Mp45"
      },
      "source": [
        "Dataset Overview:\n",
        "\n",
        "- source0: Homework assignment for 1st student.\n",
        "- source1: Homework assignment for 2nd student.\n",
        "- label: This is the label chosen for plagiarized content\n",
        "\n",
        "Here are the \"similarity\" label values in our dataset:\n",
        "\n",
        "- 0: no similarity\n",
        "- 1: similarity"
      ]
    },
    {
      "cell_type": "markdown",
      "metadata": {
        "id": "wTgW_2VQMp46"
      },
      "source": [
        "Let's look at one sample from the dataset:"
      ]
    },
    {
      "cell_type": "markdown",
      "metadata": {
        "id": "LyMpLr5ZMp47"
      },
      "source": [
        "## Preprocessing"
      ]
    },
    {
      "cell_type": "markdown",
      "metadata": {
        "id": "3QeP5DOxMp49"
      },
      "source": [
        "Distribution of our validation targets."
      ]
    },
    {
      "cell_type": "markdown",
      "metadata": {
        "id": "BTleKyMNMp4_"
      },
      "source": [
        "One-hot encode training, validation, and test labels."
      ]
    },
    {
      "cell_type": "markdown",
      "metadata": {
        "id": "FTCBlafbMp5A"
      },
      "source": [
        "## Keras Custom Data Generator"
      ]
    },
    {
      "cell_type": "markdown",
      "metadata": {
        "id": "iy85kyChMp5B"
      },
      "source": [
        "## Build the model."
      ]
    },
    {
      "cell_type": "markdown",
      "metadata": {
        "id": "-afmK2i3Mp5D"
      },
      "source": [
        "Create train and validation data generators"
      ]
    },
    {
      "cell_type": "markdown",
      "metadata": {
        "id": "mejpzGg0Mp5E"
      },
      "source": [
        "## Train the Model\n",
        "\n",
        "Training is done only for the top layers to perform \"feature extraction\",\n",
        "which will allow the model to use the representations of the pretrained model."
      ]
    },
    {
      "cell_type": "markdown",
      "metadata": {
        "id": "y4JG_osQMp5F"
      },
      "source": [
        "## Fine-tuning\n",
        "\n",
        "This step must only be performed after the feature extraction model has\n",
        "been trained to convergence on the new data.\n",
        "\n",
        "This is an optional last step where `bert_model` is unfreezed and retrained\n",
        "with a very low learning rate. This can deliver meaningful improvement by\n",
        "incrementally adapting the pretrained features to the new data."
      ]
    },
    {
      "cell_type": "markdown",
      "metadata": {
        "id": "YP_usFPNMp5G"
      },
      "source": [
        "# Train the entire model end-to-end."
      ]
    },
    {
      "cell_type": "markdown",
      "metadata": {
        "id": "oLh7cfP7Mp5J"
      },
      "source": [
        "## Evaluate model on the test set"
      ]
    },
    {
      "cell_type": "markdown",
      "metadata": {
        "id": "Qy3o6BZIMp5K"
      },
      "source": [
        "## Inference on custom sentences"
      ]
    },
    {
      "cell_type": "code",
      "source": [
        "!ls /usr\n"
      ],
      "metadata": {
        "id": "KCcZnKcpzEYl",
        "colab": {
          "base_uri": "https://localhost:8080/"
        },
        "outputId": "b36cb3a8-fafd-49b8-c81d-5c683a19c9b6"
      },
      "execution_count": null,
      "outputs": [
        {
          "output_type": "stream",
          "name": "stdout",
          "text": [
            "bin  games  grte  include  lib\tlib32  lib64-nvidia  local  sbin  share  src\n"
          ]
        }
      ]
    },
    {
      "cell_type": "code",
      "execution_count": null,
      "metadata": {
        "id": "tiBJ5h3kMp5L"
      },
      "outputs": [],
      "source": [
        "\n",
        "def check_similarity(source0, source1):\n",
        "  sentence_pairs = np.array([[str(source0), str(source1)]])\n",
        "  test_dataset = tokenizer(sentence_pairs[0],sentence_pairs[1], padding = 'max_length', truncation=True, max_length = 3072)\n",
        "  test_results = trainer.predict(test_dataset)\n",
        "  print(test_results)\n",
        "  return(test_results)\n",
        "    # sentence_pairs = np.array([[str(source0), str(source1)]])\n",
        "    # test_data = BertSemanticDataGenerator(\n",
        "    #     sentence_pairs, labels=None, batch_size=1, shuffle=False, include_targets=False,\n",
        "    # )\n",
        "    # proba = model.predict(test_data[0])[0]\n",
        "    # #proba = model.predict(test_data)[0]\n",
        "    # idx = np.argmax(proba)\n",
        "    # proba = f\"{proba[idx]*100: .2f}%\"\n",
        "    # pred = labels[idx]\n",
        "    # return pred, proba\n"
      ]
    },
    {
      "cell_type": "markdown",
      "metadata": {
        "id": "9c3GEGoBMp5L"
      },
      "source": [
        "Check results on some example code pairs."
      ]
    },
    {
      "cell_type": "code",
      "execution_count": null,
      "metadata": {
        "id": "LqcpOYPTMp5M",
        "colab": {
          "base_uri": "https://localhost:8080/",
          "height": 323
        },
        "outputId": "a058f6c3-cdf4-4728-f1f4-dd008eda267b"
      },
      "outputs": [
        {
          "output_type": "error",
          "ename": "IndexError",
          "evalue": "ignored",
          "traceback": [
            "\u001b[0;31m---------------------------------------------------------------------------\u001b[0m",
            "\u001b[0;31mIndexError\u001b[0m                                Traceback (most recent call last)",
            "\u001b[0;32m<ipython-input-56-6bff2fece936>\u001b[0m in \u001b[0;36m<module>\u001b[0;34m()\u001b[0m\n\u001b[1;32m     21\u001b[0m         \u001b[0;32mreturn\u001b[0m \u001b[0mnova\u001b[0m\u001b[0;34m;\u001b[0m\u001b[0;34m\u001b[0m\u001b[0;34m\u001b[0m\u001b[0m\n\u001b[1;32m     22\u001b[0m }\"\"\"\n\u001b[0;32m---> 23\u001b[0;31m \u001b[0mcheck_similarity\u001b[0m\u001b[0;34m(\u001b[0m\u001b[0msource0\u001b[0m\u001b[0;34m,\u001b[0m \u001b[0msource1\u001b[0m\u001b[0;34m)\u001b[0m\u001b[0;34m\u001b[0m\u001b[0;34m\u001b[0m\u001b[0m\n\u001b[0m",
            "\u001b[0;32m<ipython-input-55-e05d6a40eb36>\u001b[0m in \u001b[0;36mcheck_similarity\u001b[0;34m(source0, source1)\u001b[0m\n\u001b[1;32m      2\u001b[0m \u001b[0;32mdef\u001b[0m \u001b[0mcheck_similarity\u001b[0m\u001b[0;34m(\u001b[0m\u001b[0msource0\u001b[0m\u001b[0;34m,\u001b[0m \u001b[0msource1\u001b[0m\u001b[0;34m)\u001b[0m\u001b[0;34m:\u001b[0m\u001b[0;34m\u001b[0m\u001b[0;34m\u001b[0m\u001b[0m\n\u001b[1;32m      3\u001b[0m   \u001b[0msentence_pairs\u001b[0m \u001b[0;34m=\u001b[0m \u001b[0mnp\u001b[0m\u001b[0;34m.\u001b[0m\u001b[0marray\u001b[0m\u001b[0;34m(\u001b[0m\u001b[0;34m[\u001b[0m\u001b[0;34m[\u001b[0m\u001b[0mstr\u001b[0m\u001b[0;34m(\u001b[0m\u001b[0msource0\u001b[0m\u001b[0;34m)\u001b[0m\u001b[0;34m,\u001b[0m \u001b[0mstr\u001b[0m\u001b[0;34m(\u001b[0m\u001b[0msource1\u001b[0m\u001b[0;34m)\u001b[0m\u001b[0;34m]\u001b[0m\u001b[0;34m]\u001b[0m\u001b[0;34m)\u001b[0m\u001b[0;34m\u001b[0m\u001b[0;34m\u001b[0m\u001b[0m\n\u001b[0;32m----> 4\u001b[0;31m   \u001b[0mtest_dataset\u001b[0m \u001b[0;34m=\u001b[0m \u001b[0mtokenizer\u001b[0m\u001b[0;34m(\u001b[0m\u001b[0msentence_pairs\u001b[0m\u001b[0;34m[\u001b[0m\u001b[0;36m0\u001b[0m\u001b[0;34m]\u001b[0m\u001b[0;34m,\u001b[0m\u001b[0msentence_pairs\u001b[0m\u001b[0;34m[\u001b[0m\u001b[0;36m1\u001b[0m\u001b[0;34m]\u001b[0m\u001b[0;34m,\u001b[0m \u001b[0mpadding\u001b[0m \u001b[0;34m=\u001b[0m \u001b[0;34m'max_length'\u001b[0m\u001b[0;34m,\u001b[0m \u001b[0mtruncation\u001b[0m\u001b[0;34m=\u001b[0m\u001b[0;32mTrue\u001b[0m\u001b[0;34m,\u001b[0m \u001b[0mmax_length\u001b[0m \u001b[0;34m=\u001b[0m \u001b[0;36m3072\u001b[0m\u001b[0;34m)\u001b[0m\u001b[0;34m\u001b[0m\u001b[0;34m\u001b[0m\u001b[0m\n\u001b[0m\u001b[1;32m      5\u001b[0m   \u001b[0mtest_results\u001b[0m \u001b[0;34m=\u001b[0m \u001b[0mtrainer\u001b[0m\u001b[0;34m.\u001b[0m\u001b[0mpredict\u001b[0m\u001b[0;34m(\u001b[0m\u001b[0mtest_dataset\u001b[0m\u001b[0;34m)\u001b[0m\u001b[0;34m\u001b[0m\u001b[0;34m\u001b[0m\u001b[0m\n\u001b[1;32m      6\u001b[0m   \u001b[0mprint\u001b[0m\u001b[0;34m(\u001b[0m\u001b[0mtest_results\u001b[0m\u001b[0;34m)\u001b[0m\u001b[0;34m\u001b[0m\u001b[0;34m\u001b[0m\u001b[0m\n",
            "\u001b[0;31mIndexError\u001b[0m: index 1 is out of bounds for axis 0 with size 1"
          ]
        }
      ],
      "source": [
        "source0 = \"\"\"int obrni(int broj)\n",
        "{\n",
        "        int cifra,nova=0;\n",
        "        while(broj>0) {\n",
        "                cifra=broj%10;\n",
        "                nova=nova*10+cifra;\n",
        "                broj/=10;\n",
        "        }\n",
        "        return nova;\n",
        "}\n",
        "\"\"\"\n",
        "source1 = \"\"\"int okreni_cifre(int broj)\n",
        "{\n",
        "        int cifra;\n",
        "        int nova=0;\n",
        "        while(broj>0) {\n",
        "                cifra=broj%10;\n",
        "                nova=nova*10+cifra;\n",
        "                broj=broj/10;\n",
        "        }\n",
        "        return nova;\n",
        "}\"\"\"\n",
        "check_similarity(source0, source1)"
      ]
    }
  ],
  "metadata": {
    "accelerator": "GPU",
    "colab": {
      "collapsed_sections": [],
      "machine_shape": "hm",
      "name": "Plagiarism with Trainer Classifiers",
      "provenance": [],
      "include_colab_link": true
    },
    "kernelspec": {
      "display_name": "Python 3",
      "language": "python",
      "name": "python3"
    },
    "language_info": {
      "codemirror_mode": {
        "name": "ipython",
        "version": 3
      },
      "file_extension": ".py",
      "mimetype": "text/x-python",
      "name": "python",
      "nbconvert_exporter": "python",
      "pygments_lexer": "ipython3",
      "version": "3.7.0"
    },
    "widgets": {
      "application/vnd.jupyter.widget-state+json": {
        "74ece835f88f46e6ba5de7c8dc77feb3": {
          "model_module": "@jupyter-widgets/controls",
          "model_name": "HBoxModel",
          "model_module_version": "1.5.0",
          "state": {
            "_dom_classes": [],
            "_model_module": "@jupyter-widgets/controls",
            "_model_module_version": "1.5.0",
            "_model_name": "HBoxModel",
            "_view_count": null,
            "_view_module": "@jupyter-widgets/controls",
            "_view_module_version": "1.5.0",
            "_view_name": "HBoxView",
            "box_style": "",
            "children": [
              "IPY_MODEL_2cd5d834daec46ada5674751e5924849",
              "IPY_MODEL_55dae6805c0041a3be4027335415942f",
              "IPY_MODEL_d8f881adaf8347838c5a62dfcdf891a1"
            ],
            "layout": "IPY_MODEL_85e1a5c668464125ae9c91854aa427e3"
          }
        },
        "2cd5d834daec46ada5674751e5924849": {
          "model_module": "@jupyter-widgets/controls",
          "model_name": "HTMLModel",
          "model_module_version": "1.5.0",
          "state": {
            "_dom_classes": [],
            "_model_module": "@jupyter-widgets/controls",
            "_model_module_version": "1.5.0",
            "_model_name": "HTMLModel",
            "_view_count": null,
            "_view_module": "@jupyter-widgets/controls",
            "_view_module_version": "1.5.0",
            "_view_name": "HTMLView",
            "description": "",
            "description_tooltip": null,
            "layout": "IPY_MODEL_7c83a67750714f77bd776d7a0a854a73",
            "placeholder": "​",
            "style": "IPY_MODEL_fce22ef948c94b5cb3b38d49f6469ddb",
            "value": "Downloading: 100%"
          }
        },
        "55dae6805c0041a3be4027335415942f": {
          "model_module": "@jupyter-widgets/controls",
          "model_name": "FloatProgressModel",
          "model_module_version": "1.5.0",
          "state": {
            "_dom_classes": [],
            "_model_module": "@jupyter-widgets/controls",
            "_model_module_version": "1.5.0",
            "_model_name": "FloatProgressModel",
            "_view_count": null,
            "_view_module": "@jupyter-widgets/controls",
            "_view_module_version": "1.5.0",
            "_view_name": "ProgressView",
            "bar_style": "success",
            "description": "",
            "description_tooltip": null,
            "layout": "IPY_MODEL_0ac9dbaf74cd4bbc9773fcfeb571200c",
            "max": 434,
            "min": 0,
            "orientation": "horizontal",
            "style": "IPY_MODEL_e5077fd66c124199a3be511c12cca1b3",
            "value": 434
          }
        },
        "d8f881adaf8347838c5a62dfcdf891a1": {
          "model_module": "@jupyter-widgets/controls",
          "model_name": "HTMLModel",
          "model_module_version": "1.5.0",
          "state": {
            "_dom_classes": [],
            "_model_module": "@jupyter-widgets/controls",
            "_model_module_version": "1.5.0",
            "_model_name": "HTMLModel",
            "_view_count": null,
            "_view_module": "@jupyter-widgets/controls",
            "_view_module_version": "1.5.0",
            "_view_name": "HTMLView",
            "description": "",
            "description_tooltip": null,
            "layout": "IPY_MODEL_7e7227c591b14911862244f5a30e76f9",
            "placeholder": "​",
            "style": "IPY_MODEL_921dd51770ce481f95c304bdc005fbf7",
            "value": " 434/434 [00:00&lt;00:00, 16.6kB/s]"
          }
        },
        "85e1a5c668464125ae9c91854aa427e3": {
          "model_module": "@jupyter-widgets/base",
          "model_name": "LayoutModel",
          "model_module_version": "1.2.0",
          "state": {
            "_model_module": "@jupyter-widgets/base",
            "_model_module_version": "1.2.0",
            "_model_name": "LayoutModel",
            "_view_count": null,
            "_view_module": "@jupyter-widgets/base",
            "_view_module_version": "1.2.0",
            "_view_name": "LayoutView",
            "align_content": null,
            "align_items": null,
            "align_self": null,
            "border": null,
            "bottom": null,
            "display": null,
            "flex": null,
            "flex_flow": null,
            "grid_area": null,
            "grid_auto_columns": null,
            "grid_auto_flow": null,
            "grid_auto_rows": null,
            "grid_column": null,
            "grid_gap": null,
            "grid_row": null,
            "grid_template_areas": null,
            "grid_template_columns": null,
            "grid_template_rows": null,
            "height": null,
            "justify_content": null,
            "justify_items": null,
            "left": null,
            "margin": null,
            "max_height": null,
            "max_width": null,
            "min_height": null,
            "min_width": null,
            "object_fit": null,
            "object_position": null,
            "order": null,
            "overflow": null,
            "overflow_x": null,
            "overflow_y": null,
            "padding": null,
            "right": null,
            "top": null,
            "visibility": null,
            "width": null
          }
        },
        "7c83a67750714f77bd776d7a0a854a73": {
          "model_module": "@jupyter-widgets/base",
          "model_name": "LayoutModel",
          "model_module_version": "1.2.0",
          "state": {
            "_model_module": "@jupyter-widgets/base",
            "_model_module_version": "1.2.0",
            "_model_name": "LayoutModel",
            "_view_count": null,
            "_view_module": "@jupyter-widgets/base",
            "_view_module_version": "1.2.0",
            "_view_name": "LayoutView",
            "align_content": null,
            "align_items": null,
            "align_self": null,
            "border": null,
            "bottom": null,
            "display": null,
            "flex": null,
            "flex_flow": null,
            "grid_area": null,
            "grid_auto_columns": null,
            "grid_auto_flow": null,
            "grid_auto_rows": null,
            "grid_column": null,
            "grid_gap": null,
            "grid_row": null,
            "grid_template_areas": null,
            "grid_template_columns": null,
            "grid_template_rows": null,
            "height": null,
            "justify_content": null,
            "justify_items": null,
            "left": null,
            "margin": null,
            "max_height": null,
            "max_width": null,
            "min_height": null,
            "min_width": null,
            "object_fit": null,
            "object_position": null,
            "order": null,
            "overflow": null,
            "overflow_x": null,
            "overflow_y": null,
            "padding": null,
            "right": null,
            "top": null,
            "visibility": null,
            "width": null
          }
        },
        "fce22ef948c94b5cb3b38d49f6469ddb": {
          "model_module": "@jupyter-widgets/controls",
          "model_name": "DescriptionStyleModel",
          "model_module_version": "1.5.0",
          "state": {
            "_model_module": "@jupyter-widgets/controls",
            "_model_module_version": "1.5.0",
            "_model_name": "DescriptionStyleModel",
            "_view_count": null,
            "_view_module": "@jupyter-widgets/base",
            "_view_module_version": "1.2.0",
            "_view_name": "StyleView",
            "description_width": ""
          }
        },
        "0ac9dbaf74cd4bbc9773fcfeb571200c": {
          "model_module": "@jupyter-widgets/base",
          "model_name": "LayoutModel",
          "model_module_version": "1.2.0",
          "state": {
            "_model_module": "@jupyter-widgets/base",
            "_model_module_version": "1.2.0",
            "_model_name": "LayoutModel",
            "_view_count": null,
            "_view_module": "@jupyter-widgets/base",
            "_view_module_version": "1.2.0",
            "_view_name": "LayoutView",
            "align_content": null,
            "align_items": null,
            "align_self": null,
            "border": null,
            "bottom": null,
            "display": null,
            "flex": null,
            "flex_flow": null,
            "grid_area": null,
            "grid_auto_columns": null,
            "grid_auto_flow": null,
            "grid_auto_rows": null,
            "grid_column": null,
            "grid_gap": null,
            "grid_row": null,
            "grid_template_areas": null,
            "grid_template_columns": null,
            "grid_template_rows": null,
            "height": null,
            "justify_content": null,
            "justify_items": null,
            "left": null,
            "margin": null,
            "max_height": null,
            "max_width": null,
            "min_height": null,
            "min_width": null,
            "object_fit": null,
            "object_position": null,
            "order": null,
            "overflow": null,
            "overflow_x": null,
            "overflow_y": null,
            "padding": null,
            "right": null,
            "top": null,
            "visibility": null,
            "width": null
          }
        },
        "e5077fd66c124199a3be511c12cca1b3": {
          "model_module": "@jupyter-widgets/controls",
          "model_name": "ProgressStyleModel",
          "model_module_version": "1.5.0",
          "state": {
            "_model_module": "@jupyter-widgets/controls",
            "_model_module_version": "1.5.0",
            "_model_name": "ProgressStyleModel",
            "_view_count": null,
            "_view_module": "@jupyter-widgets/base",
            "_view_module_version": "1.2.0",
            "_view_name": "StyleView",
            "bar_color": null,
            "description_width": ""
          }
        },
        "7e7227c591b14911862244f5a30e76f9": {
          "model_module": "@jupyter-widgets/base",
          "model_name": "LayoutModel",
          "model_module_version": "1.2.0",
          "state": {
            "_model_module": "@jupyter-widgets/base",
            "_model_module_version": "1.2.0",
            "_model_name": "LayoutModel",
            "_view_count": null,
            "_view_module": "@jupyter-widgets/base",
            "_view_module_version": "1.2.0",
            "_view_name": "LayoutView",
            "align_content": null,
            "align_items": null,
            "align_self": null,
            "border": null,
            "bottom": null,
            "display": null,
            "flex": null,
            "flex_flow": null,
            "grid_area": null,
            "grid_auto_columns": null,
            "grid_auto_flow": null,
            "grid_auto_rows": null,
            "grid_column": null,
            "grid_gap": null,
            "grid_row": null,
            "grid_template_areas": null,
            "grid_template_columns": null,
            "grid_template_rows": null,
            "height": null,
            "justify_content": null,
            "justify_items": null,
            "left": null,
            "margin": null,
            "max_height": null,
            "max_width": null,
            "min_height": null,
            "min_width": null,
            "object_fit": null,
            "object_position": null,
            "order": null,
            "overflow": null,
            "overflow_x": null,
            "overflow_y": null,
            "padding": null,
            "right": null,
            "top": null,
            "visibility": null,
            "width": null
          }
        },
        "921dd51770ce481f95c304bdc005fbf7": {
          "model_module": "@jupyter-widgets/controls",
          "model_name": "DescriptionStyleModel",
          "model_module_version": "1.5.0",
          "state": {
            "_model_module": "@jupyter-widgets/controls",
            "_model_module_version": "1.5.0",
            "_model_name": "DescriptionStyleModel",
            "_view_count": null,
            "_view_module": "@jupyter-widgets/base",
            "_view_module_version": "1.2.0",
            "_view_name": "StyleView",
            "description_width": ""
          }
        },
        "f1396f7d99a740a3823e1ccddf885a4f": {
          "model_module": "@jupyter-widgets/controls",
          "model_name": "HBoxModel",
          "model_module_version": "1.5.0",
          "state": {
            "_dom_classes": [],
            "_model_module": "@jupyter-widgets/controls",
            "_model_module_version": "1.5.0",
            "_model_name": "HBoxModel",
            "_view_count": null,
            "_view_module": "@jupyter-widgets/controls",
            "_view_module_version": "1.5.0",
            "_view_name": "HBoxView",
            "box_style": "",
            "children": [
              "IPY_MODEL_e9f4f4827e90470a9a42843b34bebe85",
              "IPY_MODEL_6ab810fe201d4d76a250e75a36801fda",
              "IPY_MODEL_476f8c4c3fd7438c82d1fbfcd1f6dfa8"
            ],
            "layout": "IPY_MODEL_cebff2fafc7f4f6285ec442a8bb11cbe"
          }
        },
        "e9f4f4827e90470a9a42843b34bebe85": {
          "model_module": "@jupyter-widgets/controls",
          "model_name": "HTMLModel",
          "model_module_version": "1.5.0",
          "state": {
            "_dom_classes": [],
            "_model_module": "@jupyter-widgets/controls",
            "_model_module_version": "1.5.0",
            "_model_name": "HTMLModel",
            "_view_count": null,
            "_view_module": "@jupyter-widgets/controls",
            "_view_module_version": "1.5.0",
            "_view_name": "HTMLView",
            "description": "",
            "description_tooltip": null,
            "layout": "IPY_MODEL_0ba3c8940be0460bb2776b20a0607974",
            "placeholder": "​",
            "style": "IPY_MODEL_772ae148eafe43fd8aaf573f8d1954ca",
            "value": "Downloading: 100%"
          }
        },
        "6ab810fe201d4d76a250e75a36801fda": {
          "model_module": "@jupyter-widgets/controls",
          "model_name": "FloatProgressModel",
          "model_module_version": "1.5.0",
          "state": {
            "_dom_classes": [],
            "_model_module": "@jupyter-widgets/controls",
            "_model_module_version": "1.5.0",
            "_model_name": "FloatProgressModel",
            "_view_count": null,
            "_view_module": "@jupyter-widgets/controls",
            "_view_module_version": "1.5.0",
            "_view_name": "ProgressView",
            "bar_style": "success",
            "description": "",
            "description_tooltip": null,
            "layout": "IPY_MODEL_745bf46b0d244844918fa5e9673956f3",
            "max": 1345000548,
            "min": 0,
            "orientation": "horizontal",
            "style": "IPY_MODEL_b67d4622f5ad45eba28a949a629c30e0",
            "value": 1345000548
          }
        },
        "476f8c4c3fd7438c82d1fbfcd1f6dfa8": {
          "model_module": "@jupyter-widgets/controls",
          "model_name": "HTMLModel",
          "model_module_version": "1.5.0",
          "state": {
            "_dom_classes": [],
            "_model_module": "@jupyter-widgets/controls",
            "_model_module_version": "1.5.0",
            "_model_name": "HTMLModel",
            "_view_count": null,
            "_view_module": "@jupyter-widgets/controls",
            "_view_module_version": "1.5.0",
            "_view_name": "HTMLView",
            "description": "",
            "description_tooltip": null,
            "layout": "IPY_MODEL_16fbd4f005ff4b83957e9f9f6b15fd8d",
            "placeholder": "​",
            "style": "IPY_MODEL_21eec9a454ed4bad8f79f535ff50edd6",
            "value": " 1.25G/1.25G [00:24&lt;00:00, 61.1MB/s]"
          }
        },
        "cebff2fafc7f4f6285ec442a8bb11cbe": {
          "model_module": "@jupyter-widgets/base",
          "model_name": "LayoutModel",
          "model_module_version": "1.2.0",
          "state": {
            "_model_module": "@jupyter-widgets/base",
            "_model_module_version": "1.2.0",
            "_model_name": "LayoutModel",
            "_view_count": null,
            "_view_module": "@jupyter-widgets/base",
            "_view_module_version": "1.2.0",
            "_view_name": "LayoutView",
            "align_content": null,
            "align_items": null,
            "align_self": null,
            "border": null,
            "bottom": null,
            "display": null,
            "flex": null,
            "flex_flow": null,
            "grid_area": null,
            "grid_auto_columns": null,
            "grid_auto_flow": null,
            "grid_auto_rows": null,
            "grid_column": null,
            "grid_gap": null,
            "grid_row": null,
            "grid_template_areas": null,
            "grid_template_columns": null,
            "grid_template_rows": null,
            "height": null,
            "justify_content": null,
            "justify_items": null,
            "left": null,
            "margin": null,
            "max_height": null,
            "max_width": null,
            "min_height": null,
            "min_width": null,
            "object_fit": null,
            "object_position": null,
            "order": null,
            "overflow": null,
            "overflow_x": null,
            "overflow_y": null,
            "padding": null,
            "right": null,
            "top": null,
            "visibility": null,
            "width": null
          }
        },
        "0ba3c8940be0460bb2776b20a0607974": {
          "model_module": "@jupyter-widgets/base",
          "model_name": "LayoutModel",
          "model_module_version": "1.2.0",
          "state": {
            "_model_module": "@jupyter-widgets/base",
            "_model_module_version": "1.2.0",
            "_model_name": "LayoutModel",
            "_view_count": null,
            "_view_module": "@jupyter-widgets/base",
            "_view_module_version": "1.2.0",
            "_view_name": "LayoutView",
            "align_content": null,
            "align_items": null,
            "align_self": null,
            "border": null,
            "bottom": null,
            "display": null,
            "flex": null,
            "flex_flow": null,
            "grid_area": null,
            "grid_auto_columns": null,
            "grid_auto_flow": null,
            "grid_auto_rows": null,
            "grid_column": null,
            "grid_gap": null,
            "grid_row": null,
            "grid_template_areas": null,
            "grid_template_columns": null,
            "grid_template_rows": null,
            "height": null,
            "justify_content": null,
            "justify_items": null,
            "left": null,
            "margin": null,
            "max_height": null,
            "max_width": null,
            "min_height": null,
            "min_width": null,
            "object_fit": null,
            "object_position": null,
            "order": null,
            "overflow": null,
            "overflow_x": null,
            "overflow_y": null,
            "padding": null,
            "right": null,
            "top": null,
            "visibility": null,
            "width": null
          }
        },
        "772ae148eafe43fd8aaf573f8d1954ca": {
          "model_module": "@jupyter-widgets/controls",
          "model_name": "DescriptionStyleModel",
          "model_module_version": "1.5.0",
          "state": {
            "_model_module": "@jupyter-widgets/controls",
            "_model_module_version": "1.5.0",
            "_model_name": "DescriptionStyleModel",
            "_view_count": null,
            "_view_module": "@jupyter-widgets/base",
            "_view_module_version": "1.2.0",
            "_view_name": "StyleView",
            "description_width": ""
          }
        },
        "745bf46b0d244844918fa5e9673956f3": {
          "model_module": "@jupyter-widgets/base",
          "model_name": "LayoutModel",
          "model_module_version": "1.2.0",
          "state": {
            "_model_module": "@jupyter-widgets/base",
            "_model_module_version": "1.2.0",
            "_model_name": "LayoutModel",
            "_view_count": null,
            "_view_module": "@jupyter-widgets/base",
            "_view_module_version": "1.2.0",
            "_view_name": "LayoutView",
            "align_content": null,
            "align_items": null,
            "align_self": null,
            "border": null,
            "bottom": null,
            "display": null,
            "flex": null,
            "flex_flow": null,
            "grid_area": null,
            "grid_auto_columns": null,
            "grid_auto_flow": null,
            "grid_auto_rows": null,
            "grid_column": null,
            "grid_gap": null,
            "grid_row": null,
            "grid_template_areas": null,
            "grid_template_columns": null,
            "grid_template_rows": null,
            "height": null,
            "justify_content": null,
            "justify_items": null,
            "left": null,
            "margin": null,
            "max_height": null,
            "max_width": null,
            "min_height": null,
            "min_width": null,
            "object_fit": null,
            "object_position": null,
            "order": null,
            "overflow": null,
            "overflow_x": null,
            "overflow_y": null,
            "padding": null,
            "right": null,
            "top": null,
            "visibility": null,
            "width": null
          }
        },
        "b67d4622f5ad45eba28a949a629c30e0": {
          "model_module": "@jupyter-widgets/controls",
          "model_name": "ProgressStyleModel",
          "model_module_version": "1.5.0",
          "state": {
            "_model_module": "@jupyter-widgets/controls",
            "_model_module_version": "1.5.0",
            "_model_name": "ProgressStyleModel",
            "_view_count": null,
            "_view_module": "@jupyter-widgets/base",
            "_view_module_version": "1.2.0",
            "_view_name": "StyleView",
            "bar_color": null,
            "description_width": ""
          }
        },
        "16fbd4f005ff4b83957e9f9f6b15fd8d": {
          "model_module": "@jupyter-widgets/base",
          "model_name": "LayoutModel",
          "model_module_version": "1.2.0",
          "state": {
            "_model_module": "@jupyter-widgets/base",
            "_model_module_version": "1.2.0",
            "_model_name": "LayoutModel",
            "_view_count": null,
            "_view_module": "@jupyter-widgets/base",
            "_view_module_version": "1.2.0",
            "_view_name": "LayoutView",
            "align_content": null,
            "align_items": null,
            "align_self": null,
            "border": null,
            "bottom": null,
            "display": null,
            "flex": null,
            "flex_flow": null,
            "grid_area": null,
            "grid_auto_columns": null,
            "grid_auto_flow": null,
            "grid_auto_rows": null,
            "grid_column": null,
            "grid_gap": null,
            "grid_row": null,
            "grid_template_areas": null,
            "grid_template_columns": null,
            "grid_template_rows": null,
            "height": null,
            "justify_content": null,
            "justify_items": null,
            "left": null,
            "margin": null,
            "max_height": null,
            "max_width": null,
            "min_height": null,
            "min_width": null,
            "object_fit": null,
            "object_position": null,
            "order": null,
            "overflow": null,
            "overflow_x": null,
            "overflow_y": null,
            "padding": null,
            "right": null,
            "top": null,
            "visibility": null,
            "width": null
          }
        },
        "21eec9a454ed4bad8f79f535ff50edd6": {
          "model_module": "@jupyter-widgets/controls",
          "model_name": "DescriptionStyleModel",
          "model_module_version": "1.5.0",
          "state": {
            "_model_module": "@jupyter-widgets/controls",
            "_model_module_version": "1.5.0",
            "_model_name": "DescriptionStyleModel",
            "_view_count": null,
            "_view_module": "@jupyter-widgets/base",
            "_view_module_version": "1.2.0",
            "_view_name": "StyleView",
            "description_width": ""
          }
        },
        "d5227b6474a847cdbcf1f286df716dc1": {
          "model_module": "@jupyter-widgets/controls",
          "model_name": "HBoxModel",
          "model_module_version": "1.5.0",
          "state": {
            "_dom_classes": [],
            "_model_module": "@jupyter-widgets/controls",
            "_model_module_version": "1.5.0",
            "_model_name": "HBoxModel",
            "_view_count": null,
            "_view_module": "@jupyter-widgets/controls",
            "_view_module_version": "1.5.0",
            "_view_name": "HBoxView",
            "box_style": "",
            "children": [
              "IPY_MODEL_ccde598195504b42a62cc88fce8357a8",
              "IPY_MODEL_190929f474504290bdda820fbbe5849c",
              "IPY_MODEL_f73499e6288f420b978007b5d19bdda4"
            ],
            "layout": "IPY_MODEL_261334829cbe4d62b7f41705e5ffe332"
          }
        },
        "ccde598195504b42a62cc88fce8357a8": {
          "model_module": "@jupyter-widgets/controls",
          "model_name": "HTMLModel",
          "model_module_version": "1.5.0",
          "state": {
            "_dom_classes": [],
            "_model_module": "@jupyter-widgets/controls",
            "_model_module_version": "1.5.0",
            "_model_name": "HTMLModel",
            "_view_count": null,
            "_view_module": "@jupyter-widgets/controls",
            "_view_module_version": "1.5.0",
            "_view_name": "HTMLView",
            "description": "",
            "description_tooltip": null,
            "layout": "IPY_MODEL_354f25746bf740e9b64df8171c3ffef5",
            "placeholder": "​",
            "style": "IPY_MODEL_c2e0ff06070b4fb098682cb9d22e99cb",
            "value": "Downloading: 100%"
          }
        },
        "190929f474504290bdda820fbbe5849c": {
          "model_module": "@jupyter-widgets/controls",
          "model_name": "FloatProgressModel",
          "model_module_version": "1.5.0",
          "state": {
            "_dom_classes": [],
            "_model_module": "@jupyter-widgets/controls",
            "_model_module_version": "1.5.0",
            "_model_name": "FloatProgressModel",
            "_view_count": null,
            "_view_module": "@jupyter-widgets/controls",
            "_view_module_version": "1.5.0",
            "_view_name": "ProgressView",
            "bar_style": "success",
            "description": "",
            "description_tooltip": null,
            "layout": "IPY_MODEL_e17fb61a76b64437bf152c05482c0cc4",
            "max": 28,
            "min": 0,
            "orientation": "horizontal",
            "style": "IPY_MODEL_05845dc9053c406ab7187b780f65212a",
            "value": 28
          }
        },
        "f73499e6288f420b978007b5d19bdda4": {
          "model_module": "@jupyter-widgets/controls",
          "model_name": "HTMLModel",
          "model_module_version": "1.5.0",
          "state": {
            "_dom_classes": [],
            "_model_module": "@jupyter-widgets/controls",
            "_model_module_version": "1.5.0",
            "_model_name": "HTMLModel",
            "_view_count": null,
            "_view_module": "@jupyter-widgets/controls",
            "_view_module_version": "1.5.0",
            "_view_name": "HTMLView",
            "description": "",
            "description_tooltip": null,
            "layout": "IPY_MODEL_86dcd027bc194176b8fbdc3b91c713eb",
            "placeholder": "​",
            "style": "IPY_MODEL_9c37dc0bf3ef4e00a0acbd04ad1150aa",
            "value": " 28.0/28.0 [00:00&lt;00:00, 1.12kB/s]"
          }
        },
        "261334829cbe4d62b7f41705e5ffe332": {
          "model_module": "@jupyter-widgets/base",
          "model_name": "LayoutModel",
          "model_module_version": "1.2.0",
          "state": {
            "_model_module": "@jupyter-widgets/base",
            "_model_module_version": "1.2.0",
            "_model_name": "LayoutModel",
            "_view_count": null,
            "_view_module": "@jupyter-widgets/base",
            "_view_module_version": "1.2.0",
            "_view_name": "LayoutView",
            "align_content": null,
            "align_items": null,
            "align_self": null,
            "border": null,
            "bottom": null,
            "display": null,
            "flex": null,
            "flex_flow": null,
            "grid_area": null,
            "grid_auto_columns": null,
            "grid_auto_flow": null,
            "grid_auto_rows": null,
            "grid_column": null,
            "grid_gap": null,
            "grid_row": null,
            "grid_template_areas": null,
            "grid_template_columns": null,
            "grid_template_rows": null,
            "height": null,
            "justify_content": null,
            "justify_items": null,
            "left": null,
            "margin": null,
            "max_height": null,
            "max_width": null,
            "min_height": null,
            "min_width": null,
            "object_fit": null,
            "object_position": null,
            "order": null,
            "overflow": null,
            "overflow_x": null,
            "overflow_y": null,
            "padding": null,
            "right": null,
            "top": null,
            "visibility": null,
            "width": null
          }
        },
        "354f25746bf740e9b64df8171c3ffef5": {
          "model_module": "@jupyter-widgets/base",
          "model_name": "LayoutModel",
          "model_module_version": "1.2.0",
          "state": {
            "_model_module": "@jupyter-widgets/base",
            "_model_module_version": "1.2.0",
            "_model_name": "LayoutModel",
            "_view_count": null,
            "_view_module": "@jupyter-widgets/base",
            "_view_module_version": "1.2.0",
            "_view_name": "LayoutView",
            "align_content": null,
            "align_items": null,
            "align_self": null,
            "border": null,
            "bottom": null,
            "display": null,
            "flex": null,
            "flex_flow": null,
            "grid_area": null,
            "grid_auto_columns": null,
            "grid_auto_flow": null,
            "grid_auto_rows": null,
            "grid_column": null,
            "grid_gap": null,
            "grid_row": null,
            "grid_template_areas": null,
            "grid_template_columns": null,
            "grid_template_rows": null,
            "height": null,
            "justify_content": null,
            "justify_items": null,
            "left": null,
            "margin": null,
            "max_height": null,
            "max_width": null,
            "min_height": null,
            "min_width": null,
            "object_fit": null,
            "object_position": null,
            "order": null,
            "overflow": null,
            "overflow_x": null,
            "overflow_y": null,
            "padding": null,
            "right": null,
            "top": null,
            "visibility": null,
            "width": null
          }
        },
        "c2e0ff06070b4fb098682cb9d22e99cb": {
          "model_module": "@jupyter-widgets/controls",
          "model_name": "DescriptionStyleModel",
          "model_module_version": "1.5.0",
          "state": {
            "_model_module": "@jupyter-widgets/controls",
            "_model_module_version": "1.5.0",
            "_model_name": "DescriptionStyleModel",
            "_view_count": null,
            "_view_module": "@jupyter-widgets/base",
            "_view_module_version": "1.2.0",
            "_view_name": "StyleView",
            "description_width": ""
          }
        },
        "e17fb61a76b64437bf152c05482c0cc4": {
          "model_module": "@jupyter-widgets/base",
          "model_name": "LayoutModel",
          "model_module_version": "1.2.0",
          "state": {
            "_model_module": "@jupyter-widgets/base",
            "_model_module_version": "1.2.0",
            "_model_name": "LayoutModel",
            "_view_count": null,
            "_view_module": "@jupyter-widgets/base",
            "_view_module_version": "1.2.0",
            "_view_name": "LayoutView",
            "align_content": null,
            "align_items": null,
            "align_self": null,
            "border": null,
            "bottom": null,
            "display": null,
            "flex": null,
            "flex_flow": null,
            "grid_area": null,
            "grid_auto_columns": null,
            "grid_auto_flow": null,
            "grid_auto_rows": null,
            "grid_column": null,
            "grid_gap": null,
            "grid_row": null,
            "grid_template_areas": null,
            "grid_template_columns": null,
            "grid_template_rows": null,
            "height": null,
            "justify_content": null,
            "justify_items": null,
            "left": null,
            "margin": null,
            "max_height": null,
            "max_width": null,
            "min_height": null,
            "min_width": null,
            "object_fit": null,
            "object_position": null,
            "order": null,
            "overflow": null,
            "overflow_x": null,
            "overflow_y": null,
            "padding": null,
            "right": null,
            "top": null,
            "visibility": null,
            "width": null
          }
        },
        "05845dc9053c406ab7187b780f65212a": {
          "model_module": "@jupyter-widgets/controls",
          "model_name": "ProgressStyleModel",
          "model_module_version": "1.5.0",
          "state": {
            "_model_module": "@jupyter-widgets/controls",
            "_model_module_version": "1.5.0",
            "_model_name": "ProgressStyleModel",
            "_view_count": null,
            "_view_module": "@jupyter-widgets/base",
            "_view_module_version": "1.2.0",
            "_view_name": "StyleView",
            "bar_color": null,
            "description_width": ""
          }
        },
        "86dcd027bc194176b8fbdc3b91c713eb": {
          "model_module": "@jupyter-widgets/base",
          "model_name": "LayoutModel",
          "model_module_version": "1.2.0",
          "state": {
            "_model_module": "@jupyter-widgets/base",
            "_model_module_version": "1.2.0",
            "_model_name": "LayoutModel",
            "_view_count": null,
            "_view_module": "@jupyter-widgets/base",
            "_view_module_version": "1.2.0",
            "_view_name": "LayoutView",
            "align_content": null,
            "align_items": null,
            "align_self": null,
            "border": null,
            "bottom": null,
            "display": null,
            "flex": null,
            "flex_flow": null,
            "grid_area": null,
            "grid_auto_columns": null,
            "grid_auto_flow": null,
            "grid_auto_rows": null,
            "grid_column": null,
            "grid_gap": null,
            "grid_row": null,
            "grid_template_areas": null,
            "grid_template_columns": null,
            "grid_template_rows": null,
            "height": null,
            "justify_content": null,
            "justify_items": null,
            "left": null,
            "margin": null,
            "max_height": null,
            "max_width": null,
            "min_height": null,
            "min_width": null,
            "object_fit": null,
            "object_position": null,
            "order": null,
            "overflow": null,
            "overflow_x": null,
            "overflow_y": null,
            "padding": null,
            "right": null,
            "top": null,
            "visibility": null,
            "width": null
          }
        },
        "9c37dc0bf3ef4e00a0acbd04ad1150aa": {
          "model_module": "@jupyter-widgets/controls",
          "model_name": "DescriptionStyleModel",
          "model_module_version": "1.5.0",
          "state": {
            "_model_module": "@jupyter-widgets/controls",
            "_model_module_version": "1.5.0",
            "_model_name": "DescriptionStyleModel",
            "_view_count": null,
            "_view_module": "@jupyter-widgets/base",
            "_view_module_version": "1.2.0",
            "_view_name": "StyleView",
            "description_width": ""
          }
        },
        "ab68f53788524cea99fc84804ff61a9d": {
          "model_module": "@jupyter-widgets/controls",
          "model_name": "HBoxModel",
          "model_module_version": "1.5.0",
          "state": {
            "_dom_classes": [],
            "_model_module": "@jupyter-widgets/controls",
            "_model_module_version": "1.5.0",
            "_model_name": "HBoxModel",
            "_view_count": null,
            "_view_module": "@jupyter-widgets/controls",
            "_view_module_version": "1.5.0",
            "_view_name": "HBoxView",
            "box_style": "",
            "children": [
              "IPY_MODEL_e1f14bb52f9649daa616686bd43b5822",
              "IPY_MODEL_c0e2bca2c8a44d54bc5de8629116de1b",
              "IPY_MODEL_e1ed126b3cbe4ca6a0e09b45c909958a"
            ],
            "layout": "IPY_MODEL_d763ff11a1e64fb3807ba2f7a10ed5d5"
          }
        },
        "e1f14bb52f9649daa616686bd43b5822": {
          "model_module": "@jupyter-widgets/controls",
          "model_name": "HTMLModel",
          "model_module_version": "1.5.0",
          "state": {
            "_dom_classes": [],
            "_model_module": "@jupyter-widgets/controls",
            "_model_module_version": "1.5.0",
            "_model_name": "HTMLModel",
            "_view_count": null,
            "_view_module": "@jupyter-widgets/controls",
            "_view_module_version": "1.5.0",
            "_view_name": "HTMLView",
            "description": "",
            "description_tooltip": null,
            "layout": "IPY_MODEL_80f106cbe674455eb281fd87582c8a5e",
            "placeholder": "​",
            "style": "IPY_MODEL_f1231954da7c4056a633c0f09a6f0f22",
            "value": "Downloading: 100%"
          }
        },
        "c0e2bca2c8a44d54bc5de8629116de1b": {
          "model_module": "@jupyter-widgets/controls",
          "model_name": "FloatProgressModel",
          "model_module_version": "1.5.0",
          "state": {
            "_dom_classes": [],
            "_model_module": "@jupyter-widgets/controls",
            "_model_module_version": "1.5.0",
            "_model_name": "FloatProgressModel",
            "_view_count": null,
            "_view_module": "@jupyter-widgets/controls",
            "_view_module_version": "1.5.0",
            "_view_name": "ProgressView",
            "bar_style": "success",
            "description": "",
            "description_tooltip": null,
            "layout": "IPY_MODEL_0a70282b815742c79c22309912beb858",
            "max": 231508,
            "min": 0,
            "orientation": "horizontal",
            "style": "IPY_MODEL_dd61fd6b3f114ab6be456c1802c7e084",
            "value": 231508
          }
        },
        "e1ed126b3cbe4ca6a0e09b45c909958a": {
          "model_module": "@jupyter-widgets/controls",
          "model_name": "HTMLModel",
          "model_module_version": "1.5.0",
          "state": {
            "_dom_classes": [],
            "_model_module": "@jupyter-widgets/controls",
            "_model_module_version": "1.5.0",
            "_model_name": "HTMLModel",
            "_view_count": null,
            "_view_module": "@jupyter-widgets/controls",
            "_view_module_version": "1.5.0",
            "_view_name": "HTMLView",
            "description": "",
            "description_tooltip": null,
            "layout": "IPY_MODEL_5520cd6c110c4d9ebc07fe0db748eaf2",
            "placeholder": "​",
            "style": "IPY_MODEL_08e7775ccf03405089626c5b36ac6a8f",
            "value": " 226k/226k [00:00&lt;00:00, 335kB/s]"
          }
        },
        "d763ff11a1e64fb3807ba2f7a10ed5d5": {
          "model_module": "@jupyter-widgets/base",
          "model_name": "LayoutModel",
          "model_module_version": "1.2.0",
          "state": {
            "_model_module": "@jupyter-widgets/base",
            "_model_module_version": "1.2.0",
            "_model_name": "LayoutModel",
            "_view_count": null,
            "_view_module": "@jupyter-widgets/base",
            "_view_module_version": "1.2.0",
            "_view_name": "LayoutView",
            "align_content": null,
            "align_items": null,
            "align_self": null,
            "border": null,
            "bottom": null,
            "display": null,
            "flex": null,
            "flex_flow": null,
            "grid_area": null,
            "grid_auto_columns": null,
            "grid_auto_flow": null,
            "grid_auto_rows": null,
            "grid_column": null,
            "grid_gap": null,
            "grid_row": null,
            "grid_template_areas": null,
            "grid_template_columns": null,
            "grid_template_rows": null,
            "height": null,
            "justify_content": null,
            "justify_items": null,
            "left": null,
            "margin": null,
            "max_height": null,
            "max_width": null,
            "min_height": null,
            "min_width": null,
            "object_fit": null,
            "object_position": null,
            "order": null,
            "overflow": null,
            "overflow_x": null,
            "overflow_y": null,
            "padding": null,
            "right": null,
            "top": null,
            "visibility": null,
            "width": null
          }
        },
        "80f106cbe674455eb281fd87582c8a5e": {
          "model_module": "@jupyter-widgets/base",
          "model_name": "LayoutModel",
          "model_module_version": "1.2.0",
          "state": {
            "_model_module": "@jupyter-widgets/base",
            "_model_module_version": "1.2.0",
            "_model_name": "LayoutModel",
            "_view_count": null,
            "_view_module": "@jupyter-widgets/base",
            "_view_module_version": "1.2.0",
            "_view_name": "LayoutView",
            "align_content": null,
            "align_items": null,
            "align_self": null,
            "border": null,
            "bottom": null,
            "display": null,
            "flex": null,
            "flex_flow": null,
            "grid_area": null,
            "grid_auto_columns": null,
            "grid_auto_flow": null,
            "grid_auto_rows": null,
            "grid_column": null,
            "grid_gap": null,
            "grid_row": null,
            "grid_template_areas": null,
            "grid_template_columns": null,
            "grid_template_rows": null,
            "height": null,
            "justify_content": null,
            "justify_items": null,
            "left": null,
            "margin": null,
            "max_height": null,
            "max_width": null,
            "min_height": null,
            "min_width": null,
            "object_fit": null,
            "object_position": null,
            "order": null,
            "overflow": null,
            "overflow_x": null,
            "overflow_y": null,
            "padding": null,
            "right": null,
            "top": null,
            "visibility": null,
            "width": null
          }
        },
        "f1231954da7c4056a633c0f09a6f0f22": {
          "model_module": "@jupyter-widgets/controls",
          "model_name": "DescriptionStyleModel",
          "model_module_version": "1.5.0",
          "state": {
            "_model_module": "@jupyter-widgets/controls",
            "_model_module_version": "1.5.0",
            "_model_name": "DescriptionStyleModel",
            "_view_count": null,
            "_view_module": "@jupyter-widgets/base",
            "_view_module_version": "1.2.0",
            "_view_name": "StyleView",
            "description_width": ""
          }
        },
        "0a70282b815742c79c22309912beb858": {
          "model_module": "@jupyter-widgets/base",
          "model_name": "LayoutModel",
          "model_module_version": "1.2.0",
          "state": {
            "_model_module": "@jupyter-widgets/base",
            "_model_module_version": "1.2.0",
            "_model_name": "LayoutModel",
            "_view_count": null,
            "_view_module": "@jupyter-widgets/base",
            "_view_module_version": "1.2.0",
            "_view_name": "LayoutView",
            "align_content": null,
            "align_items": null,
            "align_self": null,
            "border": null,
            "bottom": null,
            "display": null,
            "flex": null,
            "flex_flow": null,
            "grid_area": null,
            "grid_auto_columns": null,
            "grid_auto_flow": null,
            "grid_auto_rows": null,
            "grid_column": null,
            "grid_gap": null,
            "grid_row": null,
            "grid_template_areas": null,
            "grid_template_columns": null,
            "grid_template_rows": null,
            "height": null,
            "justify_content": null,
            "justify_items": null,
            "left": null,
            "margin": null,
            "max_height": null,
            "max_width": null,
            "min_height": null,
            "min_width": null,
            "object_fit": null,
            "object_position": null,
            "order": null,
            "overflow": null,
            "overflow_x": null,
            "overflow_y": null,
            "padding": null,
            "right": null,
            "top": null,
            "visibility": null,
            "width": null
          }
        },
        "dd61fd6b3f114ab6be456c1802c7e084": {
          "model_module": "@jupyter-widgets/controls",
          "model_name": "ProgressStyleModel",
          "model_module_version": "1.5.0",
          "state": {
            "_model_module": "@jupyter-widgets/controls",
            "_model_module_version": "1.5.0",
            "_model_name": "ProgressStyleModel",
            "_view_count": null,
            "_view_module": "@jupyter-widgets/base",
            "_view_module_version": "1.2.0",
            "_view_name": "StyleView",
            "bar_color": null,
            "description_width": ""
          }
        },
        "5520cd6c110c4d9ebc07fe0db748eaf2": {
          "model_module": "@jupyter-widgets/base",
          "model_name": "LayoutModel",
          "model_module_version": "1.2.0",
          "state": {
            "_model_module": "@jupyter-widgets/base",
            "_model_module_version": "1.2.0",
            "_model_name": "LayoutModel",
            "_view_count": null,
            "_view_module": "@jupyter-widgets/base",
            "_view_module_version": "1.2.0",
            "_view_name": "LayoutView",
            "align_content": null,
            "align_items": null,
            "align_self": null,
            "border": null,
            "bottom": null,
            "display": null,
            "flex": null,
            "flex_flow": null,
            "grid_area": null,
            "grid_auto_columns": null,
            "grid_auto_flow": null,
            "grid_auto_rows": null,
            "grid_column": null,
            "grid_gap": null,
            "grid_row": null,
            "grid_template_areas": null,
            "grid_template_columns": null,
            "grid_template_rows": null,
            "height": null,
            "justify_content": null,
            "justify_items": null,
            "left": null,
            "margin": null,
            "max_height": null,
            "max_width": null,
            "min_height": null,
            "min_width": null,
            "object_fit": null,
            "object_position": null,
            "order": null,
            "overflow": null,
            "overflow_x": null,
            "overflow_y": null,
            "padding": null,
            "right": null,
            "top": null,
            "visibility": null,
            "width": null
          }
        },
        "08e7775ccf03405089626c5b36ac6a8f": {
          "model_module": "@jupyter-widgets/controls",
          "model_name": "DescriptionStyleModel",
          "model_module_version": "1.5.0",
          "state": {
            "_model_module": "@jupyter-widgets/controls",
            "_model_module_version": "1.5.0",
            "_model_name": "DescriptionStyleModel",
            "_view_count": null,
            "_view_module": "@jupyter-widgets/base",
            "_view_module_version": "1.2.0",
            "_view_name": "StyleView",
            "description_width": ""
          }
        },
        "38892aa9a70f49ffa908300d8c42a505": {
          "model_module": "@jupyter-widgets/controls",
          "model_name": "HBoxModel",
          "model_module_version": "1.5.0",
          "state": {
            "_dom_classes": [],
            "_model_module": "@jupyter-widgets/controls",
            "_model_module_version": "1.5.0",
            "_model_name": "HBoxModel",
            "_view_count": null,
            "_view_module": "@jupyter-widgets/controls",
            "_view_module_version": "1.5.0",
            "_view_name": "HBoxView",
            "box_style": "",
            "children": [
              "IPY_MODEL_fafc1bf0bd8344dcb13626303862cdc7",
              "IPY_MODEL_f28e0c26d32e4adf9eb7f781afaaf983",
              "IPY_MODEL_163b530c76d54524a14808c7a48cba13"
            ],
            "layout": "IPY_MODEL_eecdf6dc697942769508dd88c6dade7d"
          }
        },
        "fafc1bf0bd8344dcb13626303862cdc7": {
          "model_module": "@jupyter-widgets/controls",
          "model_name": "HTMLModel",
          "model_module_version": "1.5.0",
          "state": {
            "_dom_classes": [],
            "_model_module": "@jupyter-widgets/controls",
            "_model_module_version": "1.5.0",
            "_model_name": "HTMLModel",
            "_view_count": null,
            "_view_module": "@jupyter-widgets/controls",
            "_view_module_version": "1.5.0",
            "_view_name": "HTMLView",
            "description": "",
            "description_tooltip": null,
            "layout": "IPY_MODEL_ec1e00934308486786a390b0967ad873",
            "placeholder": "​",
            "style": "IPY_MODEL_2494bdc4706d4c508c1047cdfd287455",
            "value": "Downloading: 100%"
          }
        },
        "f28e0c26d32e4adf9eb7f781afaaf983": {
          "model_module": "@jupyter-widgets/controls",
          "model_name": "FloatProgressModel",
          "model_module_version": "1.5.0",
          "state": {
            "_dom_classes": [],
            "_model_module": "@jupyter-widgets/controls",
            "_model_module_version": "1.5.0",
            "_model_name": "FloatProgressModel",
            "_view_count": null,
            "_view_module": "@jupyter-widgets/controls",
            "_view_module_version": "1.5.0",
            "_view_name": "ProgressView",
            "bar_style": "success",
            "description": "",
            "description_tooltip": null,
            "layout": "IPY_MODEL_2cd5abbcc65a43e08b31807f483917ad",
            "max": 466062,
            "min": 0,
            "orientation": "horizontal",
            "style": "IPY_MODEL_295afea6af5548e88c7dfa50ee27ac58",
            "value": 466062
          }
        },
        "163b530c76d54524a14808c7a48cba13": {
          "model_module": "@jupyter-widgets/controls",
          "model_name": "HTMLModel",
          "model_module_version": "1.5.0",
          "state": {
            "_dom_classes": [],
            "_model_module": "@jupyter-widgets/controls",
            "_model_module_version": "1.5.0",
            "_model_name": "HTMLModel",
            "_view_count": null,
            "_view_module": "@jupyter-widgets/controls",
            "_view_module_version": "1.5.0",
            "_view_name": "HTMLView",
            "description": "",
            "description_tooltip": null,
            "layout": "IPY_MODEL_508bb10f6bfd4b059f73b19788e211c2",
            "placeholder": "​",
            "style": "IPY_MODEL_b41df1ceca23496faa38a3a5bbf298c2",
            "value": " 455k/455k [00:00&lt;00:00, 544kB/s]"
          }
        },
        "eecdf6dc697942769508dd88c6dade7d": {
          "model_module": "@jupyter-widgets/base",
          "model_name": "LayoutModel",
          "model_module_version": "1.2.0",
          "state": {
            "_model_module": "@jupyter-widgets/base",
            "_model_module_version": "1.2.0",
            "_model_name": "LayoutModel",
            "_view_count": null,
            "_view_module": "@jupyter-widgets/base",
            "_view_module_version": "1.2.0",
            "_view_name": "LayoutView",
            "align_content": null,
            "align_items": null,
            "align_self": null,
            "border": null,
            "bottom": null,
            "display": null,
            "flex": null,
            "flex_flow": null,
            "grid_area": null,
            "grid_auto_columns": null,
            "grid_auto_flow": null,
            "grid_auto_rows": null,
            "grid_column": null,
            "grid_gap": null,
            "grid_row": null,
            "grid_template_areas": null,
            "grid_template_columns": null,
            "grid_template_rows": null,
            "height": null,
            "justify_content": null,
            "justify_items": null,
            "left": null,
            "margin": null,
            "max_height": null,
            "max_width": null,
            "min_height": null,
            "min_width": null,
            "object_fit": null,
            "object_position": null,
            "order": null,
            "overflow": null,
            "overflow_x": null,
            "overflow_y": null,
            "padding": null,
            "right": null,
            "top": null,
            "visibility": null,
            "width": null
          }
        },
        "ec1e00934308486786a390b0967ad873": {
          "model_module": "@jupyter-widgets/base",
          "model_name": "LayoutModel",
          "model_module_version": "1.2.0",
          "state": {
            "_model_module": "@jupyter-widgets/base",
            "_model_module_version": "1.2.0",
            "_model_name": "LayoutModel",
            "_view_count": null,
            "_view_module": "@jupyter-widgets/base",
            "_view_module_version": "1.2.0",
            "_view_name": "LayoutView",
            "align_content": null,
            "align_items": null,
            "align_self": null,
            "border": null,
            "bottom": null,
            "display": null,
            "flex": null,
            "flex_flow": null,
            "grid_area": null,
            "grid_auto_columns": null,
            "grid_auto_flow": null,
            "grid_auto_rows": null,
            "grid_column": null,
            "grid_gap": null,
            "grid_row": null,
            "grid_template_areas": null,
            "grid_template_columns": null,
            "grid_template_rows": null,
            "height": null,
            "justify_content": null,
            "justify_items": null,
            "left": null,
            "margin": null,
            "max_height": null,
            "max_width": null,
            "min_height": null,
            "min_width": null,
            "object_fit": null,
            "object_position": null,
            "order": null,
            "overflow": null,
            "overflow_x": null,
            "overflow_y": null,
            "padding": null,
            "right": null,
            "top": null,
            "visibility": null,
            "width": null
          }
        },
        "2494bdc4706d4c508c1047cdfd287455": {
          "model_module": "@jupyter-widgets/controls",
          "model_name": "DescriptionStyleModel",
          "model_module_version": "1.5.0",
          "state": {
            "_model_module": "@jupyter-widgets/controls",
            "_model_module_version": "1.5.0",
            "_model_name": "DescriptionStyleModel",
            "_view_count": null,
            "_view_module": "@jupyter-widgets/base",
            "_view_module_version": "1.2.0",
            "_view_name": "StyleView",
            "description_width": ""
          }
        },
        "2cd5abbcc65a43e08b31807f483917ad": {
          "model_module": "@jupyter-widgets/base",
          "model_name": "LayoutModel",
          "model_module_version": "1.2.0",
          "state": {
            "_model_module": "@jupyter-widgets/base",
            "_model_module_version": "1.2.0",
            "_model_name": "LayoutModel",
            "_view_count": null,
            "_view_module": "@jupyter-widgets/base",
            "_view_module_version": "1.2.0",
            "_view_name": "LayoutView",
            "align_content": null,
            "align_items": null,
            "align_self": null,
            "border": null,
            "bottom": null,
            "display": null,
            "flex": null,
            "flex_flow": null,
            "grid_area": null,
            "grid_auto_columns": null,
            "grid_auto_flow": null,
            "grid_auto_rows": null,
            "grid_column": null,
            "grid_gap": null,
            "grid_row": null,
            "grid_template_areas": null,
            "grid_template_columns": null,
            "grid_template_rows": null,
            "height": null,
            "justify_content": null,
            "justify_items": null,
            "left": null,
            "margin": null,
            "max_height": null,
            "max_width": null,
            "min_height": null,
            "min_width": null,
            "object_fit": null,
            "object_position": null,
            "order": null,
            "overflow": null,
            "overflow_x": null,
            "overflow_y": null,
            "padding": null,
            "right": null,
            "top": null,
            "visibility": null,
            "width": null
          }
        },
        "295afea6af5548e88c7dfa50ee27ac58": {
          "model_module": "@jupyter-widgets/controls",
          "model_name": "ProgressStyleModel",
          "model_module_version": "1.5.0",
          "state": {
            "_model_module": "@jupyter-widgets/controls",
            "_model_module_version": "1.5.0",
            "_model_name": "ProgressStyleModel",
            "_view_count": null,
            "_view_module": "@jupyter-widgets/base",
            "_view_module_version": "1.2.0",
            "_view_name": "StyleView",
            "bar_color": null,
            "description_width": ""
          }
        },
        "508bb10f6bfd4b059f73b19788e211c2": {
          "model_module": "@jupyter-widgets/base",
          "model_name": "LayoutModel",
          "model_module_version": "1.2.0",
          "state": {
            "_model_module": "@jupyter-widgets/base",
            "_model_module_version": "1.2.0",
            "_model_name": "LayoutModel",
            "_view_count": null,
            "_view_module": "@jupyter-widgets/base",
            "_view_module_version": "1.2.0",
            "_view_name": "LayoutView",
            "align_content": null,
            "align_items": null,
            "align_self": null,
            "border": null,
            "bottom": null,
            "display": null,
            "flex": null,
            "flex_flow": null,
            "grid_area": null,
            "grid_auto_columns": null,
            "grid_auto_flow": null,
            "grid_auto_rows": null,
            "grid_column": null,
            "grid_gap": null,
            "grid_row": null,
            "grid_template_areas": null,
            "grid_template_columns": null,
            "grid_template_rows": null,
            "height": null,
            "justify_content": null,
            "justify_items": null,
            "left": null,
            "margin": null,
            "max_height": null,
            "max_width": null,
            "min_height": null,
            "min_width": null,
            "object_fit": null,
            "object_position": null,
            "order": null,
            "overflow": null,
            "overflow_x": null,
            "overflow_y": null,
            "padding": null,
            "right": null,
            "top": null,
            "visibility": null,
            "width": null
          }
        },
        "b41df1ceca23496faa38a3a5bbf298c2": {
          "model_module": "@jupyter-widgets/controls",
          "model_name": "DescriptionStyleModel",
          "model_module_version": "1.5.0",
          "state": {
            "_model_module": "@jupyter-widgets/controls",
            "_model_module_version": "1.5.0",
            "_model_name": "DescriptionStyleModel",
            "_view_count": null,
            "_view_module": "@jupyter-widgets/base",
            "_view_module_version": "1.2.0",
            "_view_name": "StyleView",
            "description_width": ""
          }
        },
        "647fe867aecb48dea99784a0e90b553c": {
          "model_module": "@jupyter-widgets/controls",
          "model_name": "HBoxModel",
          "model_module_version": "1.5.0",
          "state": {
            "_dom_classes": [],
            "_model_module": "@jupyter-widgets/controls",
            "_model_module_version": "1.5.0",
            "_model_name": "HBoxModel",
            "_view_count": null,
            "_view_module": "@jupyter-widgets/controls",
            "_view_module_version": "1.5.0",
            "_view_name": "HBoxView",
            "box_style": "",
            "children": [
              "IPY_MODEL_3986f57a2ca941e597b2b4255d33849f",
              "IPY_MODEL_19be1cf8351b4136bbd7eb3aca4242b1",
              "IPY_MODEL_de3990442a304fe6a8b06fb60a78ed9f"
            ],
            "layout": "IPY_MODEL_94e8924276714ea9b2f64bc9f817bf10"
          }
        },
        "3986f57a2ca941e597b2b4255d33849f": {
          "model_module": "@jupyter-widgets/controls",
          "model_name": "HTMLModel",
          "model_module_version": "1.5.0",
          "state": {
            "_dom_classes": [],
            "_model_module": "@jupyter-widgets/controls",
            "_model_module_version": "1.5.0",
            "_model_name": "HTMLModel",
            "_view_count": null,
            "_view_module": "@jupyter-widgets/controls",
            "_view_module_version": "1.5.0",
            "_view_name": "HTMLView",
            "description": "",
            "description_tooltip": null,
            "layout": "IPY_MODEL_a717285f74e047a980f350547d72f11b",
            "placeholder": "​",
            "style": "IPY_MODEL_846c9a97dd2d4a95a8046acd9d0a0c22",
            "value": "100%"
          }
        },
        "19be1cf8351b4136bbd7eb3aca4242b1": {
          "model_module": "@jupyter-widgets/controls",
          "model_name": "FloatProgressModel",
          "model_module_version": "1.5.0",
          "state": {
            "_dom_classes": [],
            "_model_module": "@jupyter-widgets/controls",
            "_model_module_version": "1.5.0",
            "_model_name": "FloatProgressModel",
            "_view_count": null,
            "_view_module": "@jupyter-widgets/controls",
            "_view_module_version": "1.5.0",
            "_view_name": "ProgressView",
            "bar_style": "success",
            "description": "",
            "description_tooltip": null,
            "layout": "IPY_MODEL_169b8241c6a541d7a31b4366553c623a",
            "max": 83,
            "min": 0,
            "orientation": "horizontal",
            "style": "IPY_MODEL_5dc205a9c1fe48fc8ae7161a7878591e",
            "value": 83
          }
        },
        "de3990442a304fe6a8b06fb60a78ed9f": {
          "model_module": "@jupyter-widgets/controls",
          "model_name": "HTMLModel",
          "model_module_version": "1.5.0",
          "state": {
            "_dom_classes": [],
            "_model_module": "@jupyter-widgets/controls",
            "_model_module_version": "1.5.0",
            "_model_name": "HTMLModel",
            "_view_count": null,
            "_view_module": "@jupyter-widgets/controls",
            "_view_module_version": "1.5.0",
            "_view_name": "HTMLView",
            "description": "",
            "description_tooltip": null,
            "layout": "IPY_MODEL_c733c41e41da44f395792a75c772cc0b",
            "placeholder": "​",
            "style": "IPY_MODEL_59b797aa2e884b97b760be8ba08b3895",
            "value": " 83/83 [00:33&lt;00:00,  2.99ba/s]"
          }
        },
        "94e8924276714ea9b2f64bc9f817bf10": {
          "model_module": "@jupyter-widgets/base",
          "model_name": "LayoutModel",
          "model_module_version": "1.2.0",
          "state": {
            "_model_module": "@jupyter-widgets/base",
            "_model_module_version": "1.2.0",
            "_model_name": "LayoutModel",
            "_view_count": null,
            "_view_module": "@jupyter-widgets/base",
            "_view_module_version": "1.2.0",
            "_view_name": "LayoutView",
            "align_content": null,
            "align_items": null,
            "align_self": null,
            "border": null,
            "bottom": null,
            "display": null,
            "flex": null,
            "flex_flow": null,
            "grid_area": null,
            "grid_auto_columns": null,
            "grid_auto_flow": null,
            "grid_auto_rows": null,
            "grid_column": null,
            "grid_gap": null,
            "grid_row": null,
            "grid_template_areas": null,
            "grid_template_columns": null,
            "grid_template_rows": null,
            "height": null,
            "justify_content": null,
            "justify_items": null,
            "left": null,
            "margin": null,
            "max_height": null,
            "max_width": null,
            "min_height": null,
            "min_width": null,
            "object_fit": null,
            "object_position": null,
            "order": null,
            "overflow": null,
            "overflow_x": null,
            "overflow_y": null,
            "padding": null,
            "right": null,
            "top": null,
            "visibility": null,
            "width": null
          }
        },
        "a717285f74e047a980f350547d72f11b": {
          "model_module": "@jupyter-widgets/base",
          "model_name": "LayoutModel",
          "model_module_version": "1.2.0",
          "state": {
            "_model_module": "@jupyter-widgets/base",
            "_model_module_version": "1.2.0",
            "_model_name": "LayoutModel",
            "_view_count": null,
            "_view_module": "@jupyter-widgets/base",
            "_view_module_version": "1.2.0",
            "_view_name": "LayoutView",
            "align_content": null,
            "align_items": null,
            "align_self": null,
            "border": null,
            "bottom": null,
            "display": null,
            "flex": null,
            "flex_flow": null,
            "grid_area": null,
            "grid_auto_columns": null,
            "grid_auto_flow": null,
            "grid_auto_rows": null,
            "grid_column": null,
            "grid_gap": null,
            "grid_row": null,
            "grid_template_areas": null,
            "grid_template_columns": null,
            "grid_template_rows": null,
            "height": null,
            "justify_content": null,
            "justify_items": null,
            "left": null,
            "margin": null,
            "max_height": null,
            "max_width": null,
            "min_height": null,
            "min_width": null,
            "object_fit": null,
            "object_position": null,
            "order": null,
            "overflow": null,
            "overflow_x": null,
            "overflow_y": null,
            "padding": null,
            "right": null,
            "top": null,
            "visibility": null,
            "width": null
          }
        },
        "846c9a97dd2d4a95a8046acd9d0a0c22": {
          "model_module": "@jupyter-widgets/controls",
          "model_name": "DescriptionStyleModel",
          "model_module_version": "1.5.0",
          "state": {
            "_model_module": "@jupyter-widgets/controls",
            "_model_module_version": "1.5.0",
            "_model_name": "DescriptionStyleModel",
            "_view_count": null,
            "_view_module": "@jupyter-widgets/base",
            "_view_module_version": "1.2.0",
            "_view_name": "StyleView",
            "description_width": ""
          }
        },
        "169b8241c6a541d7a31b4366553c623a": {
          "model_module": "@jupyter-widgets/base",
          "model_name": "LayoutModel",
          "model_module_version": "1.2.0",
          "state": {
            "_model_module": "@jupyter-widgets/base",
            "_model_module_version": "1.2.0",
            "_model_name": "LayoutModel",
            "_view_count": null,
            "_view_module": "@jupyter-widgets/base",
            "_view_module_version": "1.2.0",
            "_view_name": "LayoutView",
            "align_content": null,
            "align_items": null,
            "align_self": null,
            "border": null,
            "bottom": null,
            "display": null,
            "flex": null,
            "flex_flow": null,
            "grid_area": null,
            "grid_auto_columns": null,
            "grid_auto_flow": null,
            "grid_auto_rows": null,
            "grid_column": null,
            "grid_gap": null,
            "grid_row": null,
            "grid_template_areas": null,
            "grid_template_columns": null,
            "grid_template_rows": null,
            "height": null,
            "justify_content": null,
            "justify_items": null,
            "left": null,
            "margin": null,
            "max_height": null,
            "max_width": null,
            "min_height": null,
            "min_width": null,
            "object_fit": null,
            "object_position": null,
            "order": null,
            "overflow": null,
            "overflow_x": null,
            "overflow_y": null,
            "padding": null,
            "right": null,
            "top": null,
            "visibility": null,
            "width": null
          }
        },
        "5dc205a9c1fe48fc8ae7161a7878591e": {
          "model_module": "@jupyter-widgets/controls",
          "model_name": "ProgressStyleModel",
          "model_module_version": "1.5.0",
          "state": {
            "_model_module": "@jupyter-widgets/controls",
            "_model_module_version": "1.5.0",
            "_model_name": "ProgressStyleModel",
            "_view_count": null,
            "_view_module": "@jupyter-widgets/base",
            "_view_module_version": "1.2.0",
            "_view_name": "StyleView",
            "bar_color": null,
            "description_width": ""
          }
        },
        "c733c41e41da44f395792a75c772cc0b": {
          "model_module": "@jupyter-widgets/base",
          "model_name": "LayoutModel",
          "model_module_version": "1.2.0",
          "state": {
            "_model_module": "@jupyter-widgets/base",
            "_model_module_version": "1.2.0",
            "_model_name": "LayoutModel",
            "_view_count": null,
            "_view_module": "@jupyter-widgets/base",
            "_view_module_version": "1.2.0",
            "_view_name": "LayoutView",
            "align_content": null,
            "align_items": null,
            "align_self": null,
            "border": null,
            "bottom": null,
            "display": null,
            "flex": null,
            "flex_flow": null,
            "grid_area": null,
            "grid_auto_columns": null,
            "grid_auto_flow": null,
            "grid_auto_rows": null,
            "grid_column": null,
            "grid_gap": null,
            "grid_row": null,
            "grid_template_areas": null,
            "grid_template_columns": null,
            "grid_template_rows": null,
            "height": null,
            "justify_content": null,
            "justify_items": null,
            "left": null,
            "margin": null,
            "max_height": null,
            "max_width": null,
            "min_height": null,
            "min_width": null,
            "object_fit": null,
            "object_position": null,
            "order": null,
            "overflow": null,
            "overflow_x": null,
            "overflow_y": null,
            "padding": null,
            "right": null,
            "top": null,
            "visibility": null,
            "width": null
          }
        },
        "59b797aa2e884b97b760be8ba08b3895": {
          "model_module": "@jupyter-widgets/controls",
          "model_name": "DescriptionStyleModel",
          "model_module_version": "1.5.0",
          "state": {
            "_model_module": "@jupyter-widgets/controls",
            "_model_module_version": "1.5.0",
            "_model_name": "DescriptionStyleModel",
            "_view_count": null,
            "_view_module": "@jupyter-widgets/base",
            "_view_module_version": "1.2.0",
            "_view_name": "StyleView",
            "description_width": ""
          }
        },
        "9e85d024560242cb98f1dc688aa52b2f": {
          "model_module": "@jupyter-widgets/controls",
          "model_name": "HBoxModel",
          "model_module_version": "1.5.0",
          "state": {
            "_dom_classes": [],
            "_model_module": "@jupyter-widgets/controls",
            "_model_module_version": "1.5.0",
            "_model_name": "HBoxModel",
            "_view_count": null,
            "_view_module": "@jupyter-widgets/controls",
            "_view_module_version": "1.5.0",
            "_view_name": "HBoxView",
            "box_style": "",
            "children": [
              "IPY_MODEL_87953afc107b4b7aaf3079edc96843e2",
              "IPY_MODEL_aeca579926a24c9d9a4d9aaf305d1c41",
              "IPY_MODEL_550ab17462954f4db9d2ecb848d7f5b9"
            ],
            "layout": "IPY_MODEL_3d62ead703324d44a1bcbc3c30d94a39"
          }
        },
        "87953afc107b4b7aaf3079edc96843e2": {
          "model_module": "@jupyter-widgets/controls",
          "model_name": "HTMLModel",
          "model_module_version": "1.5.0",
          "state": {
            "_dom_classes": [],
            "_model_module": "@jupyter-widgets/controls",
            "_model_module_version": "1.5.0",
            "_model_name": "HTMLModel",
            "_view_count": null,
            "_view_module": "@jupyter-widgets/controls",
            "_view_module_version": "1.5.0",
            "_view_name": "HTMLView",
            "description": "",
            "description_tooltip": null,
            "layout": "IPY_MODEL_02646f7f35b6495a9d8ca39a1ac99a22",
            "placeholder": "​",
            "style": "IPY_MODEL_4b5e5ac9bcf748f98f604fd1bef764ee",
            "value": "100%"
          }
        },
        "aeca579926a24c9d9a4d9aaf305d1c41": {
          "model_module": "@jupyter-widgets/controls",
          "model_name": "FloatProgressModel",
          "model_module_version": "1.5.0",
          "state": {
            "_dom_classes": [],
            "_model_module": "@jupyter-widgets/controls",
            "_model_module_version": "1.5.0",
            "_model_name": "FloatProgressModel",
            "_view_count": null,
            "_view_module": "@jupyter-widgets/controls",
            "_view_module_version": "1.5.0",
            "_view_name": "ProgressView",
            "bar_style": "success",
            "description": "",
            "description_tooltip": null,
            "layout": "IPY_MODEL_6439241196b74bd1a22cff3549eda3b5",
            "max": 21,
            "min": 0,
            "orientation": "horizontal",
            "style": "IPY_MODEL_87a290729d50484eb720877ae998f33c",
            "value": 21
          }
        },
        "550ab17462954f4db9d2ecb848d7f5b9": {
          "model_module": "@jupyter-widgets/controls",
          "model_name": "HTMLModel",
          "model_module_version": "1.5.0",
          "state": {
            "_dom_classes": [],
            "_model_module": "@jupyter-widgets/controls",
            "_model_module_version": "1.5.0",
            "_model_name": "HTMLModel",
            "_view_count": null,
            "_view_module": "@jupyter-widgets/controls",
            "_view_module_version": "1.5.0",
            "_view_name": "HTMLView",
            "description": "",
            "description_tooltip": null,
            "layout": "IPY_MODEL_e548afc5f87441f3972b09be4dd81d35",
            "placeholder": "​",
            "style": "IPY_MODEL_33cdebfc1a2244b7b205bda1aad0c796",
            "value": " 21/21 [00:09&lt;00:00,  2.37ba/s]"
          }
        },
        "3d62ead703324d44a1bcbc3c30d94a39": {
          "model_module": "@jupyter-widgets/base",
          "model_name": "LayoutModel",
          "model_module_version": "1.2.0",
          "state": {
            "_model_module": "@jupyter-widgets/base",
            "_model_module_version": "1.2.0",
            "_model_name": "LayoutModel",
            "_view_count": null,
            "_view_module": "@jupyter-widgets/base",
            "_view_module_version": "1.2.0",
            "_view_name": "LayoutView",
            "align_content": null,
            "align_items": null,
            "align_self": null,
            "border": null,
            "bottom": null,
            "display": null,
            "flex": null,
            "flex_flow": null,
            "grid_area": null,
            "grid_auto_columns": null,
            "grid_auto_flow": null,
            "grid_auto_rows": null,
            "grid_column": null,
            "grid_gap": null,
            "grid_row": null,
            "grid_template_areas": null,
            "grid_template_columns": null,
            "grid_template_rows": null,
            "height": null,
            "justify_content": null,
            "justify_items": null,
            "left": null,
            "margin": null,
            "max_height": null,
            "max_width": null,
            "min_height": null,
            "min_width": null,
            "object_fit": null,
            "object_position": null,
            "order": null,
            "overflow": null,
            "overflow_x": null,
            "overflow_y": null,
            "padding": null,
            "right": null,
            "top": null,
            "visibility": null,
            "width": null
          }
        },
        "02646f7f35b6495a9d8ca39a1ac99a22": {
          "model_module": "@jupyter-widgets/base",
          "model_name": "LayoutModel",
          "model_module_version": "1.2.0",
          "state": {
            "_model_module": "@jupyter-widgets/base",
            "_model_module_version": "1.2.0",
            "_model_name": "LayoutModel",
            "_view_count": null,
            "_view_module": "@jupyter-widgets/base",
            "_view_module_version": "1.2.0",
            "_view_name": "LayoutView",
            "align_content": null,
            "align_items": null,
            "align_self": null,
            "border": null,
            "bottom": null,
            "display": null,
            "flex": null,
            "flex_flow": null,
            "grid_area": null,
            "grid_auto_columns": null,
            "grid_auto_flow": null,
            "grid_auto_rows": null,
            "grid_column": null,
            "grid_gap": null,
            "grid_row": null,
            "grid_template_areas": null,
            "grid_template_columns": null,
            "grid_template_rows": null,
            "height": null,
            "justify_content": null,
            "justify_items": null,
            "left": null,
            "margin": null,
            "max_height": null,
            "max_width": null,
            "min_height": null,
            "min_width": null,
            "object_fit": null,
            "object_position": null,
            "order": null,
            "overflow": null,
            "overflow_x": null,
            "overflow_y": null,
            "padding": null,
            "right": null,
            "top": null,
            "visibility": null,
            "width": null
          }
        },
        "4b5e5ac9bcf748f98f604fd1bef764ee": {
          "model_module": "@jupyter-widgets/controls",
          "model_name": "DescriptionStyleModel",
          "model_module_version": "1.5.0",
          "state": {
            "_model_module": "@jupyter-widgets/controls",
            "_model_module_version": "1.5.0",
            "_model_name": "DescriptionStyleModel",
            "_view_count": null,
            "_view_module": "@jupyter-widgets/base",
            "_view_module_version": "1.2.0",
            "_view_name": "StyleView",
            "description_width": ""
          }
        },
        "6439241196b74bd1a22cff3549eda3b5": {
          "model_module": "@jupyter-widgets/base",
          "model_name": "LayoutModel",
          "model_module_version": "1.2.0",
          "state": {
            "_model_module": "@jupyter-widgets/base",
            "_model_module_version": "1.2.0",
            "_model_name": "LayoutModel",
            "_view_count": null,
            "_view_module": "@jupyter-widgets/base",
            "_view_module_version": "1.2.0",
            "_view_name": "LayoutView",
            "align_content": null,
            "align_items": null,
            "align_self": null,
            "border": null,
            "bottom": null,
            "display": null,
            "flex": null,
            "flex_flow": null,
            "grid_area": null,
            "grid_auto_columns": null,
            "grid_auto_flow": null,
            "grid_auto_rows": null,
            "grid_column": null,
            "grid_gap": null,
            "grid_row": null,
            "grid_template_areas": null,
            "grid_template_columns": null,
            "grid_template_rows": null,
            "height": null,
            "justify_content": null,
            "justify_items": null,
            "left": null,
            "margin": null,
            "max_height": null,
            "max_width": null,
            "min_height": null,
            "min_width": null,
            "object_fit": null,
            "object_position": null,
            "order": null,
            "overflow": null,
            "overflow_x": null,
            "overflow_y": null,
            "padding": null,
            "right": null,
            "top": null,
            "visibility": null,
            "width": null
          }
        },
        "87a290729d50484eb720877ae998f33c": {
          "model_module": "@jupyter-widgets/controls",
          "model_name": "ProgressStyleModel",
          "model_module_version": "1.5.0",
          "state": {
            "_model_module": "@jupyter-widgets/controls",
            "_model_module_version": "1.5.0",
            "_model_name": "ProgressStyleModel",
            "_view_count": null,
            "_view_module": "@jupyter-widgets/base",
            "_view_module_version": "1.2.0",
            "_view_name": "StyleView",
            "bar_color": null,
            "description_width": ""
          }
        },
        "e548afc5f87441f3972b09be4dd81d35": {
          "model_module": "@jupyter-widgets/base",
          "model_name": "LayoutModel",
          "model_module_version": "1.2.0",
          "state": {
            "_model_module": "@jupyter-widgets/base",
            "_model_module_version": "1.2.0",
            "_model_name": "LayoutModel",
            "_view_count": null,
            "_view_module": "@jupyter-widgets/base",
            "_view_module_version": "1.2.0",
            "_view_name": "LayoutView",
            "align_content": null,
            "align_items": null,
            "align_self": null,
            "border": null,
            "bottom": null,
            "display": null,
            "flex": null,
            "flex_flow": null,
            "grid_area": null,
            "grid_auto_columns": null,
            "grid_auto_flow": null,
            "grid_auto_rows": null,
            "grid_column": null,
            "grid_gap": null,
            "grid_row": null,
            "grid_template_areas": null,
            "grid_template_columns": null,
            "grid_template_rows": null,
            "height": null,
            "justify_content": null,
            "justify_items": null,
            "left": null,
            "margin": null,
            "max_height": null,
            "max_width": null,
            "min_height": null,
            "min_width": null,
            "object_fit": null,
            "object_position": null,
            "order": null,
            "overflow": null,
            "overflow_x": null,
            "overflow_y": null,
            "padding": null,
            "right": null,
            "top": null,
            "visibility": null,
            "width": null
          }
        },
        "33cdebfc1a2244b7b205bda1aad0c796": {
          "model_module": "@jupyter-widgets/controls",
          "model_name": "DescriptionStyleModel",
          "model_module_version": "1.5.0",
          "state": {
            "_model_module": "@jupyter-widgets/controls",
            "_model_module_version": "1.5.0",
            "_model_name": "DescriptionStyleModel",
            "_view_count": null,
            "_view_module": "@jupyter-widgets/base",
            "_view_module_version": "1.2.0",
            "_view_name": "StyleView",
            "description_width": ""
          }
        },
        "a2b7c212e64f46f983df8bef621942fe": {
          "model_module": "@jupyter-widgets/controls",
          "model_name": "HBoxModel",
          "model_module_version": "1.5.0",
          "state": {
            "_dom_classes": [],
            "_model_module": "@jupyter-widgets/controls",
            "_model_module_version": "1.5.0",
            "_model_name": "HBoxModel",
            "_view_count": null,
            "_view_module": "@jupyter-widgets/controls",
            "_view_module_version": "1.5.0",
            "_view_name": "HBoxView",
            "box_style": "",
            "children": [
              "IPY_MODEL_d1d55871dd084503a07a6ee50c20fea0",
              "IPY_MODEL_4db1868bbb164fb2987c2c1695dc3b39",
              "IPY_MODEL_4e8ea198f7ca453caf9b5e882c04c19d"
            ],
            "layout": "IPY_MODEL_001b2667c04a44a8be6ccbfdd7388ec4"
          }
        },
        "d1d55871dd084503a07a6ee50c20fea0": {
          "model_module": "@jupyter-widgets/controls",
          "model_name": "HTMLModel",
          "model_module_version": "1.5.0",
          "state": {
            "_dom_classes": [],
            "_model_module": "@jupyter-widgets/controls",
            "_model_module_version": "1.5.0",
            "_model_name": "HTMLModel",
            "_view_count": null,
            "_view_module": "@jupyter-widgets/controls",
            "_view_module_version": "1.5.0",
            "_view_name": "HTMLView",
            "description": "",
            "description_tooltip": null,
            "layout": "IPY_MODEL_3c5f6d53608044d797b90d7119cfe1de",
            "placeholder": "​",
            "style": "IPY_MODEL_b3432820ed204173bf3b36acb750a3b2",
            "value": "100%"
          }
        },
        "4db1868bbb164fb2987c2c1695dc3b39": {
          "model_module": "@jupyter-widgets/controls",
          "model_name": "FloatProgressModel",
          "model_module_version": "1.5.0",
          "state": {
            "_dom_classes": [],
            "_model_module": "@jupyter-widgets/controls",
            "_model_module_version": "1.5.0",
            "_model_name": "FloatProgressModel",
            "_view_count": null,
            "_view_module": "@jupyter-widgets/controls",
            "_view_module_version": "1.5.0",
            "_view_name": "ProgressView",
            "bar_style": "success",
            "description": "",
            "description_tooltip": null,
            "layout": "IPY_MODEL_966d6296b0b2416aad19c3a14bfc7ed5",
            "max": 26,
            "min": 0,
            "orientation": "horizontal",
            "style": "IPY_MODEL_440b0f5b2d2140979b46e3d111300ae8",
            "value": 26
          }
        },
        "4e8ea198f7ca453caf9b5e882c04c19d": {
          "model_module": "@jupyter-widgets/controls",
          "model_name": "HTMLModel",
          "model_module_version": "1.5.0",
          "state": {
            "_dom_classes": [],
            "_model_module": "@jupyter-widgets/controls",
            "_model_module_version": "1.5.0",
            "_model_name": "HTMLModel",
            "_view_count": null,
            "_view_module": "@jupyter-widgets/controls",
            "_view_module_version": "1.5.0",
            "_view_name": "HTMLView",
            "description": "",
            "description_tooltip": null,
            "layout": "IPY_MODEL_58054bd81c154eab8331190cc119b061",
            "placeholder": "​",
            "style": "IPY_MODEL_c6c5f37831f046c5810b6bc8d3115984",
            "value": " 26/26 [00:10&lt;00:00,  3.23ba/s]"
          }
        },
        "001b2667c04a44a8be6ccbfdd7388ec4": {
          "model_module": "@jupyter-widgets/base",
          "model_name": "LayoutModel",
          "model_module_version": "1.2.0",
          "state": {
            "_model_module": "@jupyter-widgets/base",
            "_model_module_version": "1.2.0",
            "_model_name": "LayoutModel",
            "_view_count": null,
            "_view_module": "@jupyter-widgets/base",
            "_view_module_version": "1.2.0",
            "_view_name": "LayoutView",
            "align_content": null,
            "align_items": null,
            "align_self": null,
            "border": null,
            "bottom": null,
            "display": null,
            "flex": null,
            "flex_flow": null,
            "grid_area": null,
            "grid_auto_columns": null,
            "grid_auto_flow": null,
            "grid_auto_rows": null,
            "grid_column": null,
            "grid_gap": null,
            "grid_row": null,
            "grid_template_areas": null,
            "grid_template_columns": null,
            "grid_template_rows": null,
            "height": null,
            "justify_content": null,
            "justify_items": null,
            "left": null,
            "margin": null,
            "max_height": null,
            "max_width": null,
            "min_height": null,
            "min_width": null,
            "object_fit": null,
            "object_position": null,
            "order": null,
            "overflow": null,
            "overflow_x": null,
            "overflow_y": null,
            "padding": null,
            "right": null,
            "top": null,
            "visibility": null,
            "width": null
          }
        },
        "3c5f6d53608044d797b90d7119cfe1de": {
          "model_module": "@jupyter-widgets/base",
          "model_name": "LayoutModel",
          "model_module_version": "1.2.0",
          "state": {
            "_model_module": "@jupyter-widgets/base",
            "_model_module_version": "1.2.0",
            "_model_name": "LayoutModel",
            "_view_count": null,
            "_view_module": "@jupyter-widgets/base",
            "_view_module_version": "1.2.0",
            "_view_name": "LayoutView",
            "align_content": null,
            "align_items": null,
            "align_self": null,
            "border": null,
            "bottom": null,
            "display": null,
            "flex": null,
            "flex_flow": null,
            "grid_area": null,
            "grid_auto_columns": null,
            "grid_auto_flow": null,
            "grid_auto_rows": null,
            "grid_column": null,
            "grid_gap": null,
            "grid_row": null,
            "grid_template_areas": null,
            "grid_template_columns": null,
            "grid_template_rows": null,
            "height": null,
            "justify_content": null,
            "justify_items": null,
            "left": null,
            "margin": null,
            "max_height": null,
            "max_width": null,
            "min_height": null,
            "min_width": null,
            "object_fit": null,
            "object_position": null,
            "order": null,
            "overflow": null,
            "overflow_x": null,
            "overflow_y": null,
            "padding": null,
            "right": null,
            "top": null,
            "visibility": null,
            "width": null
          }
        },
        "b3432820ed204173bf3b36acb750a3b2": {
          "model_module": "@jupyter-widgets/controls",
          "model_name": "DescriptionStyleModel",
          "model_module_version": "1.5.0",
          "state": {
            "_model_module": "@jupyter-widgets/controls",
            "_model_module_version": "1.5.0",
            "_model_name": "DescriptionStyleModel",
            "_view_count": null,
            "_view_module": "@jupyter-widgets/base",
            "_view_module_version": "1.2.0",
            "_view_name": "StyleView",
            "description_width": ""
          }
        },
        "966d6296b0b2416aad19c3a14bfc7ed5": {
          "model_module": "@jupyter-widgets/base",
          "model_name": "LayoutModel",
          "model_module_version": "1.2.0",
          "state": {
            "_model_module": "@jupyter-widgets/base",
            "_model_module_version": "1.2.0",
            "_model_name": "LayoutModel",
            "_view_count": null,
            "_view_module": "@jupyter-widgets/base",
            "_view_module_version": "1.2.0",
            "_view_name": "LayoutView",
            "align_content": null,
            "align_items": null,
            "align_self": null,
            "border": null,
            "bottom": null,
            "display": null,
            "flex": null,
            "flex_flow": null,
            "grid_area": null,
            "grid_auto_columns": null,
            "grid_auto_flow": null,
            "grid_auto_rows": null,
            "grid_column": null,
            "grid_gap": null,
            "grid_row": null,
            "grid_template_areas": null,
            "grid_template_columns": null,
            "grid_template_rows": null,
            "height": null,
            "justify_content": null,
            "justify_items": null,
            "left": null,
            "margin": null,
            "max_height": null,
            "max_width": null,
            "min_height": null,
            "min_width": null,
            "object_fit": null,
            "object_position": null,
            "order": null,
            "overflow": null,
            "overflow_x": null,
            "overflow_y": null,
            "padding": null,
            "right": null,
            "top": null,
            "visibility": null,
            "width": null
          }
        },
        "440b0f5b2d2140979b46e3d111300ae8": {
          "model_module": "@jupyter-widgets/controls",
          "model_name": "ProgressStyleModel",
          "model_module_version": "1.5.0",
          "state": {
            "_model_module": "@jupyter-widgets/controls",
            "_model_module_version": "1.5.0",
            "_model_name": "ProgressStyleModel",
            "_view_count": null,
            "_view_module": "@jupyter-widgets/base",
            "_view_module_version": "1.2.0",
            "_view_name": "StyleView",
            "bar_color": null,
            "description_width": ""
          }
        },
        "58054bd81c154eab8331190cc119b061": {
          "model_module": "@jupyter-widgets/base",
          "model_name": "LayoutModel",
          "model_module_version": "1.2.0",
          "state": {
            "_model_module": "@jupyter-widgets/base",
            "_model_module_version": "1.2.0",
            "_model_name": "LayoutModel",
            "_view_count": null,
            "_view_module": "@jupyter-widgets/base",
            "_view_module_version": "1.2.0",
            "_view_name": "LayoutView",
            "align_content": null,
            "align_items": null,
            "align_self": null,
            "border": null,
            "bottom": null,
            "display": null,
            "flex": null,
            "flex_flow": null,
            "grid_area": null,
            "grid_auto_columns": null,
            "grid_auto_flow": null,
            "grid_auto_rows": null,
            "grid_column": null,
            "grid_gap": null,
            "grid_row": null,
            "grid_template_areas": null,
            "grid_template_columns": null,
            "grid_template_rows": null,
            "height": null,
            "justify_content": null,
            "justify_items": null,
            "left": null,
            "margin": null,
            "max_height": null,
            "max_width": null,
            "min_height": null,
            "min_width": null,
            "object_fit": null,
            "object_position": null,
            "order": null,
            "overflow": null,
            "overflow_x": null,
            "overflow_y": null,
            "padding": null,
            "right": null,
            "top": null,
            "visibility": null,
            "width": null
          }
        },
        "c6c5f37831f046c5810b6bc8d3115984": {
          "model_module": "@jupyter-widgets/controls",
          "model_name": "DescriptionStyleModel",
          "model_module_version": "1.5.0",
          "state": {
            "_model_module": "@jupyter-widgets/controls",
            "_model_module_version": "1.5.0",
            "_model_name": "DescriptionStyleModel",
            "_view_count": null,
            "_view_module": "@jupyter-widgets/base",
            "_view_module_version": "1.2.0",
            "_view_name": "StyleView",
            "description_width": ""
          }
        },
        "37f13e4bb5294d049c050fb8053022dd": {
          "model_module": "@jupyter-widgets/controls",
          "model_name": "HBoxModel",
          "model_module_version": "1.5.0",
          "state": {
            "_dom_classes": [],
            "_model_module": "@jupyter-widgets/controls",
            "_model_module_version": "1.5.0",
            "_model_name": "HBoxModel",
            "_view_count": null,
            "_view_module": "@jupyter-widgets/controls",
            "_view_module_version": "1.5.0",
            "_view_name": "HBoxView",
            "box_style": "",
            "children": [
              "IPY_MODEL_6c5a5d0c3ef343028748601af5b42f63",
              "IPY_MODEL_7930c29393f14c53be24c9930292cb71",
              "IPY_MODEL_5051856925bb4811a6174d150e0eefe8"
            ],
            "layout": "IPY_MODEL_d7ad3985fe244069b16a4c10e60e2460"
          }
        },
        "6c5a5d0c3ef343028748601af5b42f63": {
          "model_module": "@jupyter-widgets/controls",
          "model_name": "HTMLModel",
          "model_module_version": "1.5.0",
          "state": {
            "_dom_classes": [],
            "_model_module": "@jupyter-widgets/controls",
            "_model_module_version": "1.5.0",
            "_model_name": "HTMLModel",
            "_view_count": null,
            "_view_module": "@jupyter-widgets/controls",
            "_view_module_version": "1.5.0",
            "_view_name": "HTMLView",
            "description": "",
            "description_tooltip": null,
            "layout": "IPY_MODEL_34735e12e4384f71957941a586393612",
            "placeholder": "​",
            "style": "IPY_MODEL_a383c0e79715463180d27291954d438e",
            "value": "100%"
          }
        },
        "7930c29393f14c53be24c9930292cb71": {
          "model_module": "@jupyter-widgets/controls",
          "model_name": "FloatProgressModel",
          "model_module_version": "1.5.0",
          "state": {
            "_dom_classes": [],
            "_model_module": "@jupyter-widgets/controls",
            "_model_module_version": "1.5.0",
            "_model_name": "FloatProgressModel",
            "_view_count": null,
            "_view_module": "@jupyter-widgets/controls",
            "_view_module_version": "1.5.0",
            "_view_name": "ProgressView",
            "bar_style": "success",
            "description": "",
            "description_tooltip": null,
            "layout": "IPY_MODEL_2114f71812e3419dab99b844bbc25e6f",
            "max": 22,
            "min": 0,
            "orientation": "horizontal",
            "style": "IPY_MODEL_b3e402c97c0048518a268ad65b34c0b6",
            "value": 22
          }
        },
        "5051856925bb4811a6174d150e0eefe8": {
          "model_module": "@jupyter-widgets/controls",
          "model_name": "HTMLModel",
          "model_module_version": "1.5.0",
          "state": {
            "_dom_classes": [],
            "_model_module": "@jupyter-widgets/controls",
            "_model_module_version": "1.5.0",
            "_model_name": "HTMLModel",
            "_view_count": null,
            "_view_module": "@jupyter-widgets/controls",
            "_view_module_version": "1.5.0",
            "_view_name": "HTMLView",
            "description": "",
            "description_tooltip": null,
            "layout": "IPY_MODEL_e579064d08694316b3344205b7f62cca",
            "placeholder": "​",
            "style": "IPY_MODEL_892b5167d6284bff9e6ddf54414859b5",
            "value": " 22/22 [00:14&lt;00:00,  1.99ba/s]"
          }
        },
        "d7ad3985fe244069b16a4c10e60e2460": {
          "model_module": "@jupyter-widgets/base",
          "model_name": "LayoutModel",
          "model_module_version": "1.2.0",
          "state": {
            "_model_module": "@jupyter-widgets/base",
            "_model_module_version": "1.2.0",
            "_model_name": "LayoutModel",
            "_view_count": null,
            "_view_module": "@jupyter-widgets/base",
            "_view_module_version": "1.2.0",
            "_view_name": "LayoutView",
            "align_content": null,
            "align_items": null,
            "align_self": null,
            "border": null,
            "bottom": null,
            "display": null,
            "flex": null,
            "flex_flow": null,
            "grid_area": null,
            "grid_auto_columns": null,
            "grid_auto_flow": null,
            "grid_auto_rows": null,
            "grid_column": null,
            "grid_gap": null,
            "grid_row": null,
            "grid_template_areas": null,
            "grid_template_columns": null,
            "grid_template_rows": null,
            "height": null,
            "justify_content": null,
            "justify_items": null,
            "left": null,
            "margin": null,
            "max_height": null,
            "max_width": null,
            "min_height": null,
            "min_width": null,
            "object_fit": null,
            "object_position": null,
            "order": null,
            "overflow": null,
            "overflow_x": null,
            "overflow_y": null,
            "padding": null,
            "right": null,
            "top": null,
            "visibility": null,
            "width": null
          }
        },
        "34735e12e4384f71957941a586393612": {
          "model_module": "@jupyter-widgets/base",
          "model_name": "LayoutModel",
          "model_module_version": "1.2.0",
          "state": {
            "_model_module": "@jupyter-widgets/base",
            "_model_module_version": "1.2.0",
            "_model_name": "LayoutModel",
            "_view_count": null,
            "_view_module": "@jupyter-widgets/base",
            "_view_module_version": "1.2.0",
            "_view_name": "LayoutView",
            "align_content": null,
            "align_items": null,
            "align_self": null,
            "border": null,
            "bottom": null,
            "display": null,
            "flex": null,
            "flex_flow": null,
            "grid_area": null,
            "grid_auto_columns": null,
            "grid_auto_flow": null,
            "grid_auto_rows": null,
            "grid_column": null,
            "grid_gap": null,
            "grid_row": null,
            "grid_template_areas": null,
            "grid_template_columns": null,
            "grid_template_rows": null,
            "height": null,
            "justify_content": null,
            "justify_items": null,
            "left": null,
            "margin": null,
            "max_height": null,
            "max_width": null,
            "min_height": null,
            "min_width": null,
            "object_fit": null,
            "object_position": null,
            "order": null,
            "overflow": null,
            "overflow_x": null,
            "overflow_y": null,
            "padding": null,
            "right": null,
            "top": null,
            "visibility": null,
            "width": null
          }
        },
        "a383c0e79715463180d27291954d438e": {
          "model_module": "@jupyter-widgets/controls",
          "model_name": "DescriptionStyleModel",
          "model_module_version": "1.5.0",
          "state": {
            "_model_module": "@jupyter-widgets/controls",
            "_model_module_version": "1.5.0",
            "_model_name": "DescriptionStyleModel",
            "_view_count": null,
            "_view_module": "@jupyter-widgets/base",
            "_view_module_version": "1.2.0",
            "_view_name": "StyleView",
            "description_width": ""
          }
        },
        "2114f71812e3419dab99b844bbc25e6f": {
          "model_module": "@jupyter-widgets/base",
          "model_name": "LayoutModel",
          "model_module_version": "1.2.0",
          "state": {
            "_model_module": "@jupyter-widgets/base",
            "_model_module_version": "1.2.0",
            "_model_name": "LayoutModel",
            "_view_count": null,
            "_view_module": "@jupyter-widgets/base",
            "_view_module_version": "1.2.0",
            "_view_name": "LayoutView",
            "align_content": null,
            "align_items": null,
            "align_self": null,
            "border": null,
            "bottom": null,
            "display": null,
            "flex": null,
            "flex_flow": null,
            "grid_area": null,
            "grid_auto_columns": null,
            "grid_auto_flow": null,
            "grid_auto_rows": null,
            "grid_column": null,
            "grid_gap": null,
            "grid_row": null,
            "grid_template_areas": null,
            "grid_template_columns": null,
            "grid_template_rows": null,
            "height": null,
            "justify_content": null,
            "justify_items": null,
            "left": null,
            "margin": null,
            "max_height": null,
            "max_width": null,
            "min_height": null,
            "min_width": null,
            "object_fit": null,
            "object_position": null,
            "order": null,
            "overflow": null,
            "overflow_x": null,
            "overflow_y": null,
            "padding": null,
            "right": null,
            "top": null,
            "visibility": null,
            "width": null
          }
        },
        "b3e402c97c0048518a268ad65b34c0b6": {
          "model_module": "@jupyter-widgets/controls",
          "model_name": "ProgressStyleModel",
          "model_module_version": "1.5.0",
          "state": {
            "_model_module": "@jupyter-widgets/controls",
            "_model_module_version": "1.5.0",
            "_model_name": "ProgressStyleModel",
            "_view_count": null,
            "_view_module": "@jupyter-widgets/base",
            "_view_module_version": "1.2.0",
            "_view_name": "StyleView",
            "bar_color": null,
            "description_width": ""
          }
        },
        "e579064d08694316b3344205b7f62cca": {
          "model_module": "@jupyter-widgets/base",
          "model_name": "LayoutModel",
          "model_module_version": "1.2.0",
          "state": {
            "_model_module": "@jupyter-widgets/base",
            "_model_module_version": "1.2.0",
            "_model_name": "LayoutModel",
            "_view_count": null,
            "_view_module": "@jupyter-widgets/base",
            "_view_module_version": "1.2.0",
            "_view_name": "LayoutView",
            "align_content": null,
            "align_items": null,
            "align_self": null,
            "border": null,
            "bottom": null,
            "display": null,
            "flex": null,
            "flex_flow": null,
            "grid_area": null,
            "grid_auto_columns": null,
            "grid_auto_flow": null,
            "grid_auto_rows": null,
            "grid_column": null,
            "grid_gap": null,
            "grid_row": null,
            "grid_template_areas": null,
            "grid_template_columns": null,
            "grid_template_rows": null,
            "height": null,
            "justify_content": null,
            "justify_items": null,
            "left": null,
            "margin": null,
            "max_height": null,
            "max_width": null,
            "min_height": null,
            "min_width": null,
            "object_fit": null,
            "object_position": null,
            "order": null,
            "overflow": null,
            "overflow_x": null,
            "overflow_y": null,
            "padding": null,
            "right": null,
            "top": null,
            "visibility": null,
            "width": null
          }
        },
        "892b5167d6284bff9e6ddf54414859b5": {
          "model_module": "@jupyter-widgets/controls",
          "model_name": "DescriptionStyleModel",
          "model_module_version": "1.5.0",
          "state": {
            "_model_module": "@jupyter-widgets/controls",
            "_model_module_version": "1.5.0",
            "_model_name": "DescriptionStyleModel",
            "_view_count": null,
            "_view_module": "@jupyter-widgets/base",
            "_view_module_version": "1.2.0",
            "_view_name": "StyleView",
            "description_width": ""
          }
        },
        "dfa220fd80d244f79c07b9a37450c641": {
          "model_module": "@jupyter-widgets/controls",
          "model_name": "HBoxModel",
          "model_module_version": "1.5.0",
          "state": {
            "_dom_classes": [],
            "_model_module": "@jupyter-widgets/controls",
            "_model_module_version": "1.5.0",
            "_model_name": "HBoxModel",
            "_view_count": null,
            "_view_module": "@jupyter-widgets/controls",
            "_view_module_version": "1.5.0",
            "_view_name": "HBoxView",
            "box_style": "",
            "children": [
              "IPY_MODEL_efa0996b5e50421a80bbdc37c6972a3d",
              "IPY_MODEL_5c64742335cb4bc99a011fce9916bac9",
              "IPY_MODEL_676dc2b1153f4e96a449ad44af2ec3d4"
            ],
            "layout": "IPY_MODEL_df33a9ffa15647ffb06e91ee9188620c"
          }
        },
        "efa0996b5e50421a80bbdc37c6972a3d": {
          "model_module": "@jupyter-widgets/controls",
          "model_name": "HTMLModel",
          "model_module_version": "1.5.0",
          "state": {
            "_dom_classes": [],
            "_model_module": "@jupyter-widgets/controls",
            "_model_module_version": "1.5.0",
            "_model_name": "HTMLModel",
            "_view_count": null,
            "_view_module": "@jupyter-widgets/controls",
            "_view_module_version": "1.5.0",
            "_view_name": "HTMLView",
            "description": "",
            "description_tooltip": null,
            "layout": "IPY_MODEL_062326e93a554f65851a76e2e7824221",
            "placeholder": "​",
            "style": "IPY_MODEL_3535736b799a4cacb1bda3ecbad61c43",
            "value": "100%"
          }
        },
        "5c64742335cb4bc99a011fce9916bac9": {
          "model_module": "@jupyter-widgets/controls",
          "model_name": "FloatProgressModel",
          "model_module_version": "1.5.0",
          "state": {
            "_dom_classes": [],
            "_model_module": "@jupyter-widgets/controls",
            "_model_module_version": "1.5.0",
            "_model_name": "FloatProgressModel",
            "_view_count": null,
            "_view_module": "@jupyter-widgets/controls",
            "_view_module_version": "1.5.0",
            "_view_name": "ProgressView",
            "bar_style": "success",
            "description": "",
            "description_tooltip": null,
            "layout": "IPY_MODEL_0a0a8cc25e1b4a60922c31af4da75b55",
            "max": 6,
            "min": 0,
            "orientation": "horizontal",
            "style": "IPY_MODEL_7804687af41f4a768c909282a249fe80",
            "value": 6
          }
        },
        "676dc2b1153f4e96a449ad44af2ec3d4": {
          "model_module": "@jupyter-widgets/controls",
          "model_name": "HTMLModel",
          "model_module_version": "1.5.0",
          "state": {
            "_dom_classes": [],
            "_model_module": "@jupyter-widgets/controls",
            "_model_module_version": "1.5.0",
            "_model_name": "HTMLModel",
            "_view_count": null,
            "_view_module": "@jupyter-widgets/controls",
            "_view_module_version": "1.5.0",
            "_view_name": "HTMLView",
            "description": "",
            "description_tooltip": null,
            "layout": "IPY_MODEL_60d7822ff9e54c238c46663810f635a6",
            "placeholder": "​",
            "style": "IPY_MODEL_887d1ed9d47245d886f70bc754488a0b",
            "value": " 6/6 [00:03&lt;00:00,  2.02ba/s]"
          }
        },
        "df33a9ffa15647ffb06e91ee9188620c": {
          "model_module": "@jupyter-widgets/base",
          "model_name": "LayoutModel",
          "model_module_version": "1.2.0",
          "state": {
            "_model_module": "@jupyter-widgets/base",
            "_model_module_version": "1.2.0",
            "_model_name": "LayoutModel",
            "_view_count": null,
            "_view_module": "@jupyter-widgets/base",
            "_view_module_version": "1.2.0",
            "_view_name": "LayoutView",
            "align_content": null,
            "align_items": null,
            "align_self": null,
            "border": null,
            "bottom": null,
            "display": null,
            "flex": null,
            "flex_flow": null,
            "grid_area": null,
            "grid_auto_columns": null,
            "grid_auto_flow": null,
            "grid_auto_rows": null,
            "grid_column": null,
            "grid_gap": null,
            "grid_row": null,
            "grid_template_areas": null,
            "grid_template_columns": null,
            "grid_template_rows": null,
            "height": null,
            "justify_content": null,
            "justify_items": null,
            "left": null,
            "margin": null,
            "max_height": null,
            "max_width": null,
            "min_height": null,
            "min_width": null,
            "object_fit": null,
            "object_position": null,
            "order": null,
            "overflow": null,
            "overflow_x": null,
            "overflow_y": null,
            "padding": null,
            "right": null,
            "top": null,
            "visibility": null,
            "width": null
          }
        },
        "062326e93a554f65851a76e2e7824221": {
          "model_module": "@jupyter-widgets/base",
          "model_name": "LayoutModel",
          "model_module_version": "1.2.0",
          "state": {
            "_model_module": "@jupyter-widgets/base",
            "_model_module_version": "1.2.0",
            "_model_name": "LayoutModel",
            "_view_count": null,
            "_view_module": "@jupyter-widgets/base",
            "_view_module_version": "1.2.0",
            "_view_name": "LayoutView",
            "align_content": null,
            "align_items": null,
            "align_self": null,
            "border": null,
            "bottom": null,
            "display": null,
            "flex": null,
            "flex_flow": null,
            "grid_area": null,
            "grid_auto_columns": null,
            "grid_auto_flow": null,
            "grid_auto_rows": null,
            "grid_column": null,
            "grid_gap": null,
            "grid_row": null,
            "grid_template_areas": null,
            "grid_template_columns": null,
            "grid_template_rows": null,
            "height": null,
            "justify_content": null,
            "justify_items": null,
            "left": null,
            "margin": null,
            "max_height": null,
            "max_width": null,
            "min_height": null,
            "min_width": null,
            "object_fit": null,
            "object_position": null,
            "order": null,
            "overflow": null,
            "overflow_x": null,
            "overflow_y": null,
            "padding": null,
            "right": null,
            "top": null,
            "visibility": null,
            "width": null
          }
        },
        "3535736b799a4cacb1bda3ecbad61c43": {
          "model_module": "@jupyter-widgets/controls",
          "model_name": "DescriptionStyleModel",
          "model_module_version": "1.5.0",
          "state": {
            "_model_module": "@jupyter-widgets/controls",
            "_model_module_version": "1.5.0",
            "_model_name": "DescriptionStyleModel",
            "_view_count": null,
            "_view_module": "@jupyter-widgets/base",
            "_view_module_version": "1.2.0",
            "_view_name": "StyleView",
            "description_width": ""
          }
        },
        "0a0a8cc25e1b4a60922c31af4da75b55": {
          "model_module": "@jupyter-widgets/base",
          "model_name": "LayoutModel",
          "model_module_version": "1.2.0",
          "state": {
            "_model_module": "@jupyter-widgets/base",
            "_model_module_version": "1.2.0",
            "_model_name": "LayoutModel",
            "_view_count": null,
            "_view_module": "@jupyter-widgets/base",
            "_view_module_version": "1.2.0",
            "_view_name": "LayoutView",
            "align_content": null,
            "align_items": null,
            "align_self": null,
            "border": null,
            "bottom": null,
            "display": null,
            "flex": null,
            "flex_flow": null,
            "grid_area": null,
            "grid_auto_columns": null,
            "grid_auto_flow": null,
            "grid_auto_rows": null,
            "grid_column": null,
            "grid_gap": null,
            "grid_row": null,
            "grid_template_areas": null,
            "grid_template_columns": null,
            "grid_template_rows": null,
            "height": null,
            "justify_content": null,
            "justify_items": null,
            "left": null,
            "margin": null,
            "max_height": null,
            "max_width": null,
            "min_height": null,
            "min_width": null,
            "object_fit": null,
            "object_position": null,
            "order": null,
            "overflow": null,
            "overflow_x": null,
            "overflow_y": null,
            "padding": null,
            "right": null,
            "top": null,
            "visibility": null,
            "width": null
          }
        },
        "7804687af41f4a768c909282a249fe80": {
          "model_module": "@jupyter-widgets/controls",
          "model_name": "ProgressStyleModel",
          "model_module_version": "1.5.0",
          "state": {
            "_model_module": "@jupyter-widgets/controls",
            "_model_module_version": "1.5.0",
            "_model_name": "ProgressStyleModel",
            "_view_count": null,
            "_view_module": "@jupyter-widgets/base",
            "_view_module_version": "1.2.0",
            "_view_name": "StyleView",
            "bar_color": null,
            "description_width": ""
          }
        },
        "60d7822ff9e54c238c46663810f635a6": {
          "model_module": "@jupyter-widgets/base",
          "model_name": "LayoutModel",
          "model_module_version": "1.2.0",
          "state": {
            "_model_module": "@jupyter-widgets/base",
            "_model_module_version": "1.2.0",
            "_model_name": "LayoutModel",
            "_view_count": null,
            "_view_module": "@jupyter-widgets/base",
            "_view_module_version": "1.2.0",
            "_view_name": "LayoutView",
            "align_content": null,
            "align_items": null,
            "align_self": null,
            "border": null,
            "bottom": null,
            "display": null,
            "flex": null,
            "flex_flow": null,
            "grid_area": null,
            "grid_auto_columns": null,
            "grid_auto_flow": null,
            "grid_auto_rows": null,
            "grid_column": null,
            "grid_gap": null,
            "grid_row": null,
            "grid_template_areas": null,
            "grid_template_columns": null,
            "grid_template_rows": null,
            "height": null,
            "justify_content": null,
            "justify_items": null,
            "left": null,
            "margin": null,
            "max_height": null,
            "max_width": null,
            "min_height": null,
            "min_width": null,
            "object_fit": null,
            "object_position": null,
            "order": null,
            "overflow": null,
            "overflow_x": null,
            "overflow_y": null,
            "padding": null,
            "right": null,
            "top": null,
            "visibility": null,
            "width": null
          }
        },
        "887d1ed9d47245d886f70bc754488a0b": {
          "model_module": "@jupyter-widgets/controls",
          "model_name": "DescriptionStyleModel",
          "model_module_version": "1.5.0",
          "state": {
            "_model_module": "@jupyter-widgets/controls",
            "_model_module_version": "1.5.0",
            "_model_name": "DescriptionStyleModel",
            "_view_count": null,
            "_view_module": "@jupyter-widgets/base",
            "_view_module_version": "1.2.0",
            "_view_name": "StyleView",
            "description_width": ""
          }
        },
        "5511c81a1895490db9a68072282f4477": {
          "model_module": "@jupyter-widgets/controls",
          "model_name": "HBoxModel",
          "model_module_version": "1.5.0",
          "state": {
            "_dom_classes": [],
            "_model_module": "@jupyter-widgets/controls",
            "_model_module_version": "1.5.0",
            "_model_name": "HBoxModel",
            "_view_count": null,
            "_view_module": "@jupyter-widgets/controls",
            "_view_module_version": "1.5.0",
            "_view_name": "HBoxView",
            "box_style": "",
            "children": [
              "IPY_MODEL_012fbc0e9d6e46c9aeb43af01ad54e92",
              "IPY_MODEL_008bb3101c4349d895b64f296667f15a",
              "IPY_MODEL_a7a9f8bba2874736b43f5b10e8769cc4"
            ],
            "layout": "IPY_MODEL_e7b6ae548e2d43cbade8f4703d0090f7"
          }
        },
        "012fbc0e9d6e46c9aeb43af01ad54e92": {
          "model_module": "@jupyter-widgets/controls",
          "model_name": "HTMLModel",
          "model_module_version": "1.5.0",
          "state": {
            "_dom_classes": [],
            "_model_module": "@jupyter-widgets/controls",
            "_model_module_version": "1.5.0",
            "_model_name": "HTMLModel",
            "_view_count": null,
            "_view_module": "@jupyter-widgets/controls",
            "_view_module_version": "1.5.0",
            "_view_name": "HTMLView",
            "description": "",
            "description_tooltip": null,
            "layout": "IPY_MODEL_16c18a631daf436b99a270989aa74cdb",
            "placeholder": "​",
            "style": "IPY_MODEL_330cdc062bb24ce3a7611261d9a4b630",
            "value": "100%"
          }
        },
        "008bb3101c4349d895b64f296667f15a": {
          "model_module": "@jupyter-widgets/controls",
          "model_name": "FloatProgressModel",
          "model_module_version": "1.5.0",
          "state": {
            "_dom_classes": [],
            "_model_module": "@jupyter-widgets/controls",
            "_model_module_version": "1.5.0",
            "_model_name": "FloatProgressModel",
            "_view_count": null,
            "_view_module": "@jupyter-widgets/controls",
            "_view_module_version": "1.5.0",
            "_view_name": "ProgressView",
            "bar_style": "success",
            "description": "",
            "description_tooltip": null,
            "layout": "IPY_MODEL_bef382015eaa4731be62c88fe172c05d",
            "max": 7,
            "min": 0,
            "orientation": "horizontal",
            "style": "IPY_MODEL_41cbb8a231a04d9ea5382f4f78e74034",
            "value": 7
          }
        },
        "a7a9f8bba2874736b43f5b10e8769cc4": {
          "model_module": "@jupyter-widgets/controls",
          "model_name": "HTMLModel",
          "model_module_version": "1.5.0",
          "state": {
            "_dom_classes": [],
            "_model_module": "@jupyter-widgets/controls",
            "_model_module_version": "1.5.0",
            "_model_name": "HTMLModel",
            "_view_count": null,
            "_view_module": "@jupyter-widgets/controls",
            "_view_module_version": "1.5.0",
            "_view_name": "HTMLView",
            "description": "",
            "description_tooltip": null,
            "layout": "IPY_MODEL_1fd3851785934eb3b4629fae17ee2f31",
            "placeholder": "​",
            "style": "IPY_MODEL_2eb732552a2f4afcb3c2afaeda31c980",
            "value": " 7/7 [00:04&lt;00:00,  1.79ba/s]"
          }
        },
        "e7b6ae548e2d43cbade8f4703d0090f7": {
          "model_module": "@jupyter-widgets/base",
          "model_name": "LayoutModel",
          "model_module_version": "1.2.0",
          "state": {
            "_model_module": "@jupyter-widgets/base",
            "_model_module_version": "1.2.0",
            "_model_name": "LayoutModel",
            "_view_count": null,
            "_view_module": "@jupyter-widgets/base",
            "_view_module_version": "1.2.0",
            "_view_name": "LayoutView",
            "align_content": null,
            "align_items": null,
            "align_self": null,
            "border": null,
            "bottom": null,
            "display": null,
            "flex": null,
            "flex_flow": null,
            "grid_area": null,
            "grid_auto_columns": null,
            "grid_auto_flow": null,
            "grid_auto_rows": null,
            "grid_column": null,
            "grid_gap": null,
            "grid_row": null,
            "grid_template_areas": null,
            "grid_template_columns": null,
            "grid_template_rows": null,
            "height": null,
            "justify_content": null,
            "justify_items": null,
            "left": null,
            "margin": null,
            "max_height": null,
            "max_width": null,
            "min_height": null,
            "min_width": null,
            "object_fit": null,
            "object_position": null,
            "order": null,
            "overflow": null,
            "overflow_x": null,
            "overflow_y": null,
            "padding": null,
            "right": null,
            "top": null,
            "visibility": null,
            "width": null
          }
        },
        "16c18a631daf436b99a270989aa74cdb": {
          "model_module": "@jupyter-widgets/base",
          "model_name": "LayoutModel",
          "model_module_version": "1.2.0",
          "state": {
            "_model_module": "@jupyter-widgets/base",
            "_model_module_version": "1.2.0",
            "_model_name": "LayoutModel",
            "_view_count": null,
            "_view_module": "@jupyter-widgets/base",
            "_view_module_version": "1.2.0",
            "_view_name": "LayoutView",
            "align_content": null,
            "align_items": null,
            "align_self": null,
            "border": null,
            "bottom": null,
            "display": null,
            "flex": null,
            "flex_flow": null,
            "grid_area": null,
            "grid_auto_columns": null,
            "grid_auto_flow": null,
            "grid_auto_rows": null,
            "grid_column": null,
            "grid_gap": null,
            "grid_row": null,
            "grid_template_areas": null,
            "grid_template_columns": null,
            "grid_template_rows": null,
            "height": null,
            "justify_content": null,
            "justify_items": null,
            "left": null,
            "margin": null,
            "max_height": null,
            "max_width": null,
            "min_height": null,
            "min_width": null,
            "object_fit": null,
            "object_position": null,
            "order": null,
            "overflow": null,
            "overflow_x": null,
            "overflow_y": null,
            "padding": null,
            "right": null,
            "top": null,
            "visibility": null,
            "width": null
          }
        },
        "330cdc062bb24ce3a7611261d9a4b630": {
          "model_module": "@jupyter-widgets/controls",
          "model_name": "DescriptionStyleModel",
          "model_module_version": "1.5.0",
          "state": {
            "_model_module": "@jupyter-widgets/controls",
            "_model_module_version": "1.5.0",
            "_model_name": "DescriptionStyleModel",
            "_view_count": null,
            "_view_module": "@jupyter-widgets/base",
            "_view_module_version": "1.2.0",
            "_view_name": "StyleView",
            "description_width": ""
          }
        },
        "bef382015eaa4731be62c88fe172c05d": {
          "model_module": "@jupyter-widgets/base",
          "model_name": "LayoutModel",
          "model_module_version": "1.2.0",
          "state": {
            "_model_module": "@jupyter-widgets/base",
            "_model_module_version": "1.2.0",
            "_model_name": "LayoutModel",
            "_view_count": null,
            "_view_module": "@jupyter-widgets/base",
            "_view_module_version": "1.2.0",
            "_view_name": "LayoutView",
            "align_content": null,
            "align_items": null,
            "align_self": null,
            "border": null,
            "bottom": null,
            "display": null,
            "flex": null,
            "flex_flow": null,
            "grid_area": null,
            "grid_auto_columns": null,
            "grid_auto_flow": null,
            "grid_auto_rows": null,
            "grid_column": null,
            "grid_gap": null,
            "grid_row": null,
            "grid_template_areas": null,
            "grid_template_columns": null,
            "grid_template_rows": null,
            "height": null,
            "justify_content": null,
            "justify_items": null,
            "left": null,
            "margin": null,
            "max_height": null,
            "max_width": null,
            "min_height": null,
            "min_width": null,
            "object_fit": null,
            "object_position": null,
            "order": null,
            "overflow": null,
            "overflow_x": null,
            "overflow_y": null,
            "padding": null,
            "right": null,
            "top": null,
            "visibility": null,
            "width": null
          }
        },
        "41cbb8a231a04d9ea5382f4f78e74034": {
          "model_module": "@jupyter-widgets/controls",
          "model_name": "ProgressStyleModel",
          "model_module_version": "1.5.0",
          "state": {
            "_model_module": "@jupyter-widgets/controls",
            "_model_module_version": "1.5.0",
            "_model_name": "ProgressStyleModel",
            "_view_count": null,
            "_view_module": "@jupyter-widgets/base",
            "_view_module_version": "1.2.0",
            "_view_name": "StyleView",
            "bar_color": null,
            "description_width": ""
          }
        },
        "1fd3851785934eb3b4629fae17ee2f31": {
          "model_module": "@jupyter-widgets/base",
          "model_name": "LayoutModel",
          "model_module_version": "1.2.0",
          "state": {
            "_model_module": "@jupyter-widgets/base",
            "_model_module_version": "1.2.0",
            "_model_name": "LayoutModel",
            "_view_count": null,
            "_view_module": "@jupyter-widgets/base",
            "_view_module_version": "1.2.0",
            "_view_name": "LayoutView",
            "align_content": null,
            "align_items": null,
            "align_self": null,
            "border": null,
            "bottom": null,
            "display": null,
            "flex": null,
            "flex_flow": null,
            "grid_area": null,
            "grid_auto_columns": null,
            "grid_auto_flow": null,
            "grid_auto_rows": null,
            "grid_column": null,
            "grid_gap": null,
            "grid_row": null,
            "grid_template_areas": null,
            "grid_template_columns": null,
            "grid_template_rows": null,
            "height": null,
            "justify_content": null,
            "justify_items": null,
            "left": null,
            "margin": null,
            "max_height": null,
            "max_width": null,
            "min_height": null,
            "min_width": null,
            "object_fit": null,
            "object_position": null,
            "order": null,
            "overflow": null,
            "overflow_x": null,
            "overflow_y": null,
            "padding": null,
            "right": null,
            "top": null,
            "visibility": null,
            "width": null
          }
        },
        "2eb732552a2f4afcb3c2afaeda31c980": {
          "model_module": "@jupyter-widgets/controls",
          "model_name": "DescriptionStyleModel",
          "model_module_version": "1.5.0",
          "state": {
            "_model_module": "@jupyter-widgets/controls",
            "_model_module_version": "1.5.0",
            "_model_name": "DescriptionStyleModel",
            "_view_count": null,
            "_view_module": "@jupyter-widgets/base",
            "_view_module_version": "1.2.0",
            "_view_name": "StyleView",
            "description_width": ""
          }
        },
        "62ce777be7d34d5d8ac1d504ee1c7fe6": {
          "model_module": "@jupyter-widgets/controls",
          "model_name": "HBoxModel",
          "model_module_version": "1.5.0",
          "state": {
            "_dom_classes": [],
            "_model_module": "@jupyter-widgets/controls",
            "_model_module_version": "1.5.0",
            "_model_name": "HBoxModel",
            "_view_count": null,
            "_view_module": "@jupyter-widgets/controls",
            "_view_module_version": "1.5.0",
            "_view_name": "HBoxView",
            "box_style": "",
            "children": [
              "IPY_MODEL_60c25425d03f4f1bac954020ae32039c",
              "IPY_MODEL_29354bd6d259457887f843c9b55ec14f",
              "IPY_MODEL_8c65f425af274f4d812e6974c3b8edda"
            ],
            "layout": "IPY_MODEL_b1d9370e368143058ef536e4fb2712d2"
          }
        },
        "60c25425d03f4f1bac954020ae32039c": {
          "model_module": "@jupyter-widgets/controls",
          "model_name": "HTMLModel",
          "model_module_version": "1.5.0",
          "state": {
            "_dom_classes": [],
            "_model_module": "@jupyter-widgets/controls",
            "_model_module_version": "1.5.0",
            "_model_name": "HTMLModel",
            "_view_count": null,
            "_view_module": "@jupyter-widgets/controls",
            "_view_module_version": "1.5.0",
            "_view_name": "HTMLView",
            "description": "",
            "description_tooltip": null,
            "layout": "IPY_MODEL_f3a877d817bd4ec492ff659a1997ef7f",
            "placeholder": "​",
            "style": "IPY_MODEL_c0d6f709e4ce49c8b151212ba2dc4999",
            "value": "100%"
          }
        },
        "29354bd6d259457887f843c9b55ec14f": {
          "model_module": "@jupyter-widgets/controls",
          "model_name": "FloatProgressModel",
          "model_module_version": "1.5.0",
          "state": {
            "_dom_classes": [],
            "_model_module": "@jupyter-widgets/controls",
            "_model_module_version": "1.5.0",
            "_model_name": "FloatProgressModel",
            "_view_count": null,
            "_view_module": "@jupyter-widgets/controls",
            "_view_module_version": "1.5.0",
            "_view_name": "ProgressView",
            "bar_style": "success",
            "description": "",
            "description_tooltip": null,
            "layout": "IPY_MODEL_ff7f1176473046ee9b1e673e57b585dd",
            "max": 26,
            "min": 0,
            "orientation": "horizontal",
            "style": "IPY_MODEL_e973891f99b24b928053fc21450b1e9c",
            "value": 26
          }
        },
        "8c65f425af274f4d812e6974c3b8edda": {
          "model_module": "@jupyter-widgets/controls",
          "model_name": "HTMLModel",
          "model_module_version": "1.5.0",
          "state": {
            "_dom_classes": [],
            "_model_module": "@jupyter-widgets/controls",
            "_model_module_version": "1.5.0",
            "_model_name": "HTMLModel",
            "_view_count": null,
            "_view_module": "@jupyter-widgets/controls",
            "_view_module_version": "1.5.0",
            "_view_name": "HTMLView",
            "description": "",
            "description_tooltip": null,
            "layout": "IPY_MODEL_9e99ebd6f04b44d9acadb9479bb10622",
            "placeholder": "​",
            "style": "IPY_MODEL_73b0a98244b94df5aaa12411d2ab3b86",
            "value": " 26/26 [00:10&lt;00:00,  3.12ba/s]"
          }
        },
        "b1d9370e368143058ef536e4fb2712d2": {
          "model_module": "@jupyter-widgets/base",
          "model_name": "LayoutModel",
          "model_module_version": "1.2.0",
          "state": {
            "_model_module": "@jupyter-widgets/base",
            "_model_module_version": "1.2.0",
            "_model_name": "LayoutModel",
            "_view_count": null,
            "_view_module": "@jupyter-widgets/base",
            "_view_module_version": "1.2.0",
            "_view_name": "LayoutView",
            "align_content": null,
            "align_items": null,
            "align_self": null,
            "border": null,
            "bottom": null,
            "display": null,
            "flex": null,
            "flex_flow": null,
            "grid_area": null,
            "grid_auto_columns": null,
            "grid_auto_flow": null,
            "grid_auto_rows": null,
            "grid_column": null,
            "grid_gap": null,
            "grid_row": null,
            "grid_template_areas": null,
            "grid_template_columns": null,
            "grid_template_rows": null,
            "height": null,
            "justify_content": null,
            "justify_items": null,
            "left": null,
            "margin": null,
            "max_height": null,
            "max_width": null,
            "min_height": null,
            "min_width": null,
            "object_fit": null,
            "object_position": null,
            "order": null,
            "overflow": null,
            "overflow_x": null,
            "overflow_y": null,
            "padding": null,
            "right": null,
            "top": null,
            "visibility": null,
            "width": null
          }
        },
        "f3a877d817bd4ec492ff659a1997ef7f": {
          "model_module": "@jupyter-widgets/base",
          "model_name": "LayoutModel",
          "model_module_version": "1.2.0",
          "state": {
            "_model_module": "@jupyter-widgets/base",
            "_model_module_version": "1.2.0",
            "_model_name": "LayoutModel",
            "_view_count": null,
            "_view_module": "@jupyter-widgets/base",
            "_view_module_version": "1.2.0",
            "_view_name": "LayoutView",
            "align_content": null,
            "align_items": null,
            "align_self": null,
            "border": null,
            "bottom": null,
            "display": null,
            "flex": null,
            "flex_flow": null,
            "grid_area": null,
            "grid_auto_columns": null,
            "grid_auto_flow": null,
            "grid_auto_rows": null,
            "grid_column": null,
            "grid_gap": null,
            "grid_row": null,
            "grid_template_areas": null,
            "grid_template_columns": null,
            "grid_template_rows": null,
            "height": null,
            "justify_content": null,
            "justify_items": null,
            "left": null,
            "margin": null,
            "max_height": null,
            "max_width": null,
            "min_height": null,
            "min_width": null,
            "object_fit": null,
            "object_position": null,
            "order": null,
            "overflow": null,
            "overflow_x": null,
            "overflow_y": null,
            "padding": null,
            "right": null,
            "top": null,
            "visibility": null,
            "width": null
          }
        },
        "c0d6f709e4ce49c8b151212ba2dc4999": {
          "model_module": "@jupyter-widgets/controls",
          "model_name": "DescriptionStyleModel",
          "model_module_version": "1.5.0",
          "state": {
            "_model_module": "@jupyter-widgets/controls",
            "_model_module_version": "1.5.0",
            "_model_name": "DescriptionStyleModel",
            "_view_count": null,
            "_view_module": "@jupyter-widgets/base",
            "_view_module_version": "1.2.0",
            "_view_name": "StyleView",
            "description_width": ""
          }
        },
        "ff7f1176473046ee9b1e673e57b585dd": {
          "model_module": "@jupyter-widgets/base",
          "model_name": "LayoutModel",
          "model_module_version": "1.2.0",
          "state": {
            "_model_module": "@jupyter-widgets/base",
            "_model_module_version": "1.2.0",
            "_model_name": "LayoutModel",
            "_view_count": null,
            "_view_module": "@jupyter-widgets/base",
            "_view_module_version": "1.2.0",
            "_view_name": "LayoutView",
            "align_content": null,
            "align_items": null,
            "align_self": null,
            "border": null,
            "bottom": null,
            "display": null,
            "flex": null,
            "flex_flow": null,
            "grid_area": null,
            "grid_auto_columns": null,
            "grid_auto_flow": null,
            "grid_auto_rows": null,
            "grid_column": null,
            "grid_gap": null,
            "grid_row": null,
            "grid_template_areas": null,
            "grid_template_columns": null,
            "grid_template_rows": null,
            "height": null,
            "justify_content": null,
            "justify_items": null,
            "left": null,
            "margin": null,
            "max_height": null,
            "max_width": null,
            "min_height": null,
            "min_width": null,
            "object_fit": null,
            "object_position": null,
            "order": null,
            "overflow": null,
            "overflow_x": null,
            "overflow_y": null,
            "padding": null,
            "right": null,
            "top": null,
            "visibility": null,
            "width": null
          }
        },
        "e973891f99b24b928053fc21450b1e9c": {
          "model_module": "@jupyter-widgets/controls",
          "model_name": "ProgressStyleModel",
          "model_module_version": "1.5.0",
          "state": {
            "_model_module": "@jupyter-widgets/controls",
            "_model_module_version": "1.5.0",
            "_model_name": "ProgressStyleModel",
            "_view_count": null,
            "_view_module": "@jupyter-widgets/base",
            "_view_module_version": "1.2.0",
            "_view_name": "StyleView",
            "bar_color": null,
            "description_width": ""
          }
        },
        "9e99ebd6f04b44d9acadb9479bb10622": {
          "model_module": "@jupyter-widgets/base",
          "model_name": "LayoutModel",
          "model_module_version": "1.2.0",
          "state": {
            "_model_module": "@jupyter-widgets/base",
            "_model_module_version": "1.2.0",
            "_model_name": "LayoutModel",
            "_view_count": null,
            "_view_module": "@jupyter-widgets/base",
            "_view_module_version": "1.2.0",
            "_view_name": "LayoutView",
            "align_content": null,
            "align_items": null,
            "align_self": null,
            "border": null,
            "bottom": null,
            "display": null,
            "flex": null,
            "flex_flow": null,
            "grid_area": null,
            "grid_auto_columns": null,
            "grid_auto_flow": null,
            "grid_auto_rows": null,
            "grid_column": null,
            "grid_gap": null,
            "grid_row": null,
            "grid_template_areas": null,
            "grid_template_columns": null,
            "grid_template_rows": null,
            "height": null,
            "justify_content": null,
            "justify_items": null,
            "left": null,
            "margin": null,
            "max_height": null,
            "max_width": null,
            "min_height": null,
            "min_width": null,
            "object_fit": null,
            "object_position": null,
            "order": null,
            "overflow": null,
            "overflow_x": null,
            "overflow_y": null,
            "padding": null,
            "right": null,
            "top": null,
            "visibility": null,
            "width": null
          }
        },
        "73b0a98244b94df5aaa12411d2ab3b86": {
          "model_module": "@jupyter-widgets/controls",
          "model_name": "DescriptionStyleModel",
          "model_module_version": "1.5.0",
          "state": {
            "_model_module": "@jupyter-widgets/controls",
            "_model_module_version": "1.5.0",
            "_model_name": "DescriptionStyleModel",
            "_view_count": null,
            "_view_module": "@jupyter-widgets/base",
            "_view_module_version": "1.2.0",
            "_view_name": "StyleView",
            "description_width": ""
          }
        },
        "3ab1f77fca204c4587b4ca938c038eb7": {
          "model_module": "@jupyter-widgets/controls",
          "model_name": "HBoxModel",
          "model_module_version": "1.5.0",
          "state": {
            "_dom_classes": [],
            "_model_module": "@jupyter-widgets/controls",
            "_model_module_version": "1.5.0",
            "_model_name": "HBoxModel",
            "_view_count": null,
            "_view_module": "@jupyter-widgets/controls",
            "_view_module_version": "1.5.0",
            "_view_name": "HBoxView",
            "box_style": "",
            "children": [
              "IPY_MODEL_4a973320919c4cc39bb0b5cda1dae160",
              "IPY_MODEL_c8486a50fc9743e8a693ad8dc2d2b53a",
              "IPY_MODEL_b199fc6a71e945d484381049b9e241b4"
            ],
            "layout": "IPY_MODEL_70742369b35a4c62a1ded81b3acd79cc"
          }
        },
        "4a973320919c4cc39bb0b5cda1dae160": {
          "model_module": "@jupyter-widgets/controls",
          "model_name": "HTMLModel",
          "model_module_version": "1.5.0",
          "state": {
            "_dom_classes": [],
            "_model_module": "@jupyter-widgets/controls",
            "_model_module_version": "1.5.0",
            "_model_name": "HTMLModel",
            "_view_count": null,
            "_view_module": "@jupyter-widgets/controls",
            "_view_module_version": "1.5.0",
            "_view_name": "HTMLView",
            "description": "",
            "description_tooltip": null,
            "layout": "IPY_MODEL_f8ec4d0bf52447b69401b42f6ac47d67",
            "placeholder": "​",
            "style": "IPY_MODEL_41a23b8f1fc844d799cf9941c137ae73",
            "value": "100%"
          }
        },
        "c8486a50fc9743e8a693ad8dc2d2b53a": {
          "model_module": "@jupyter-widgets/controls",
          "model_name": "FloatProgressModel",
          "model_module_version": "1.5.0",
          "state": {
            "_dom_classes": [],
            "_model_module": "@jupyter-widgets/controls",
            "_model_module_version": "1.5.0",
            "_model_name": "FloatProgressModel",
            "_view_count": null,
            "_view_module": "@jupyter-widgets/controls",
            "_view_module_version": "1.5.0",
            "_view_name": "ProgressView",
            "bar_style": "success",
            "description": "",
            "description_tooltip": null,
            "layout": "IPY_MODEL_04724be763b441b89ca16286d2118294",
            "max": 7,
            "min": 0,
            "orientation": "horizontal",
            "style": "IPY_MODEL_3cd74fdb72f147678c6264096ac45abe",
            "value": 7
          }
        },
        "b199fc6a71e945d484381049b9e241b4": {
          "model_module": "@jupyter-widgets/controls",
          "model_name": "HTMLModel",
          "model_module_version": "1.5.0",
          "state": {
            "_dom_classes": [],
            "_model_module": "@jupyter-widgets/controls",
            "_model_module_version": "1.5.0",
            "_model_name": "HTMLModel",
            "_view_count": null,
            "_view_module": "@jupyter-widgets/controls",
            "_view_module_version": "1.5.0",
            "_view_name": "HTMLView",
            "description": "",
            "description_tooltip": null,
            "layout": "IPY_MODEL_dd2da788927b4bfda43ef8c564ebf7dc",
            "placeholder": "​",
            "style": "IPY_MODEL_98571417956f4d0386c1e0177ac2755a",
            "value": " 7/7 [00:04&lt;00:00,  1.77ba/s]"
          }
        },
        "70742369b35a4c62a1ded81b3acd79cc": {
          "model_module": "@jupyter-widgets/base",
          "model_name": "LayoutModel",
          "model_module_version": "1.2.0",
          "state": {
            "_model_module": "@jupyter-widgets/base",
            "_model_module_version": "1.2.0",
            "_model_name": "LayoutModel",
            "_view_count": null,
            "_view_module": "@jupyter-widgets/base",
            "_view_module_version": "1.2.0",
            "_view_name": "LayoutView",
            "align_content": null,
            "align_items": null,
            "align_self": null,
            "border": null,
            "bottom": null,
            "display": null,
            "flex": null,
            "flex_flow": null,
            "grid_area": null,
            "grid_auto_columns": null,
            "grid_auto_flow": null,
            "grid_auto_rows": null,
            "grid_column": null,
            "grid_gap": null,
            "grid_row": null,
            "grid_template_areas": null,
            "grid_template_columns": null,
            "grid_template_rows": null,
            "height": null,
            "justify_content": null,
            "justify_items": null,
            "left": null,
            "margin": null,
            "max_height": null,
            "max_width": null,
            "min_height": null,
            "min_width": null,
            "object_fit": null,
            "object_position": null,
            "order": null,
            "overflow": null,
            "overflow_x": null,
            "overflow_y": null,
            "padding": null,
            "right": null,
            "top": null,
            "visibility": null,
            "width": null
          }
        },
        "f8ec4d0bf52447b69401b42f6ac47d67": {
          "model_module": "@jupyter-widgets/base",
          "model_name": "LayoutModel",
          "model_module_version": "1.2.0",
          "state": {
            "_model_module": "@jupyter-widgets/base",
            "_model_module_version": "1.2.0",
            "_model_name": "LayoutModel",
            "_view_count": null,
            "_view_module": "@jupyter-widgets/base",
            "_view_module_version": "1.2.0",
            "_view_name": "LayoutView",
            "align_content": null,
            "align_items": null,
            "align_self": null,
            "border": null,
            "bottom": null,
            "display": null,
            "flex": null,
            "flex_flow": null,
            "grid_area": null,
            "grid_auto_columns": null,
            "grid_auto_flow": null,
            "grid_auto_rows": null,
            "grid_column": null,
            "grid_gap": null,
            "grid_row": null,
            "grid_template_areas": null,
            "grid_template_columns": null,
            "grid_template_rows": null,
            "height": null,
            "justify_content": null,
            "justify_items": null,
            "left": null,
            "margin": null,
            "max_height": null,
            "max_width": null,
            "min_height": null,
            "min_width": null,
            "object_fit": null,
            "object_position": null,
            "order": null,
            "overflow": null,
            "overflow_x": null,
            "overflow_y": null,
            "padding": null,
            "right": null,
            "top": null,
            "visibility": null,
            "width": null
          }
        },
        "41a23b8f1fc844d799cf9941c137ae73": {
          "model_module": "@jupyter-widgets/controls",
          "model_name": "DescriptionStyleModel",
          "model_module_version": "1.5.0",
          "state": {
            "_model_module": "@jupyter-widgets/controls",
            "_model_module_version": "1.5.0",
            "_model_name": "DescriptionStyleModel",
            "_view_count": null,
            "_view_module": "@jupyter-widgets/base",
            "_view_module_version": "1.2.0",
            "_view_name": "StyleView",
            "description_width": ""
          }
        },
        "04724be763b441b89ca16286d2118294": {
          "model_module": "@jupyter-widgets/base",
          "model_name": "LayoutModel",
          "model_module_version": "1.2.0",
          "state": {
            "_model_module": "@jupyter-widgets/base",
            "_model_module_version": "1.2.0",
            "_model_name": "LayoutModel",
            "_view_count": null,
            "_view_module": "@jupyter-widgets/base",
            "_view_module_version": "1.2.0",
            "_view_name": "LayoutView",
            "align_content": null,
            "align_items": null,
            "align_self": null,
            "border": null,
            "bottom": null,
            "display": null,
            "flex": null,
            "flex_flow": null,
            "grid_area": null,
            "grid_auto_columns": null,
            "grid_auto_flow": null,
            "grid_auto_rows": null,
            "grid_column": null,
            "grid_gap": null,
            "grid_row": null,
            "grid_template_areas": null,
            "grid_template_columns": null,
            "grid_template_rows": null,
            "height": null,
            "justify_content": null,
            "justify_items": null,
            "left": null,
            "margin": null,
            "max_height": null,
            "max_width": null,
            "min_height": null,
            "min_width": null,
            "object_fit": null,
            "object_position": null,
            "order": null,
            "overflow": null,
            "overflow_x": null,
            "overflow_y": null,
            "padding": null,
            "right": null,
            "top": null,
            "visibility": null,
            "width": null
          }
        },
        "3cd74fdb72f147678c6264096ac45abe": {
          "model_module": "@jupyter-widgets/controls",
          "model_name": "ProgressStyleModel",
          "model_module_version": "1.5.0",
          "state": {
            "_model_module": "@jupyter-widgets/controls",
            "_model_module_version": "1.5.0",
            "_model_name": "ProgressStyleModel",
            "_view_count": null,
            "_view_module": "@jupyter-widgets/base",
            "_view_module_version": "1.2.0",
            "_view_name": "StyleView",
            "bar_color": null,
            "description_width": ""
          }
        },
        "dd2da788927b4bfda43ef8c564ebf7dc": {
          "model_module": "@jupyter-widgets/base",
          "model_name": "LayoutModel",
          "model_module_version": "1.2.0",
          "state": {
            "_model_module": "@jupyter-widgets/base",
            "_model_module_version": "1.2.0",
            "_model_name": "LayoutModel",
            "_view_count": null,
            "_view_module": "@jupyter-widgets/base",
            "_view_module_version": "1.2.0",
            "_view_name": "LayoutView",
            "align_content": null,
            "align_items": null,
            "align_self": null,
            "border": null,
            "bottom": null,
            "display": null,
            "flex": null,
            "flex_flow": null,
            "grid_area": null,
            "grid_auto_columns": null,
            "grid_auto_flow": null,
            "grid_auto_rows": null,
            "grid_column": null,
            "grid_gap": null,
            "grid_row": null,
            "grid_template_areas": null,
            "grid_template_columns": null,
            "grid_template_rows": null,
            "height": null,
            "justify_content": null,
            "justify_items": null,
            "left": null,
            "margin": null,
            "max_height": null,
            "max_width": null,
            "min_height": null,
            "min_width": null,
            "object_fit": null,
            "object_position": null,
            "order": null,
            "overflow": null,
            "overflow_x": null,
            "overflow_y": null,
            "padding": null,
            "right": null,
            "top": null,
            "visibility": null,
            "width": null
          }
        },
        "98571417956f4d0386c1e0177ac2755a": {
          "model_module": "@jupyter-widgets/controls",
          "model_name": "DescriptionStyleModel",
          "model_module_version": "1.5.0",
          "state": {
            "_model_module": "@jupyter-widgets/controls",
            "_model_module_version": "1.5.0",
            "_model_name": "DescriptionStyleModel",
            "_view_count": null,
            "_view_module": "@jupyter-widgets/base",
            "_view_module_version": "1.2.0",
            "_view_name": "StyleView",
            "description_width": ""
          }
        }
      }
    }
  },
  "nbformat": 4,
  "nbformat_minor": 0
}