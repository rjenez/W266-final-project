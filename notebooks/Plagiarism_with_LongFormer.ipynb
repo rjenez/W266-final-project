{
  "cells": [
    {
      "cell_type": "markdown",
      "metadata": {
        "id": "view-in-github",
        "colab_type": "text"
      },
      "source": [
        "<a href=\"https://colab.research.google.com/github/rjenez/W266-final-project/blob/main/notebooks/Plagiarism_with_LongFormer.ipynb\" target=\"_parent\"><img src=\"https://colab.research.google.com/assets/colab-badge.svg\" alt=\"Open In Colab\"/></a>"
      ]
    },
    {
      "cell_type": "markdown",
      "metadata": {
        "id": "2ob4cAThMp4u"
      },
      "source": [
        "# Plagiarism with Longformer\n",
        "\n",
        "> Indented block\n",
        "\n",
        "\n",
        "**Author:*** Ricardo Jenez heavily modified from examples in HuggingFace\n",
        "**Description:** NLP code to detect plagiarism in code."
      ]
    },
    {
      "cell_type": "markdown",
      "metadata": {
        "id": "3MFBgLqKMp4z"
      },
      "source": [
        "## Introduction\n",
        "\n",
        "This is a preliminary model for doing code plagiarism detection. The idea is to identify when students in a class has plagiarized a coding example.\n",
        "\n",
        "### References\n",
        "\n",
        "* [Longformer](https://arxiv.org/abs/2004.05150)\n",
        "* [Plagiarism Detection in Computer Programming Using Feature Extraction From Ultra-Fine-Grained Repositories](https://ieeexplore.ieee.org/stamp/stamp.jsp?arnumber=9097285)"
      ]
    },
    {
      "cell_type": "markdown",
      "metadata": {
        "id": "AdRW6njRMp40"
      },
      "source": [
        "## Setup\n",
        "\n",
        "Note: install HuggingFace `transformers` via `pip install transformers` (version >= 2.11.0)."
      ]
    },
    {
      "cell_type": "code",
      "execution_count": null,
      "metadata": {
        "id": "E-Q-VHNK8sTB"
      },
      "outputs": [],
      "source": [
        "%%capture\n",
        "!pip3 install transformers\n",
        "!pip3 install sentence_transformers\n",
        "!pip3 install imbalanced-learn\n",
        "!pip3 install datasets\n",
        "#!pip3 install wandb"
      ]
    },
    {
      "cell_type": "code",
      "source": [
        "import torch\n",
        "import datasets\n",
        "import transformers\n",
        "import pandas as pd\n",
        "import numpy as np\n",
        "from transformers import BertTokenizer, \\\n",
        "BertForSequenceClassification, Trainer, TrainingArguments,EvalPrediction, \\\n",
        "AutoTokenizer,  BertTokenizerFast,AutoModelForSequenceClassification\n",
        "from torch.utils.data import Dataset, DataLoader\n",
        "#import wandb\n",
        "import random\n",
        "from imblearn.over_sampling import RandomOverSampler\n",
        "import pprint\n",
        "from transformers.utils import logging\n",
        "logging.set_verbosity_error()\n"
      ],
      "metadata": {
        "id": "zkSTdJmKwsMI"
      },
      "execution_count": null,
      "outputs": []
    },
    {
      "cell_type": "code",
      "source": [
        "#!gsutil cp gs://w266finalproject/plagA20162017.tar plag2.tar\n",
        "!gsutil cp gs://w266finalproject/plag2.tar plag2.tar"
      ],
      "metadata": {
        "colab": {
          "base_uri": "https://localhost:8080/"
        },
        "id": "CF9hZB2E95i9",
        "outputId": "e01f8623-79b8-46b8-e214-546b92d4c69b"
      },
      "execution_count": null,
      "outputs": [
        {
          "output_type": "stream",
          "name": "stdout",
          "text": [
            "Copying gs://w266finalproject/plag2.tar...\n",
            "- [1 files][ 77.8 MiB/ 77.8 MiB]                                                \n",
            "Operation completed over 1 objects/77.8 MiB.                                     \n"
          ]
        }
      ]
    },
    {
      "cell_type": "code",
      "source": [
        "#!echo Y | gcloud auth login\n",
        "#gcloud auth login --remote-bootstrap=\"https://accounts.google.com/o/oauth2/auth?response_type=code&client_id=32555940559.apps.googleusercontent.com&scope=openid+https%3A%2F%2Fwww.googleapis.com%2Fauth%2Fuserinfo.email+https%3A%2F%2Fwww.googleapis.com%2Fauth%2Fcloud-platform+https%3A%2F%2Fwww.googleapis.com%2Fauth%2Fappengine.admin+https%3A%2F%2Fwww.googleapis.com%2Fauth%2Fcompute+https%3A%2F%2Fwww.googleapis.com%2Fauth%2Faccounts.reauth&state=a8PApkxcVY96cI0kqcyYRSLEz0yZP0&access_type=offline&code_challenge=nXI-Bvrdyh7AWh0n8iFt8UFtKFTjS2iN8gvUtQeilWE&code_challenge_method=S256&token_usage=remote\""
      ],
      "metadata": {
        "id": "D-a2OLBH39-0"
      },
      "execution_count": null,
      "outputs": []
    },
    {
      "cell_type": "code",
      "source": [
        "\n",
        "!tar xvf plag2.tar\n",
        "!ls -l\n",
        "# !mv trainA*.csv train.csv\n",
        "# !mv testA*.csv test.csv\n",
        "!mv train2.csv train.csv\n",
        "!mv test2.csv test.csv"
      ],
      "metadata": {
        "colab": {
          "base_uri": "https://localhost:8080/"
        },
        "id": "onaZjOm39_ok",
        "outputId": "38852037-9da8-43c2-ff37-06e4b164a9f5"
      },
      "execution_count": null,
      "outputs": [
        {
          "output_type": "stream",
          "name": "stdout",
          "text": [
            "alldata2.csv\r\n",
            "groundtruth2.csv\r\n",
            "test2.csv\r\n",
            "train2.csv\n",
            "total 237872\n",
            "-rw-r--r--  1 jupyter jupyter  1114619 Mar 16 08:22 alldata2.csv\n",
            "drwxr-xr-x  2 jupyter jupyter    12288 Mar 24 06:21 data\n",
            "-rw-r--r--  1 jupyter jupyter   203396 Mar 16 08:19 groundtruth2.csv\n",
            "-rw-r--r--  1 jupyter jupyter 81619968 Mar 24 19:51 plag2.tar\n",
            "drwxr-xr-x 14 jupyter jupyter     4096 Mar 24 06:08 results\n",
            "drwxr-xr-x  2 jupyter jupyter     4096 Mar 24 04:24 resultsBERT03242022_042423_512\n",
            "drwxr-xr-x  6 jupyter jupyter     4096 Mar 24 04:34 resultsBERT03242022_042500_512\n",
            "drwxr-xr-x  3 jupyter jupyter     4096 Mar 24 02:43 src\n",
            "-rw-r--r--  1 jupyter jupyter 15819857 Mar 16 08:22 test.csv\n",
            "-rw-r--r--  1 jupyter jupyter 15819857 Mar 16 08:22 test2.csv\n",
            "-rw-r--r--  1 jupyter jupyter 64478135 Mar 16 08:22 train.csv\n",
            "-rw-r--r--  1 jupyter jupyter 64478135 Mar 16 08:22 train2.csv\n",
            "drwxr-xr-x  6 jupyter jupyter     4096 Mar 24 02:43 tutorials\n"
          ]
        }
      ]
    },
    {
      "cell_type": "code",
      "source": [
        ""
      ],
      "metadata": {
        "id": "Foc_3qLZsGj5"
      },
      "execution_count": null,
      "outputs": []
    },
    {
      "cell_type": "code",
      "source": [
        "train_df = pd.read_csv(\"train.csv\")\n",
        "test_df = pd.read_csv(\"test.csv\")\n",
        "valid_df = train_df[int(len(train_df)*0.8):]\n",
        "train_df = train_df[:int(len(train_df)*0.8)]#[:15000]"
      ],
      "metadata": {
        "id": "D2CloHdX54uW"
      },
      "execution_count": null,
      "outputs": []
    },
    {
      "cell_type": "code",
      "source": [
        "print(\"Train Target Distribution\")\n",
        "print(train_df.plagiarized.value_counts())"
      ],
      "metadata": {
        "colab": {
          "base_uri": "https://localhost:8080/"
        },
        "id": "QNPC2yDv5O0l",
        "outputId": "45420245-ea8d-425b-fea1-14812feb61ae"
      },
      "execution_count": null,
      "outputs": [
        {
          "output_type": "stream",
          "name": "stdout",
          "text": [
            "Train Target Distribution\n",
            "0    10595\n",
            "1      463\n",
            "Name: plagiarized, dtype: int64\n"
          ]
        }
      ]
    },
    {
      "cell_type": "code",
      "source": [
        "# y_train = tf.keras.utils.to_categorical(train_df.plagiarized, num_classes=2)\n",
        "# y_val = tf.keras.utils.to_categorical(valid_df.plagiarized, num_classes=2)\n",
        "# y_test = tf.keras.utils.to_categorical(test_df.plagiarized, num_classes=2)\n",
        "\n",
        "# define oversampling strategy\n",
        "oversample = RandomOverSampler(sampling_strategy='minority',random_state=1234)\n",
        "train_over, y_train_over = oversample.fit_resample(train_df, train_df.plagiarized)\n",
        "print(\"Train Target Distribution\")\n",
        "print(train_over.plagiarized.value_counts())\n",
        "\n",
        "valid_over, y_valid_over = oversample.fit_resample(valid_df, valid_df.plagiarized)\n",
        "print(\"Valid Target Distribution\")\n",
        "print(valid_over.plagiarized.value_counts())\n",
        "\n",
        "test_over, y_test_over = oversample.fit_resample(test_df, test_df.plagiarized)\n",
        "print(\"Test Target Distribution\")\n",
        "print(test_over.plagiarized.value_counts())"
      ],
      "metadata": {
        "colab": {
          "base_uri": "https://localhost:8080/"
        },
        "id": "Fu0vYwLs7nQf",
        "outputId": "af0ecbe6-a086-49c9-8152-0ea294868215"
      },
      "execution_count": null,
      "outputs": [
        {
          "output_type": "stream",
          "name": "stdout",
          "text": [
            "Train Target Distribution\n",
            "0    10595\n",
            "1    10595\n",
            "Name: plagiarized, dtype: int64\n",
            "Valid Target Distribution\n",
            "0    2654\n",
            "1    2654\n",
            "Name: plagiarized, dtype: int64\n",
            "Test Target Distribution\n",
            "0    3294\n",
            "1    3294\n",
            "Name: plagiarized, dtype: int64\n"
          ]
        }
      ]
    },
    {
      "cell_type": "code",
      "source": [
        "\n",
        "\n",
        "train_data = datasets.Dataset.from_pandas(train_over)\n",
        "valid_data = datasets.Dataset.from_pandas(valid_over)\n",
        "test_data = datasets.Dataset.from_pandas(test_over)"
      ],
      "metadata": {
        "id": "yKlqzikqy7R0"
      },
      "execution_count": null,
      "outputs": []
    },
    {
      "cell_type": "code",
      "source": [
        "print(len(train_data),type(train_data),train_data)"
      ],
      "metadata": {
        "colab": {
          "base_uri": "https://localhost:8080/"
        },
        "id": "eg2wmK4V0GNq",
        "outputId": "ca2aae80-14b9-4330-c111-8be992c6c510"
      },
      "execution_count": null,
      "outputs": [
        {
          "output_type": "stream",
          "name": "stdout",
          "text": [
            "21190 <class 'datasets.arrow_dataset.Dataset'> Dataset({\n",
            "    features: ['label', 'filename0', 'filename1', 'source0', 'source1', 'percent', 'percent0', 'percent1', 'lines', 'plagiarized'],\n",
            "    num_rows: 21190\n",
            "})\n"
          ]
        }
      ]
    },
    {
      "cell_type": "code",
      "source": [
        "# load model and tokenizer and define length of the text sequence\n",
        "device = torch.device(\"cuda:0\") if torch.cuda.is_available() else torch.device(\"cpu\")\n",
        "model = AutoModelForSequenceClassification.from_pretrained(\"allenai/longformer-base-4096\",\n",
        "#                gradient_checkpointing=False,\n",
        "                num_labels = 2,\n",
        "                cache_dir='data',\n",
        "                return_dict=True).to(device)\n",
        "\n",
        "tokenizer = AutoTokenizer.from_pretrained(\"allenai/longformer-base-4096\", \n",
        "                                          max_length = 4096,\n",
        "                                          cache_dir='data',)\n",
        "\n",
        "def tokenization(batched_text):\n",
        "    return tokenizer(batched_text['source0'],batched_text['source1'], padding = 'max_length', truncation=True, max_length = 4096)\n",
        "\n"
      ],
      "metadata": {
        "colab": {
          "base_uri": "https://localhost:8080/",
          "height": 177,
          "referenced_widgets": [
            "42aef981026744bca13430f650cf1881",
            "f12f4d7d09f947319edcc73caa2a2602",
            "87969e27734d46098b39129e0516e17b",
            "ffac9fb67472499494e77bfac23400b7",
            "942077ab2edf4a3aad6d0d2b2eba363d",
            "d31084390c204e22bde18ae0196fc7ed",
            "2d481556e1434e0ebf9c1e347246973c",
            "8f3ea8127fc74eed8228f3002d315cc9",
            "149caac141ed4207bd0661cac831fb1a",
            "b95b273c77734d04b3ae9bd983543eba",
            "c62431be948f4fae876437159766e134",
            "374ec8d686c6499e97cba6d0f9964407",
            "dc50f5e2988446a9b0c1b21dde797cf5",
            "09f661601e544a0ebc5d1c68948df594",
            "04441a8f48cd4524857dc12d67bfde6f",
            "e7fa20d145a14e6782bb58c0afe2fcd9",
            "1a888da094f74ca6a1afe45e513b827b",
            "97f626865dc4476dbd0c5b5a549ada35",
            "e2f8cf6acc224d70a670836b4efe7093",
            "d3da0ecd336a4019a46ee5ecda141af6",
            "f17c4840b2554165ad8e32adace37a37",
            "8214a785bdfa4e118f41fba60e1b9584",
            "8114999737774e059047eeb4e498f42b",
            "c368ae4a96e74f9b914fdee36eb57211",
            "880939f8dc8242cabed17857dc9a72d2",
            "c45340959bf24977be9b45726feb538f",
            "f9ade69e375546b382c748b8343e8fc4",
            "73a6ba0e1b164ea59dfac19859c7dac5",
            "c5ed314a36a24efd86ccf4ac54874f84",
            "d9599d36205341d39770568b53da29aa",
            "92afda46508e4b85aa1a0098d7095799",
            "de508e9e40074728ba453ac859d9944c",
            "b9bcc34456ce4e5489008d2003ffa698",
            "8130bf452a72431c8c8b5ce395138965",
            "66c19434bfcd4d87b6e8ebd45445e8bf",
            "87c98fd960954a838647c3bc5f68782c",
            "718642cfcf8a41a19a574cf60729010d",
            "a79115a7a3584082802a6a866ed50317",
            "f2028c9b521544fe8e76b91d394324b2",
            "1c5937a93e85484cb8bc114f7b68c1e0",
            "84dff631a5a4400a8332cd135bb7362f",
            "d199e70badbb45b59416c388079bb322",
            "b6f46875d76945c8b553cf1bd8ce05b5",
            "159923e52b154d45be024b97550b5dfc",
            "1dbc15957fa246eb948d9b0553fdd53f",
            "f734e36daf134368a467aca213d6d635",
            "b317a6883eab454f9d310733148ef6e6",
            "c07b4e6d738c4e6eb8045868f06e9dd1",
            "0317967982294251af4dad96bfb032c1",
            "440adcb3452a4ad59c671036bf38e359",
            "79b4e1fec5f0470d8bfb7c75bbd60bcd",
            "24eacd8580dc43da9922d7036e248685",
            "a6c7ddc2f5c744d787b164399a6147f5",
            "5586d1847e084c868daedd1ee4f54e02",
            "b79d5bbab63a4f17a145a211904a7b45"
          ]
        },
        "id": "EhM8OvvlxNeK",
        "outputId": "3995ed82-6639-4a27-f8b2-ec73a99e4efc"
      },
      "execution_count": null,
      "outputs": [
        {
          "output_type": "display_data",
          "data": {
            "text/plain": [
              "Downloading:   0%|          | 0.00/694 [00:00<?, ?B/s]"
            ],
            "application/vnd.jupyter.widget-view+json": {
              "version_major": 2,
              "version_minor": 0,
              "model_id": "42aef981026744bca13430f650cf1881"
            }
          },
          "metadata": {}
        },
        {
          "output_type": "display_data",
          "data": {
            "text/plain": [
              "Downloading:   0%|          | 0.00/570M [00:00<?, ?B/s]"
            ],
            "application/vnd.jupyter.widget-view+json": {
              "version_major": 2,
              "version_minor": 0,
              "model_id": "374ec8d686c6499e97cba6d0f9964407"
            }
          },
          "metadata": {}
        },
        {
          "output_type": "display_data",
          "data": {
            "text/plain": [
              "Downloading:   0%|          | 0.00/878k [00:00<?, ?B/s]"
            ],
            "application/vnd.jupyter.widget-view+json": {
              "version_major": 2,
              "version_minor": 0,
              "model_id": "8114999737774e059047eeb4e498f42b"
            }
          },
          "metadata": {}
        },
        {
          "output_type": "display_data",
          "data": {
            "text/plain": [
              "Downloading:   0%|          | 0.00/446k [00:00<?, ?B/s]"
            ],
            "application/vnd.jupyter.widget-view+json": {
              "version_major": 2,
              "version_minor": 0,
              "model_id": "8130bf452a72431c8c8b5ce395138965"
            }
          },
          "metadata": {}
        },
        {
          "output_type": "display_data",
          "data": {
            "text/plain": [
              "Downloading:   0%|          | 0.00/1.29M [00:00<?, ?B/s]"
            ],
            "application/vnd.jupyter.widget-view+json": {
              "version_major": 2,
              "version_minor": 0,
              "model_id": "1dbc15957fa246eb948d9b0553fdd53f"
            }
          },
          "metadata": {}
        }
      ]
    },
    {
      "cell_type": "code",
      "source": [
        "train_data = train_data.map(tokenization, batched = True, batch_size = 128)\n",
        "valid_data = valid_data.map(tokenization, batched = True, batch_size = 128)\n",
        "test_data = test_data.map(tokenization, batched = True, batch_size = 128)"
      ],
      "metadata": {
        "colab": {
          "base_uri": "https://localhost:8080/",
          "height": 113,
          "referenced_widgets": [
            "f3fa7b335b2f4c94be5d92edc7e8195f",
            "c61c644759a04e1ca4191a42072fe4c9",
            "68710911617a49d7afc8c6ed6d8777c8",
            "f747aa806f904ee2802002bfd109d9e1",
            "7ca4fd823e1441d699201f418f8192e4",
            "de691bc866664c02afe6581ccca60056",
            "06ac3c1de713459787c207990cf3c831",
            "65f515b2bb63479192e87f6465c8aecf",
            "fd06ab9784994083bd299882f40a36a1",
            "7b75074e8f6d4dafaf77e696dde340b3",
            "32bf2a52e7274be0b5811aea9e8eae5a",
            "2c16cfaedcbc4a9cb6b322f75d8ef764",
            "a888f6010ed24155a8d9a8b2b603de0f",
            "b78d1428acb04364a988063877ed7797",
            "cc4578c0b2ac4d039d0ea5df1aa0f831",
            "cecca603f7c046adbc7d82c4c11630e9",
            "6a9bea76c2814cd5b85693581a04d283",
            "0aaaf011e5694071bb3b27f21b65a36a",
            "b91bd25c69ad4d65b52e6b212e8b784b",
            "8dd8274bb7e14be695f747a629689973",
            "de94d5971d4243ffac6670d6771d82b9",
            "e7c67e82f2bf416c99d6f663426af49d",
            "816f2c78fc0048df8ee548357f1e8329",
            "32f34ce2056e43a995921585e9e087ec",
            "25758f1fe0024380a89787eccd896e2d",
            "3df3330d931648d592fb2bad368881ba",
            "cd2624decbed43d3b17d31fa3a12e73d",
            "e4d5ff1c56274a8f89f3b812d49807b4",
            "41b058d4a10443a48e57077606ff46b4",
            "e117dc2ee2954e65b36de2d0bafbd1bf",
            "27eff334f14443a5b18534fe79909910",
            "a8a632aed3d64a19b6bbe2b7db349dc3",
            "6e7a98ff35904d898100a69b30630c56"
          ]
        },
        "id": "x2zIgmw_mVVc",
        "outputId": "7823073b-a8c9-48a0-bebb-106a9595b050"
      },
      "execution_count": null,
      "outputs": [
        {
          "output_type": "display_data",
          "data": {
            "text/plain": [
              "  0%|          | 0/166 [00:00<?, ?ba/s]"
            ],
            "application/vnd.jupyter.widget-view+json": {
              "version_major": 2,
              "version_minor": 0,
              "model_id": "f3fa7b335b2f4c94be5d92edc7e8195f"
            }
          },
          "metadata": {}
        },
        {
          "output_type": "display_data",
          "data": {
            "text/plain": [
              "  0%|          | 0/42 [00:00<?, ?ba/s]"
            ],
            "application/vnd.jupyter.widget-view+json": {
              "version_major": 2,
              "version_minor": 0,
              "model_id": "2c16cfaedcbc4a9cb6b322f75d8ef764"
            }
          },
          "metadata": {}
        },
        {
          "output_type": "display_data",
          "data": {
            "text/plain": [
              "  0%|          | 0/52 [00:00<?, ?ba/s]"
            ],
            "application/vnd.jupyter.widget-view+json": {
              "version_major": 2,
              "version_minor": 0,
              "model_id": "816f2c78fc0048df8ee548357f1e8329"
            }
          },
          "metadata": {}
        }
      ]
    },
    {
      "cell_type": "code",
      "source": [
        "train_data = train_data.map(lambda examples: {'label': examples['plagiarized']}, batched=True)\n",
        "valid_data = valid_data.map(lambda examples: {'label': examples['plagiarized']}, batched=True)\n",
        "test_data = test_data.map(lambda examples: {'label': examples['plagiarized']}, batched=True)\n",
        "train_data.set_format(type='torch', columns=['input_ids', 'attention_mask', 'label'])\n",
        "valid_data.set_format(type='torch', columns=['input_ids', 'attention_mask', 'label'])\n",
        "test_data.set_format(type='torch', columns=['input_ids', 'attention_mask', 'label'])"
      ],
      "metadata": {
        "colab": {
          "base_uri": "https://localhost:8080/",
          "height": 113,
          "referenced_widgets": [
            "8dd849b7ed46438cbb2b7480f5ea799e",
            "1840194655714e2b9dce20aabdb530bc",
            "c91392cd6e5944bebaf7666d818ee04d",
            "a53b5d9482104d82bcb711fe1e63679a",
            "802cd6adaacc4ad9b83ebafd1fef5018",
            "44392b6be67242a599a220351ae6cde0",
            "19a5be21450e44ba8766242a70049fc4",
            "4db5a4c34f244252ba730b55fdd523c1",
            "c75fb438a6cd48b28c9de81183f8e9dd",
            "eea28b602ded48bc932f86f5ac38e2f7",
            "c0575d85cddb4bfbb350ad0397fc8f44",
            "82f004eb1ca1418b88a8cfeee0e1a9fd",
            "f6301bd0e2a54d73b1052ef1b833cfd6",
            "9b111ec52d064d1982646a186cc80edc",
            "6e30a6c4dea94d2cac04992e641cc306",
            "249c3f5639a64afe844256a7e1c1f9ee",
            "269aa8c85f684ddc8c77db3936933eac",
            "6817e0a35b814eccb718b4d9678b2e89",
            "75b31fc10c854ceca6acda1ce04cf7a8",
            "6c5f2cf6bd0d43e0852cae921530d8ee",
            "d4bbc208f83d49f29132f85b4f428b5d",
            "8b4b17b7a4db42fea9f8c9abef510159",
            "bf9ea1b842154ffd88fe9afc46f3775e",
            "53f4a627845b44828ff98c674e334f95",
            "f218832d704b4a4eba05eaf3cd5de878",
            "e31d62ae1f0541c89bd8a1a711731e50",
            "08063f9af7aa46d1ac3d1bd4ee1f0428",
            "c2c28ee26c574368afd14b62101e0841",
            "d60841975938449395b39e7411f439f4",
            "690b66f299244146a7153b1ac5fd3d57",
            "9cc93a37a0c54a0c9d8fa3b844663eb3",
            "44de2f54ecfd4b11b2b05691ce357958",
            "7891c8f8505d4a77895fb903e7089fc6"
          ]
        },
        "id": "8naqL2noJ3-p",
        "outputId": "3c498819-cc9b-4932-e6f7-81f889667b8d"
      },
      "execution_count": null,
      "outputs": [
        {
          "output_type": "display_data",
          "data": {
            "text/plain": [
              "  0%|          | 0/22 [00:00<?, ?ba/s]"
            ],
            "application/vnd.jupyter.widget-view+json": {
              "version_major": 2,
              "version_minor": 0,
              "model_id": "8dd849b7ed46438cbb2b7480f5ea799e"
            }
          },
          "metadata": {}
        },
        {
          "output_type": "display_data",
          "data": {
            "text/plain": [
              "  0%|          | 0/6 [00:00<?, ?ba/s]"
            ],
            "application/vnd.jupyter.widget-view+json": {
              "version_major": 2,
              "version_minor": 0,
              "model_id": "82f004eb1ca1418b88a8cfeee0e1a9fd"
            }
          },
          "metadata": {}
        },
        {
          "output_type": "display_data",
          "data": {
            "text/plain": [
              "  0%|          | 0/7 [00:00<?, ?ba/s]"
            ],
            "application/vnd.jupyter.widget-view+json": {
              "version_major": 2,
              "version_minor": 0,
              "model_id": "bf9ea1b842154ffd88fe9afc46f3775e"
            }
          },
          "metadata": {}
        }
      ]
    },
    {
      "cell_type": "code",
      "source": [
        "# define accuracy metrics\n",
        "from sklearn.metrics import precision_recall_fscore_support, accuracy_score\n",
        "def compute_metrics(pred):\n",
        "    labels = pred.label_ids\n",
        "    preds = pred.predictions.argmax(-1)\n",
        "    precision, recall, f1, _ = precision_recall_fscore_support(labels, preds, average='binary')\n",
        "    acc = accuracy_score(labels, preds)\n",
        "    return {\n",
        "        'accuracy': acc,\n",
        "        'f1': f1,\n",
        "        'precision': precision,\n",
        "        'recall': recall\n",
        "    }"
      ],
      "metadata": {
        "id": "5kiqk5mizHKW"
      },
      "execution_count": null,
      "outputs": []
    },
    {
      "cell_type": "code",
      "source": [
        "# define the training arguments\n",
        "training_args = TrainingArguments(\n",
        "    output_dir = 'results',\n",
        "    num_train_epochs = 4,\n",
        "    per_device_train_batch_size = 1,\n",
        "    gradient_accumulation_steps = 32,    \n",
        "    per_device_eval_batch_size= 16,\n",
        "    evaluation_strategy = \"epoch\",\n",
        "    save_strategy = \"epoch\",\n",
        "    disable_tqdm = False, \n",
        "    load_best_model_at_end=True,\n",
        "    metric_for_best_model='eval_f1',\n",
        "    greater_is_better=True,\n",
        "    warmup_steps=160,\n",
        "    weight_decay=0.01,\n",
        "    logging_steps = 4,\n",
        "    learning_rate = 1e-5,\n",
        "    fp16 = True,\n",
        "    logging_dir='logs',\n",
        "    dataloader_num_workers = 0,\n",
        "#    run_name = 'bigbird_classification_1e5'\n",
        ")\n",
        "# instantiate the trainer class and check for available devices\n",
        "trainer = Trainer(\n",
        "    model=model,\n",
        "    args=training_args,\n",
        "    compute_metrics=compute_metrics,\n",
        "    train_dataset=train_data,\n",
        "    eval_dataset=valid_data\n",
        ")\n",
        "device = 'cuda' if torch.cuda.is_available() else 'cpu'\n",
        "device\n"
      ],
      "metadata": {
        "colab": {
          "base_uri": "https://localhost:8080/"
        },
        "id": "HwVeVl7KzUxE",
        "outputId": "3b9388fe-1c3d-4a48-f0e0-347d48c6b4f8"
      },
      "execution_count": null,
      "outputs": [
        {
          "output_type": "stream",
          "name": "stderr",
          "text": [
            "Using amp half precision backend\n"
          ]
        },
        {
          "output_type": "execute_result",
          "data": {
            "text/plain": [
              "'cuda'"
            ]
          },
          "metadata": {},
          "execution_count": 15
        }
      ]
    },
    {
      "cell_type": "code",
      "source": [
        "logging.set_verbosity_error()\n",
        "# see how the basic model would perform\n",
        "trainer.evaluate()"
      ],
      "metadata": {
        "id": "GvTGbtTDnbNa",
        "colab": {
          "base_uri": "https://localhost:8080/",
          "height": 211
        },
        "outputId": "37b0cff4-f10f-45fb-9a5f-8159d741757e"
      },
      "execution_count": null,
      "outputs": [
        {
          "output_type": "stream",
          "name": "stderr",
          "text": [
            "/opt/conda/lib/python3.7/site-packages/torch/nn/parallel/_functions.py:68: UserWarning: Was asked to gather along dimension 0, but all input tensors were scalars; will instead unsqueeze and return a vector.\n",
            "  warnings.warn('Was asked to gather along dimension 0, but all '\n"
          ]
        },
        {
          "output_type": "display_data",
          "data": {
            "text/plain": [
              "<IPython.core.display.HTML object>"
            ],
            "text/html": [
              "\n",
              "    <div>\n",
              "      \n",
              "      <progress value='83' max='83' style='width:300px; height:20px; vertical-align: middle;'></progress>\n",
              "      [83/83 01:38]\n",
              "    </div>\n",
              "    "
            ]
          },
          "metadata": {}
        },
        {
          "output_type": "execute_result",
          "data": {
            "text/plain": [
              "{'eval_loss': 0.69614177942276,\n",
              " 'eval_accuracy': 0.48342125094197436,\n",
              " 'eval_f1': 0.64417337139891,\n",
              " 'eval_precision': 0.4912905779889153,\n",
              " 'eval_recall': 0.9351921627731725,\n",
              " 'eval_runtime': 107.9344,\n",
              " 'eval_samples_per_second': 49.178,\n",
              " 'eval_steps_per_second': 0.769}"
            ]
          },
          "metadata": {},
          "execution_count": 16
        }
      ]
    },
    {
      "cell_type": "code",
      "source": [
        "!nvidia-smi -L "
      ],
      "metadata": {
        "colab": {
          "base_uri": "https://localhost:8080/"
        },
        "id": "Gc3VvJnuNdIX",
        "outputId": "473a3369-4634-4739-8bd3-a820446b72e9"
      },
      "execution_count": null,
      "outputs": [
        {
          "output_type": "stream",
          "name": "stdout",
          "text": [
            "huggingface/tokenizers: The current process just got forked, after parallelism has already been used. Disabling parallelism to avoid deadlocks...\n",
            "To disable this warning, you can either:\n",
            "\t- Avoid using `tokenizers` before the fork if possible\n",
            "\t- Explicitly set the environment variable TOKENIZERS_PARALLELISM=(true | false)\n",
            "GPU 0: Tesla V100-SXM2-16GB (UUID: GPU-c4b5bfe8-6b06-2db9-3ae4-08dd3baf694a)\n",
            "GPU 1: Tesla V100-SXM2-16GB (UUID: GPU-1fcb827f-e5b3-805e-99cc-711ad7c0d1c8)\n",
            "GPU 2: Tesla V100-SXM2-16GB (UUID: GPU-97a89097-4c02-136d-5954-4e083dc9d19f)\n",
            "GPU 3: Tesla V100-SXM2-16GB (UUID: GPU-5d40b3fa-9579-22ab-8696-cd7d22dad613)\n"
          ]
        }
      ]
    },
    {
      "cell_type": "code",
      "source": [
        "torch.cuda.empty_cache()\n",
        "import gc\n",
        "gc.collect()"
      ],
      "metadata": {
        "colab": {
          "base_uri": "https://localhost:8080/"
        },
        "id": "U5e9Rm2YUB9I",
        "outputId": "d0824170-2ac1-4ef3-b81e-79ebd028d4e0"
      },
      "execution_count": null,
      "outputs": [
        {
          "output_type": "execute_result",
          "data": {
            "text/plain": [
              "46"
            ]
          },
          "metadata": {},
          "execution_count": 18
        }
      ]
    },
    {
      "cell_type": "code",
      "source": [
        "# train the model\n",
        "logging.set_verbosity_error()\n",
        "trainer.train()"
      ],
      "metadata": {
        "colab": {
          "base_uri": "https://localhost:8080/",
          "height": 432
        },
        "id": "Lj1n6oQmnkyS",
        "outputId": "6665747c-688b-455a-abc3-ff903eba4ddf"
      },
      "execution_count": null,
      "outputs": [
        {
          "output_type": "stream",
          "name": "stderr",
          "text": [
            "/opt/conda/lib/python3.7/site-packages/transformers/optimization.py:309: FutureWarning: This implementation of AdamW is deprecated and will be removed in a future version. Use the PyTorch implementation torch.optim.AdamW instead, or set `no_deprecation_warning=True` to disable this warning\n",
            "  FutureWarning,\n",
            "/opt/conda/lib/python3.7/site-packages/torch/nn/parallel/_functions.py:68: UserWarning: Was asked to gather along dimension 0, but all input tensors were scalars; will instead unsqueeze and return a vector.\n",
            "  warnings.warn('Was asked to gather along dimension 0, but all '\n"
          ]
        },
        {
          "output_type": "display_data",
          "data": {
            "text/plain": [
              "<IPython.core.display.HTML object>"
            ],
            "text/html": [
              "\n",
              "    <div>\n",
              "      \n",
              "      <progress value='660' max='660' style='width:300px; height:20px; vertical-align: middle;'></progress>\n",
              "      [660/660 2:32:03, Epoch 3/4]\n",
              "    </div>\n",
              "    <table border=\"1\" class=\"dataframe\">\n",
              "  <thead>\n",
              " <tr style=\"text-align: left;\">\n",
              "      <th>Epoch</th>\n",
              "      <th>Training Loss</th>\n",
              "      <th>Validation Loss</th>\n",
              "      <th>Accuracy</th>\n",
              "      <th>F1</th>\n",
              "      <th>Precision</th>\n",
              "      <th>Recall</th>\n",
              "    </tr>\n",
              "  </thead>\n",
              "  <tbody>\n",
              "    <tr>\n",
              "      <td>0</td>\n",
              "      <td>0.639800</td>\n",
              "      <td>0.672005</td>\n",
              "      <td>0.594386</td>\n",
              "      <td>0.642062</td>\n",
              "      <td>0.574531</td>\n",
              "      <td>0.727581</td>\n",
              "    </tr>\n",
              "    <tr>\n",
              "      <td>1</td>\n",
              "      <td>0.347100</td>\n",
              "      <td>0.708942</td>\n",
              "      <td>0.698568</td>\n",
              "      <td>0.619410</td>\n",
              "      <td>0.840000</td>\n",
              "      <td>0.490580</td>\n",
              "    </tr>\n",
              "    <tr>\n",
              "      <td>2</td>\n",
              "      <td>0.180300</td>\n",
              "      <td>0.828389</td>\n",
              "      <td>0.723813</td>\n",
              "      <td>0.664684</td>\n",
              "      <td>0.845751</td>\n",
              "      <td>0.547476</td>\n",
              "    </tr>\n",
              "    <tr>\n",
              "      <td>3</td>\n",
              "      <td>0.179500</td>\n",
              "      <td>1.057344</td>\n",
              "      <td>0.678033</td>\n",
              "      <td>0.564142</td>\n",
              "      <td>0.872928</td>\n",
              "      <td>0.416729</td>\n",
              "    </tr>\n",
              "  </tbody>\n",
              "</table><p>"
            ]
          },
          "metadata": {}
        },
        {
          "output_type": "display_data",
          "data": {
            "text/plain": [
              "<IPython.core.display.HTML object>"
            ],
            "text/html": [
              "\n",
              "    <div>\n",
              "      \n",
              "      <progress value='166' max='83' style='width:300px; height:20px; vertical-align: middle;'></progress>\n",
              "      [83/83 39:20]\n",
              "    </div>\n",
              "    "
            ]
          },
          "metadata": {}
        },
        {
          "output_type": "stream",
          "name": "stderr",
          "text": [
            "/opt/conda/lib/python3.7/site-packages/torch/nn/parallel/_functions.py:68: UserWarning: Was asked to gather along dimension 0, but all input tensors were scalars; will instead unsqueeze and return a vector.\n",
            "  warnings.warn('Was asked to gather along dimension 0, but all '\n",
            "/opt/conda/lib/python3.7/site-packages/torch/nn/parallel/_functions.py:68: UserWarning: Was asked to gather along dimension 0, but all input tensors were scalars; will instead unsqueeze and return a vector.\n",
            "  warnings.warn('Was asked to gather along dimension 0, but all '\n",
            "/opt/conda/lib/python3.7/site-packages/torch/nn/parallel/_functions.py:68: UserWarning: Was asked to gather along dimension 0, but all input tensors were scalars; will instead unsqueeze and return a vector.\n",
            "  warnings.warn('Was asked to gather along dimension 0, but all '\n"
          ]
        },
        {
          "output_type": "execute_result",
          "data": {
            "text/plain": [
              "TrainOutput(global_step=660, training_loss=0.3952386198621808, metrics={'train_runtime': 9137.7291, 'train_samples_per_second': 9.276, 'train_steps_per_second': 0.072, 'total_flos': 2.2251505196187648e+17, 'train_loss': 0.3952386198621808, 'epoch': 4.0})"
            ]
          },
          "metadata": {},
          "execution_count": 19
        }
      ]
    },
    {
      "cell_type": "code",
      "source": [
        "# Evaluate the results\n",
        "trainer.evaluate()"
      ],
      "metadata": {
        "id": "4bz9gU0UdFuI",
        "colab": {
          "base_uri": "https://localhost:8080/",
          "height": 228
        },
        "outputId": "5cfe2b20-db34-4745-88dd-ac68eb38bdeb"
      },
      "execution_count": null,
      "outputs": [
        {
          "output_type": "stream",
          "name": "stderr",
          "text": [
            "/opt/conda/lib/python3.7/site-packages/torch/nn/parallel/_functions.py:68: UserWarning: Was asked to gather along dimension 0, but all input tensors were scalars; will instead unsqueeze and return a vector.\n",
            "  warnings.warn('Was asked to gather along dimension 0, but all '\n"
          ]
        },
        {
          "output_type": "display_data",
          "data": {
            "text/plain": [
              "<IPython.core.display.HTML object>"
            ],
            "text/html": [
              "\n",
              "    <div>\n",
              "      \n",
              "      <progress value='83' max='83' style='width:300px; height:20px; vertical-align: middle;'></progress>\n",
              "      [83/83 01:39]\n",
              "    </div>\n",
              "    "
            ]
          },
          "metadata": {}
        },
        {
          "output_type": "execute_result",
          "data": {
            "text/plain": [
              "{'eval_loss': 0.8283891677856445,\n",
              " 'eval_accuracy': 0.7238131122833459,\n",
              " 'eval_f1': 0.6646843549862763,\n",
              " 'eval_precision': 0.8457508731082655,\n",
              " 'eval_recall': 0.5474755086661642,\n",
              " 'eval_runtime': 100.2595,\n",
              " 'eval_samples_per_second': 52.943,\n",
              " 'eval_steps_per_second': 0.828,\n",
              " 'epoch': 4.0}"
            ]
          },
          "metadata": {},
          "execution_count": 20
        }
      ]
    },
    {
      "cell_type": "code",
      "source": [
        "logging.set_verbosity_error()\n",
        "results = trainer.predict(test_data)\n",
        "pprint.pprint(results.metrics)"
      ],
      "metadata": {
        "colab": {
          "base_uri": "https://localhost:8080/",
          "height": 211
        },
        "id": "xuJ1Ag4tYt45",
        "outputId": "a1e97b73-4ddf-4a14-cc06-c2ce4e2e61ae"
      },
      "execution_count": null,
      "outputs": [
        {
          "output_type": "stream",
          "name": "stderr",
          "text": [
            "/opt/conda/lib/python3.7/site-packages/torch/nn/parallel/_functions.py:68: UserWarning: Was asked to gather along dimension 0, but all input tensors were scalars; will instead unsqueeze and return a vector.\n",
            "  warnings.warn('Was asked to gather along dimension 0, but all '\n"
          ]
        },
        {
          "output_type": "display_data",
          "data": {
            "text/plain": [
              "<IPython.core.display.HTML object>"
            ],
            "text/html": [
              "\n",
              "    <div>\n",
              "      \n",
              "      <progress value='186' max='83' style='width:300px; height:20px; vertical-align: middle;'></progress>\n",
              "      [83/83 03:43]\n",
              "    </div>\n",
              "    "
            ]
          },
          "metadata": {}
        },
        {
          "output_type": "stream",
          "name": "stdout",
          "text": [
            "{'test_accuracy': 0.7140255009107468,\n",
            " 'test_f1': 0.6521418020679468,\n",
            " 'test_loss': 0.9575977325439453,\n",
            " 'test_precision': 0.8322337417530632,\n",
            " 'test_recall': 0.5361262902246509,\n",
            " 'test_runtime': 124.5725,\n",
            " 'test_samples_per_second': 52.885,\n",
            " 'test_steps_per_second': 0.827}\n"
          ]
        }
      ]
    },
    {
      "cell_type": "code",
      "source": [
        "!gsutil cp -r results gs://w266finalproject/result03192022"
      ],
      "metadata": {
        "id": "CfvK_JFQ6kLT",
        "colab": {
          "base_uri": "https://localhost:8080/"
        },
        "outputId": "166b53f0-9c54-43d6-92c3-995e8048c3f1"
      },
      "execution_count": null,
      "outputs": [
        {
          "output_type": "stream",
          "name": "stdout",
          "text": [
            "huggingface/tokenizers: The current process just got forked, after parallelism has already been used. Disabling parallelism to avoid deadlocks...\n",
            "To disable this warning, you can either:\n",
            "\t- Avoid using `tokenizers` before the fork if possible\n",
            "\t- Explicitly set the environment variable TOKENIZERS_PARALLELISM=(true | false)\n",
            "Copying file://results/checkpoint-164/training_args.bin [Content-Type=application/octet-stream]...\n",
            "AccessDeniedException: 403 Access denied.\n"
          ]
        }
      ]
    },
    {
      "cell_type": "code",
      "source": [
        "!gsutil ls gs://w266finalproject/result03192022/"
      ],
      "metadata": {
        "id": "etjLi1PTR-54",
        "colab": {
          "base_uri": "https://localhost:8080/"
        },
        "outputId": "ef79b213-b571-4f85-a875-a8dc67aa424b"
      },
      "execution_count": null,
      "outputs": [
        {
          "output_type": "stream",
          "name": "stdout",
          "text": [
            "huggingface/tokenizers: The current process just got forked, after parallelism has already been used. Disabling parallelism to avoid deadlocks...\n",
            "To disable this warning, you can either:\n",
            "\t- Avoid using `tokenizers` before the fork if possible\n",
            "\t- Explicitly set the environment variable TOKENIZERS_PARALLELISM=(true | false)\n",
            "gs://w266finalproject/result03192022/checkpoint-331/\n",
            "gs://w266finalproject/result03192022/results/\n"
          ]
        }
      ]
    },
    {
      "cell_type": "code",
      "source": [
        "!gsutil cp -r result gs://w266finalproject"
      ],
      "metadata": {
        "id": "MOc5sgRCSRxK",
        "colab": {
          "base_uri": "https://localhost:8080/"
        },
        "outputId": "e4a75f9f-4c29-4534-d93f-82fa0cb47eab"
      },
      "execution_count": null,
      "outputs": [
        {
          "output_type": "stream",
          "name": "stdout",
          "text": [
            "huggingface/tokenizers: The current process just got forked, after parallelism has already been used. Disabling parallelism to avoid deadlocks...\n",
            "To disable this warning, you can either:\n",
            "\t- Avoid using `tokenizers` before the fork if possible\n",
            "\t- Explicitly set the environment variable TOKENIZERS_PARALLELISM=(true | false)\n",
            "CommandException: No URLs matched: result\n"
          ]
        }
      ]
    },
    {
      "cell_type": "code",
      "source": [
        "!ls -al results/checkpoint-*\n"
      ],
      "metadata": {
        "id": "HtpTxxjgUIXf",
        "colab": {
          "base_uri": "https://localhost:8080/"
        },
        "outputId": "c070efba-a2bd-451a-dea1-614c813fd8c2"
      },
      "execution_count": null,
      "outputs": [
        {
          "output_type": "stream",
          "name": "stdout",
          "text": [
            "huggingface/tokenizers: The current process just got forked, after parallelism has already been used. Disabling parallelism to avoid deadlocks...\n",
            "To disable this warning, you can either:\n",
            "\t- Avoid using `tokenizers` before the fork if possible\n",
            "\t- Explicitly set the environment variable TOKENIZERS_PARALLELISM=(true | false)\n",
            "results/checkpoint-164:\n",
            "total 1460968\n",
            "drwxr-xr-x  2 jupyter jupyter      4096 Mar 24 05:40 .\n",
            "drwxr-xr-x 18 jupyter jupyter      4096 Mar 24 22:28 ..\n",
            "-rw-r--r--  1 jupyter jupyter       769 Mar 24 05:40 config.json\n",
            "-rw-r--r--  1 jupyter jupyter 997293661 Mar 24 05:40 optimizer.pt\n",
            "-rw-r--r--  1 jupyter jupyter 498675053 Mar 24 05:40 pytorch_model.bin\n",
            "-rw-r--r--  1 jupyter jupyter     17563 Mar 24 05:40 rng_state.pth\n",
            "-rw-r--r--  1 jupyter jupyter       559 Mar 24 05:40 scaler.pt\n",
            "-rw-r--r--  1 jupyter jupyter       623 Mar 24 05:40 scheduler.pt\n",
            "-rw-r--r--  1 jupyter jupyter      5698 Mar 24 05:40 trainer_state.json\n",
            "-rw-r--r--  1 jupyter jupyter      2927 Mar 24 05:40 training_args.bin\n",
            "\n",
            "results/checkpoint-165:\n",
            "total 1742480\n",
            "drwxr-xr-x  2 jupyter jupyter       4096 Mar 24 20:34 .\n",
            "drwxr-xr-x 18 jupyter jupyter       4096 Mar 24 22:28 ..\n",
            "-rw-r--r--  1 jupyter jupyter       1018 Mar 24 20:34 config.json\n",
            "-rw-r--r--  1 jupyter jupyter 1189446333 Mar 24 20:34 optimizer.pt\n",
            "-rw-r--r--  1 jupyter jupyter  594787485 Mar 24 20:34 pytorch_model.bin\n",
            "-rw-r--r--  1 jupyter jupyter      17563 Mar 24 20:34 rng_state.pth\n",
            "-rw-r--r--  1 jupyter jupyter        559 Mar 24 20:34 scaler.pt\n",
            "-rw-r--r--  1 jupyter jupyter        623 Mar 24 20:34 scheduler.pt\n",
            "-rw-r--r--  1 jupyter jupyter       5321 Mar 24 20:34 trainer_state.json\n",
            "-rw-r--r--  1 jupyter jupyter       2927 Mar 24 20:34 training_args.bin\n",
            "\n",
            "results/checkpoint-20:\n",
            "total 978120\n",
            "drwxr-xr-x  2 jupyter jupyter      4096 Mar 24 05:20 .\n",
            "drwxr-xr-x 18 jupyter jupyter      4096 Mar 24 22:28 ..\n",
            "-rw-r--r--  1 jupyter jupyter       752 Mar 24 05:20 config.json\n",
            "-rw-r--r--  1 jupyter jupyter 667679773 Mar 24 05:20 optimizer.pt\n",
            "-rw-r--r--  1 jupyter jupyter 333856365 Mar 24 05:20 pytorch_model.bin\n",
            "-rw-r--r--  1 jupyter jupyter     17563 Mar 24 05:20 rng_state.pth\n",
            "-rw-r--r--  1 jupyter jupyter       559 Mar 24 05:20 scaler.pt\n",
            "-rw-r--r--  1 jupyter jupyter       623 Mar 24 05:20 scheduler.pt\n",
            "-rw-r--r--  1 jupyter jupyter      1328 Mar 24 05:20 trainer_state.json\n",
            "-rw-r--r--  1 jupyter jupyter      2927 Mar 24 05:20 training_args.bin\n",
            "\n",
            "results/checkpoint-246:\n",
            "total 1460972\n",
            "drwxr-xr-x  2 jupyter jupyter      4096 Mar 24 05:45 .\n",
            "drwxr-xr-x 18 jupyter jupyter      4096 Mar 24 22:28 ..\n",
            "-rw-r--r--  1 jupyter jupyter       769 Mar 24 05:45 config.json\n",
            "-rw-r--r--  1 jupyter jupyter 997293661 Mar 24 05:45 optimizer.pt\n",
            "-rw-r--r--  1 jupyter jupyter 498675053 Mar 24 05:45 pytorch_model.bin\n",
            "-rw-r--r--  1 jupyter jupyter     17563 Mar 24 05:45 rng_state.pth\n",
            "-rw-r--r--  1 jupyter jupyter       559 Mar 24 05:45 scaler.pt\n",
            "-rw-r--r--  1 jupyter jupyter       623 Mar 24 05:45 scheduler.pt\n",
            "-rw-r--r--  1 jupyter jupyter      8458 Mar 24 05:45 trainer_state.json\n",
            "-rw-r--r--  1 jupyter jupyter      2927 Mar 24 05:45 training_args.bin\n",
            "\n",
            "results/checkpoint-328:\n",
            "total 1460972\n",
            "drwxr-xr-x  2 jupyter jupyter      4096 Mar 24 05:49 .\n",
            "drwxr-xr-x 18 jupyter jupyter      4096 Mar 24 22:28 ..\n",
            "-rw-r--r--  1 jupyter jupyter       769 Mar 24 05:49 config.json\n",
            "-rw-r--r--  1 jupyter jupyter 997293853 Mar 24 05:49 optimizer.pt\n",
            "-rw-r--r--  1 jupyter jupyter 498675053 Mar 24 05:49 pytorch_model.bin\n",
            "-rw-r--r--  1 jupyter jupyter     17563 Mar 24 05:49 rng_state.pth\n",
            "-rw-r--r--  1 jupyter jupyter       559 Mar 24 05:49 scaler.pt\n",
            "-rw-r--r--  1 jupyter jupyter       623 Mar 24 05:49 scheduler.pt\n",
            "-rw-r--r--  1 jupyter jupyter     11326 Mar 24 05:49 trainer_state.json\n",
            "-rw-r--r--  1 jupyter jupyter      2927 Mar 24 05:49 training_args.bin\n",
            "\n",
            "results/checkpoint-330:\n",
            "total 1742484\n",
            "drwxr-xr-x  2 jupyter jupyter       4096 Mar 24 21:12 .\n",
            "drwxr-xr-x 18 jupyter jupyter       4096 Mar 24 22:28 ..\n",
            "-rw-r--r--  1 jupyter jupyter       1018 Mar 24 21:12 config.json\n",
            "-rw-r--r--  1 jupyter jupyter 1189446589 Mar 24 21:12 optimizer.pt\n",
            "-rw-r--r--  1 jupyter jupyter  594787485 Mar 24 21:12 pytorch_model.bin\n",
            "-rw-r--r--  1 jupyter jupyter      17563 Mar 24 21:12 rng_state.pth\n",
            "-rw-r--r--  1 jupyter jupyter        559 Mar 24 21:12 scaler.pt\n",
            "-rw-r--r--  1 jupyter jupyter        623 Mar 24 21:12 scheduler.pt\n",
            "-rw-r--r--  1 jupyter jupyter      10242 Mar 24 21:12 trainer_state.json\n",
            "-rw-r--r--  1 jupyter jupyter       2927 Mar 24 21:12 training_args.bin\n",
            "\n",
            "results/checkpoint-40:\n",
            "total 978120\n",
            "drwxr-xr-x  2 jupyter jupyter      4096 Mar 24 05:21 .\n",
            "drwxr-xr-x 18 jupyter jupyter      4096 Mar 24 22:28 ..\n",
            "-rw-r--r--  1 jupyter jupyter       752 Mar 24 05:21 config.json\n",
            "-rw-r--r--  1 jupyter jupyter 667679773 Mar 24 05:21 optimizer.pt\n",
            "-rw-r--r--  1 jupyter jupyter 333856365 Mar 24 05:21 pytorch_model.bin\n",
            "-rw-r--r--  1 jupyter jupyter     17563 Mar 24 05:21 rng_state.pth\n",
            "-rw-r--r--  1 jupyter jupyter       559 Mar 24 05:21 scaler.pt\n",
            "-rw-r--r--  1 jupyter jupyter       623 Mar 24 05:21 scheduler.pt\n",
            "-rw-r--r--  1 jupyter jupyter      2236 Mar 24 05:21 trainer_state.json\n",
            "-rw-r--r--  1 jupyter jupyter      2927 Mar 24 05:21 training_args.bin\n",
            "\n",
            "results/checkpoint-410:\n",
            "total 1460976\n",
            "drwxr-xr-x  2 jupyter jupyter      4096 Mar 24 05:54 .\n",
            "drwxr-xr-x 18 jupyter jupyter      4096 Mar 24 22:28 ..\n",
            "-rw-r--r--  1 jupyter jupyter       769 Mar 24 05:54 config.json\n",
            "-rw-r--r--  1 jupyter jupyter 997293853 Mar 24 05:54 optimizer.pt\n",
            "-rw-r--r--  1 jupyter jupyter 498675053 Mar 24 05:54 pytorch_model.bin\n",
            "-rw-r--r--  1 jupyter jupyter     17563 Mar 24 05:54 rng_state.pth\n",
            "-rw-r--r--  1 jupyter jupyter       559 Mar 24 05:54 scaler.pt\n",
            "-rw-r--r--  1 jupyter jupyter       623 Mar 24 05:54 scheduler.pt\n",
            "-rw-r--r--  1 jupyter jupyter     14089 Mar 24 05:54 trainer_state.json\n",
            "-rw-r--r--  1 jupyter jupyter      2927 Mar 24 05:54 training_args.bin\n",
            "\n",
            "results/checkpoint-492:\n",
            "total 1460980\n",
            "drwxr-xr-x  2 jupyter jupyter      4096 Mar 24 05:59 .\n",
            "drwxr-xr-x 18 jupyter jupyter      4096 Mar 24 22:28 ..\n",
            "-rw-r--r--  1 jupyter jupyter       769 Mar 24 05:59 config.json\n",
            "-rw-r--r--  1 jupyter jupyter 997293853 Mar 24 05:59 optimizer.pt\n",
            "-rw-r--r--  1 jupyter jupyter 498675053 Mar 24 05:59 pytorch_model.bin\n",
            "-rw-r--r--  1 jupyter jupyter     17563 Mar 24 05:59 rng_state.pth\n",
            "-rw-r--r--  1 jupyter jupyter       559 Mar 24 05:59 scaler.pt\n",
            "-rw-r--r--  1 jupyter jupyter       623 Mar 24 05:59 scheduler.pt\n",
            "-rw-r--r--  1 jupyter jupyter     16973 Mar 24 05:59 trainer_state.json\n",
            "-rw-r--r--  1 jupyter jupyter      2927 Mar 24 05:59 training_args.bin\n",
            "\n",
            "results/checkpoint-495:\n",
            "total 1742488\n",
            "drwxr-xr-x  2 jupyter jupyter       4096 Mar 24 21:50 .\n",
            "drwxr-xr-x 18 jupyter jupyter       4096 Mar 24 22:28 ..\n",
            "-rw-r--r--  1 jupyter jupyter       1018 Mar 24 21:50 config.json\n",
            "-rw-r--r--  1 jupyter jupyter 1189446589 Mar 24 21:50 optimizer.pt\n",
            "-rw-r--r--  1 jupyter jupyter  594787485 Mar 24 21:50 pytorch_model.bin\n",
            "-rw-r--r--  1 jupyter jupyter      17563 Mar 24 21:50 rng_state.pth\n",
            "-rw-r--r--  1 jupyter jupyter        559 Mar 24 21:50 scaler.pt\n",
            "-rw-r--r--  1 jupyter jupyter        623 Mar 24 21:50 scheduler.pt\n",
            "-rw-r--r--  1 jupyter jupyter      15279 Mar 24 21:50 trainer_state.json\n",
            "-rw-r--r--  1 jupyter jupyter       2927 Mar 24 21:50 training_args.bin\n",
            "\n",
            "results/checkpoint-574:\n",
            "total 1460980\n",
            "drwxr-xr-x  2 jupyter jupyter      4096 Mar 24 06:03 .\n",
            "drwxr-xr-x 18 jupyter jupyter      4096 Mar 24 22:28 ..\n",
            "-rw-r--r--  1 jupyter jupyter       769 Mar 24 06:03 config.json\n",
            "-rw-r--r--  1 jupyter jupyter 997293853 Mar 24 06:03 optimizer.pt\n",
            "-rw-r--r--  1 jupyter jupyter 498675053 Mar 24 06:03 pytorch_model.bin\n",
            "-rw-r--r--  1 jupyter jupyter     17563 Mar 24 06:03 rng_state.pth\n",
            "-rw-r--r--  1 jupyter jupyter       559 Mar 24 06:03 scaler.pt\n",
            "-rw-r--r--  1 jupyter jupyter       623 Mar 24 06:03 scheduler.pt\n",
            "-rw-r--r--  1 jupyter jupyter     19747 Mar 24 06:03 trainer_state.json\n",
            "-rw-r--r--  1 jupyter jupyter      2927 Mar 24 06:03 training_args.bin\n",
            "\n",
            "results/checkpoint-60:\n",
            "total 978120\n",
            "drwxr-xr-x  2 jupyter jupyter      4096 Mar 24 05:22 .\n",
            "drwxr-xr-x 18 jupyter jupyter      4096 Mar 24 22:28 ..\n",
            "-rw-r--r--  1 jupyter jupyter       752 Mar 24 05:22 config.json\n",
            "-rw-r--r--  1 jupyter jupyter 667679773 Mar 24 05:22 optimizer.pt\n",
            "-rw-r--r--  1 jupyter jupyter 333856365 Mar 24 05:22 pytorch_model.bin\n",
            "-rw-r--r--  1 jupyter jupyter     17563 Mar 24 05:22 rng_state.pth\n",
            "-rw-r--r--  1 jupyter jupyter       559 Mar 24 05:22 scaler.pt\n",
            "-rw-r--r--  1 jupyter jupyter       623 Mar 24 05:22 scheduler.pt\n",
            "-rw-r--r--  1 jupyter jupyter      3172 Mar 24 05:22 trainer_state.json\n",
            "-rw-r--r--  1 jupyter jupyter      2927 Mar 24 05:22 training_args.bin\n",
            "\n",
            "results/checkpoint-656:\n",
            "total 1460984\n",
            "drwxr-xr-x  2 jupyter jupyter      4096 Mar 24 06:08 .\n",
            "drwxr-xr-x 18 jupyter jupyter      4096 Mar 24 22:28 ..\n",
            "-rw-r--r--  1 jupyter jupyter       769 Mar 24 06:08 config.json\n",
            "-rw-r--r--  1 jupyter jupyter 997293853 Mar 24 06:08 optimizer.pt\n",
            "-rw-r--r--  1 jupyter jupyter 498675053 Mar 24 06:08 pytorch_model.bin\n",
            "-rw-r--r--  1 jupyter jupyter     17563 Mar 24 06:08 rng_state.pth\n",
            "-rw-r--r--  1 jupyter jupyter       559 Mar 24 06:08 scaler.pt\n",
            "-rw-r--r--  1 jupyter jupyter       623 Mar 24 06:08 scheduler.pt\n",
            "-rw-r--r--  1 jupyter jupyter     22640 Mar 24 06:08 trainer_state.json\n",
            "-rw-r--r--  1 jupyter jupyter      2927 Mar 24 06:08 training_args.bin\n",
            "\n",
            "results/checkpoint-660:\n",
            "total 1742492\n",
            "drwxr-xr-x  2 jupyter jupyter       4096 Mar 24 22:28 .\n",
            "drwxr-xr-x 18 jupyter jupyter       4096 Mar 24 22:28 ..\n",
            "-rw-r--r--  1 jupyter jupyter       1018 Mar 24 22:28 config.json\n",
            "-rw-r--r--  1 jupyter jupyter 1189446589 Mar 24 22:28 optimizer.pt\n",
            "-rw-r--r--  1 jupyter jupyter  594787485 Mar 24 22:28 pytorch_model.bin\n",
            "-rw-r--r--  1 jupyter jupyter      17563 Mar 24 22:28 rng_state.pth\n",
            "-rw-r--r--  1 jupyter jupyter        559 Mar 24 22:28 scaler.pt\n",
            "-rw-r--r--  1 jupyter jupyter        623 Mar 24 22:28 scheduler.pt\n",
            "-rw-r--r--  1 jupyter jupyter      20395 Mar 24 22:28 trainer_state.json\n",
            "-rw-r--r--  1 jupyter jupyter       2927 Mar 24 22:28 training_args.bin\n",
            "\n",
            "results/checkpoint-80:\n",
            "total 978120\n",
            "drwxr-xr-x  2 jupyter jupyter      4096 Mar 24 05:23 .\n",
            "drwxr-xr-x 18 jupyter jupyter      4096 Mar 24 22:28 ..\n",
            "-rw-r--r--  1 jupyter jupyter       752 Mar 24 05:23 config.json\n",
            "-rw-r--r--  1 jupyter jupyter 667679773 Mar 24 05:23 optimizer.pt\n",
            "-rw-r--r--  1 jupyter jupyter 333856365 Mar 24 05:23 pytorch_model.bin\n",
            "-rw-r--r--  1 jupyter jupyter     17563 Mar 24 05:23 rng_state.pth\n",
            "-rw-r--r--  1 jupyter jupyter       559 Mar 24 05:23 scaler.pt\n",
            "-rw-r--r--  1 jupyter jupyter       623 Mar 24 05:23 scheduler.pt\n",
            "-rw-r--r--  1 jupyter jupyter      4078 Mar 24 05:23 trainer_state.json\n",
            "-rw-r--r--  1 jupyter jupyter      2927 Mar 24 05:23 training_args.bin\n",
            "\n",
            "results/checkpoint-82:\n",
            "total 1460964\n",
            "drwxr-xr-x  2 jupyter jupyter      4096 Mar 24 05:35 .\n",
            "drwxr-xr-x 18 jupyter jupyter      4096 Mar 24 22:28 ..\n",
            "-rw-r--r--  1 jupyter jupyter       769 Mar 24 05:35 config.json\n",
            "-rw-r--r--  1 jupyter jupyter 997293661 Mar 24 05:35 optimizer.pt\n",
            "-rw-r--r--  1 jupyter jupyter 498675053 Mar 24 05:35 pytorch_model.bin\n",
            "-rw-r--r--  1 jupyter jupyter     17563 Mar 24 05:35 rng_state.pth\n",
            "-rw-r--r--  1 jupyter jupyter       559 Mar 24 05:35 scaler.pt\n",
            "-rw-r--r--  1 jupyter jupyter       623 Mar 24 05:35 scheduler.pt\n",
            "-rw-r--r--  1 jupyter jupyter      2971 Mar 24 05:35 trainer_state.json\n",
            "-rw-r--r--  1 jupyter jupyter      2927 Mar 24 05:35 training_args.bin\n"
          ]
        }
      ]
    },
    {
      "cell_type": "markdown",
      "metadata": {
        "id": "E-tP6gLWIo--"
      },
      "source": [
        "###Do main import of all approprite libraries for BigBIRD."
      ]
    },
    {
      "cell_type": "markdown",
      "metadata": {
        "id": "vHBr4HGjMp42"
      },
      "source": [
        "## Configuration"
      ]
    },
    {
      "cell_type": "markdown",
      "metadata": {
        "id": "RpJ5RyVgMp43"
      },
      "source": [
        "## Load the Data"
      ]
    },
    {
      "cell_type": "code",
      "execution_count": null,
      "metadata": {
        "id": "NzBCKoMs4RAc"
      },
      "outputs": [],
      "source": [
        ""
      ]
    },
    {
      "cell_type": "markdown",
      "metadata": {
        "id": "kQInKH8_Mp45"
      },
      "source": [
        "Dataset Overview:\n",
        "\n",
        "- source0: Homework assignment for 1st student.\n",
        "- source1: Homework assignment for 2nd student.\n",
        "- label: This is the label chosen for plagiarized content\n",
        "\n",
        "Here are the \"similarity\" label values in our dataset:\n",
        "\n",
        "- 0: no similarity\n",
        "- 1: similarity"
      ]
    },
    {
      "cell_type": "markdown",
      "metadata": {
        "id": "wTgW_2VQMp46"
      },
      "source": [
        "Let's look at one sample from the dataset:"
      ]
    },
    {
      "cell_type": "markdown",
      "metadata": {
        "id": "LyMpLr5ZMp47"
      },
      "source": [
        "## Preprocessing"
      ]
    },
    {
      "cell_type": "markdown",
      "metadata": {
        "id": "3QeP5DOxMp49"
      },
      "source": [
        "Distribution of our validation targets."
      ]
    },
    {
      "cell_type": "markdown",
      "metadata": {
        "id": "BTleKyMNMp4_"
      },
      "source": [
        "One-hot encode training, validation, and test labels."
      ]
    },
    {
      "cell_type": "markdown",
      "metadata": {
        "id": "FTCBlafbMp5A"
      },
      "source": [
        "## Keras Custom Data Generator"
      ]
    },
    {
      "cell_type": "markdown",
      "metadata": {
        "id": "iy85kyChMp5B"
      },
      "source": [
        "## Build the model."
      ]
    },
    {
      "cell_type": "markdown",
      "metadata": {
        "id": "-afmK2i3Mp5D"
      },
      "source": [
        "Create train and validation data generators"
      ]
    },
    {
      "cell_type": "markdown",
      "metadata": {
        "id": "mejpzGg0Mp5E"
      },
      "source": [
        "## Train the Model\n",
        "\n",
        "Training is done only for the top layers to perform \"feature extraction\",\n",
        "which will allow the model to use the representations of the pretrained model."
      ]
    },
    {
      "cell_type": "markdown",
      "metadata": {
        "id": "y4JG_osQMp5F"
      },
      "source": [
        "## Fine-tuning\n",
        "\n",
        "This step must only be performed after the feature extraction model has\n",
        "been trained to convergence on the new data.\n",
        "\n",
        "This is an optional last step where `bert_model` is unfreezed and retrained\n",
        "with a very low learning rate. This can deliver meaningful improvement by\n",
        "incrementally adapting the pretrained features to the new data."
      ]
    },
    {
      "cell_type": "markdown",
      "metadata": {
        "id": "YP_usFPNMp5G"
      },
      "source": [
        "# Train the entire model end-to-end."
      ]
    },
    {
      "cell_type": "markdown",
      "metadata": {
        "id": "oLh7cfP7Mp5J"
      },
      "source": [
        "## Evaluate model on the test set"
      ]
    },
    {
      "cell_type": "markdown",
      "metadata": {
        "id": "Qy3o6BZIMp5K"
      },
      "source": [
        "## Inference on custom sentences"
      ]
    },
    {
      "cell_type": "code",
      "source": [
        "!ls /usr\n"
      ],
      "metadata": {
        "id": "KCcZnKcpzEYl",
        "colab": {
          "base_uri": "https://localhost:8080/"
        },
        "outputId": "a04b5452-c029-433f-b79d-29232f1d34ae"
      },
      "execution_count": null,
      "outputs": [
        {
          "output_type": "stream",
          "name": "stdout",
          "text": [
            "huggingface/tokenizers: The current process just got forked, after parallelism has already been used. Disabling parallelism to avoid deadlocks...\n",
            "To disable this warning, you can either:\n",
            "\t- Avoid using `tokenizers` before the fork if possible\n",
            "\t- Explicitly set the environment variable TOKENIZERS_PARALLELISM=(true | false)\n",
            "bin  games    lib    lib64    libx32\tlocal  share\n",
            "etc  include  lib32  libexec  licenses\tsbin   src\n"
          ]
        }
      ]
    },
    {
      "cell_type": "code",
      "execution_count": null,
      "metadata": {
        "id": "tiBJ5h3kMp5L"
      },
      "outputs": [],
      "source": [
        "\n",
        "def check_similarity(source0, source1):\n",
        "  sentence_pairs = np.array([[str(source0), str(source1)]])\n",
        "  test_dataset = tokenizer(sentence_pairs[0],sentence_pairs[1], padding = 'max_length', truncation=True, max_length = 3072)\n",
        "  test_results = trainer.predict(test_dataset)\n",
        "  print(test_results)\n",
        "  return(test_results)\n",
        "    # sentence_pairs = np.array([[str(source0), str(source1)]])\n",
        "    # test_data = BertSemanticDataGenerator(\n",
        "    #     sentence_pairs, labels=None, batch_size=1, shuffle=False, include_targets=False,\n",
        "    # )\n",
        "    # proba = model.predict(test_data[0])[0]\n",
        "    # #proba = model.predict(test_data)[0]\n",
        "    # idx = np.argmax(proba)\n",
        "    # proba = f\"{proba[idx]*100: .2f}%\"\n",
        "    # pred = labels[idx]\n",
        "    # return pred, proba\n"
      ]
    },
    {
      "cell_type": "markdown",
      "metadata": {
        "id": "9c3GEGoBMp5L"
      },
      "source": [
        "Check results on some example code pairs."
      ]
    },
    {
      "cell_type": "code",
      "execution_count": null,
      "metadata": {
        "id": "LqcpOYPTMp5M",
        "colab": {
          "base_uri": "https://localhost:8080/",
          "height": 322
        },
        "outputId": "6034ecc4-017d-410a-911c-0d49dfb25604"
      },
      "outputs": [
        {
          "output_type": "error",
          "ename": "IndexError",
          "evalue": "ignored",
          "traceback": [
            "\u001b[0;31m---------------------------------------------------------------------------\u001b[0m",
            "\u001b[0;31mIndexError\u001b[0m                                Traceback (most recent call last)",
            "\u001b[0;32m/tmp/ipykernel_3296/2027995932.py\u001b[0m in \u001b[0;36m<module>\u001b[0;34m\u001b[0m\n\u001b[1;32m     21\u001b[0m         \u001b[0;32mreturn\u001b[0m \u001b[0mnova\u001b[0m\u001b[0;34m;\u001b[0m\u001b[0;34m\u001b[0m\u001b[0;34m\u001b[0m\u001b[0m\n\u001b[1;32m     22\u001b[0m }\"\"\"\n\u001b[0;32m---> 23\u001b[0;31m \u001b[0mcheck_similarity\u001b[0m\u001b[0;34m(\u001b[0m\u001b[0msource0\u001b[0m\u001b[0;34m,\u001b[0m \u001b[0msource1\u001b[0m\u001b[0;34m)\u001b[0m\u001b[0;34m\u001b[0m\u001b[0;34m\u001b[0m\u001b[0m\n\u001b[0m",
            "\u001b[0;32m/tmp/ipykernel_3296/1381421735.py\u001b[0m in \u001b[0;36mcheck_similarity\u001b[0;34m(source0, source1)\u001b[0m\n\u001b[1;32m      1\u001b[0m \u001b[0;32mdef\u001b[0m \u001b[0mcheck_similarity\u001b[0m\u001b[0;34m(\u001b[0m\u001b[0msource0\u001b[0m\u001b[0;34m,\u001b[0m \u001b[0msource1\u001b[0m\u001b[0;34m)\u001b[0m\u001b[0;34m:\u001b[0m\u001b[0;34m\u001b[0m\u001b[0;34m\u001b[0m\u001b[0m\n\u001b[1;32m      2\u001b[0m   \u001b[0msentence_pairs\u001b[0m \u001b[0;34m=\u001b[0m \u001b[0mnp\u001b[0m\u001b[0;34m.\u001b[0m\u001b[0marray\u001b[0m\u001b[0;34m(\u001b[0m\u001b[0;34m[\u001b[0m\u001b[0;34m[\u001b[0m\u001b[0mstr\u001b[0m\u001b[0;34m(\u001b[0m\u001b[0msource0\u001b[0m\u001b[0;34m)\u001b[0m\u001b[0;34m,\u001b[0m \u001b[0mstr\u001b[0m\u001b[0;34m(\u001b[0m\u001b[0msource1\u001b[0m\u001b[0;34m)\u001b[0m\u001b[0;34m]\u001b[0m\u001b[0;34m]\u001b[0m\u001b[0;34m)\u001b[0m\u001b[0;34m\u001b[0m\u001b[0;34m\u001b[0m\u001b[0m\n\u001b[0;32m----> 3\u001b[0;31m   \u001b[0mtest_dataset\u001b[0m \u001b[0;34m=\u001b[0m \u001b[0mtokenizer\u001b[0m\u001b[0;34m(\u001b[0m\u001b[0msentence_pairs\u001b[0m\u001b[0;34m[\u001b[0m\u001b[0;36m0\u001b[0m\u001b[0;34m]\u001b[0m\u001b[0;34m,\u001b[0m\u001b[0msentence_pairs\u001b[0m\u001b[0;34m[\u001b[0m\u001b[0;36m1\u001b[0m\u001b[0;34m]\u001b[0m\u001b[0;34m,\u001b[0m \u001b[0mpadding\u001b[0m \u001b[0;34m=\u001b[0m \u001b[0;34m'max_length'\u001b[0m\u001b[0;34m,\u001b[0m \u001b[0mtruncation\u001b[0m\u001b[0;34m=\u001b[0m\u001b[0;32mTrue\u001b[0m\u001b[0;34m,\u001b[0m \u001b[0mmax_length\u001b[0m \u001b[0;34m=\u001b[0m \u001b[0;36m3072\u001b[0m\u001b[0;34m)\u001b[0m\u001b[0;34m\u001b[0m\u001b[0;34m\u001b[0m\u001b[0m\n\u001b[0m\u001b[1;32m      4\u001b[0m   \u001b[0mtest_results\u001b[0m \u001b[0;34m=\u001b[0m \u001b[0mtrainer\u001b[0m\u001b[0;34m.\u001b[0m\u001b[0mpredict\u001b[0m\u001b[0;34m(\u001b[0m\u001b[0mtest_dataset\u001b[0m\u001b[0;34m)\u001b[0m\u001b[0;34m\u001b[0m\u001b[0;34m\u001b[0m\u001b[0m\n\u001b[1;32m      5\u001b[0m   \u001b[0mprint\u001b[0m\u001b[0;34m(\u001b[0m\u001b[0mtest_results\u001b[0m\u001b[0;34m)\u001b[0m\u001b[0;34m\u001b[0m\u001b[0;34m\u001b[0m\u001b[0m\n",
            "\u001b[0;31mIndexError\u001b[0m: index 1 is out of bounds for axis 0 with size 1"
          ]
        }
      ],
      "source": [
        "source0 = \"\"\"int obrni(int broj)\n",
        "{\n",
        "        int cifra,nova=0;\n",
        "        while(broj>0) {\n",
        "                cifra=broj%10;\n",
        "                nova=nova*10+cifra;\n",
        "                broj/=10;\n",
        "        }\n",
        "        return nova;\n",
        "}\n",
        "\"\"\"\n",
        "source1 = \"\"\"int okreni_cifre(int broj)\n",
        "{\n",
        "        int cifra;\n",
        "        int nova=0;\n",
        "        while(broj>0) {\n",
        "                cifra=broj%10;\n",
        "                nova=nova*10+cifra;\n",
        "                broj=broj/10;\n",
        "        }\n",
        "        return nova;\n",
        "}\"\"\"\n",
        "check_similarity(source0, source1)"
      ]
    }
  ],
  "metadata": {
    "accelerator": "GPU",
    "colab": {
      "collapsed_sections": [],
      "machine_shape": "hm",
      "name": "Plagiarism with LongFormer",
      "provenance": [],
      "toc_visible": true,
      "include_colab_link": true
    },
    "kernelspec": {
      "display_name": "Python 3",
      "language": "python",
      "name": "python3"
    },
    "language_info": {
      "codemirror_mode": {
        "name": "ipython",
        "version": 3
      },
      "file_extension": ".py",
      "mimetype": "text/x-python",
      "name": "python",
      "nbconvert_exporter": "python",
      "pygments_lexer": "ipython3",
      "version": "3.7.0"
    },
    "widgets": {
      "application/vnd.jupyter.widget-state+json": {
        "42aef981026744bca13430f650cf1881": {
          "model_module": "@jupyter-widgets/controls",
          "model_name": "HBoxModel",
          "model_module_version": "1.5.0",
          "state": {
            "_dom_classes": [],
            "_model_module": "@jupyter-widgets/controls",
            "_model_module_version": "1.5.0",
            "_model_name": "HBoxModel",
            "_view_count": null,
            "_view_module": "@jupyter-widgets/controls",
            "_view_module_version": "1.5.0",
            "_view_name": "HBoxView",
            "box_style": "",
            "children": [
              "IPY_MODEL_f12f4d7d09f947319edcc73caa2a2602",
              "IPY_MODEL_87969e27734d46098b39129e0516e17b",
              "IPY_MODEL_ffac9fb67472499494e77bfac23400b7"
            ],
            "layout": "IPY_MODEL_942077ab2edf4a3aad6d0d2b2eba363d"
          }
        },
        "f12f4d7d09f947319edcc73caa2a2602": {
          "model_module": "@jupyter-widgets/controls",
          "model_name": "HTMLModel",
          "model_module_version": "1.5.0",
          "state": {
            "_dom_classes": [],
            "_model_module": "@jupyter-widgets/controls",
            "_model_module_version": "1.5.0",
            "_model_name": "HTMLModel",
            "_view_count": null,
            "_view_module": "@jupyter-widgets/controls",
            "_view_module_version": "1.5.0",
            "_view_name": "HTMLView",
            "description": "",
            "description_tooltip": null,
            "layout": "IPY_MODEL_d31084390c204e22bde18ae0196fc7ed",
            "placeholder": "​",
            "style": "IPY_MODEL_2d481556e1434e0ebf9c1e347246973c",
            "value": "Downloading: 100%"
          }
        },
        "87969e27734d46098b39129e0516e17b": {
          "model_module": "@jupyter-widgets/controls",
          "model_name": "FloatProgressModel",
          "model_module_version": "1.5.0",
          "state": {
            "_dom_classes": [],
            "_model_module": "@jupyter-widgets/controls",
            "_model_module_version": "1.5.0",
            "_model_name": "FloatProgressModel",
            "_view_count": null,
            "_view_module": "@jupyter-widgets/controls",
            "_view_module_version": "1.5.0",
            "_view_name": "ProgressView",
            "bar_style": "success",
            "description": "",
            "description_tooltip": null,
            "layout": "IPY_MODEL_8f3ea8127fc74eed8228f3002d315cc9",
            "max": 694,
            "min": 0,
            "orientation": "horizontal",
            "style": "IPY_MODEL_149caac141ed4207bd0661cac831fb1a",
            "value": 694
          }
        },
        "ffac9fb67472499494e77bfac23400b7": {
          "model_module": "@jupyter-widgets/controls",
          "model_name": "HTMLModel",
          "model_module_version": "1.5.0",
          "state": {
            "_dom_classes": [],
            "_model_module": "@jupyter-widgets/controls",
            "_model_module_version": "1.5.0",
            "_model_name": "HTMLModel",
            "_view_count": null,
            "_view_module": "@jupyter-widgets/controls",
            "_view_module_version": "1.5.0",
            "_view_name": "HTMLView",
            "description": "",
            "description_tooltip": null,
            "layout": "IPY_MODEL_b95b273c77734d04b3ae9bd983543eba",
            "placeholder": "​",
            "style": "IPY_MODEL_c62431be948f4fae876437159766e134",
            "value": " 694/694 [00:00&lt;00:00, 34.4kB/s]"
          }
        },
        "942077ab2edf4a3aad6d0d2b2eba363d": {
          "model_module": "@jupyter-widgets/base",
          "model_name": "LayoutModel",
          "model_module_version": "1.2.0",
          "state": {
            "_model_module": "@jupyter-widgets/base",
            "_model_module_version": "1.2.0",
            "_model_name": "LayoutModel",
            "_view_count": null,
            "_view_module": "@jupyter-widgets/base",
            "_view_module_version": "1.2.0",
            "_view_name": "LayoutView",
            "align_content": null,
            "align_items": null,
            "align_self": null,
            "border": null,
            "bottom": null,
            "display": null,
            "flex": null,
            "flex_flow": null,
            "grid_area": null,
            "grid_auto_columns": null,
            "grid_auto_flow": null,
            "grid_auto_rows": null,
            "grid_column": null,
            "grid_gap": null,
            "grid_row": null,
            "grid_template_areas": null,
            "grid_template_columns": null,
            "grid_template_rows": null,
            "height": null,
            "justify_content": null,
            "justify_items": null,
            "left": null,
            "margin": null,
            "max_height": null,
            "max_width": null,
            "min_height": null,
            "min_width": null,
            "object_fit": null,
            "object_position": null,
            "order": null,
            "overflow": null,
            "overflow_x": null,
            "overflow_y": null,
            "padding": null,
            "right": null,
            "top": null,
            "visibility": null,
            "width": null
          }
        },
        "d31084390c204e22bde18ae0196fc7ed": {
          "model_module": "@jupyter-widgets/base",
          "model_name": "LayoutModel",
          "model_module_version": "1.2.0",
          "state": {
            "_model_module": "@jupyter-widgets/base",
            "_model_module_version": "1.2.0",
            "_model_name": "LayoutModel",
            "_view_count": null,
            "_view_module": "@jupyter-widgets/base",
            "_view_module_version": "1.2.0",
            "_view_name": "LayoutView",
            "align_content": null,
            "align_items": null,
            "align_self": null,
            "border": null,
            "bottom": null,
            "display": null,
            "flex": null,
            "flex_flow": null,
            "grid_area": null,
            "grid_auto_columns": null,
            "grid_auto_flow": null,
            "grid_auto_rows": null,
            "grid_column": null,
            "grid_gap": null,
            "grid_row": null,
            "grid_template_areas": null,
            "grid_template_columns": null,
            "grid_template_rows": null,
            "height": null,
            "justify_content": null,
            "justify_items": null,
            "left": null,
            "margin": null,
            "max_height": null,
            "max_width": null,
            "min_height": null,
            "min_width": null,
            "object_fit": null,
            "object_position": null,
            "order": null,
            "overflow": null,
            "overflow_x": null,
            "overflow_y": null,
            "padding": null,
            "right": null,
            "top": null,
            "visibility": null,
            "width": null
          }
        },
        "2d481556e1434e0ebf9c1e347246973c": {
          "model_module": "@jupyter-widgets/controls",
          "model_name": "DescriptionStyleModel",
          "model_module_version": "1.5.0",
          "state": {
            "_model_module": "@jupyter-widgets/controls",
            "_model_module_version": "1.5.0",
            "_model_name": "DescriptionStyleModel",
            "_view_count": null,
            "_view_module": "@jupyter-widgets/base",
            "_view_module_version": "1.2.0",
            "_view_name": "StyleView",
            "description_width": ""
          }
        },
        "8f3ea8127fc74eed8228f3002d315cc9": {
          "model_module": "@jupyter-widgets/base",
          "model_name": "LayoutModel",
          "model_module_version": "1.2.0",
          "state": {
            "_model_module": "@jupyter-widgets/base",
            "_model_module_version": "1.2.0",
            "_model_name": "LayoutModel",
            "_view_count": null,
            "_view_module": "@jupyter-widgets/base",
            "_view_module_version": "1.2.0",
            "_view_name": "LayoutView",
            "align_content": null,
            "align_items": null,
            "align_self": null,
            "border": null,
            "bottom": null,
            "display": null,
            "flex": null,
            "flex_flow": null,
            "grid_area": null,
            "grid_auto_columns": null,
            "grid_auto_flow": null,
            "grid_auto_rows": null,
            "grid_column": null,
            "grid_gap": null,
            "grid_row": null,
            "grid_template_areas": null,
            "grid_template_columns": null,
            "grid_template_rows": null,
            "height": null,
            "justify_content": null,
            "justify_items": null,
            "left": null,
            "margin": null,
            "max_height": null,
            "max_width": null,
            "min_height": null,
            "min_width": null,
            "object_fit": null,
            "object_position": null,
            "order": null,
            "overflow": null,
            "overflow_x": null,
            "overflow_y": null,
            "padding": null,
            "right": null,
            "top": null,
            "visibility": null,
            "width": null
          }
        },
        "149caac141ed4207bd0661cac831fb1a": {
          "model_module": "@jupyter-widgets/controls",
          "model_name": "ProgressStyleModel",
          "model_module_version": "1.5.0",
          "state": {
            "_model_module": "@jupyter-widgets/controls",
            "_model_module_version": "1.5.0",
            "_model_name": "ProgressStyleModel",
            "_view_count": null,
            "_view_module": "@jupyter-widgets/base",
            "_view_module_version": "1.2.0",
            "_view_name": "StyleView",
            "bar_color": null,
            "description_width": ""
          }
        },
        "b95b273c77734d04b3ae9bd983543eba": {
          "model_module": "@jupyter-widgets/base",
          "model_name": "LayoutModel",
          "model_module_version": "1.2.0",
          "state": {
            "_model_module": "@jupyter-widgets/base",
            "_model_module_version": "1.2.0",
            "_model_name": "LayoutModel",
            "_view_count": null,
            "_view_module": "@jupyter-widgets/base",
            "_view_module_version": "1.2.0",
            "_view_name": "LayoutView",
            "align_content": null,
            "align_items": null,
            "align_self": null,
            "border": null,
            "bottom": null,
            "display": null,
            "flex": null,
            "flex_flow": null,
            "grid_area": null,
            "grid_auto_columns": null,
            "grid_auto_flow": null,
            "grid_auto_rows": null,
            "grid_column": null,
            "grid_gap": null,
            "grid_row": null,
            "grid_template_areas": null,
            "grid_template_columns": null,
            "grid_template_rows": null,
            "height": null,
            "justify_content": null,
            "justify_items": null,
            "left": null,
            "margin": null,
            "max_height": null,
            "max_width": null,
            "min_height": null,
            "min_width": null,
            "object_fit": null,
            "object_position": null,
            "order": null,
            "overflow": null,
            "overflow_x": null,
            "overflow_y": null,
            "padding": null,
            "right": null,
            "top": null,
            "visibility": null,
            "width": null
          }
        },
        "c62431be948f4fae876437159766e134": {
          "model_module": "@jupyter-widgets/controls",
          "model_name": "DescriptionStyleModel",
          "model_module_version": "1.5.0",
          "state": {
            "_model_module": "@jupyter-widgets/controls",
            "_model_module_version": "1.5.0",
            "_model_name": "DescriptionStyleModel",
            "_view_count": null,
            "_view_module": "@jupyter-widgets/base",
            "_view_module_version": "1.2.0",
            "_view_name": "StyleView",
            "description_width": ""
          }
        },
        "374ec8d686c6499e97cba6d0f9964407": {
          "model_module": "@jupyter-widgets/controls",
          "model_name": "HBoxModel",
          "model_module_version": "1.5.0",
          "state": {
            "_dom_classes": [],
            "_model_module": "@jupyter-widgets/controls",
            "_model_module_version": "1.5.0",
            "_model_name": "HBoxModel",
            "_view_count": null,
            "_view_module": "@jupyter-widgets/controls",
            "_view_module_version": "1.5.0",
            "_view_name": "HBoxView",
            "box_style": "",
            "children": [
              "IPY_MODEL_dc50f5e2988446a9b0c1b21dde797cf5",
              "IPY_MODEL_09f661601e544a0ebc5d1c68948df594",
              "IPY_MODEL_04441a8f48cd4524857dc12d67bfde6f"
            ],
            "layout": "IPY_MODEL_e7fa20d145a14e6782bb58c0afe2fcd9"
          }
        },
        "dc50f5e2988446a9b0c1b21dde797cf5": {
          "model_module": "@jupyter-widgets/controls",
          "model_name": "HTMLModel",
          "model_module_version": "1.5.0",
          "state": {
            "_dom_classes": [],
            "_model_module": "@jupyter-widgets/controls",
            "_model_module_version": "1.5.0",
            "_model_name": "HTMLModel",
            "_view_count": null,
            "_view_module": "@jupyter-widgets/controls",
            "_view_module_version": "1.5.0",
            "_view_name": "HTMLView",
            "description": "",
            "description_tooltip": null,
            "layout": "IPY_MODEL_1a888da094f74ca6a1afe45e513b827b",
            "placeholder": "​",
            "style": "IPY_MODEL_97f626865dc4476dbd0c5b5a549ada35",
            "value": "Downloading: 100%"
          }
        },
        "09f661601e544a0ebc5d1c68948df594": {
          "model_module": "@jupyter-widgets/controls",
          "model_name": "FloatProgressModel",
          "model_module_version": "1.5.0",
          "state": {
            "_dom_classes": [],
            "_model_module": "@jupyter-widgets/controls",
            "_model_module_version": "1.5.0",
            "_model_name": "FloatProgressModel",
            "_view_count": null,
            "_view_module": "@jupyter-widgets/controls",
            "_view_module_version": "1.5.0",
            "_view_name": "ProgressView",
            "bar_style": "success",
            "description": "",
            "description_tooltip": null,
            "layout": "IPY_MODEL_e2f8cf6acc224d70a670836b4efe7093",
            "max": 597257159,
            "min": 0,
            "orientation": "horizontal",
            "style": "IPY_MODEL_d3da0ecd336a4019a46ee5ecda141af6",
            "value": 597257159
          }
        },
        "04441a8f48cd4524857dc12d67bfde6f": {
          "model_module": "@jupyter-widgets/controls",
          "model_name": "HTMLModel",
          "model_module_version": "1.5.0",
          "state": {
            "_dom_classes": [],
            "_model_module": "@jupyter-widgets/controls",
            "_model_module_version": "1.5.0",
            "_model_name": "HTMLModel",
            "_view_count": null,
            "_view_module": "@jupyter-widgets/controls",
            "_view_module_version": "1.5.0",
            "_view_name": "HTMLView",
            "description": "",
            "description_tooltip": null,
            "layout": "IPY_MODEL_f17c4840b2554165ad8e32adace37a37",
            "placeholder": "​",
            "style": "IPY_MODEL_8214a785bdfa4e118f41fba60e1b9584",
            "value": " 570M/570M [00:17&lt;00:00, 35.6MB/s]"
          }
        },
        "e7fa20d145a14e6782bb58c0afe2fcd9": {
          "model_module": "@jupyter-widgets/base",
          "model_name": "LayoutModel",
          "model_module_version": "1.2.0",
          "state": {
            "_model_module": "@jupyter-widgets/base",
            "_model_module_version": "1.2.0",
            "_model_name": "LayoutModel",
            "_view_count": null,
            "_view_module": "@jupyter-widgets/base",
            "_view_module_version": "1.2.0",
            "_view_name": "LayoutView",
            "align_content": null,
            "align_items": null,
            "align_self": null,
            "border": null,
            "bottom": null,
            "display": null,
            "flex": null,
            "flex_flow": null,
            "grid_area": null,
            "grid_auto_columns": null,
            "grid_auto_flow": null,
            "grid_auto_rows": null,
            "grid_column": null,
            "grid_gap": null,
            "grid_row": null,
            "grid_template_areas": null,
            "grid_template_columns": null,
            "grid_template_rows": null,
            "height": null,
            "justify_content": null,
            "justify_items": null,
            "left": null,
            "margin": null,
            "max_height": null,
            "max_width": null,
            "min_height": null,
            "min_width": null,
            "object_fit": null,
            "object_position": null,
            "order": null,
            "overflow": null,
            "overflow_x": null,
            "overflow_y": null,
            "padding": null,
            "right": null,
            "top": null,
            "visibility": null,
            "width": null
          }
        },
        "1a888da094f74ca6a1afe45e513b827b": {
          "model_module": "@jupyter-widgets/base",
          "model_name": "LayoutModel",
          "model_module_version": "1.2.0",
          "state": {
            "_model_module": "@jupyter-widgets/base",
            "_model_module_version": "1.2.0",
            "_model_name": "LayoutModel",
            "_view_count": null,
            "_view_module": "@jupyter-widgets/base",
            "_view_module_version": "1.2.0",
            "_view_name": "LayoutView",
            "align_content": null,
            "align_items": null,
            "align_self": null,
            "border": null,
            "bottom": null,
            "display": null,
            "flex": null,
            "flex_flow": null,
            "grid_area": null,
            "grid_auto_columns": null,
            "grid_auto_flow": null,
            "grid_auto_rows": null,
            "grid_column": null,
            "grid_gap": null,
            "grid_row": null,
            "grid_template_areas": null,
            "grid_template_columns": null,
            "grid_template_rows": null,
            "height": null,
            "justify_content": null,
            "justify_items": null,
            "left": null,
            "margin": null,
            "max_height": null,
            "max_width": null,
            "min_height": null,
            "min_width": null,
            "object_fit": null,
            "object_position": null,
            "order": null,
            "overflow": null,
            "overflow_x": null,
            "overflow_y": null,
            "padding": null,
            "right": null,
            "top": null,
            "visibility": null,
            "width": null
          }
        },
        "97f626865dc4476dbd0c5b5a549ada35": {
          "model_module": "@jupyter-widgets/controls",
          "model_name": "DescriptionStyleModel",
          "model_module_version": "1.5.0",
          "state": {
            "_model_module": "@jupyter-widgets/controls",
            "_model_module_version": "1.5.0",
            "_model_name": "DescriptionStyleModel",
            "_view_count": null,
            "_view_module": "@jupyter-widgets/base",
            "_view_module_version": "1.2.0",
            "_view_name": "StyleView",
            "description_width": ""
          }
        },
        "e2f8cf6acc224d70a670836b4efe7093": {
          "model_module": "@jupyter-widgets/base",
          "model_name": "LayoutModel",
          "model_module_version": "1.2.0",
          "state": {
            "_model_module": "@jupyter-widgets/base",
            "_model_module_version": "1.2.0",
            "_model_name": "LayoutModel",
            "_view_count": null,
            "_view_module": "@jupyter-widgets/base",
            "_view_module_version": "1.2.0",
            "_view_name": "LayoutView",
            "align_content": null,
            "align_items": null,
            "align_self": null,
            "border": null,
            "bottom": null,
            "display": null,
            "flex": null,
            "flex_flow": null,
            "grid_area": null,
            "grid_auto_columns": null,
            "grid_auto_flow": null,
            "grid_auto_rows": null,
            "grid_column": null,
            "grid_gap": null,
            "grid_row": null,
            "grid_template_areas": null,
            "grid_template_columns": null,
            "grid_template_rows": null,
            "height": null,
            "justify_content": null,
            "justify_items": null,
            "left": null,
            "margin": null,
            "max_height": null,
            "max_width": null,
            "min_height": null,
            "min_width": null,
            "object_fit": null,
            "object_position": null,
            "order": null,
            "overflow": null,
            "overflow_x": null,
            "overflow_y": null,
            "padding": null,
            "right": null,
            "top": null,
            "visibility": null,
            "width": null
          }
        },
        "d3da0ecd336a4019a46ee5ecda141af6": {
          "model_module": "@jupyter-widgets/controls",
          "model_name": "ProgressStyleModel",
          "model_module_version": "1.5.0",
          "state": {
            "_model_module": "@jupyter-widgets/controls",
            "_model_module_version": "1.5.0",
            "_model_name": "ProgressStyleModel",
            "_view_count": null,
            "_view_module": "@jupyter-widgets/base",
            "_view_module_version": "1.2.0",
            "_view_name": "StyleView",
            "bar_color": null,
            "description_width": ""
          }
        },
        "f17c4840b2554165ad8e32adace37a37": {
          "model_module": "@jupyter-widgets/base",
          "model_name": "LayoutModel",
          "model_module_version": "1.2.0",
          "state": {
            "_model_module": "@jupyter-widgets/base",
            "_model_module_version": "1.2.0",
            "_model_name": "LayoutModel",
            "_view_count": null,
            "_view_module": "@jupyter-widgets/base",
            "_view_module_version": "1.2.0",
            "_view_name": "LayoutView",
            "align_content": null,
            "align_items": null,
            "align_self": null,
            "border": null,
            "bottom": null,
            "display": null,
            "flex": null,
            "flex_flow": null,
            "grid_area": null,
            "grid_auto_columns": null,
            "grid_auto_flow": null,
            "grid_auto_rows": null,
            "grid_column": null,
            "grid_gap": null,
            "grid_row": null,
            "grid_template_areas": null,
            "grid_template_columns": null,
            "grid_template_rows": null,
            "height": null,
            "justify_content": null,
            "justify_items": null,
            "left": null,
            "margin": null,
            "max_height": null,
            "max_width": null,
            "min_height": null,
            "min_width": null,
            "object_fit": null,
            "object_position": null,
            "order": null,
            "overflow": null,
            "overflow_x": null,
            "overflow_y": null,
            "padding": null,
            "right": null,
            "top": null,
            "visibility": null,
            "width": null
          }
        },
        "8214a785bdfa4e118f41fba60e1b9584": {
          "model_module": "@jupyter-widgets/controls",
          "model_name": "DescriptionStyleModel",
          "model_module_version": "1.5.0",
          "state": {
            "_model_module": "@jupyter-widgets/controls",
            "_model_module_version": "1.5.0",
            "_model_name": "DescriptionStyleModel",
            "_view_count": null,
            "_view_module": "@jupyter-widgets/base",
            "_view_module_version": "1.2.0",
            "_view_name": "StyleView",
            "description_width": ""
          }
        },
        "8114999737774e059047eeb4e498f42b": {
          "model_module": "@jupyter-widgets/controls",
          "model_name": "HBoxModel",
          "model_module_version": "1.5.0",
          "state": {
            "_dom_classes": [],
            "_model_module": "@jupyter-widgets/controls",
            "_model_module_version": "1.5.0",
            "_model_name": "HBoxModel",
            "_view_count": null,
            "_view_module": "@jupyter-widgets/controls",
            "_view_module_version": "1.5.0",
            "_view_name": "HBoxView",
            "box_style": "",
            "children": [
              "IPY_MODEL_c368ae4a96e74f9b914fdee36eb57211",
              "IPY_MODEL_880939f8dc8242cabed17857dc9a72d2",
              "IPY_MODEL_c45340959bf24977be9b45726feb538f"
            ],
            "layout": "IPY_MODEL_f9ade69e375546b382c748b8343e8fc4"
          }
        },
        "c368ae4a96e74f9b914fdee36eb57211": {
          "model_module": "@jupyter-widgets/controls",
          "model_name": "HTMLModel",
          "model_module_version": "1.5.0",
          "state": {
            "_dom_classes": [],
            "_model_module": "@jupyter-widgets/controls",
            "_model_module_version": "1.5.0",
            "_model_name": "HTMLModel",
            "_view_count": null,
            "_view_module": "@jupyter-widgets/controls",
            "_view_module_version": "1.5.0",
            "_view_name": "HTMLView",
            "description": "",
            "description_tooltip": null,
            "layout": "IPY_MODEL_73a6ba0e1b164ea59dfac19859c7dac5",
            "placeholder": "​",
            "style": "IPY_MODEL_c5ed314a36a24efd86ccf4ac54874f84",
            "value": "Downloading: 100%"
          }
        },
        "880939f8dc8242cabed17857dc9a72d2": {
          "model_module": "@jupyter-widgets/controls",
          "model_name": "FloatProgressModel",
          "model_module_version": "1.5.0",
          "state": {
            "_dom_classes": [],
            "_model_module": "@jupyter-widgets/controls",
            "_model_module_version": "1.5.0",
            "_model_name": "FloatProgressModel",
            "_view_count": null,
            "_view_module": "@jupyter-widgets/controls",
            "_view_module_version": "1.5.0",
            "_view_name": "ProgressView",
            "bar_style": "success",
            "description": "",
            "description_tooltip": null,
            "layout": "IPY_MODEL_d9599d36205341d39770568b53da29aa",
            "max": 898823,
            "min": 0,
            "orientation": "horizontal",
            "style": "IPY_MODEL_92afda46508e4b85aa1a0098d7095799",
            "value": 898823
          }
        },
        "c45340959bf24977be9b45726feb538f": {
          "model_module": "@jupyter-widgets/controls",
          "model_name": "HTMLModel",
          "model_module_version": "1.5.0",
          "state": {
            "_dom_classes": [],
            "_model_module": "@jupyter-widgets/controls",
            "_model_module_version": "1.5.0",
            "_model_name": "HTMLModel",
            "_view_count": null,
            "_view_module": "@jupyter-widgets/controls",
            "_view_module_version": "1.5.0",
            "_view_name": "HTMLView",
            "description": "",
            "description_tooltip": null,
            "layout": "IPY_MODEL_de508e9e40074728ba453ac859d9944c",
            "placeholder": "​",
            "style": "IPY_MODEL_b9bcc34456ce4e5489008d2003ffa698",
            "value": " 878k/878k [00:00&lt;00:00, 2.83MB/s]"
          }
        },
        "f9ade69e375546b382c748b8343e8fc4": {
          "model_module": "@jupyter-widgets/base",
          "model_name": "LayoutModel",
          "model_module_version": "1.2.0",
          "state": {
            "_model_module": "@jupyter-widgets/base",
            "_model_module_version": "1.2.0",
            "_model_name": "LayoutModel",
            "_view_count": null,
            "_view_module": "@jupyter-widgets/base",
            "_view_module_version": "1.2.0",
            "_view_name": "LayoutView",
            "align_content": null,
            "align_items": null,
            "align_self": null,
            "border": null,
            "bottom": null,
            "display": null,
            "flex": null,
            "flex_flow": null,
            "grid_area": null,
            "grid_auto_columns": null,
            "grid_auto_flow": null,
            "grid_auto_rows": null,
            "grid_column": null,
            "grid_gap": null,
            "grid_row": null,
            "grid_template_areas": null,
            "grid_template_columns": null,
            "grid_template_rows": null,
            "height": null,
            "justify_content": null,
            "justify_items": null,
            "left": null,
            "margin": null,
            "max_height": null,
            "max_width": null,
            "min_height": null,
            "min_width": null,
            "object_fit": null,
            "object_position": null,
            "order": null,
            "overflow": null,
            "overflow_x": null,
            "overflow_y": null,
            "padding": null,
            "right": null,
            "top": null,
            "visibility": null,
            "width": null
          }
        },
        "73a6ba0e1b164ea59dfac19859c7dac5": {
          "model_module": "@jupyter-widgets/base",
          "model_name": "LayoutModel",
          "model_module_version": "1.2.0",
          "state": {
            "_model_module": "@jupyter-widgets/base",
            "_model_module_version": "1.2.0",
            "_model_name": "LayoutModel",
            "_view_count": null,
            "_view_module": "@jupyter-widgets/base",
            "_view_module_version": "1.2.0",
            "_view_name": "LayoutView",
            "align_content": null,
            "align_items": null,
            "align_self": null,
            "border": null,
            "bottom": null,
            "display": null,
            "flex": null,
            "flex_flow": null,
            "grid_area": null,
            "grid_auto_columns": null,
            "grid_auto_flow": null,
            "grid_auto_rows": null,
            "grid_column": null,
            "grid_gap": null,
            "grid_row": null,
            "grid_template_areas": null,
            "grid_template_columns": null,
            "grid_template_rows": null,
            "height": null,
            "justify_content": null,
            "justify_items": null,
            "left": null,
            "margin": null,
            "max_height": null,
            "max_width": null,
            "min_height": null,
            "min_width": null,
            "object_fit": null,
            "object_position": null,
            "order": null,
            "overflow": null,
            "overflow_x": null,
            "overflow_y": null,
            "padding": null,
            "right": null,
            "top": null,
            "visibility": null,
            "width": null
          }
        },
        "c5ed314a36a24efd86ccf4ac54874f84": {
          "model_module": "@jupyter-widgets/controls",
          "model_name": "DescriptionStyleModel",
          "model_module_version": "1.5.0",
          "state": {
            "_model_module": "@jupyter-widgets/controls",
            "_model_module_version": "1.5.0",
            "_model_name": "DescriptionStyleModel",
            "_view_count": null,
            "_view_module": "@jupyter-widgets/base",
            "_view_module_version": "1.2.0",
            "_view_name": "StyleView",
            "description_width": ""
          }
        },
        "d9599d36205341d39770568b53da29aa": {
          "model_module": "@jupyter-widgets/base",
          "model_name": "LayoutModel",
          "model_module_version": "1.2.0",
          "state": {
            "_model_module": "@jupyter-widgets/base",
            "_model_module_version": "1.2.0",
            "_model_name": "LayoutModel",
            "_view_count": null,
            "_view_module": "@jupyter-widgets/base",
            "_view_module_version": "1.2.0",
            "_view_name": "LayoutView",
            "align_content": null,
            "align_items": null,
            "align_self": null,
            "border": null,
            "bottom": null,
            "display": null,
            "flex": null,
            "flex_flow": null,
            "grid_area": null,
            "grid_auto_columns": null,
            "grid_auto_flow": null,
            "grid_auto_rows": null,
            "grid_column": null,
            "grid_gap": null,
            "grid_row": null,
            "grid_template_areas": null,
            "grid_template_columns": null,
            "grid_template_rows": null,
            "height": null,
            "justify_content": null,
            "justify_items": null,
            "left": null,
            "margin": null,
            "max_height": null,
            "max_width": null,
            "min_height": null,
            "min_width": null,
            "object_fit": null,
            "object_position": null,
            "order": null,
            "overflow": null,
            "overflow_x": null,
            "overflow_y": null,
            "padding": null,
            "right": null,
            "top": null,
            "visibility": null,
            "width": null
          }
        },
        "92afda46508e4b85aa1a0098d7095799": {
          "model_module": "@jupyter-widgets/controls",
          "model_name": "ProgressStyleModel",
          "model_module_version": "1.5.0",
          "state": {
            "_model_module": "@jupyter-widgets/controls",
            "_model_module_version": "1.5.0",
            "_model_name": "ProgressStyleModel",
            "_view_count": null,
            "_view_module": "@jupyter-widgets/base",
            "_view_module_version": "1.2.0",
            "_view_name": "StyleView",
            "bar_color": null,
            "description_width": ""
          }
        },
        "de508e9e40074728ba453ac859d9944c": {
          "model_module": "@jupyter-widgets/base",
          "model_name": "LayoutModel",
          "model_module_version": "1.2.0",
          "state": {
            "_model_module": "@jupyter-widgets/base",
            "_model_module_version": "1.2.0",
            "_model_name": "LayoutModel",
            "_view_count": null,
            "_view_module": "@jupyter-widgets/base",
            "_view_module_version": "1.2.0",
            "_view_name": "LayoutView",
            "align_content": null,
            "align_items": null,
            "align_self": null,
            "border": null,
            "bottom": null,
            "display": null,
            "flex": null,
            "flex_flow": null,
            "grid_area": null,
            "grid_auto_columns": null,
            "grid_auto_flow": null,
            "grid_auto_rows": null,
            "grid_column": null,
            "grid_gap": null,
            "grid_row": null,
            "grid_template_areas": null,
            "grid_template_columns": null,
            "grid_template_rows": null,
            "height": null,
            "justify_content": null,
            "justify_items": null,
            "left": null,
            "margin": null,
            "max_height": null,
            "max_width": null,
            "min_height": null,
            "min_width": null,
            "object_fit": null,
            "object_position": null,
            "order": null,
            "overflow": null,
            "overflow_x": null,
            "overflow_y": null,
            "padding": null,
            "right": null,
            "top": null,
            "visibility": null,
            "width": null
          }
        },
        "b9bcc34456ce4e5489008d2003ffa698": {
          "model_module": "@jupyter-widgets/controls",
          "model_name": "DescriptionStyleModel",
          "model_module_version": "1.5.0",
          "state": {
            "_model_module": "@jupyter-widgets/controls",
            "_model_module_version": "1.5.0",
            "_model_name": "DescriptionStyleModel",
            "_view_count": null,
            "_view_module": "@jupyter-widgets/base",
            "_view_module_version": "1.2.0",
            "_view_name": "StyleView",
            "description_width": ""
          }
        },
        "8130bf452a72431c8c8b5ce395138965": {
          "model_module": "@jupyter-widgets/controls",
          "model_name": "HBoxModel",
          "model_module_version": "1.5.0",
          "state": {
            "_dom_classes": [],
            "_model_module": "@jupyter-widgets/controls",
            "_model_module_version": "1.5.0",
            "_model_name": "HBoxModel",
            "_view_count": null,
            "_view_module": "@jupyter-widgets/controls",
            "_view_module_version": "1.5.0",
            "_view_name": "HBoxView",
            "box_style": "",
            "children": [
              "IPY_MODEL_66c19434bfcd4d87b6e8ebd45445e8bf",
              "IPY_MODEL_87c98fd960954a838647c3bc5f68782c",
              "IPY_MODEL_718642cfcf8a41a19a574cf60729010d"
            ],
            "layout": "IPY_MODEL_a79115a7a3584082802a6a866ed50317"
          }
        },
        "66c19434bfcd4d87b6e8ebd45445e8bf": {
          "model_module": "@jupyter-widgets/controls",
          "model_name": "HTMLModel",
          "model_module_version": "1.5.0",
          "state": {
            "_dom_classes": [],
            "_model_module": "@jupyter-widgets/controls",
            "_model_module_version": "1.5.0",
            "_model_name": "HTMLModel",
            "_view_count": null,
            "_view_module": "@jupyter-widgets/controls",
            "_view_module_version": "1.5.0",
            "_view_name": "HTMLView",
            "description": "",
            "description_tooltip": null,
            "layout": "IPY_MODEL_f2028c9b521544fe8e76b91d394324b2",
            "placeholder": "​",
            "style": "IPY_MODEL_1c5937a93e85484cb8bc114f7b68c1e0",
            "value": "Downloading: 100%"
          }
        },
        "87c98fd960954a838647c3bc5f68782c": {
          "model_module": "@jupyter-widgets/controls",
          "model_name": "FloatProgressModel",
          "model_module_version": "1.5.0",
          "state": {
            "_dom_classes": [],
            "_model_module": "@jupyter-widgets/controls",
            "_model_module_version": "1.5.0",
            "_model_name": "FloatProgressModel",
            "_view_count": null,
            "_view_module": "@jupyter-widgets/controls",
            "_view_module_version": "1.5.0",
            "_view_name": "ProgressView",
            "bar_style": "success",
            "description": "",
            "description_tooltip": null,
            "layout": "IPY_MODEL_84dff631a5a4400a8332cd135bb7362f",
            "max": 456318,
            "min": 0,
            "orientation": "horizontal",
            "style": "IPY_MODEL_d199e70badbb45b59416c388079bb322",
            "value": 456318
          }
        },
        "718642cfcf8a41a19a574cf60729010d": {
          "model_module": "@jupyter-widgets/controls",
          "model_name": "HTMLModel",
          "model_module_version": "1.5.0",
          "state": {
            "_dom_classes": [],
            "_model_module": "@jupyter-widgets/controls",
            "_model_module_version": "1.5.0",
            "_model_name": "HTMLModel",
            "_view_count": null,
            "_view_module": "@jupyter-widgets/controls",
            "_view_module_version": "1.5.0",
            "_view_name": "HTMLView",
            "description": "",
            "description_tooltip": null,
            "layout": "IPY_MODEL_b6f46875d76945c8b553cf1bd8ce05b5",
            "placeholder": "​",
            "style": "IPY_MODEL_159923e52b154d45be024b97550b5dfc",
            "value": " 446k/446k [00:00&lt;00:00, 925kB/s]"
          }
        },
        "a79115a7a3584082802a6a866ed50317": {
          "model_module": "@jupyter-widgets/base",
          "model_name": "LayoutModel",
          "model_module_version": "1.2.0",
          "state": {
            "_model_module": "@jupyter-widgets/base",
            "_model_module_version": "1.2.0",
            "_model_name": "LayoutModel",
            "_view_count": null,
            "_view_module": "@jupyter-widgets/base",
            "_view_module_version": "1.2.0",
            "_view_name": "LayoutView",
            "align_content": null,
            "align_items": null,
            "align_self": null,
            "border": null,
            "bottom": null,
            "display": null,
            "flex": null,
            "flex_flow": null,
            "grid_area": null,
            "grid_auto_columns": null,
            "grid_auto_flow": null,
            "grid_auto_rows": null,
            "grid_column": null,
            "grid_gap": null,
            "grid_row": null,
            "grid_template_areas": null,
            "grid_template_columns": null,
            "grid_template_rows": null,
            "height": null,
            "justify_content": null,
            "justify_items": null,
            "left": null,
            "margin": null,
            "max_height": null,
            "max_width": null,
            "min_height": null,
            "min_width": null,
            "object_fit": null,
            "object_position": null,
            "order": null,
            "overflow": null,
            "overflow_x": null,
            "overflow_y": null,
            "padding": null,
            "right": null,
            "top": null,
            "visibility": null,
            "width": null
          }
        },
        "f2028c9b521544fe8e76b91d394324b2": {
          "model_module": "@jupyter-widgets/base",
          "model_name": "LayoutModel",
          "model_module_version": "1.2.0",
          "state": {
            "_model_module": "@jupyter-widgets/base",
            "_model_module_version": "1.2.0",
            "_model_name": "LayoutModel",
            "_view_count": null,
            "_view_module": "@jupyter-widgets/base",
            "_view_module_version": "1.2.0",
            "_view_name": "LayoutView",
            "align_content": null,
            "align_items": null,
            "align_self": null,
            "border": null,
            "bottom": null,
            "display": null,
            "flex": null,
            "flex_flow": null,
            "grid_area": null,
            "grid_auto_columns": null,
            "grid_auto_flow": null,
            "grid_auto_rows": null,
            "grid_column": null,
            "grid_gap": null,
            "grid_row": null,
            "grid_template_areas": null,
            "grid_template_columns": null,
            "grid_template_rows": null,
            "height": null,
            "justify_content": null,
            "justify_items": null,
            "left": null,
            "margin": null,
            "max_height": null,
            "max_width": null,
            "min_height": null,
            "min_width": null,
            "object_fit": null,
            "object_position": null,
            "order": null,
            "overflow": null,
            "overflow_x": null,
            "overflow_y": null,
            "padding": null,
            "right": null,
            "top": null,
            "visibility": null,
            "width": null
          }
        },
        "1c5937a93e85484cb8bc114f7b68c1e0": {
          "model_module": "@jupyter-widgets/controls",
          "model_name": "DescriptionStyleModel",
          "model_module_version": "1.5.0",
          "state": {
            "_model_module": "@jupyter-widgets/controls",
            "_model_module_version": "1.5.0",
            "_model_name": "DescriptionStyleModel",
            "_view_count": null,
            "_view_module": "@jupyter-widgets/base",
            "_view_module_version": "1.2.0",
            "_view_name": "StyleView",
            "description_width": ""
          }
        },
        "84dff631a5a4400a8332cd135bb7362f": {
          "model_module": "@jupyter-widgets/base",
          "model_name": "LayoutModel",
          "model_module_version": "1.2.0",
          "state": {
            "_model_module": "@jupyter-widgets/base",
            "_model_module_version": "1.2.0",
            "_model_name": "LayoutModel",
            "_view_count": null,
            "_view_module": "@jupyter-widgets/base",
            "_view_module_version": "1.2.0",
            "_view_name": "LayoutView",
            "align_content": null,
            "align_items": null,
            "align_self": null,
            "border": null,
            "bottom": null,
            "display": null,
            "flex": null,
            "flex_flow": null,
            "grid_area": null,
            "grid_auto_columns": null,
            "grid_auto_flow": null,
            "grid_auto_rows": null,
            "grid_column": null,
            "grid_gap": null,
            "grid_row": null,
            "grid_template_areas": null,
            "grid_template_columns": null,
            "grid_template_rows": null,
            "height": null,
            "justify_content": null,
            "justify_items": null,
            "left": null,
            "margin": null,
            "max_height": null,
            "max_width": null,
            "min_height": null,
            "min_width": null,
            "object_fit": null,
            "object_position": null,
            "order": null,
            "overflow": null,
            "overflow_x": null,
            "overflow_y": null,
            "padding": null,
            "right": null,
            "top": null,
            "visibility": null,
            "width": null
          }
        },
        "d199e70badbb45b59416c388079bb322": {
          "model_module": "@jupyter-widgets/controls",
          "model_name": "ProgressStyleModel",
          "model_module_version": "1.5.0",
          "state": {
            "_model_module": "@jupyter-widgets/controls",
            "_model_module_version": "1.5.0",
            "_model_name": "ProgressStyleModel",
            "_view_count": null,
            "_view_module": "@jupyter-widgets/base",
            "_view_module_version": "1.2.0",
            "_view_name": "StyleView",
            "bar_color": null,
            "description_width": ""
          }
        },
        "b6f46875d76945c8b553cf1bd8ce05b5": {
          "model_module": "@jupyter-widgets/base",
          "model_name": "LayoutModel",
          "model_module_version": "1.2.0",
          "state": {
            "_model_module": "@jupyter-widgets/base",
            "_model_module_version": "1.2.0",
            "_model_name": "LayoutModel",
            "_view_count": null,
            "_view_module": "@jupyter-widgets/base",
            "_view_module_version": "1.2.0",
            "_view_name": "LayoutView",
            "align_content": null,
            "align_items": null,
            "align_self": null,
            "border": null,
            "bottom": null,
            "display": null,
            "flex": null,
            "flex_flow": null,
            "grid_area": null,
            "grid_auto_columns": null,
            "grid_auto_flow": null,
            "grid_auto_rows": null,
            "grid_column": null,
            "grid_gap": null,
            "grid_row": null,
            "grid_template_areas": null,
            "grid_template_columns": null,
            "grid_template_rows": null,
            "height": null,
            "justify_content": null,
            "justify_items": null,
            "left": null,
            "margin": null,
            "max_height": null,
            "max_width": null,
            "min_height": null,
            "min_width": null,
            "object_fit": null,
            "object_position": null,
            "order": null,
            "overflow": null,
            "overflow_x": null,
            "overflow_y": null,
            "padding": null,
            "right": null,
            "top": null,
            "visibility": null,
            "width": null
          }
        },
        "159923e52b154d45be024b97550b5dfc": {
          "model_module": "@jupyter-widgets/controls",
          "model_name": "DescriptionStyleModel",
          "model_module_version": "1.5.0",
          "state": {
            "_model_module": "@jupyter-widgets/controls",
            "_model_module_version": "1.5.0",
            "_model_name": "DescriptionStyleModel",
            "_view_count": null,
            "_view_module": "@jupyter-widgets/base",
            "_view_module_version": "1.2.0",
            "_view_name": "StyleView",
            "description_width": ""
          }
        },
        "1dbc15957fa246eb948d9b0553fdd53f": {
          "model_module": "@jupyter-widgets/controls",
          "model_name": "HBoxModel",
          "model_module_version": "1.5.0",
          "state": {
            "_dom_classes": [],
            "_model_module": "@jupyter-widgets/controls",
            "_model_module_version": "1.5.0",
            "_model_name": "HBoxModel",
            "_view_count": null,
            "_view_module": "@jupyter-widgets/controls",
            "_view_module_version": "1.5.0",
            "_view_name": "HBoxView",
            "box_style": "",
            "children": [
              "IPY_MODEL_f734e36daf134368a467aca213d6d635",
              "IPY_MODEL_b317a6883eab454f9d310733148ef6e6",
              "IPY_MODEL_c07b4e6d738c4e6eb8045868f06e9dd1"
            ],
            "layout": "IPY_MODEL_0317967982294251af4dad96bfb032c1"
          }
        },
        "f734e36daf134368a467aca213d6d635": {
          "model_module": "@jupyter-widgets/controls",
          "model_name": "HTMLModel",
          "model_module_version": "1.5.0",
          "state": {
            "_dom_classes": [],
            "_model_module": "@jupyter-widgets/controls",
            "_model_module_version": "1.5.0",
            "_model_name": "HTMLModel",
            "_view_count": null,
            "_view_module": "@jupyter-widgets/controls",
            "_view_module_version": "1.5.0",
            "_view_name": "HTMLView",
            "description": "",
            "description_tooltip": null,
            "layout": "IPY_MODEL_440adcb3452a4ad59c671036bf38e359",
            "placeholder": "​",
            "style": "IPY_MODEL_79b4e1fec5f0470d8bfb7c75bbd60bcd",
            "value": "Downloading: 100%"
          }
        },
        "b317a6883eab454f9d310733148ef6e6": {
          "model_module": "@jupyter-widgets/controls",
          "model_name": "FloatProgressModel",
          "model_module_version": "1.5.0",
          "state": {
            "_dom_classes": [],
            "_model_module": "@jupyter-widgets/controls",
            "_model_module_version": "1.5.0",
            "_model_name": "FloatProgressModel",
            "_view_count": null,
            "_view_module": "@jupyter-widgets/controls",
            "_view_module_version": "1.5.0",
            "_view_name": "ProgressView",
            "bar_style": "success",
            "description": "",
            "description_tooltip": null,
            "layout": "IPY_MODEL_24eacd8580dc43da9922d7036e248685",
            "max": 1355863,
            "min": 0,
            "orientation": "horizontal",
            "style": "IPY_MODEL_a6c7ddc2f5c744d787b164399a6147f5",
            "value": 1355863
          }
        },
        "c07b4e6d738c4e6eb8045868f06e9dd1": {
          "model_module": "@jupyter-widgets/controls",
          "model_name": "HTMLModel",
          "model_module_version": "1.5.0",
          "state": {
            "_dom_classes": [],
            "_model_module": "@jupyter-widgets/controls",
            "_model_module_version": "1.5.0",
            "_model_name": "HTMLModel",
            "_view_count": null,
            "_view_module": "@jupyter-widgets/controls",
            "_view_module_version": "1.5.0",
            "_view_name": "HTMLView",
            "description": "",
            "description_tooltip": null,
            "layout": "IPY_MODEL_5586d1847e084c868daedd1ee4f54e02",
            "placeholder": "​",
            "style": "IPY_MODEL_b79d5bbab63a4f17a145a211904a7b45",
            "value": " 1.29M/1.29M [00:00&lt;00:00, 1.42MB/s]"
          }
        },
        "0317967982294251af4dad96bfb032c1": {
          "model_module": "@jupyter-widgets/base",
          "model_name": "LayoutModel",
          "model_module_version": "1.2.0",
          "state": {
            "_model_module": "@jupyter-widgets/base",
            "_model_module_version": "1.2.0",
            "_model_name": "LayoutModel",
            "_view_count": null,
            "_view_module": "@jupyter-widgets/base",
            "_view_module_version": "1.2.0",
            "_view_name": "LayoutView",
            "align_content": null,
            "align_items": null,
            "align_self": null,
            "border": null,
            "bottom": null,
            "display": null,
            "flex": null,
            "flex_flow": null,
            "grid_area": null,
            "grid_auto_columns": null,
            "grid_auto_flow": null,
            "grid_auto_rows": null,
            "grid_column": null,
            "grid_gap": null,
            "grid_row": null,
            "grid_template_areas": null,
            "grid_template_columns": null,
            "grid_template_rows": null,
            "height": null,
            "justify_content": null,
            "justify_items": null,
            "left": null,
            "margin": null,
            "max_height": null,
            "max_width": null,
            "min_height": null,
            "min_width": null,
            "object_fit": null,
            "object_position": null,
            "order": null,
            "overflow": null,
            "overflow_x": null,
            "overflow_y": null,
            "padding": null,
            "right": null,
            "top": null,
            "visibility": null,
            "width": null
          }
        },
        "440adcb3452a4ad59c671036bf38e359": {
          "model_module": "@jupyter-widgets/base",
          "model_name": "LayoutModel",
          "model_module_version": "1.2.0",
          "state": {
            "_model_module": "@jupyter-widgets/base",
            "_model_module_version": "1.2.0",
            "_model_name": "LayoutModel",
            "_view_count": null,
            "_view_module": "@jupyter-widgets/base",
            "_view_module_version": "1.2.0",
            "_view_name": "LayoutView",
            "align_content": null,
            "align_items": null,
            "align_self": null,
            "border": null,
            "bottom": null,
            "display": null,
            "flex": null,
            "flex_flow": null,
            "grid_area": null,
            "grid_auto_columns": null,
            "grid_auto_flow": null,
            "grid_auto_rows": null,
            "grid_column": null,
            "grid_gap": null,
            "grid_row": null,
            "grid_template_areas": null,
            "grid_template_columns": null,
            "grid_template_rows": null,
            "height": null,
            "justify_content": null,
            "justify_items": null,
            "left": null,
            "margin": null,
            "max_height": null,
            "max_width": null,
            "min_height": null,
            "min_width": null,
            "object_fit": null,
            "object_position": null,
            "order": null,
            "overflow": null,
            "overflow_x": null,
            "overflow_y": null,
            "padding": null,
            "right": null,
            "top": null,
            "visibility": null,
            "width": null
          }
        },
        "79b4e1fec5f0470d8bfb7c75bbd60bcd": {
          "model_module": "@jupyter-widgets/controls",
          "model_name": "DescriptionStyleModel",
          "model_module_version": "1.5.0",
          "state": {
            "_model_module": "@jupyter-widgets/controls",
            "_model_module_version": "1.5.0",
            "_model_name": "DescriptionStyleModel",
            "_view_count": null,
            "_view_module": "@jupyter-widgets/base",
            "_view_module_version": "1.2.0",
            "_view_name": "StyleView",
            "description_width": ""
          }
        },
        "24eacd8580dc43da9922d7036e248685": {
          "model_module": "@jupyter-widgets/base",
          "model_name": "LayoutModel",
          "model_module_version": "1.2.0",
          "state": {
            "_model_module": "@jupyter-widgets/base",
            "_model_module_version": "1.2.0",
            "_model_name": "LayoutModel",
            "_view_count": null,
            "_view_module": "@jupyter-widgets/base",
            "_view_module_version": "1.2.0",
            "_view_name": "LayoutView",
            "align_content": null,
            "align_items": null,
            "align_self": null,
            "border": null,
            "bottom": null,
            "display": null,
            "flex": null,
            "flex_flow": null,
            "grid_area": null,
            "grid_auto_columns": null,
            "grid_auto_flow": null,
            "grid_auto_rows": null,
            "grid_column": null,
            "grid_gap": null,
            "grid_row": null,
            "grid_template_areas": null,
            "grid_template_columns": null,
            "grid_template_rows": null,
            "height": null,
            "justify_content": null,
            "justify_items": null,
            "left": null,
            "margin": null,
            "max_height": null,
            "max_width": null,
            "min_height": null,
            "min_width": null,
            "object_fit": null,
            "object_position": null,
            "order": null,
            "overflow": null,
            "overflow_x": null,
            "overflow_y": null,
            "padding": null,
            "right": null,
            "top": null,
            "visibility": null,
            "width": null
          }
        },
        "a6c7ddc2f5c744d787b164399a6147f5": {
          "model_module": "@jupyter-widgets/controls",
          "model_name": "ProgressStyleModel",
          "model_module_version": "1.5.0",
          "state": {
            "_model_module": "@jupyter-widgets/controls",
            "_model_module_version": "1.5.0",
            "_model_name": "ProgressStyleModel",
            "_view_count": null,
            "_view_module": "@jupyter-widgets/base",
            "_view_module_version": "1.2.0",
            "_view_name": "StyleView",
            "bar_color": null,
            "description_width": ""
          }
        },
        "5586d1847e084c868daedd1ee4f54e02": {
          "model_module": "@jupyter-widgets/base",
          "model_name": "LayoutModel",
          "model_module_version": "1.2.0",
          "state": {
            "_model_module": "@jupyter-widgets/base",
            "_model_module_version": "1.2.0",
            "_model_name": "LayoutModel",
            "_view_count": null,
            "_view_module": "@jupyter-widgets/base",
            "_view_module_version": "1.2.0",
            "_view_name": "LayoutView",
            "align_content": null,
            "align_items": null,
            "align_self": null,
            "border": null,
            "bottom": null,
            "display": null,
            "flex": null,
            "flex_flow": null,
            "grid_area": null,
            "grid_auto_columns": null,
            "grid_auto_flow": null,
            "grid_auto_rows": null,
            "grid_column": null,
            "grid_gap": null,
            "grid_row": null,
            "grid_template_areas": null,
            "grid_template_columns": null,
            "grid_template_rows": null,
            "height": null,
            "justify_content": null,
            "justify_items": null,
            "left": null,
            "margin": null,
            "max_height": null,
            "max_width": null,
            "min_height": null,
            "min_width": null,
            "object_fit": null,
            "object_position": null,
            "order": null,
            "overflow": null,
            "overflow_x": null,
            "overflow_y": null,
            "padding": null,
            "right": null,
            "top": null,
            "visibility": null,
            "width": null
          }
        },
        "b79d5bbab63a4f17a145a211904a7b45": {
          "model_module": "@jupyter-widgets/controls",
          "model_name": "DescriptionStyleModel",
          "model_module_version": "1.5.0",
          "state": {
            "_model_module": "@jupyter-widgets/controls",
            "_model_module_version": "1.5.0",
            "_model_name": "DescriptionStyleModel",
            "_view_count": null,
            "_view_module": "@jupyter-widgets/base",
            "_view_module_version": "1.2.0",
            "_view_name": "StyleView",
            "description_width": ""
          }
        },
        "f3fa7b335b2f4c94be5d92edc7e8195f": {
          "model_module": "@jupyter-widgets/controls",
          "model_name": "HBoxModel",
          "model_module_version": "1.5.0",
          "state": {
            "_dom_classes": [],
            "_model_module": "@jupyter-widgets/controls",
            "_model_module_version": "1.5.0",
            "_model_name": "HBoxModel",
            "_view_count": null,
            "_view_module": "@jupyter-widgets/controls",
            "_view_module_version": "1.5.0",
            "_view_name": "HBoxView",
            "box_style": "",
            "children": [
              "IPY_MODEL_c61c644759a04e1ca4191a42072fe4c9",
              "IPY_MODEL_68710911617a49d7afc8c6ed6d8777c8",
              "IPY_MODEL_f747aa806f904ee2802002bfd109d9e1"
            ],
            "layout": "IPY_MODEL_7ca4fd823e1441d699201f418f8192e4"
          }
        },
        "c61c644759a04e1ca4191a42072fe4c9": {
          "model_module": "@jupyter-widgets/controls",
          "model_name": "HTMLModel",
          "model_module_version": "1.5.0",
          "state": {
            "_dom_classes": [],
            "_model_module": "@jupyter-widgets/controls",
            "_model_module_version": "1.5.0",
            "_model_name": "HTMLModel",
            "_view_count": null,
            "_view_module": "@jupyter-widgets/controls",
            "_view_module_version": "1.5.0",
            "_view_name": "HTMLView",
            "description": "",
            "description_tooltip": null,
            "layout": "IPY_MODEL_de691bc866664c02afe6581ccca60056",
            "placeholder": "​",
            "style": "IPY_MODEL_06ac3c1de713459787c207990cf3c831",
            "value": "100%"
          }
        },
        "68710911617a49d7afc8c6ed6d8777c8": {
          "model_module": "@jupyter-widgets/controls",
          "model_name": "FloatProgressModel",
          "model_module_version": "1.5.0",
          "state": {
            "_dom_classes": [],
            "_model_module": "@jupyter-widgets/controls",
            "_model_module_version": "1.5.0",
            "_model_name": "FloatProgressModel",
            "_view_count": null,
            "_view_module": "@jupyter-widgets/controls",
            "_view_module_version": "1.5.0",
            "_view_name": "ProgressView",
            "bar_style": "success",
            "description": "",
            "description_tooltip": null,
            "layout": "IPY_MODEL_65f515b2bb63479192e87f6465c8aecf",
            "max": 166,
            "min": 0,
            "orientation": "horizontal",
            "style": "IPY_MODEL_fd06ab9784994083bd299882f40a36a1",
            "value": 166
          }
        },
        "f747aa806f904ee2802002bfd109d9e1": {
          "model_module": "@jupyter-widgets/controls",
          "model_name": "HTMLModel",
          "model_module_version": "1.5.0",
          "state": {
            "_dom_classes": [],
            "_model_module": "@jupyter-widgets/controls",
            "_model_module_version": "1.5.0",
            "_model_name": "HTMLModel",
            "_view_count": null,
            "_view_module": "@jupyter-widgets/controls",
            "_view_module_version": "1.5.0",
            "_view_name": "HTMLView",
            "description": "",
            "description_tooltip": null,
            "layout": "IPY_MODEL_7b75074e8f6d4dafaf77e696dde340b3",
            "placeholder": "​",
            "style": "IPY_MODEL_32bf2a52e7274be0b5811aea9e8eae5a",
            "value": " 166/166 [00:47&lt;00:00,  5.52ba/s]"
          }
        },
        "7ca4fd823e1441d699201f418f8192e4": {
          "model_module": "@jupyter-widgets/base",
          "model_name": "LayoutModel",
          "model_module_version": "1.2.0",
          "state": {
            "_model_module": "@jupyter-widgets/base",
            "_model_module_version": "1.2.0",
            "_model_name": "LayoutModel",
            "_view_count": null,
            "_view_module": "@jupyter-widgets/base",
            "_view_module_version": "1.2.0",
            "_view_name": "LayoutView",
            "align_content": null,
            "align_items": null,
            "align_self": null,
            "border": null,
            "bottom": null,
            "display": null,
            "flex": null,
            "flex_flow": null,
            "grid_area": null,
            "grid_auto_columns": null,
            "grid_auto_flow": null,
            "grid_auto_rows": null,
            "grid_column": null,
            "grid_gap": null,
            "grid_row": null,
            "grid_template_areas": null,
            "grid_template_columns": null,
            "grid_template_rows": null,
            "height": null,
            "justify_content": null,
            "justify_items": null,
            "left": null,
            "margin": null,
            "max_height": null,
            "max_width": null,
            "min_height": null,
            "min_width": null,
            "object_fit": null,
            "object_position": null,
            "order": null,
            "overflow": null,
            "overflow_x": null,
            "overflow_y": null,
            "padding": null,
            "right": null,
            "top": null,
            "visibility": null,
            "width": null
          }
        },
        "de691bc866664c02afe6581ccca60056": {
          "model_module": "@jupyter-widgets/base",
          "model_name": "LayoutModel",
          "model_module_version": "1.2.0",
          "state": {
            "_model_module": "@jupyter-widgets/base",
            "_model_module_version": "1.2.0",
            "_model_name": "LayoutModel",
            "_view_count": null,
            "_view_module": "@jupyter-widgets/base",
            "_view_module_version": "1.2.0",
            "_view_name": "LayoutView",
            "align_content": null,
            "align_items": null,
            "align_self": null,
            "border": null,
            "bottom": null,
            "display": null,
            "flex": null,
            "flex_flow": null,
            "grid_area": null,
            "grid_auto_columns": null,
            "grid_auto_flow": null,
            "grid_auto_rows": null,
            "grid_column": null,
            "grid_gap": null,
            "grid_row": null,
            "grid_template_areas": null,
            "grid_template_columns": null,
            "grid_template_rows": null,
            "height": null,
            "justify_content": null,
            "justify_items": null,
            "left": null,
            "margin": null,
            "max_height": null,
            "max_width": null,
            "min_height": null,
            "min_width": null,
            "object_fit": null,
            "object_position": null,
            "order": null,
            "overflow": null,
            "overflow_x": null,
            "overflow_y": null,
            "padding": null,
            "right": null,
            "top": null,
            "visibility": null,
            "width": null
          }
        },
        "06ac3c1de713459787c207990cf3c831": {
          "model_module": "@jupyter-widgets/controls",
          "model_name": "DescriptionStyleModel",
          "model_module_version": "1.5.0",
          "state": {
            "_model_module": "@jupyter-widgets/controls",
            "_model_module_version": "1.5.0",
            "_model_name": "DescriptionStyleModel",
            "_view_count": null,
            "_view_module": "@jupyter-widgets/base",
            "_view_module_version": "1.2.0",
            "_view_name": "StyleView",
            "description_width": ""
          }
        },
        "65f515b2bb63479192e87f6465c8aecf": {
          "model_module": "@jupyter-widgets/base",
          "model_name": "LayoutModel",
          "model_module_version": "1.2.0",
          "state": {
            "_model_module": "@jupyter-widgets/base",
            "_model_module_version": "1.2.0",
            "_model_name": "LayoutModel",
            "_view_count": null,
            "_view_module": "@jupyter-widgets/base",
            "_view_module_version": "1.2.0",
            "_view_name": "LayoutView",
            "align_content": null,
            "align_items": null,
            "align_self": null,
            "border": null,
            "bottom": null,
            "display": null,
            "flex": null,
            "flex_flow": null,
            "grid_area": null,
            "grid_auto_columns": null,
            "grid_auto_flow": null,
            "grid_auto_rows": null,
            "grid_column": null,
            "grid_gap": null,
            "grid_row": null,
            "grid_template_areas": null,
            "grid_template_columns": null,
            "grid_template_rows": null,
            "height": null,
            "justify_content": null,
            "justify_items": null,
            "left": null,
            "margin": null,
            "max_height": null,
            "max_width": null,
            "min_height": null,
            "min_width": null,
            "object_fit": null,
            "object_position": null,
            "order": null,
            "overflow": null,
            "overflow_x": null,
            "overflow_y": null,
            "padding": null,
            "right": null,
            "top": null,
            "visibility": null,
            "width": null
          }
        },
        "fd06ab9784994083bd299882f40a36a1": {
          "model_module": "@jupyter-widgets/controls",
          "model_name": "ProgressStyleModel",
          "model_module_version": "1.5.0",
          "state": {
            "_model_module": "@jupyter-widgets/controls",
            "_model_module_version": "1.5.0",
            "_model_name": "ProgressStyleModel",
            "_view_count": null,
            "_view_module": "@jupyter-widgets/base",
            "_view_module_version": "1.2.0",
            "_view_name": "StyleView",
            "bar_color": null,
            "description_width": ""
          }
        },
        "7b75074e8f6d4dafaf77e696dde340b3": {
          "model_module": "@jupyter-widgets/base",
          "model_name": "LayoutModel",
          "model_module_version": "1.2.0",
          "state": {
            "_model_module": "@jupyter-widgets/base",
            "_model_module_version": "1.2.0",
            "_model_name": "LayoutModel",
            "_view_count": null,
            "_view_module": "@jupyter-widgets/base",
            "_view_module_version": "1.2.0",
            "_view_name": "LayoutView",
            "align_content": null,
            "align_items": null,
            "align_self": null,
            "border": null,
            "bottom": null,
            "display": null,
            "flex": null,
            "flex_flow": null,
            "grid_area": null,
            "grid_auto_columns": null,
            "grid_auto_flow": null,
            "grid_auto_rows": null,
            "grid_column": null,
            "grid_gap": null,
            "grid_row": null,
            "grid_template_areas": null,
            "grid_template_columns": null,
            "grid_template_rows": null,
            "height": null,
            "justify_content": null,
            "justify_items": null,
            "left": null,
            "margin": null,
            "max_height": null,
            "max_width": null,
            "min_height": null,
            "min_width": null,
            "object_fit": null,
            "object_position": null,
            "order": null,
            "overflow": null,
            "overflow_x": null,
            "overflow_y": null,
            "padding": null,
            "right": null,
            "top": null,
            "visibility": null,
            "width": null
          }
        },
        "32bf2a52e7274be0b5811aea9e8eae5a": {
          "model_module": "@jupyter-widgets/controls",
          "model_name": "DescriptionStyleModel",
          "model_module_version": "1.5.0",
          "state": {
            "_model_module": "@jupyter-widgets/controls",
            "_model_module_version": "1.5.0",
            "_model_name": "DescriptionStyleModel",
            "_view_count": null,
            "_view_module": "@jupyter-widgets/base",
            "_view_module_version": "1.2.0",
            "_view_name": "StyleView",
            "description_width": ""
          }
        },
        "2c16cfaedcbc4a9cb6b322f75d8ef764": {
          "model_module": "@jupyter-widgets/controls",
          "model_name": "HBoxModel",
          "model_module_version": "1.5.0",
          "state": {
            "_dom_classes": [],
            "_model_module": "@jupyter-widgets/controls",
            "_model_module_version": "1.5.0",
            "_model_name": "HBoxModel",
            "_view_count": null,
            "_view_module": "@jupyter-widgets/controls",
            "_view_module_version": "1.5.0",
            "_view_name": "HBoxView",
            "box_style": "",
            "children": [
              "IPY_MODEL_a888f6010ed24155a8d9a8b2b603de0f",
              "IPY_MODEL_b78d1428acb04364a988063877ed7797",
              "IPY_MODEL_cc4578c0b2ac4d039d0ea5df1aa0f831"
            ],
            "layout": "IPY_MODEL_cecca603f7c046adbc7d82c4c11630e9"
          }
        },
        "a888f6010ed24155a8d9a8b2b603de0f": {
          "model_module": "@jupyter-widgets/controls",
          "model_name": "HTMLModel",
          "model_module_version": "1.5.0",
          "state": {
            "_dom_classes": [],
            "_model_module": "@jupyter-widgets/controls",
            "_model_module_version": "1.5.0",
            "_model_name": "HTMLModel",
            "_view_count": null,
            "_view_module": "@jupyter-widgets/controls",
            "_view_module_version": "1.5.0",
            "_view_name": "HTMLView",
            "description": "",
            "description_tooltip": null,
            "layout": "IPY_MODEL_6a9bea76c2814cd5b85693581a04d283",
            "placeholder": "​",
            "style": "IPY_MODEL_0aaaf011e5694071bb3b27f21b65a36a",
            "value": "100%"
          }
        },
        "b78d1428acb04364a988063877ed7797": {
          "model_module": "@jupyter-widgets/controls",
          "model_name": "FloatProgressModel",
          "model_module_version": "1.5.0",
          "state": {
            "_dom_classes": [],
            "_model_module": "@jupyter-widgets/controls",
            "_model_module_version": "1.5.0",
            "_model_name": "FloatProgressModel",
            "_view_count": null,
            "_view_module": "@jupyter-widgets/controls",
            "_view_module_version": "1.5.0",
            "_view_name": "ProgressView",
            "bar_style": "success",
            "description": "",
            "description_tooltip": null,
            "layout": "IPY_MODEL_b91bd25c69ad4d65b52e6b212e8b784b",
            "max": 42,
            "min": 0,
            "orientation": "horizontal",
            "style": "IPY_MODEL_8dd8274bb7e14be695f747a629689973",
            "value": 42
          }
        },
        "cc4578c0b2ac4d039d0ea5df1aa0f831": {
          "model_module": "@jupyter-widgets/controls",
          "model_name": "HTMLModel",
          "model_module_version": "1.5.0",
          "state": {
            "_dom_classes": [],
            "_model_module": "@jupyter-widgets/controls",
            "_model_module_version": "1.5.0",
            "_model_name": "HTMLModel",
            "_view_count": null,
            "_view_module": "@jupyter-widgets/controls",
            "_view_module_version": "1.5.0",
            "_view_name": "HTMLView",
            "description": "",
            "description_tooltip": null,
            "layout": "IPY_MODEL_de94d5971d4243ffac6670d6771d82b9",
            "placeholder": "​",
            "style": "IPY_MODEL_e7c67e82f2bf416c99d6f663426af49d",
            "value": " 42/42 [00:09&lt;00:00,  5.11ba/s]"
          }
        },
        "cecca603f7c046adbc7d82c4c11630e9": {
          "model_module": "@jupyter-widgets/base",
          "model_name": "LayoutModel",
          "model_module_version": "1.2.0",
          "state": {
            "_model_module": "@jupyter-widgets/base",
            "_model_module_version": "1.2.0",
            "_model_name": "LayoutModel",
            "_view_count": null,
            "_view_module": "@jupyter-widgets/base",
            "_view_module_version": "1.2.0",
            "_view_name": "LayoutView",
            "align_content": null,
            "align_items": null,
            "align_self": null,
            "border": null,
            "bottom": null,
            "display": null,
            "flex": null,
            "flex_flow": null,
            "grid_area": null,
            "grid_auto_columns": null,
            "grid_auto_flow": null,
            "grid_auto_rows": null,
            "grid_column": null,
            "grid_gap": null,
            "grid_row": null,
            "grid_template_areas": null,
            "grid_template_columns": null,
            "grid_template_rows": null,
            "height": null,
            "justify_content": null,
            "justify_items": null,
            "left": null,
            "margin": null,
            "max_height": null,
            "max_width": null,
            "min_height": null,
            "min_width": null,
            "object_fit": null,
            "object_position": null,
            "order": null,
            "overflow": null,
            "overflow_x": null,
            "overflow_y": null,
            "padding": null,
            "right": null,
            "top": null,
            "visibility": null,
            "width": null
          }
        },
        "6a9bea76c2814cd5b85693581a04d283": {
          "model_module": "@jupyter-widgets/base",
          "model_name": "LayoutModel",
          "model_module_version": "1.2.0",
          "state": {
            "_model_module": "@jupyter-widgets/base",
            "_model_module_version": "1.2.0",
            "_model_name": "LayoutModel",
            "_view_count": null,
            "_view_module": "@jupyter-widgets/base",
            "_view_module_version": "1.2.0",
            "_view_name": "LayoutView",
            "align_content": null,
            "align_items": null,
            "align_self": null,
            "border": null,
            "bottom": null,
            "display": null,
            "flex": null,
            "flex_flow": null,
            "grid_area": null,
            "grid_auto_columns": null,
            "grid_auto_flow": null,
            "grid_auto_rows": null,
            "grid_column": null,
            "grid_gap": null,
            "grid_row": null,
            "grid_template_areas": null,
            "grid_template_columns": null,
            "grid_template_rows": null,
            "height": null,
            "justify_content": null,
            "justify_items": null,
            "left": null,
            "margin": null,
            "max_height": null,
            "max_width": null,
            "min_height": null,
            "min_width": null,
            "object_fit": null,
            "object_position": null,
            "order": null,
            "overflow": null,
            "overflow_x": null,
            "overflow_y": null,
            "padding": null,
            "right": null,
            "top": null,
            "visibility": null,
            "width": null
          }
        },
        "0aaaf011e5694071bb3b27f21b65a36a": {
          "model_module": "@jupyter-widgets/controls",
          "model_name": "DescriptionStyleModel",
          "model_module_version": "1.5.0",
          "state": {
            "_model_module": "@jupyter-widgets/controls",
            "_model_module_version": "1.5.0",
            "_model_name": "DescriptionStyleModel",
            "_view_count": null,
            "_view_module": "@jupyter-widgets/base",
            "_view_module_version": "1.2.0",
            "_view_name": "StyleView",
            "description_width": ""
          }
        },
        "b91bd25c69ad4d65b52e6b212e8b784b": {
          "model_module": "@jupyter-widgets/base",
          "model_name": "LayoutModel",
          "model_module_version": "1.2.0",
          "state": {
            "_model_module": "@jupyter-widgets/base",
            "_model_module_version": "1.2.0",
            "_model_name": "LayoutModel",
            "_view_count": null,
            "_view_module": "@jupyter-widgets/base",
            "_view_module_version": "1.2.0",
            "_view_name": "LayoutView",
            "align_content": null,
            "align_items": null,
            "align_self": null,
            "border": null,
            "bottom": null,
            "display": null,
            "flex": null,
            "flex_flow": null,
            "grid_area": null,
            "grid_auto_columns": null,
            "grid_auto_flow": null,
            "grid_auto_rows": null,
            "grid_column": null,
            "grid_gap": null,
            "grid_row": null,
            "grid_template_areas": null,
            "grid_template_columns": null,
            "grid_template_rows": null,
            "height": null,
            "justify_content": null,
            "justify_items": null,
            "left": null,
            "margin": null,
            "max_height": null,
            "max_width": null,
            "min_height": null,
            "min_width": null,
            "object_fit": null,
            "object_position": null,
            "order": null,
            "overflow": null,
            "overflow_x": null,
            "overflow_y": null,
            "padding": null,
            "right": null,
            "top": null,
            "visibility": null,
            "width": null
          }
        },
        "8dd8274bb7e14be695f747a629689973": {
          "model_module": "@jupyter-widgets/controls",
          "model_name": "ProgressStyleModel",
          "model_module_version": "1.5.0",
          "state": {
            "_model_module": "@jupyter-widgets/controls",
            "_model_module_version": "1.5.0",
            "_model_name": "ProgressStyleModel",
            "_view_count": null,
            "_view_module": "@jupyter-widgets/base",
            "_view_module_version": "1.2.0",
            "_view_name": "StyleView",
            "bar_color": null,
            "description_width": ""
          }
        },
        "de94d5971d4243ffac6670d6771d82b9": {
          "model_module": "@jupyter-widgets/base",
          "model_name": "LayoutModel",
          "model_module_version": "1.2.0",
          "state": {
            "_model_module": "@jupyter-widgets/base",
            "_model_module_version": "1.2.0",
            "_model_name": "LayoutModel",
            "_view_count": null,
            "_view_module": "@jupyter-widgets/base",
            "_view_module_version": "1.2.0",
            "_view_name": "LayoutView",
            "align_content": null,
            "align_items": null,
            "align_self": null,
            "border": null,
            "bottom": null,
            "display": null,
            "flex": null,
            "flex_flow": null,
            "grid_area": null,
            "grid_auto_columns": null,
            "grid_auto_flow": null,
            "grid_auto_rows": null,
            "grid_column": null,
            "grid_gap": null,
            "grid_row": null,
            "grid_template_areas": null,
            "grid_template_columns": null,
            "grid_template_rows": null,
            "height": null,
            "justify_content": null,
            "justify_items": null,
            "left": null,
            "margin": null,
            "max_height": null,
            "max_width": null,
            "min_height": null,
            "min_width": null,
            "object_fit": null,
            "object_position": null,
            "order": null,
            "overflow": null,
            "overflow_x": null,
            "overflow_y": null,
            "padding": null,
            "right": null,
            "top": null,
            "visibility": null,
            "width": null
          }
        },
        "e7c67e82f2bf416c99d6f663426af49d": {
          "model_module": "@jupyter-widgets/controls",
          "model_name": "DescriptionStyleModel",
          "model_module_version": "1.5.0",
          "state": {
            "_model_module": "@jupyter-widgets/controls",
            "_model_module_version": "1.5.0",
            "_model_name": "DescriptionStyleModel",
            "_view_count": null,
            "_view_module": "@jupyter-widgets/base",
            "_view_module_version": "1.2.0",
            "_view_name": "StyleView",
            "description_width": ""
          }
        },
        "816f2c78fc0048df8ee548357f1e8329": {
          "model_module": "@jupyter-widgets/controls",
          "model_name": "HBoxModel",
          "model_module_version": "1.5.0",
          "state": {
            "_dom_classes": [],
            "_model_module": "@jupyter-widgets/controls",
            "_model_module_version": "1.5.0",
            "_model_name": "HBoxModel",
            "_view_count": null,
            "_view_module": "@jupyter-widgets/controls",
            "_view_module_version": "1.5.0",
            "_view_name": "HBoxView",
            "box_style": "",
            "children": [
              "IPY_MODEL_32f34ce2056e43a995921585e9e087ec",
              "IPY_MODEL_25758f1fe0024380a89787eccd896e2d",
              "IPY_MODEL_3df3330d931648d592fb2bad368881ba"
            ],
            "layout": "IPY_MODEL_cd2624decbed43d3b17d31fa3a12e73d"
          }
        },
        "32f34ce2056e43a995921585e9e087ec": {
          "model_module": "@jupyter-widgets/controls",
          "model_name": "HTMLModel",
          "model_module_version": "1.5.0",
          "state": {
            "_dom_classes": [],
            "_model_module": "@jupyter-widgets/controls",
            "_model_module_version": "1.5.0",
            "_model_name": "HTMLModel",
            "_view_count": null,
            "_view_module": "@jupyter-widgets/controls",
            "_view_module_version": "1.5.0",
            "_view_name": "HTMLView",
            "description": "",
            "description_tooltip": null,
            "layout": "IPY_MODEL_e4d5ff1c56274a8f89f3b812d49807b4",
            "placeholder": "​",
            "style": "IPY_MODEL_41b058d4a10443a48e57077606ff46b4",
            "value": "100%"
          }
        },
        "25758f1fe0024380a89787eccd896e2d": {
          "model_module": "@jupyter-widgets/controls",
          "model_name": "FloatProgressModel",
          "model_module_version": "1.5.0",
          "state": {
            "_dom_classes": [],
            "_model_module": "@jupyter-widgets/controls",
            "_model_module_version": "1.5.0",
            "_model_name": "FloatProgressModel",
            "_view_count": null,
            "_view_module": "@jupyter-widgets/controls",
            "_view_module_version": "1.5.0",
            "_view_name": "ProgressView",
            "bar_style": "success",
            "description": "",
            "description_tooltip": null,
            "layout": "IPY_MODEL_e117dc2ee2954e65b36de2d0bafbd1bf",
            "max": 52,
            "min": 0,
            "orientation": "horizontal",
            "style": "IPY_MODEL_27eff334f14443a5b18534fe79909910",
            "value": 52
          }
        },
        "3df3330d931648d592fb2bad368881ba": {
          "model_module": "@jupyter-widgets/controls",
          "model_name": "HTMLModel",
          "model_module_version": "1.5.0",
          "state": {
            "_dom_classes": [],
            "_model_module": "@jupyter-widgets/controls",
            "_model_module_version": "1.5.0",
            "_model_name": "HTMLModel",
            "_view_count": null,
            "_view_module": "@jupyter-widgets/controls",
            "_view_module_version": "1.5.0",
            "_view_name": "HTMLView",
            "description": "",
            "description_tooltip": null,
            "layout": "IPY_MODEL_a8a632aed3d64a19b6bbe2b7db349dc3",
            "placeholder": "​",
            "style": "IPY_MODEL_6e7a98ff35904d898100a69b30630c56",
            "value": " 52/52 [00:11&lt;00:00,  4.87ba/s]"
          }
        },
        "cd2624decbed43d3b17d31fa3a12e73d": {
          "model_module": "@jupyter-widgets/base",
          "model_name": "LayoutModel",
          "model_module_version": "1.2.0",
          "state": {
            "_model_module": "@jupyter-widgets/base",
            "_model_module_version": "1.2.0",
            "_model_name": "LayoutModel",
            "_view_count": null,
            "_view_module": "@jupyter-widgets/base",
            "_view_module_version": "1.2.0",
            "_view_name": "LayoutView",
            "align_content": null,
            "align_items": null,
            "align_self": null,
            "border": null,
            "bottom": null,
            "display": null,
            "flex": null,
            "flex_flow": null,
            "grid_area": null,
            "grid_auto_columns": null,
            "grid_auto_flow": null,
            "grid_auto_rows": null,
            "grid_column": null,
            "grid_gap": null,
            "grid_row": null,
            "grid_template_areas": null,
            "grid_template_columns": null,
            "grid_template_rows": null,
            "height": null,
            "justify_content": null,
            "justify_items": null,
            "left": null,
            "margin": null,
            "max_height": null,
            "max_width": null,
            "min_height": null,
            "min_width": null,
            "object_fit": null,
            "object_position": null,
            "order": null,
            "overflow": null,
            "overflow_x": null,
            "overflow_y": null,
            "padding": null,
            "right": null,
            "top": null,
            "visibility": null,
            "width": null
          }
        },
        "e4d5ff1c56274a8f89f3b812d49807b4": {
          "model_module": "@jupyter-widgets/base",
          "model_name": "LayoutModel",
          "model_module_version": "1.2.0",
          "state": {
            "_model_module": "@jupyter-widgets/base",
            "_model_module_version": "1.2.0",
            "_model_name": "LayoutModel",
            "_view_count": null,
            "_view_module": "@jupyter-widgets/base",
            "_view_module_version": "1.2.0",
            "_view_name": "LayoutView",
            "align_content": null,
            "align_items": null,
            "align_self": null,
            "border": null,
            "bottom": null,
            "display": null,
            "flex": null,
            "flex_flow": null,
            "grid_area": null,
            "grid_auto_columns": null,
            "grid_auto_flow": null,
            "grid_auto_rows": null,
            "grid_column": null,
            "grid_gap": null,
            "grid_row": null,
            "grid_template_areas": null,
            "grid_template_columns": null,
            "grid_template_rows": null,
            "height": null,
            "justify_content": null,
            "justify_items": null,
            "left": null,
            "margin": null,
            "max_height": null,
            "max_width": null,
            "min_height": null,
            "min_width": null,
            "object_fit": null,
            "object_position": null,
            "order": null,
            "overflow": null,
            "overflow_x": null,
            "overflow_y": null,
            "padding": null,
            "right": null,
            "top": null,
            "visibility": null,
            "width": null
          }
        },
        "41b058d4a10443a48e57077606ff46b4": {
          "model_module": "@jupyter-widgets/controls",
          "model_name": "DescriptionStyleModel",
          "model_module_version": "1.5.0",
          "state": {
            "_model_module": "@jupyter-widgets/controls",
            "_model_module_version": "1.5.0",
            "_model_name": "DescriptionStyleModel",
            "_view_count": null,
            "_view_module": "@jupyter-widgets/base",
            "_view_module_version": "1.2.0",
            "_view_name": "StyleView",
            "description_width": ""
          }
        },
        "e117dc2ee2954e65b36de2d0bafbd1bf": {
          "model_module": "@jupyter-widgets/base",
          "model_name": "LayoutModel",
          "model_module_version": "1.2.0",
          "state": {
            "_model_module": "@jupyter-widgets/base",
            "_model_module_version": "1.2.0",
            "_model_name": "LayoutModel",
            "_view_count": null,
            "_view_module": "@jupyter-widgets/base",
            "_view_module_version": "1.2.0",
            "_view_name": "LayoutView",
            "align_content": null,
            "align_items": null,
            "align_self": null,
            "border": null,
            "bottom": null,
            "display": null,
            "flex": null,
            "flex_flow": null,
            "grid_area": null,
            "grid_auto_columns": null,
            "grid_auto_flow": null,
            "grid_auto_rows": null,
            "grid_column": null,
            "grid_gap": null,
            "grid_row": null,
            "grid_template_areas": null,
            "grid_template_columns": null,
            "grid_template_rows": null,
            "height": null,
            "justify_content": null,
            "justify_items": null,
            "left": null,
            "margin": null,
            "max_height": null,
            "max_width": null,
            "min_height": null,
            "min_width": null,
            "object_fit": null,
            "object_position": null,
            "order": null,
            "overflow": null,
            "overflow_x": null,
            "overflow_y": null,
            "padding": null,
            "right": null,
            "top": null,
            "visibility": null,
            "width": null
          }
        },
        "27eff334f14443a5b18534fe79909910": {
          "model_module": "@jupyter-widgets/controls",
          "model_name": "ProgressStyleModel",
          "model_module_version": "1.5.0",
          "state": {
            "_model_module": "@jupyter-widgets/controls",
            "_model_module_version": "1.5.0",
            "_model_name": "ProgressStyleModel",
            "_view_count": null,
            "_view_module": "@jupyter-widgets/base",
            "_view_module_version": "1.2.0",
            "_view_name": "StyleView",
            "bar_color": null,
            "description_width": ""
          }
        },
        "a8a632aed3d64a19b6bbe2b7db349dc3": {
          "model_module": "@jupyter-widgets/base",
          "model_name": "LayoutModel",
          "model_module_version": "1.2.0",
          "state": {
            "_model_module": "@jupyter-widgets/base",
            "_model_module_version": "1.2.0",
            "_model_name": "LayoutModel",
            "_view_count": null,
            "_view_module": "@jupyter-widgets/base",
            "_view_module_version": "1.2.0",
            "_view_name": "LayoutView",
            "align_content": null,
            "align_items": null,
            "align_self": null,
            "border": null,
            "bottom": null,
            "display": null,
            "flex": null,
            "flex_flow": null,
            "grid_area": null,
            "grid_auto_columns": null,
            "grid_auto_flow": null,
            "grid_auto_rows": null,
            "grid_column": null,
            "grid_gap": null,
            "grid_row": null,
            "grid_template_areas": null,
            "grid_template_columns": null,
            "grid_template_rows": null,
            "height": null,
            "justify_content": null,
            "justify_items": null,
            "left": null,
            "margin": null,
            "max_height": null,
            "max_width": null,
            "min_height": null,
            "min_width": null,
            "object_fit": null,
            "object_position": null,
            "order": null,
            "overflow": null,
            "overflow_x": null,
            "overflow_y": null,
            "padding": null,
            "right": null,
            "top": null,
            "visibility": null,
            "width": null
          }
        },
        "6e7a98ff35904d898100a69b30630c56": {
          "model_module": "@jupyter-widgets/controls",
          "model_name": "DescriptionStyleModel",
          "model_module_version": "1.5.0",
          "state": {
            "_model_module": "@jupyter-widgets/controls",
            "_model_module_version": "1.5.0",
            "_model_name": "DescriptionStyleModel",
            "_view_count": null,
            "_view_module": "@jupyter-widgets/base",
            "_view_module_version": "1.2.0",
            "_view_name": "StyleView",
            "description_width": ""
          }
        },
        "8dd849b7ed46438cbb2b7480f5ea799e": {
          "model_module": "@jupyter-widgets/controls",
          "model_name": "HBoxModel",
          "model_module_version": "1.5.0",
          "state": {
            "_dom_classes": [],
            "_model_module": "@jupyter-widgets/controls",
            "_model_module_version": "1.5.0",
            "_model_name": "HBoxModel",
            "_view_count": null,
            "_view_module": "@jupyter-widgets/controls",
            "_view_module_version": "1.5.0",
            "_view_name": "HBoxView",
            "box_style": "",
            "children": [
              "IPY_MODEL_1840194655714e2b9dce20aabdb530bc",
              "IPY_MODEL_c91392cd6e5944bebaf7666d818ee04d",
              "IPY_MODEL_a53b5d9482104d82bcb711fe1e63679a"
            ],
            "layout": "IPY_MODEL_802cd6adaacc4ad9b83ebafd1fef5018"
          }
        },
        "1840194655714e2b9dce20aabdb530bc": {
          "model_module": "@jupyter-widgets/controls",
          "model_name": "HTMLModel",
          "model_module_version": "1.5.0",
          "state": {
            "_dom_classes": [],
            "_model_module": "@jupyter-widgets/controls",
            "_model_module_version": "1.5.0",
            "_model_name": "HTMLModel",
            "_view_count": null,
            "_view_module": "@jupyter-widgets/controls",
            "_view_module_version": "1.5.0",
            "_view_name": "HTMLView",
            "description": "",
            "description_tooltip": null,
            "layout": "IPY_MODEL_44392b6be67242a599a220351ae6cde0",
            "placeholder": "​",
            "style": "IPY_MODEL_19a5be21450e44ba8766242a70049fc4",
            "value": "100%"
          }
        },
        "c91392cd6e5944bebaf7666d818ee04d": {
          "model_module": "@jupyter-widgets/controls",
          "model_name": "FloatProgressModel",
          "model_module_version": "1.5.0",
          "state": {
            "_dom_classes": [],
            "_model_module": "@jupyter-widgets/controls",
            "_model_module_version": "1.5.0",
            "_model_name": "FloatProgressModel",
            "_view_count": null,
            "_view_module": "@jupyter-widgets/controls",
            "_view_module_version": "1.5.0",
            "_view_name": "ProgressView",
            "bar_style": "success",
            "description": "",
            "description_tooltip": null,
            "layout": "IPY_MODEL_4db5a4c34f244252ba730b55fdd523c1",
            "max": 22,
            "min": 0,
            "orientation": "horizontal",
            "style": "IPY_MODEL_c75fb438a6cd48b28c9de81183f8e9dd",
            "value": 22
          }
        },
        "a53b5d9482104d82bcb711fe1e63679a": {
          "model_module": "@jupyter-widgets/controls",
          "model_name": "HTMLModel",
          "model_module_version": "1.5.0",
          "state": {
            "_dom_classes": [],
            "_model_module": "@jupyter-widgets/controls",
            "_model_module_version": "1.5.0",
            "_model_name": "HTMLModel",
            "_view_count": null,
            "_view_module": "@jupyter-widgets/controls",
            "_view_module_version": "1.5.0",
            "_view_name": "HTMLView",
            "description": "",
            "description_tooltip": null,
            "layout": "IPY_MODEL_eea28b602ded48bc932f86f5ac38e2f7",
            "placeholder": "​",
            "style": "IPY_MODEL_c0575d85cddb4bfbb350ad0397fc8f44",
            "value": " 22/22 [01:05&lt;00:00,  2.36s/ba]"
          }
        },
        "802cd6adaacc4ad9b83ebafd1fef5018": {
          "model_module": "@jupyter-widgets/base",
          "model_name": "LayoutModel",
          "model_module_version": "1.2.0",
          "state": {
            "_model_module": "@jupyter-widgets/base",
            "_model_module_version": "1.2.0",
            "_model_name": "LayoutModel",
            "_view_count": null,
            "_view_module": "@jupyter-widgets/base",
            "_view_module_version": "1.2.0",
            "_view_name": "LayoutView",
            "align_content": null,
            "align_items": null,
            "align_self": null,
            "border": null,
            "bottom": null,
            "display": null,
            "flex": null,
            "flex_flow": null,
            "grid_area": null,
            "grid_auto_columns": null,
            "grid_auto_flow": null,
            "grid_auto_rows": null,
            "grid_column": null,
            "grid_gap": null,
            "grid_row": null,
            "grid_template_areas": null,
            "grid_template_columns": null,
            "grid_template_rows": null,
            "height": null,
            "justify_content": null,
            "justify_items": null,
            "left": null,
            "margin": null,
            "max_height": null,
            "max_width": null,
            "min_height": null,
            "min_width": null,
            "object_fit": null,
            "object_position": null,
            "order": null,
            "overflow": null,
            "overflow_x": null,
            "overflow_y": null,
            "padding": null,
            "right": null,
            "top": null,
            "visibility": null,
            "width": null
          }
        },
        "44392b6be67242a599a220351ae6cde0": {
          "model_module": "@jupyter-widgets/base",
          "model_name": "LayoutModel",
          "model_module_version": "1.2.0",
          "state": {
            "_model_module": "@jupyter-widgets/base",
            "_model_module_version": "1.2.0",
            "_model_name": "LayoutModel",
            "_view_count": null,
            "_view_module": "@jupyter-widgets/base",
            "_view_module_version": "1.2.0",
            "_view_name": "LayoutView",
            "align_content": null,
            "align_items": null,
            "align_self": null,
            "border": null,
            "bottom": null,
            "display": null,
            "flex": null,
            "flex_flow": null,
            "grid_area": null,
            "grid_auto_columns": null,
            "grid_auto_flow": null,
            "grid_auto_rows": null,
            "grid_column": null,
            "grid_gap": null,
            "grid_row": null,
            "grid_template_areas": null,
            "grid_template_columns": null,
            "grid_template_rows": null,
            "height": null,
            "justify_content": null,
            "justify_items": null,
            "left": null,
            "margin": null,
            "max_height": null,
            "max_width": null,
            "min_height": null,
            "min_width": null,
            "object_fit": null,
            "object_position": null,
            "order": null,
            "overflow": null,
            "overflow_x": null,
            "overflow_y": null,
            "padding": null,
            "right": null,
            "top": null,
            "visibility": null,
            "width": null
          }
        },
        "19a5be21450e44ba8766242a70049fc4": {
          "model_module": "@jupyter-widgets/controls",
          "model_name": "DescriptionStyleModel",
          "model_module_version": "1.5.0",
          "state": {
            "_model_module": "@jupyter-widgets/controls",
            "_model_module_version": "1.5.0",
            "_model_name": "DescriptionStyleModel",
            "_view_count": null,
            "_view_module": "@jupyter-widgets/base",
            "_view_module_version": "1.2.0",
            "_view_name": "StyleView",
            "description_width": ""
          }
        },
        "4db5a4c34f244252ba730b55fdd523c1": {
          "model_module": "@jupyter-widgets/base",
          "model_name": "LayoutModel",
          "model_module_version": "1.2.0",
          "state": {
            "_model_module": "@jupyter-widgets/base",
            "_model_module_version": "1.2.0",
            "_model_name": "LayoutModel",
            "_view_count": null,
            "_view_module": "@jupyter-widgets/base",
            "_view_module_version": "1.2.0",
            "_view_name": "LayoutView",
            "align_content": null,
            "align_items": null,
            "align_self": null,
            "border": null,
            "bottom": null,
            "display": null,
            "flex": null,
            "flex_flow": null,
            "grid_area": null,
            "grid_auto_columns": null,
            "grid_auto_flow": null,
            "grid_auto_rows": null,
            "grid_column": null,
            "grid_gap": null,
            "grid_row": null,
            "grid_template_areas": null,
            "grid_template_columns": null,
            "grid_template_rows": null,
            "height": null,
            "justify_content": null,
            "justify_items": null,
            "left": null,
            "margin": null,
            "max_height": null,
            "max_width": null,
            "min_height": null,
            "min_width": null,
            "object_fit": null,
            "object_position": null,
            "order": null,
            "overflow": null,
            "overflow_x": null,
            "overflow_y": null,
            "padding": null,
            "right": null,
            "top": null,
            "visibility": null,
            "width": null
          }
        },
        "c75fb438a6cd48b28c9de81183f8e9dd": {
          "model_module": "@jupyter-widgets/controls",
          "model_name": "ProgressStyleModel",
          "model_module_version": "1.5.0",
          "state": {
            "_model_module": "@jupyter-widgets/controls",
            "_model_module_version": "1.5.0",
            "_model_name": "ProgressStyleModel",
            "_view_count": null,
            "_view_module": "@jupyter-widgets/base",
            "_view_module_version": "1.2.0",
            "_view_name": "StyleView",
            "bar_color": null,
            "description_width": ""
          }
        },
        "eea28b602ded48bc932f86f5ac38e2f7": {
          "model_module": "@jupyter-widgets/base",
          "model_name": "LayoutModel",
          "model_module_version": "1.2.0",
          "state": {
            "_model_module": "@jupyter-widgets/base",
            "_model_module_version": "1.2.0",
            "_model_name": "LayoutModel",
            "_view_count": null,
            "_view_module": "@jupyter-widgets/base",
            "_view_module_version": "1.2.0",
            "_view_name": "LayoutView",
            "align_content": null,
            "align_items": null,
            "align_self": null,
            "border": null,
            "bottom": null,
            "display": null,
            "flex": null,
            "flex_flow": null,
            "grid_area": null,
            "grid_auto_columns": null,
            "grid_auto_flow": null,
            "grid_auto_rows": null,
            "grid_column": null,
            "grid_gap": null,
            "grid_row": null,
            "grid_template_areas": null,
            "grid_template_columns": null,
            "grid_template_rows": null,
            "height": null,
            "justify_content": null,
            "justify_items": null,
            "left": null,
            "margin": null,
            "max_height": null,
            "max_width": null,
            "min_height": null,
            "min_width": null,
            "object_fit": null,
            "object_position": null,
            "order": null,
            "overflow": null,
            "overflow_x": null,
            "overflow_y": null,
            "padding": null,
            "right": null,
            "top": null,
            "visibility": null,
            "width": null
          }
        },
        "c0575d85cddb4bfbb350ad0397fc8f44": {
          "model_module": "@jupyter-widgets/controls",
          "model_name": "DescriptionStyleModel",
          "model_module_version": "1.5.0",
          "state": {
            "_model_module": "@jupyter-widgets/controls",
            "_model_module_version": "1.5.0",
            "_model_name": "DescriptionStyleModel",
            "_view_count": null,
            "_view_module": "@jupyter-widgets/base",
            "_view_module_version": "1.2.0",
            "_view_name": "StyleView",
            "description_width": ""
          }
        },
        "82f004eb1ca1418b88a8cfeee0e1a9fd": {
          "model_module": "@jupyter-widgets/controls",
          "model_name": "HBoxModel",
          "model_module_version": "1.5.0",
          "state": {
            "_dom_classes": [],
            "_model_module": "@jupyter-widgets/controls",
            "_model_module_version": "1.5.0",
            "_model_name": "HBoxModel",
            "_view_count": null,
            "_view_module": "@jupyter-widgets/controls",
            "_view_module_version": "1.5.0",
            "_view_name": "HBoxView",
            "box_style": "",
            "children": [
              "IPY_MODEL_f6301bd0e2a54d73b1052ef1b833cfd6",
              "IPY_MODEL_9b111ec52d064d1982646a186cc80edc",
              "IPY_MODEL_6e30a6c4dea94d2cac04992e641cc306"
            ],
            "layout": "IPY_MODEL_249c3f5639a64afe844256a7e1c1f9ee"
          }
        },
        "f6301bd0e2a54d73b1052ef1b833cfd6": {
          "model_module": "@jupyter-widgets/controls",
          "model_name": "HTMLModel",
          "model_module_version": "1.5.0",
          "state": {
            "_dom_classes": [],
            "_model_module": "@jupyter-widgets/controls",
            "_model_module_version": "1.5.0",
            "_model_name": "HTMLModel",
            "_view_count": null,
            "_view_module": "@jupyter-widgets/controls",
            "_view_module_version": "1.5.0",
            "_view_name": "HTMLView",
            "description": "",
            "description_tooltip": null,
            "layout": "IPY_MODEL_269aa8c85f684ddc8c77db3936933eac",
            "placeholder": "​",
            "style": "IPY_MODEL_6817e0a35b814eccb718b4d9678b2e89",
            "value": "100%"
          }
        },
        "9b111ec52d064d1982646a186cc80edc": {
          "model_module": "@jupyter-widgets/controls",
          "model_name": "FloatProgressModel",
          "model_module_version": "1.5.0",
          "state": {
            "_dom_classes": [],
            "_model_module": "@jupyter-widgets/controls",
            "_model_module_version": "1.5.0",
            "_model_name": "FloatProgressModel",
            "_view_count": null,
            "_view_module": "@jupyter-widgets/controls",
            "_view_module_version": "1.5.0",
            "_view_name": "ProgressView",
            "bar_style": "success",
            "description": "",
            "description_tooltip": null,
            "layout": "IPY_MODEL_75b31fc10c854ceca6acda1ce04cf7a8",
            "max": 6,
            "min": 0,
            "orientation": "horizontal",
            "style": "IPY_MODEL_6c5f2cf6bd0d43e0852cae921530d8ee",
            "value": 6
          }
        },
        "6e30a6c4dea94d2cac04992e641cc306": {
          "model_module": "@jupyter-widgets/controls",
          "model_name": "HTMLModel",
          "model_module_version": "1.5.0",
          "state": {
            "_dom_classes": [],
            "_model_module": "@jupyter-widgets/controls",
            "_model_module_version": "1.5.0",
            "_model_name": "HTMLModel",
            "_view_count": null,
            "_view_module": "@jupyter-widgets/controls",
            "_view_module_version": "1.5.0",
            "_view_name": "HTMLView",
            "description": "",
            "description_tooltip": null,
            "layout": "IPY_MODEL_d4bbc208f83d49f29132f85b4f428b5d",
            "placeholder": "​",
            "style": "IPY_MODEL_8b4b17b7a4db42fea9f8c9abef510159",
            "value": " 6/6 [00:17&lt;00:00,  2.47s/ba]"
          }
        },
        "249c3f5639a64afe844256a7e1c1f9ee": {
          "model_module": "@jupyter-widgets/base",
          "model_name": "LayoutModel",
          "model_module_version": "1.2.0",
          "state": {
            "_model_module": "@jupyter-widgets/base",
            "_model_module_version": "1.2.0",
            "_model_name": "LayoutModel",
            "_view_count": null,
            "_view_module": "@jupyter-widgets/base",
            "_view_module_version": "1.2.0",
            "_view_name": "LayoutView",
            "align_content": null,
            "align_items": null,
            "align_self": null,
            "border": null,
            "bottom": null,
            "display": null,
            "flex": null,
            "flex_flow": null,
            "grid_area": null,
            "grid_auto_columns": null,
            "grid_auto_flow": null,
            "grid_auto_rows": null,
            "grid_column": null,
            "grid_gap": null,
            "grid_row": null,
            "grid_template_areas": null,
            "grid_template_columns": null,
            "grid_template_rows": null,
            "height": null,
            "justify_content": null,
            "justify_items": null,
            "left": null,
            "margin": null,
            "max_height": null,
            "max_width": null,
            "min_height": null,
            "min_width": null,
            "object_fit": null,
            "object_position": null,
            "order": null,
            "overflow": null,
            "overflow_x": null,
            "overflow_y": null,
            "padding": null,
            "right": null,
            "top": null,
            "visibility": null,
            "width": null
          }
        },
        "269aa8c85f684ddc8c77db3936933eac": {
          "model_module": "@jupyter-widgets/base",
          "model_name": "LayoutModel",
          "model_module_version": "1.2.0",
          "state": {
            "_model_module": "@jupyter-widgets/base",
            "_model_module_version": "1.2.0",
            "_model_name": "LayoutModel",
            "_view_count": null,
            "_view_module": "@jupyter-widgets/base",
            "_view_module_version": "1.2.0",
            "_view_name": "LayoutView",
            "align_content": null,
            "align_items": null,
            "align_self": null,
            "border": null,
            "bottom": null,
            "display": null,
            "flex": null,
            "flex_flow": null,
            "grid_area": null,
            "grid_auto_columns": null,
            "grid_auto_flow": null,
            "grid_auto_rows": null,
            "grid_column": null,
            "grid_gap": null,
            "grid_row": null,
            "grid_template_areas": null,
            "grid_template_columns": null,
            "grid_template_rows": null,
            "height": null,
            "justify_content": null,
            "justify_items": null,
            "left": null,
            "margin": null,
            "max_height": null,
            "max_width": null,
            "min_height": null,
            "min_width": null,
            "object_fit": null,
            "object_position": null,
            "order": null,
            "overflow": null,
            "overflow_x": null,
            "overflow_y": null,
            "padding": null,
            "right": null,
            "top": null,
            "visibility": null,
            "width": null
          }
        },
        "6817e0a35b814eccb718b4d9678b2e89": {
          "model_module": "@jupyter-widgets/controls",
          "model_name": "DescriptionStyleModel",
          "model_module_version": "1.5.0",
          "state": {
            "_model_module": "@jupyter-widgets/controls",
            "_model_module_version": "1.5.0",
            "_model_name": "DescriptionStyleModel",
            "_view_count": null,
            "_view_module": "@jupyter-widgets/base",
            "_view_module_version": "1.2.0",
            "_view_name": "StyleView",
            "description_width": ""
          }
        },
        "75b31fc10c854ceca6acda1ce04cf7a8": {
          "model_module": "@jupyter-widgets/base",
          "model_name": "LayoutModel",
          "model_module_version": "1.2.0",
          "state": {
            "_model_module": "@jupyter-widgets/base",
            "_model_module_version": "1.2.0",
            "_model_name": "LayoutModel",
            "_view_count": null,
            "_view_module": "@jupyter-widgets/base",
            "_view_module_version": "1.2.0",
            "_view_name": "LayoutView",
            "align_content": null,
            "align_items": null,
            "align_self": null,
            "border": null,
            "bottom": null,
            "display": null,
            "flex": null,
            "flex_flow": null,
            "grid_area": null,
            "grid_auto_columns": null,
            "grid_auto_flow": null,
            "grid_auto_rows": null,
            "grid_column": null,
            "grid_gap": null,
            "grid_row": null,
            "grid_template_areas": null,
            "grid_template_columns": null,
            "grid_template_rows": null,
            "height": null,
            "justify_content": null,
            "justify_items": null,
            "left": null,
            "margin": null,
            "max_height": null,
            "max_width": null,
            "min_height": null,
            "min_width": null,
            "object_fit": null,
            "object_position": null,
            "order": null,
            "overflow": null,
            "overflow_x": null,
            "overflow_y": null,
            "padding": null,
            "right": null,
            "top": null,
            "visibility": null,
            "width": null
          }
        },
        "6c5f2cf6bd0d43e0852cae921530d8ee": {
          "model_module": "@jupyter-widgets/controls",
          "model_name": "ProgressStyleModel",
          "model_module_version": "1.5.0",
          "state": {
            "_model_module": "@jupyter-widgets/controls",
            "_model_module_version": "1.5.0",
            "_model_name": "ProgressStyleModel",
            "_view_count": null,
            "_view_module": "@jupyter-widgets/base",
            "_view_module_version": "1.2.0",
            "_view_name": "StyleView",
            "bar_color": null,
            "description_width": ""
          }
        },
        "d4bbc208f83d49f29132f85b4f428b5d": {
          "model_module": "@jupyter-widgets/base",
          "model_name": "LayoutModel",
          "model_module_version": "1.2.0",
          "state": {
            "_model_module": "@jupyter-widgets/base",
            "_model_module_version": "1.2.0",
            "_model_name": "LayoutModel",
            "_view_count": null,
            "_view_module": "@jupyter-widgets/base",
            "_view_module_version": "1.2.0",
            "_view_name": "LayoutView",
            "align_content": null,
            "align_items": null,
            "align_self": null,
            "border": null,
            "bottom": null,
            "display": null,
            "flex": null,
            "flex_flow": null,
            "grid_area": null,
            "grid_auto_columns": null,
            "grid_auto_flow": null,
            "grid_auto_rows": null,
            "grid_column": null,
            "grid_gap": null,
            "grid_row": null,
            "grid_template_areas": null,
            "grid_template_columns": null,
            "grid_template_rows": null,
            "height": null,
            "justify_content": null,
            "justify_items": null,
            "left": null,
            "margin": null,
            "max_height": null,
            "max_width": null,
            "min_height": null,
            "min_width": null,
            "object_fit": null,
            "object_position": null,
            "order": null,
            "overflow": null,
            "overflow_x": null,
            "overflow_y": null,
            "padding": null,
            "right": null,
            "top": null,
            "visibility": null,
            "width": null
          }
        },
        "8b4b17b7a4db42fea9f8c9abef510159": {
          "model_module": "@jupyter-widgets/controls",
          "model_name": "DescriptionStyleModel",
          "model_module_version": "1.5.0",
          "state": {
            "_model_module": "@jupyter-widgets/controls",
            "_model_module_version": "1.5.0",
            "_model_name": "DescriptionStyleModel",
            "_view_count": null,
            "_view_module": "@jupyter-widgets/base",
            "_view_module_version": "1.2.0",
            "_view_name": "StyleView",
            "description_width": ""
          }
        },
        "bf9ea1b842154ffd88fe9afc46f3775e": {
          "model_module": "@jupyter-widgets/controls",
          "model_name": "HBoxModel",
          "model_module_version": "1.5.0",
          "state": {
            "_dom_classes": [],
            "_model_module": "@jupyter-widgets/controls",
            "_model_module_version": "1.5.0",
            "_model_name": "HBoxModel",
            "_view_count": null,
            "_view_module": "@jupyter-widgets/controls",
            "_view_module_version": "1.5.0",
            "_view_name": "HBoxView",
            "box_style": "",
            "children": [
              "IPY_MODEL_53f4a627845b44828ff98c674e334f95",
              "IPY_MODEL_f218832d704b4a4eba05eaf3cd5de878",
              "IPY_MODEL_e31d62ae1f0541c89bd8a1a711731e50"
            ],
            "layout": "IPY_MODEL_08063f9af7aa46d1ac3d1bd4ee1f0428"
          }
        },
        "53f4a627845b44828ff98c674e334f95": {
          "model_module": "@jupyter-widgets/controls",
          "model_name": "HTMLModel",
          "model_module_version": "1.5.0",
          "state": {
            "_dom_classes": [],
            "_model_module": "@jupyter-widgets/controls",
            "_model_module_version": "1.5.0",
            "_model_name": "HTMLModel",
            "_view_count": null,
            "_view_module": "@jupyter-widgets/controls",
            "_view_module_version": "1.5.0",
            "_view_name": "HTMLView",
            "description": "",
            "description_tooltip": null,
            "layout": "IPY_MODEL_c2c28ee26c574368afd14b62101e0841",
            "placeholder": "​",
            "style": "IPY_MODEL_d60841975938449395b39e7411f439f4",
            "value": "100%"
          }
        },
        "f218832d704b4a4eba05eaf3cd5de878": {
          "model_module": "@jupyter-widgets/controls",
          "model_name": "FloatProgressModel",
          "model_module_version": "1.5.0",
          "state": {
            "_dom_classes": [],
            "_model_module": "@jupyter-widgets/controls",
            "_model_module_version": "1.5.0",
            "_model_name": "FloatProgressModel",
            "_view_count": null,
            "_view_module": "@jupyter-widgets/controls",
            "_view_module_version": "1.5.0",
            "_view_name": "ProgressView",
            "bar_style": "success",
            "description": "",
            "description_tooltip": null,
            "layout": "IPY_MODEL_690b66f299244146a7153b1ac5fd3d57",
            "max": 7,
            "min": 0,
            "orientation": "horizontal",
            "style": "IPY_MODEL_9cc93a37a0c54a0c9d8fa3b844663eb3",
            "value": 7
          }
        },
        "e31d62ae1f0541c89bd8a1a711731e50": {
          "model_module": "@jupyter-widgets/controls",
          "model_name": "HTMLModel",
          "model_module_version": "1.5.0",
          "state": {
            "_dom_classes": [],
            "_model_module": "@jupyter-widgets/controls",
            "_model_module_version": "1.5.0",
            "_model_name": "HTMLModel",
            "_view_count": null,
            "_view_module": "@jupyter-widgets/controls",
            "_view_module_version": "1.5.0",
            "_view_name": "HTMLView",
            "description": "",
            "description_tooltip": null,
            "layout": "IPY_MODEL_44de2f54ecfd4b11b2b05691ce357958",
            "placeholder": "​",
            "style": "IPY_MODEL_7891c8f8505d4a77895fb903e7089fc6",
            "value": " 7/7 [00:20&lt;00:00,  2.72s/ba]"
          }
        },
        "08063f9af7aa46d1ac3d1bd4ee1f0428": {
          "model_module": "@jupyter-widgets/base",
          "model_name": "LayoutModel",
          "model_module_version": "1.2.0",
          "state": {
            "_model_module": "@jupyter-widgets/base",
            "_model_module_version": "1.2.0",
            "_model_name": "LayoutModel",
            "_view_count": null,
            "_view_module": "@jupyter-widgets/base",
            "_view_module_version": "1.2.0",
            "_view_name": "LayoutView",
            "align_content": null,
            "align_items": null,
            "align_self": null,
            "border": null,
            "bottom": null,
            "display": null,
            "flex": null,
            "flex_flow": null,
            "grid_area": null,
            "grid_auto_columns": null,
            "grid_auto_flow": null,
            "grid_auto_rows": null,
            "grid_column": null,
            "grid_gap": null,
            "grid_row": null,
            "grid_template_areas": null,
            "grid_template_columns": null,
            "grid_template_rows": null,
            "height": null,
            "justify_content": null,
            "justify_items": null,
            "left": null,
            "margin": null,
            "max_height": null,
            "max_width": null,
            "min_height": null,
            "min_width": null,
            "object_fit": null,
            "object_position": null,
            "order": null,
            "overflow": null,
            "overflow_x": null,
            "overflow_y": null,
            "padding": null,
            "right": null,
            "top": null,
            "visibility": null,
            "width": null
          }
        },
        "c2c28ee26c574368afd14b62101e0841": {
          "model_module": "@jupyter-widgets/base",
          "model_name": "LayoutModel",
          "model_module_version": "1.2.0",
          "state": {
            "_model_module": "@jupyter-widgets/base",
            "_model_module_version": "1.2.0",
            "_model_name": "LayoutModel",
            "_view_count": null,
            "_view_module": "@jupyter-widgets/base",
            "_view_module_version": "1.2.0",
            "_view_name": "LayoutView",
            "align_content": null,
            "align_items": null,
            "align_self": null,
            "border": null,
            "bottom": null,
            "display": null,
            "flex": null,
            "flex_flow": null,
            "grid_area": null,
            "grid_auto_columns": null,
            "grid_auto_flow": null,
            "grid_auto_rows": null,
            "grid_column": null,
            "grid_gap": null,
            "grid_row": null,
            "grid_template_areas": null,
            "grid_template_columns": null,
            "grid_template_rows": null,
            "height": null,
            "justify_content": null,
            "justify_items": null,
            "left": null,
            "margin": null,
            "max_height": null,
            "max_width": null,
            "min_height": null,
            "min_width": null,
            "object_fit": null,
            "object_position": null,
            "order": null,
            "overflow": null,
            "overflow_x": null,
            "overflow_y": null,
            "padding": null,
            "right": null,
            "top": null,
            "visibility": null,
            "width": null
          }
        },
        "d60841975938449395b39e7411f439f4": {
          "model_module": "@jupyter-widgets/controls",
          "model_name": "DescriptionStyleModel",
          "model_module_version": "1.5.0",
          "state": {
            "_model_module": "@jupyter-widgets/controls",
            "_model_module_version": "1.5.0",
            "_model_name": "DescriptionStyleModel",
            "_view_count": null,
            "_view_module": "@jupyter-widgets/base",
            "_view_module_version": "1.2.0",
            "_view_name": "StyleView",
            "description_width": ""
          }
        },
        "690b66f299244146a7153b1ac5fd3d57": {
          "model_module": "@jupyter-widgets/base",
          "model_name": "LayoutModel",
          "model_module_version": "1.2.0",
          "state": {
            "_model_module": "@jupyter-widgets/base",
            "_model_module_version": "1.2.0",
            "_model_name": "LayoutModel",
            "_view_count": null,
            "_view_module": "@jupyter-widgets/base",
            "_view_module_version": "1.2.0",
            "_view_name": "LayoutView",
            "align_content": null,
            "align_items": null,
            "align_self": null,
            "border": null,
            "bottom": null,
            "display": null,
            "flex": null,
            "flex_flow": null,
            "grid_area": null,
            "grid_auto_columns": null,
            "grid_auto_flow": null,
            "grid_auto_rows": null,
            "grid_column": null,
            "grid_gap": null,
            "grid_row": null,
            "grid_template_areas": null,
            "grid_template_columns": null,
            "grid_template_rows": null,
            "height": null,
            "justify_content": null,
            "justify_items": null,
            "left": null,
            "margin": null,
            "max_height": null,
            "max_width": null,
            "min_height": null,
            "min_width": null,
            "object_fit": null,
            "object_position": null,
            "order": null,
            "overflow": null,
            "overflow_x": null,
            "overflow_y": null,
            "padding": null,
            "right": null,
            "top": null,
            "visibility": null,
            "width": null
          }
        },
        "9cc93a37a0c54a0c9d8fa3b844663eb3": {
          "model_module": "@jupyter-widgets/controls",
          "model_name": "ProgressStyleModel",
          "model_module_version": "1.5.0",
          "state": {
            "_model_module": "@jupyter-widgets/controls",
            "_model_module_version": "1.5.0",
            "_model_name": "ProgressStyleModel",
            "_view_count": null,
            "_view_module": "@jupyter-widgets/base",
            "_view_module_version": "1.2.0",
            "_view_name": "StyleView",
            "bar_color": null,
            "description_width": ""
          }
        },
        "44de2f54ecfd4b11b2b05691ce357958": {
          "model_module": "@jupyter-widgets/base",
          "model_name": "LayoutModel",
          "model_module_version": "1.2.0",
          "state": {
            "_model_module": "@jupyter-widgets/base",
            "_model_module_version": "1.2.0",
            "_model_name": "LayoutModel",
            "_view_count": null,
            "_view_module": "@jupyter-widgets/base",
            "_view_module_version": "1.2.0",
            "_view_name": "LayoutView",
            "align_content": null,
            "align_items": null,
            "align_self": null,
            "border": null,
            "bottom": null,
            "display": null,
            "flex": null,
            "flex_flow": null,
            "grid_area": null,
            "grid_auto_columns": null,
            "grid_auto_flow": null,
            "grid_auto_rows": null,
            "grid_column": null,
            "grid_gap": null,
            "grid_row": null,
            "grid_template_areas": null,
            "grid_template_columns": null,
            "grid_template_rows": null,
            "height": null,
            "justify_content": null,
            "justify_items": null,
            "left": null,
            "margin": null,
            "max_height": null,
            "max_width": null,
            "min_height": null,
            "min_width": null,
            "object_fit": null,
            "object_position": null,
            "order": null,
            "overflow": null,
            "overflow_x": null,
            "overflow_y": null,
            "padding": null,
            "right": null,
            "top": null,
            "visibility": null,
            "width": null
          }
        },
        "7891c8f8505d4a77895fb903e7089fc6": {
          "model_module": "@jupyter-widgets/controls",
          "model_name": "DescriptionStyleModel",
          "model_module_version": "1.5.0",
          "state": {
            "_model_module": "@jupyter-widgets/controls",
            "_model_module_version": "1.5.0",
            "_model_name": "DescriptionStyleModel",
            "_view_count": null,
            "_view_module": "@jupyter-widgets/base",
            "_view_module_version": "1.2.0",
            "_view_name": "StyleView",
            "description_width": ""
          }
        }
      }
    }
  },
  "nbformat": 4,
  "nbformat_minor": 0
}